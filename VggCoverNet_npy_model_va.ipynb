{
 "cells": [
  {
   "cell_type": "markdown",
   "metadata": {},
   "source": [
    "Install all requirements"
   ]
  },
  {
   "cell_type": "code",
   "execution_count": 1,
   "metadata": {},
   "outputs": [
    {
     "name": "stdout",
     "output_type": "stream",
     "text": [
      "Looking in links: https://download.pytorch.org/whl/torch_stable.html\n",
      "Requirement already satisfied: torch==1.9.0+cu111 in /usr/local/lib/python3.6/dist-packages (1.9.0+cu111)\n",
      "Requirement already satisfied: torchvision==0.10.0+cu111 in /usr/local/lib/python3.6/dist-packages (0.10.0+cu111)\n",
      "Requirement already satisfied: torchaudio===0.9.0 in /usr/local/lib/python3.6/dist-packages (0.9.0)\n",
      "Requirement already satisfied: dataclasses; python_version < \"3.7\" in /usr/local/lib/python3.6/dist-packages (from torch==1.9.0+cu111) (0.8)\n",
      "Requirement already satisfied: typing-extensions in /usr/local/lib/python3.6/dist-packages (from torch==1.9.0+cu111) (3.7.4.3)\n",
      "Requirement already satisfied: numpy in /usr/local/lib/python3.6/dist-packages (from torchvision==0.10.0+cu111) (1.19.5)\n",
      "Requirement already satisfied: pillow>=5.3.0 in /usr/local/lib/python3.6/dist-packages (from torchvision==0.10.0+cu111) (8.3.1)\n",
      "\u001B[33mWARNING: You are using pip version 20.2.4; however, version 21.1.3 is available.\n",
      "You should consider upgrading via the '/usr/bin/python3 -m pip install --upgrade pip' command.\u001B[0m\n",
      "Requirement already satisfied: nuscenes-devkit in /usr/local/lib/python3.6/dist-packages (1.1.5)\n",
      "Requirement already satisfied: pycocotools>=2.0.1 in /usr/local/lib/python3.6/dist-packages (from nuscenes-devkit) (2.0.2)\n",
      "Requirement already satisfied: numpy in /usr/local/lib/python3.6/dist-packages (from nuscenes-devkit) (1.19.5)\n",
      "Requirement already satisfied: tqdm in /usr/local/lib/python3.6/dist-packages (from nuscenes-devkit) (4.61.2)\n",
      "Requirement already satisfied: pyquaternion>=0.9.5 in /usr/local/lib/python3.6/dist-packages (from nuscenes-devkit) (0.9.9)\n",
      "Requirement already satisfied: jupyter in /usr/local/lib/python3.6/dist-packages (from nuscenes-devkit) (1.0.0)\n",
      "Requirement already satisfied: Pillow>6.2.1 in /usr/local/lib/python3.6/dist-packages (from nuscenes-devkit) (8.3.1)\n",
      "Requirement already satisfied: cachetools in /usr/local/lib/python3.6/dist-packages (from nuscenes-devkit) (4.2.2)\n",
      "Requirement already satisfied: scipy in /usr/local/lib/python3.6/dist-packages (from nuscenes-devkit) (1.5.4)\n",
      "Requirement already satisfied: descartes in /usr/local/lib/python3.6/dist-packages (from nuscenes-devkit) (1.1.0)\n",
      "Requirement already satisfied: scikit-learn in /usr/local/lib/python3.6/dist-packages (from nuscenes-devkit) (0.24.2)\n",
      "Requirement already satisfied: opencv-python in /usr/local/lib/python3.6/dist-packages (from nuscenes-devkit) (4.5.2.54)\n",
      "Requirement already satisfied: matplotlib in /usr/local/lib/python3.6/dist-packages (from nuscenes-devkit) (3.3.4)\n",
      "Requirement already satisfied: Shapely in /usr/local/lib/python3.6/dist-packages (from nuscenes-devkit) (1.7.1)\n",
      "Requirement already satisfied: fire in /usr/local/lib/python3.6/dist-packages (from nuscenes-devkit) (0.4.0)\n",
      "Requirement already satisfied: setuptools>=18.0 in /usr/local/lib/python3.6/dist-packages (from pycocotools>=2.0.1->nuscenes-devkit) (56.2.0)\n",
      "Requirement already satisfied: cython>=0.27.3 in /usr/local/lib/python3.6/dist-packages (from pycocotools>=2.0.1->nuscenes-devkit) (0.29.23)\n",
      "Requirement already satisfied: jupyter-console in /usr/local/lib/python3.6/dist-packages (from jupyter->nuscenes-devkit) (6.4.0)\n",
      "Requirement already satisfied: ipywidgets in /usr/local/lib/python3.6/dist-packages (from jupyter->nuscenes-devkit) (7.6.3)\n",
      "Requirement already satisfied: ipykernel in /usr/local/lib/python3.6/dist-packages (from jupyter->nuscenes-devkit) (5.5.5)\n",
      "Requirement already satisfied: notebook in /usr/local/lib/python3.6/dist-packages (from jupyter->nuscenes-devkit) (6.3.0)\n",
      "Requirement already satisfied: qtconsole in /usr/local/lib/python3.6/dist-packages (from jupyter->nuscenes-devkit) (5.1.0)\n",
      "Requirement already satisfied: nbconvert in /usr/local/lib/python3.6/dist-packages (from jupyter->nuscenes-devkit) (6.0.7)\n",
      "Requirement already satisfied: joblib>=0.11 in /usr/local/lib/python3.6/dist-packages (from scikit-learn->nuscenes-devkit) (1.0.1)\n",
      "Requirement already satisfied: threadpoolctl>=2.0.0 in /usr/local/lib/python3.6/dist-packages (from scikit-learn->nuscenes-devkit) (2.1.0)\n",
      "Requirement already satisfied: kiwisolver>=1.0.1 in /usr/local/lib/python3.6/dist-packages (from matplotlib->nuscenes-devkit) (1.3.1)\n",
      "Requirement already satisfied: pyparsing!=2.0.4,!=2.1.2,!=2.1.6,>=2.0.3 in /usr/local/lib/python3.6/dist-packages (from matplotlib->nuscenes-devkit) (2.4.7)\n",
      "Requirement already satisfied: python-dateutil>=2.1 in /usr/local/lib/python3.6/dist-packages (from matplotlib->nuscenes-devkit) (2.8.1)\n",
      "Requirement already satisfied: cycler>=0.10 in /usr/local/lib/python3.6/dist-packages (from matplotlib->nuscenes-devkit) (0.10.0)\n",
      "Requirement already satisfied: six in /usr/local/lib/python3.6/dist-packages (from fire->nuscenes-devkit) (1.15.0)\n",
      "Requirement already satisfied: termcolor in /usr/local/lib/python3.6/dist-packages (from fire->nuscenes-devkit) (1.1.0)\n",
      "Requirement already satisfied: prompt-toolkit!=3.0.0,!=3.0.1,<3.1.0,>=2.0.0 in /usr/local/lib/python3.6/dist-packages (from jupyter-console->jupyter->nuscenes-devkit) (3.0.18)\n",
      "Requirement already satisfied: jupyter-client in /usr/local/lib/python3.6/dist-packages (from jupyter-console->jupyter->nuscenes-devkit) (6.1.12)\n",
      "Requirement already satisfied: ipython in /usr/local/lib/python3.6/dist-packages (from jupyter-console->jupyter->nuscenes-devkit) (7.16.1)\n",
      "Requirement already satisfied: pygments in /usr/local/lib/python3.6/dist-packages (from jupyter-console->jupyter->nuscenes-devkit) (2.9.0)\n",
      "Requirement already satisfied: nbformat>=4.2.0 in /usr/local/lib/python3.6/dist-packages (from ipywidgets->jupyter->nuscenes-devkit) (5.1.3)\n",
      "Requirement already satisfied: traitlets>=4.3.1 in /usr/local/lib/python3.6/dist-packages (from ipywidgets->jupyter->nuscenes-devkit) (4.3.3)\n",
      "Requirement already satisfied: jupyterlab-widgets>=1.0.0; python_version >= \"3.6\" in /usr/local/lib/python3.6/dist-packages (from ipywidgets->jupyter->nuscenes-devkit) (1.0.0)\n",
      "Requirement already satisfied: widgetsnbextension~=3.5.0 in /usr/local/lib/python3.6/dist-packages (from ipywidgets->jupyter->nuscenes-devkit) (3.5.1)\n",
      "Requirement already satisfied: tornado>=4.2 in /usr/local/lib/python3.6/dist-packages (from ipykernel->jupyter->nuscenes-devkit) (6.1)\n",
      "Requirement already satisfied: ipython-genutils in /usr/local/lib/python3.6/dist-packages (from notebook->jupyter->nuscenes-devkit) (0.2.0)\n",
      "Requirement already satisfied: jupyter-core>=4.6.1 in /usr/local/lib/python3.6/dist-packages (from notebook->jupyter->nuscenes-devkit) (4.7.1)\n",
      "Requirement already satisfied: argon2-cffi in /usr/local/lib/python3.6/dist-packages (from notebook->jupyter->nuscenes-devkit) (20.1.0)\n",
      "Requirement already satisfied: prometheus-client in /usr/local/lib/python3.6/dist-packages (from notebook->jupyter->nuscenes-devkit) (0.10.1)\n",
      "Requirement already satisfied: Send2Trash>=1.5.0 in /usr/local/lib/python3.6/dist-packages (from notebook->jupyter->nuscenes-devkit) (1.5.0)\n",
      "Requirement already satisfied: terminado>=0.8.3 in /usr/local/lib/python3.6/dist-packages (from notebook->jupyter->nuscenes-devkit) (0.9.5)\n",
      "Requirement already satisfied: pyzmq>=17 in /usr/local/lib/python3.6/dist-packages (from notebook->jupyter->nuscenes-devkit) (22.0.3)\n",
      "Requirement already satisfied: jinja2 in /usr/local/lib/python3.6/dist-packages (from notebook->jupyter->nuscenes-devkit) (3.0.0)\n",
      "Requirement already satisfied: qtpy in /usr/local/lib/python3.6/dist-packages (from qtconsole->jupyter->nuscenes-devkit) (1.9.0)\n",
      "Requirement already satisfied: testpath in /usr/local/lib/python3.6/dist-packages (from nbconvert->jupyter->nuscenes-devkit) (0.4.4)\n",
      "Requirement already satisfied: mistune<2,>=0.8.1 in /usr/local/lib/python3.6/dist-packages (from nbconvert->jupyter->nuscenes-devkit) (0.8.4)\n",
      "Requirement already satisfied: bleach in /usr/local/lib/python3.6/dist-packages (from nbconvert->jupyter->nuscenes-devkit) (3.3.0)\n",
      "Requirement already satisfied: nbclient<0.6.0,>=0.5.0 in /usr/local/lib/python3.6/dist-packages (from nbconvert->jupyter->nuscenes-devkit) (0.5.3)\n",
      "Requirement already satisfied: pandocfilters>=1.4.1 in /usr/local/lib/python3.6/dist-packages (from nbconvert->jupyter->nuscenes-devkit) (1.4.3)\n",
      "Requirement already satisfied: jupyterlab-pygments in /usr/local/lib/python3.6/dist-packages (from nbconvert->jupyter->nuscenes-devkit) (0.1.2)\n",
      "Requirement already satisfied: entrypoints>=0.2.2 in /usr/local/lib/python3.6/dist-packages (from nbconvert->jupyter->nuscenes-devkit) (0.3)\n",
      "Requirement already satisfied: defusedxml in /usr/local/lib/python3.6/dist-packages (from nbconvert->jupyter->nuscenes-devkit) (0.7.1)\n",
      "Requirement already satisfied: wcwidth in /usr/local/lib/python3.6/dist-packages (from prompt-toolkit!=3.0.0,!=3.0.1,<3.1.0,>=2.0.0->jupyter-console->jupyter->nuscenes-devkit) (0.2.5)\n",
      "Requirement already satisfied: pexpect; sys_platform != \"win32\" in /usr/local/lib/python3.6/dist-packages (from ipython->jupyter-console->jupyter->nuscenes-devkit) (4.8.0)\n",
      "Requirement already satisfied: backcall in /usr/local/lib/python3.6/dist-packages (from ipython->jupyter-console->jupyter->nuscenes-devkit) (0.2.0)\n",
      "Requirement already satisfied: decorator in /usr/local/lib/python3.6/dist-packages (from ipython->jupyter-console->jupyter->nuscenes-devkit) (5.0.7)\n",
      "Requirement already satisfied: jedi>=0.10 in /usr/local/lib/python3.6/dist-packages (from ipython->jupyter-console->jupyter->nuscenes-devkit) (0.18.0)\n",
      "Requirement already satisfied: pickleshare in /usr/local/lib/python3.6/dist-packages (from ipython->jupyter-console->jupyter->nuscenes-devkit) (0.7.5)\n",
      "Requirement already satisfied: jsonschema!=2.5.0,>=2.4 in /usr/local/lib/python3.6/dist-packages (from nbformat>=4.2.0->ipywidgets->jupyter->nuscenes-devkit) (3.2.0)\n",
      "Requirement already satisfied: cffi>=1.0.0 in /usr/local/lib/python3.6/dist-packages (from argon2-cffi->notebook->jupyter->nuscenes-devkit) (1.14.5)\n",
      "Requirement already satisfied: ptyprocess; os_name != \"nt\" in /usr/local/lib/python3.6/dist-packages (from terminado>=0.8.3->notebook->jupyter->nuscenes-devkit) (0.7.0)\n",
      "Requirement already satisfied: MarkupSafe>=2.0.0rc2 in /usr/local/lib/python3.6/dist-packages (from jinja2->notebook->jupyter->nuscenes-devkit) (2.0.0)\n",
      "Requirement already satisfied: webencodings in /usr/local/lib/python3.6/dist-packages (from bleach->nbconvert->jupyter->nuscenes-devkit) (0.5.1)\n",
      "Requirement already satisfied: packaging in /usr/local/lib/python3.6/dist-packages (from bleach->nbconvert->jupyter->nuscenes-devkit) (20.9)\n",
      "Requirement already satisfied: async-generator in /usr/local/lib/python3.6/dist-packages (from nbclient<0.6.0,>=0.5.0->nbconvert->jupyter->nuscenes-devkit) (1.10)\n",
      "Requirement already satisfied: nest-asyncio in /usr/local/lib/python3.6/dist-packages (from nbclient<0.6.0,>=0.5.0->nbconvert->jupyter->nuscenes-devkit) (1.5.1)\n",
      "Requirement already satisfied: parso<0.9.0,>=0.8.0 in /usr/local/lib/python3.6/dist-packages (from jedi>=0.10->ipython->jupyter-console->jupyter->nuscenes-devkit) (0.8.2)\n",
      "Requirement already satisfied: importlib-metadata; python_version < \"3.8\" in /usr/local/lib/python3.6/dist-packages (from jsonschema!=2.5.0,>=2.4->nbformat>=4.2.0->ipywidgets->jupyter->nuscenes-devkit) (4.0.1)\n",
      "Requirement already satisfied: attrs>=17.4.0 in /usr/local/lib/python3.6/dist-packages (from jsonschema!=2.5.0,>=2.4->nbformat>=4.2.0->ipywidgets->jupyter->nuscenes-devkit) (21.2.0)\n",
      "Requirement already satisfied: pyrsistent>=0.14.0 in /usr/local/lib/python3.6/dist-packages (from jsonschema!=2.5.0,>=2.4->nbformat>=4.2.0->ipywidgets->jupyter->nuscenes-devkit) (0.17.3)\n",
      "Requirement already satisfied: pycparser in /usr/local/lib/python3.6/dist-packages (from cffi>=1.0.0->argon2-cffi->notebook->jupyter->nuscenes-devkit) (2.20)\n",
      "Requirement already satisfied: zipp>=0.5 in /usr/local/lib/python3.6/dist-packages (from importlib-metadata; python_version < \"3.8\"->jsonschema!=2.5.0,>=2.4->nbformat>=4.2.0->ipywidgets->jupyter->nuscenes-devkit) (3.4.1)\n",
      "Requirement already satisfied: typing-extensions>=3.6.4; python_version < \"3.8\" in /usr/local/lib/python3.6/dist-packages (from importlib-metadata; python_version < \"3.8\"->jsonschema!=2.5.0,>=2.4->nbformat>=4.2.0->ipywidgets->jupyter->nuscenes-devkit) (3.7.4.3)\n",
      "\u001B[33mWARNING: You are using pip version 20.2.4; however, version 21.1.3 is available.\n",
      "You should consider upgrading via the '/usr/bin/python3 -m pip install --upgrade pip' command.\u001B[0m\n",
      "Requirement already satisfied: wandb in /usr/local/lib/python3.6/dist-packages (0.10.33)\n",
      "Requirement already satisfied: Click!=8.0.0,>=7.0 in /usr/local/lib/python3.6/dist-packages (from wandb) (8.0.1)\n",
      "Requirement already satisfied: PyYAML in /usr/local/lib/python3.6/dist-packages (from wandb) (5.4.1)\n",
      "Requirement already satisfied: requests<3,>=2.0.0 in /usr/local/lib/python3.6/dist-packages (from wandb) (2.25.1)\n",
      "Requirement already satisfied: GitPython>=1.0.0 in /usr/local/lib/python3.6/dist-packages (from wandb) (3.1.18)\n",
      "Requirement already satisfied: python-dateutil>=2.6.1 in /usr/local/lib/python3.6/dist-packages (from wandb) (2.8.1)\n",
      "Requirement already satisfied: pathtools in /usr/local/lib/python3.6/dist-packages (from wandb) (0.1.2)\n",
      "Requirement already satisfied: docker-pycreds>=0.4.0 in /usr/local/lib/python3.6/dist-packages (from wandb) (0.4.0)\n",
      "Requirement already satisfied: psutil>=5.0.0 in /usr/local/lib/python3.6/dist-packages (from wandb) (5.8.0)\n",
      "Requirement already satisfied: shortuuid>=0.5.0 in /usr/local/lib/python3.6/dist-packages (from wandb) (1.0.1)\n",
      "Requirement already satisfied: configparser>=3.8.1 in /usr/local/lib/python3.6/dist-packages (from wandb) (5.0.2)\n",
      "Requirement already satisfied: protobuf>=3.12.0 in /usr/local/lib/python3.6/dist-packages (from wandb) (3.17.0)\n",
      "Requirement already satisfied: promise<3,>=2.0 in /usr/local/lib/python3.6/dist-packages (from wandb) (2.3)\n",
      "Requirement already satisfied: sentry-sdk>=0.4.0 in /usr/local/lib/python3.6/dist-packages (from wandb) (1.3.0)\n",
      "Requirement already satisfied: six>=1.13.0 in /usr/local/lib/python3.6/dist-packages (from wandb) (1.15.0)\n",
      "Requirement already satisfied: subprocess32>=3.5.3 in /usr/local/lib/python3.6/dist-packages (from wandb) (3.5.4)\n",
      "Requirement already satisfied: importlib-metadata; python_version < \"3.8\" in /usr/local/lib/python3.6/dist-packages (from Click!=8.0.0,>=7.0->wandb) (4.0.1)\n",
      "Requirement already satisfied: urllib3<1.27,>=1.21.1 in /usr/local/lib/python3.6/dist-packages (from requests<3,>=2.0.0->wandb) (1.26.4)\n",
      "Requirement already satisfied: idna<3,>=2.5 in /usr/local/lib/python3.6/dist-packages (from requests<3,>=2.0.0->wandb) (2.10)\n",
      "Requirement already satisfied: certifi>=2017.4.17 in /usr/local/lib/python3.6/dist-packages (from requests<3,>=2.0.0->wandb) (2020.12.5)\n",
      "Requirement already satisfied: chardet<5,>=3.0.2 in /usr/local/lib/python3.6/dist-packages (from requests<3,>=2.0.0->wandb) (4.0.0)\n",
      "Requirement already satisfied: gitdb<5,>=4.0.1 in /usr/local/lib/python3.6/dist-packages (from GitPython>=1.0.0->wandb) (4.0.7)\n",
      "Requirement already satisfied: typing-extensions>=3.7.4.0; python_version < \"3.8\" in /usr/local/lib/python3.6/dist-packages (from GitPython>=1.0.0->wandb) (3.7.4.3)\n",
      "Requirement already satisfied: zipp>=0.5 in /usr/local/lib/python3.6/dist-packages (from importlib-metadata; python_version < \"3.8\"->Click!=8.0.0,>=7.0->wandb) (3.4.1)\n",
      "Requirement already satisfied: smmap<5,>=3.0.1 in /usr/local/lib/python3.6/dist-packages (from gitdb<5,>=4.0.1->GitPython>=1.0.0->wandb) (4.0.0)\n",
      "\u001B[33mWARNING: You are using pip version 20.2.4; however, version 21.1.3 is available.\n",
      "You should consider upgrading via the '/usr/bin/python3 -m pip install --upgrade pip' command.\u001B[0m\n",
      "Hit:1 http://archive.ubuntu.com/ubuntu bionic InRelease\n",
      "Get:2 http://archive.ubuntu.com/ubuntu bionic-updates InRelease [88.7 kB]      \n",
      "Get:3 http://security.ubuntu.com/ubuntu bionic-security InRelease [88.7 kB]    \n",
      "Ign:4 https://developer.download.nvidia.com/compute/cuda/repos/ubuntu1804/x86_64  InRelease\n",
      "Get:5 http://archive.ubuntu.com/ubuntu bionic-backports InRelease [74.6 kB]    \n",
      "Get:6 http://archive.ubuntu.com/ubuntu bionic-updates/main amd64 Packages [2658 kB]\n",
      "Ign:7 https://developer.download.nvidia.com/compute/machine-learning/repos/ubuntu1804/x86_64  InRelease\n",
      "Hit:8 https://developer.download.nvidia.com/compute/cuda/repos/ubuntu1804/x86_64  Release\n",
      "Hit:9 https://developer.download.nvidia.com/compute/machine-learning/repos/ubuntu1804/x86_64  Release\n",
      "Fetched 2910 kB in 1s (2454 kB/s)\n",
      "Reading package lists... Done\n",
      "Reading package lists... Done\n",
      "Building dependency tree       \n",
      "Reading state information... Done\n",
      "libgl1-mesa-glx is already the newest version (20.0.8-0ubuntu1~18.04.1).\n",
      "0 upgraded, 0 newly installed, 0 to remove and 22 not upgraded.\n"
     ]
    }
   ],
   "source": [
    "!pip3 install torch==1.9.0+cu111 torchvision==0.10.0+cu111 torchaudio===0.9.0 -f https://download.pytorch.org/whl/torch_stable.html\n",
    "!pip install nuscenes-devkit\n",
    "!pip install wandb\n",
    "\n",
    "# Fix error : libGL.so.1: cannot open shared object file: No such file or directory\n",
    "!apt-get update\n",
    "!apt install -y libgl1-mesa-glx"
   ]
  },
  {
   "cell_type": "code",
   "execution_count": 1,
   "metadata": {},
   "outputs": [
    {
     "name": "stdout",
     "output_type": "stream",
     "text": [
      "True\n",
      "Running on  cuda:0\n",
      "Device count: 1\n"
     ]
    }
   ],
   "source": [
    "import torch\n",
    "\n",
    "print(torch.cuda.is_available())\n",
    "\n",
    "device = torch.device('cuda:0' if torch.cuda.is_available() else 'cpu')\n",
    "print('Running on ', device)\n",
    "print(f\"Device count: {torch.cuda.device_count()}\")"
   ]
  },
  {
   "cell_type": "code",
   "execution_count": 5,
   "metadata": {},
   "outputs": [],
   "source": [
    "NPY_DATASET_PATH = './NpyDataset/Multiagent/'\n",
    "#NPY_DATASET_PATH = './'\n",
    "\n",
    "TRAJECTORY_SET_PATH = './Dataset/'\n",
    "#TRAJECTORY_SET_PATH = './'\n",
    "\n",
    "VALIDATION_SAMPLES_PATH = \"./CustomDataSplit/validation_samples.json\"\n",
    "#VALIDATION_SAMPLES_PATH = \"./validation_samples.json\""
   ]
  },
  {
   "cell_type": "markdown",
   "metadata": {},
   "source": [
    "Unzip nessesary files"
   ]
  },
  {
   "cell_type": "code",
   "execution_count": 8,
   "metadata": {},
   "outputs": [],
   "source": [
    "import os\n",
    "import zipfile\n",
    "import subprocess\n",
    "\n",
    "def unzipFile(pathToZip, pathToOut):\n",
    "    unzip = ['unzip', '-o', pathToZip, '-d', pathToOut]\n",
    "    p = subprocess.call(unzip)"
   ]
  },
  {
   "cell_type": "code",
   "execution_count": null,
   "metadata": {},
   "outputs": [],
   "source": [
    "unzipFile(f'./prediction_trajectory_sets.zip', CURRENT_PATH)\n",
    "unzipFile(f'./repVgg.zip', CURRENT_PATH)"
   ]
  },
  {
   "cell_type": "code",
   "execution_count": 25,
   "metadata": {},
   "outputs": [],
   "source": [
    "unzipFile(f'./multiagent_validation_features_6k.zip', CURRENT_PATH)\n",
    "unzipFile(f'./multiagent_train_features_24k.zip', CURRENT_PATH)"
   ]
  },
  {
   "cell_type": "markdown",
   "metadata": {},
   "source": [
    "Load files"
   ]
  },
  {
   "cell_type": "code",
   "execution_count": 6,
   "metadata": {},
   "outputs": [],
   "source": [
    "import json\n",
    "\n",
    "def json_loader(path):\n",
    "    with open(VALIDATION_SAMPLES_PATH, \"r\") as read_file:\n",
    "        result_list = json.load(read_file)\n",
    "        \n",
    "    return result_list"
   ]
  },
  {
   "cell_type": "code",
   "execution_count": 7,
   "metadata": {},
   "outputs": [
    {
     "data": {
      "text/plain": [
       "6200"
      ]
     },
     "execution_count": 7,
     "metadata": {},
     "output_type": "execute_result"
    }
   ],
   "source": [
    "validation_samples = json_loader(VALIDATION_SAMPLES_PATH)\n",
    "len(validation_samples)"
   ]
  },
  {
   "cell_type": "code",
   "execution_count": 67,
   "metadata": {},
   "outputs": [],
   "source": [
    "import numpy as np\n",
    "\n",
    "# Npy dataset\n",
    "\n",
    "train_features = np.load(f'{NPY_DATASET_PATH}multiagent_train_features_24k.npy')\n",
    "train_states = np.load(f'{NPY_DATASET_PATH}multiagent_train_states_24k.npy')\n",
    "train_labels = np.load(f'{NPY_DATASET_PATH}multiagent_train_labels_24k.npy')\n",
    "\n",
    "validation_features = np.load(f'{NPY_DATASET_PATH}multiagent_validation_features_6k.npy')\n",
    "validation_states = np.load(f'{NPY_DATASET_PATH}multiagent_validation_states_6k.npy')\n",
    "validation_labels = np.load(f'{NPY_DATASET_PATH}multiagent_validation_labels_6k.npy')"
   ]
  },
  {
   "cell_type": "code",
   "execution_count": 69,
   "metadata": {},
   "outputs": [
    {
     "data": {
      "text/plain": [
       "(6200, 6200, 6200)"
      ]
     },
     "execution_count": 69,
     "metadata": {},
     "output_type": "execute_result"
    }
   ],
   "source": [
    "len(train_features), len(train_states), len(train_labels)"
   ]
  },
  {
   "cell_type": "code",
   "execution_count": 70,
   "metadata": {},
   "outputs": [
    {
     "data": {
      "text/plain": [
       "(6200, 6200, 6200)"
      ]
     },
     "execution_count": 70,
     "metadata": {},
     "output_type": "execute_result"
    }
   ],
   "source": [
    "len(validation_features), len(validation_states), len(validation_labels)"
   ]
  },
  {
   "cell_type": "code",
   "execution_count": 16,
   "metadata": {
    "pycharm": {
     "name": "#%%\n"
    }
   },
   "outputs": [],
   "source": [
    "import pickle\n",
    "\n",
    "#PATH_TO_EPSILON_8_SET = f\"{TRAJECTORY_SET_PATH}Dataset/prediction_trajectory_sets/epsilon_8.pkl\"\n",
    "#PATH_TO_EPSILON_8_SET = f\"{TRAJECTORY_SET_PATH}prediction_trajectory_sets/epsilon_8.pkl\"\n",
    "PATH_TO_EPSILON_2_SET = f\"{TRAJECTORY_SET_PATH}prediction_trajectory_sets/epsilon_2.pkl\"\n",
    "\n",
    "trajectories_set = pickle.load(open(PATH_TO_EPSILON_2_SET, 'rb'))\n",
    "trajectories_set = torch.Tensor(trajectories_set)"
   ]
  },
  {
   "cell_type": "code",
   "execution_count": 17,
   "metadata": {
    "scrolled": true
   },
   "outputs": [
    {
     "data": {
      "image/png": "[encoded data removed]",
      "text/plain": [
       "<Figure size 216x216 with 1 Axes>"
      ]
     },
     "metadata": {
      "needs_background": "light"
     },
     "output_type": "display_data"
    },
    {
     "data": {
      "text/plain": [
       "2206"
      ]
     },
     "execution_count": 17,
     "metadata": {},
     "output_type": "execute_result"
    }
   ],
   "source": [
    "import matplotlib.pyplot as plt\n",
    "\n",
    "def PlotGeneratedTrajectories(future_list):\n",
    "  plt.figure(figsize=(3, 3))\n",
    "\n",
    "  for future in future_list:\n",
    "    plt.plot(future[:, 1], -future[:, 0], c='orange')\n",
    "\n",
    "  # Keep aspect ratio of axis\n",
    "  plt.axis('equal')\n",
    "  plt.show()\n",
    "\n",
    "PlotGeneratedTrajectories(trajectories_set)\n",
    "len(trajectories_set)"
   ]
  },
  {
   "cell_type": "markdown",
   "metadata": {},
   "source": [
    "Wandb config"
   ]
  },
  {
   "cell_type": "code",
   "execution_count": 12,
   "metadata": {},
   "outputs": [
    {
     "name": "stderr",
     "output_type": "stream",
     "text": [
      "\u001B[34m\u001B[1mwandb\u001B[0m: Currently logged in as: \u001B[33mtechtoker\u001B[0m (use `wandb login --relogin` to force relogin)\n"
     ]
    },
    {
     "data": {
      "text/html": [
       "\n",
       "                Tracking run with wandb version 0.10.33<br/>\n",
       "                Syncing run <strong style=\"color:#cdcd00\">charmed-silence-4</strong> to <a href=\"https://wandb.ai\" target=\"_blank\">Weights & Biases</a> <a href=\"https://docs.wandb.com/integrations/jupyter.html\" target=\"_blank\">(Documentation)</a>.<br/>\n",
       "                Project page: <a href=\"https://wandb.ai/techtoker/testing\" target=\"_blank\">https://wandb.ai/techtoker/testing</a><br/>\n",
       "                Run page: <a href=\"https://wandb.ai/techtoker/testing/runs/1ftfia84\" target=\"_blank\">https://wandb.ai/techtoker/testing/runs/1ftfia84</a><br/>\n",
       "                Run data is saved locally in <code>C:\\Users\\impor\\Desktop\\University\\MasterThesis\\NuScenes_devkit\\wandb\\run-20210708_205546-1ftfia84</code><br/><br/>\n",
       "            "
      ],
      "text/plain": [
       "<IPython.core.display.HTML object>"
      ]
     },
     "metadata": {},
     "output_type": "display_data"
    }
   ],
   "source": [
    "import wandb\n",
    "\n",
    "wandb.init(\n",
    "    #project='CoverNet',\n",
    "    project='testing',\n",
    "    entity='techtoker',\n",
    "    config={    \n",
    "        \"epoch\": 35,\n",
    "        \"batch_size\": 32,\n",
    "        # Trajectory set 8: 64 ;Trajectory set 2 : 2206\n",
    "        \"num_modes\": 2206,\n",
    "        \"lr\":5e-4,\n",
    "        \"notes\": \"v0.1 : Multiagent model: train: 20k cars, 3600 peds, 800 motobikes; val: 5k cars 1k peds, 200 motobikes\"\n",
    "    })\n",
    "\n",
    "config = wandb.config"
   ]
  },
  {
   "cell_type": "markdown",
   "metadata": {
    "pycharm": {
     "name": "#%% md\n"
    }
   },
   "source": [
    "Dataset"
   ]
  },
  {
   "cell_type": "code",
   "execution_count": 74,
   "metadata": {
    "pycharm": {
     "name": "#%%\n"
    }
   },
   "outputs": [],
   "source": [
    "from torch.utils.data import DataLoader, Dataset\n",
    "\n",
    "import numpy as np\n",
    "from typing import List\n",
    "\n",
    "class NuscenesDataset(Dataset):\n",
    "    def __init__(self, features: List[str], states: List[str], labels: List[str]):\n",
    "        self.features = features\n",
    "        self.states = states\n",
    "        self.labels = labels\n",
    "\n",
    "    def __len__(self):\n",
    "        return len(self.features)\n",
    "    \n",
    "    def __getitem__(self, index: int):\n",
    "\n",
    "        image = self.features[index].reshape((500, 500, 3))\n",
    "        image = torch.Tensor(image).permute(2, 0, 1)\n",
    "        \n",
    "        agent_state_vector = torch.Tensor(self.states[index])\n",
    "        ground_truth = self.labels[index].reshape((12, 2))\n",
    "\n",
    "        # Convert to [batch_size, 1, 12, 2]\n",
    "        # Because loss function need that format\n",
    "        ground_truth = np.expand_dims(ground_truth, 0)\n",
    "\n",
    "        return image, agent_state_vector, ground_truth"
   ]
  },
  {
   "cell_type": "code",
   "execution_count": 75,
   "metadata": {
    "pycharm": {
     "name": "#%%\n"
    }
   },
   "outputs": [],
   "source": [
    "train_ds = NuscenesDataset(train_features, train_states, train_labels)\n",
    "train_dl = DataLoader(train_ds, batch_size=config.batch_size, shuffle=True)\n",
    "\n",
    "validation_ds = NuscenesDataset(validation_features, validation_states, validation_labels)\n",
    "validation_dl = DataLoader(train_ds, batch_size=config.batch_size * 2)"
   ]
  },
  {
   "cell_type": "code",
   "execution_count": 76,
   "metadata": {},
   "outputs": [
    {
     "name": "stdout",
     "output_type": "stream",
     "text": [
      "torch.Size([32, 3, 500, 500])\n",
      "torch.Size([32, 3])\n",
      "torch.Size([32, 1, 12, 2])\n"
     ]
    }
   ],
   "source": [
    "image, state, ground_truth = next(iter(train_dl))\n",
    "print(image.size())\n",
    "print(state.size())\n",
    "print(ground_truth.size())"
   ]
  },
  {
   "cell_type": "code",
   "execution_count": 19,
   "metadata": {
    "pycharm": {
     "name": "#%%\n"
    }
   },
   "outputs": [
    {
     "name": "stdout",
     "output_type": "stream",
     "text": [
      "RepVGG Block, identity =  None\n",
      "RepVGG Block, identity =  None\n",
      "RepVGG Block, identity =  BatchNorm2d(48, eps=1e-05, momentum=0.1, affine=True, track_running_stats=True)\n",
      "RepVGG Block, identity =  None\n",
      "RepVGG Block, identity =  BatchNorm2d(96, eps=1e-05, momentum=0.1, affine=True, track_running_stats=True)\n",
      "RepVGG Block, identity =  BatchNorm2d(96, eps=1e-05, momentum=0.1, affine=True, track_running_stats=True)\n",
      "RepVGG Block, identity =  BatchNorm2d(96, eps=1e-05, momentum=0.1, affine=True, track_running_stats=True)\n",
      "RepVGG Block, identity =  None\n",
      "RepVGG Block, identity =  BatchNorm2d(192, eps=1e-05, momentum=0.1, affine=True, track_running_stats=True)\n",
      "RepVGG Block, identity =  BatchNorm2d(192, eps=1e-05, momentum=0.1, affine=True, track_running_stats=True)\n",
      "RepVGG Block, identity =  BatchNorm2d(192, eps=1e-05, momentum=0.1, affine=True, track_running_stats=True)\n",
      "RepVGG Block, identity =  BatchNorm2d(192, eps=1e-05, momentum=0.1, affine=True, track_running_stats=True)\n",
      "RepVGG Block, identity =  BatchNorm2d(192, eps=1e-05, momentum=0.1, affine=True, track_running_stats=True)\n",
      "RepVGG Block, identity =  BatchNorm2d(192, eps=1e-05, momentum=0.1, affine=True, track_running_stats=True)\n",
      "RepVGG Block, identity =  BatchNorm2d(192, eps=1e-05, momentum=0.1, affine=True, track_running_stats=True)\n",
      "RepVGG Block, identity =  BatchNorm2d(192, eps=1e-05, momentum=0.1, affine=True, track_running_stats=True)\n",
      "RepVGG Block, identity =  BatchNorm2d(192, eps=1e-05, momentum=0.1, affine=True, track_running_stats=True)\n",
      "RepVGG Block, identity =  BatchNorm2d(192, eps=1e-05, momentum=0.1, affine=True, track_running_stats=True)\n",
      "RepVGG Block, identity =  BatchNorm2d(192, eps=1e-05, momentum=0.1, affine=True, track_running_stats=True)\n",
      "RepVGG Block, identity =  BatchNorm2d(192, eps=1e-05, momentum=0.1, affine=True, track_running_stats=True)\n",
      "RepVGG Block, identity =  BatchNorm2d(192, eps=1e-05, momentum=0.1, affine=True, track_running_stats=True)\n",
      "RepVGG Block, identity =  None\n"
     ]
    }
   ],
   "source": [
    "# Build-in backbone ResNet\n",
    "#from nuscenes.prediction.models.backbone import ResNetBackbone\n",
    "\n",
    "# Torchvision ResNet\n",
    "#import torchvision.models as models\n",
    "\n",
    "# RepVGG\n",
    "from repVgg.repVggBackbone import RepVGGBackbone\n",
    "\n",
    "# Torchvision backbone\n",
    "# backbone = models.resnext50_32x4d(pretrained=True)\n",
    "\n",
    "# Build-in backbone\n",
    "#backbone = ResNetBackbone('resnet50')\n",
    "\n",
    "# RepVGG\n",
    "\n",
    "backbone = RepVGGBackbone()"
   ]
  },
  {
   "cell_type": "code",
   "execution_count": 20,
   "metadata": {
    "pycharm": {
     "name": "#%%\n"
    }
   },
   "outputs": [
    {
     "name": "stdout",
     "output_type": "stream",
     "text": [
      "RepVGGBackbone(\n",
      "  (backbone): RepVGG(\n",
      "    (stage0): RepVGGBlock(\n",
      "      (nonlinearity): ReLU()\n",
      "      (se): Identity()\n",
      "      (rbr_dense): Sequential(\n",
      "        (conv): Conv2d(3, 48, kernel_size=(3, 3), stride=(2, 2), padding=(1, 1), bias=False)\n",
      "        (bn): BatchNorm2d(48, eps=1e-05, momentum=0.1, affine=True, track_running_stats=True)\n",
      "      )\n",
      "      (rbr_1x1): Sequential(\n",
      "        (conv): Conv2d(3, 48, kernel_size=(1, 1), stride=(2, 2), bias=False)\n",
      "        (bn): BatchNorm2d(48, eps=1e-05, momentum=0.1, affine=True, track_running_stats=True)\n",
      "      )\n",
      "    )\n",
      "    (stage1): Sequential(\n",
      "      (0): RepVGGBlock(\n",
      "        (nonlinearity): ReLU()\n",
      "        (se): Identity()\n",
      "        (rbr_dense): Sequential(\n",
      "          (conv): Conv2d(48, 48, kernel_size=(3, 3), stride=(2, 2), padding=(1, 1), bias=False)\n",
      "          (bn): BatchNorm2d(48, eps=1e-05, momentum=0.1, affine=True, track_running_stats=True)\n",
      "        )\n",
      "        (rbr_1x1): Sequential(\n",
      "          (conv): Conv2d(48, 48, kernel_size=(1, 1), stride=(2, 2), bias=False)\n",
      "          (bn): BatchNorm2d(48, eps=1e-05, momentum=0.1, affine=True, track_running_stats=True)\n",
      "        )\n",
      "      )\n",
      "      (1): RepVGGBlock(\n",
      "        (nonlinearity): ReLU()\n",
      "        (se): Identity()\n",
      "        (rbr_identity): BatchNorm2d(48, eps=1e-05, momentum=0.1, affine=True, track_running_stats=True)\n",
      "        (rbr_dense): Sequential(\n",
      "          (conv): Conv2d(48, 48, kernel_size=(3, 3), stride=(1, 1), padding=(1, 1), bias=False)\n",
      "          (bn): BatchNorm2d(48, eps=1e-05, momentum=0.1, affine=True, track_running_stats=True)\n",
      "        )\n",
      "        (rbr_1x1): Sequential(\n",
      "          (conv): Conv2d(48, 48, kernel_size=(1, 1), stride=(1, 1), bias=False)\n",
      "          (bn): BatchNorm2d(48, eps=1e-05, momentum=0.1, affine=True, track_running_stats=True)\n",
      "        )\n",
      "      )\n",
      "    )\n",
      "    (stage2): Sequential(\n",
      "      (0): RepVGGBlock(\n",
      "        (nonlinearity): ReLU()\n",
      "        (se): Identity()\n",
      "        (rbr_dense): Sequential(\n",
      "          (conv): Conv2d(48, 96, kernel_size=(3, 3), stride=(2, 2), padding=(1, 1), bias=False)\n",
      "          (bn): BatchNorm2d(96, eps=1e-05, momentum=0.1, affine=True, track_running_stats=True)\n",
      "        )\n",
      "        (rbr_1x1): Sequential(\n",
      "          (conv): Conv2d(48, 96, kernel_size=(1, 1), stride=(2, 2), bias=False)\n",
      "          (bn): BatchNorm2d(96, eps=1e-05, momentum=0.1, affine=True, track_running_stats=True)\n",
      "        )\n",
      "      )\n",
      "      (1): RepVGGBlock(\n",
      "        (nonlinearity): ReLU()\n",
      "        (se): Identity()\n",
      "        (rbr_identity): BatchNorm2d(96, eps=1e-05, momentum=0.1, affine=True, track_running_stats=True)\n",
      "        (rbr_dense): Sequential(\n",
      "          (conv): Conv2d(96, 96, kernel_size=(3, 3), stride=(1, 1), padding=(1, 1), bias=False)\n",
      "          (bn): BatchNorm2d(96, eps=1e-05, momentum=0.1, affine=True, track_running_stats=True)\n",
      "        )\n",
      "        (rbr_1x1): Sequential(\n",
      "          (conv): Conv2d(96, 96, kernel_size=(1, 1), stride=(1, 1), bias=False)\n",
      "          (bn): BatchNorm2d(96, eps=1e-05, momentum=0.1, affine=True, track_running_stats=True)\n",
      "        )\n",
      "      )\n",
      "      (2): RepVGGBlock(\n",
      "        (nonlinearity): ReLU()\n",
      "        (se): Identity()\n",
      "        (rbr_identity): BatchNorm2d(96, eps=1e-05, momentum=0.1, affine=True, track_running_stats=True)\n",
      "        (rbr_dense): Sequential(\n",
      "          (conv): Conv2d(96, 96, kernel_size=(3, 3), stride=(1, 1), padding=(1, 1), bias=False)\n",
      "          (bn): BatchNorm2d(96, eps=1e-05, momentum=0.1, affine=True, track_running_stats=True)\n",
      "        )\n",
      "        (rbr_1x1): Sequential(\n",
      "          (conv): Conv2d(96, 96, kernel_size=(1, 1), stride=(1, 1), bias=False)\n",
      "          (bn): BatchNorm2d(96, eps=1e-05, momentum=0.1, affine=True, track_running_stats=True)\n",
      "        )\n",
      "      )\n",
      "      (3): RepVGGBlock(\n",
      "        (nonlinearity): ReLU()\n",
      "        (se): Identity()\n",
      "        (rbr_identity): BatchNorm2d(96, eps=1e-05, momentum=0.1, affine=True, track_running_stats=True)\n",
      "        (rbr_dense): Sequential(\n",
      "          (conv): Conv2d(96, 96, kernel_size=(3, 3), stride=(1, 1), padding=(1, 1), bias=False)\n",
      "          (bn): BatchNorm2d(96, eps=1e-05, momentum=0.1, affine=True, track_running_stats=True)\n",
      "        )\n",
      "        (rbr_1x1): Sequential(\n",
      "          (conv): Conv2d(96, 96, kernel_size=(1, 1), stride=(1, 1), bias=False)\n",
      "          (bn): BatchNorm2d(96, eps=1e-05, momentum=0.1, affine=True, track_running_stats=True)\n",
      "        )\n",
      "      )\n",
      "    )\n",
      "    (stage3): Sequential(\n",
      "      (0): RepVGGBlock(\n",
      "        (nonlinearity): ReLU()\n",
      "        (se): Identity()\n",
      "        (rbr_dense): Sequential(\n",
      "          (conv): Conv2d(96, 192, kernel_size=(3, 3), stride=(2, 2), padding=(1, 1), bias=False)\n",
      "          (bn): BatchNorm2d(192, eps=1e-05, momentum=0.1, affine=True, track_running_stats=True)\n",
      "        )\n",
      "        (rbr_1x1): Sequential(\n",
      "          (conv): Conv2d(96, 192, kernel_size=(1, 1), stride=(2, 2), bias=False)\n",
      "          (bn): BatchNorm2d(192, eps=1e-05, momentum=0.1, affine=True, track_running_stats=True)\n",
      "        )\n",
      "      )\n",
      "      (1): RepVGGBlock(\n",
      "        (nonlinearity): ReLU()\n",
      "        (se): Identity()\n",
      "        (rbr_identity): BatchNorm2d(192, eps=1e-05, momentum=0.1, affine=True, track_running_stats=True)\n",
      "        (rbr_dense): Sequential(\n",
      "          (conv): Conv2d(192, 192, kernel_size=(3, 3), stride=(1, 1), padding=(1, 1), bias=False)\n",
      "          (bn): BatchNorm2d(192, eps=1e-05, momentum=0.1, affine=True, track_running_stats=True)\n",
      "        )\n",
      "        (rbr_1x1): Sequential(\n",
      "          (conv): Conv2d(192, 192, kernel_size=(1, 1), stride=(1, 1), bias=False)\n",
      "          (bn): BatchNorm2d(192, eps=1e-05, momentum=0.1, affine=True, track_running_stats=True)\n",
      "        )\n",
      "      )\n",
      "      (2): RepVGGBlock(\n",
      "        (nonlinearity): ReLU()\n",
      "        (se): Identity()\n",
      "        (rbr_identity): BatchNorm2d(192, eps=1e-05, momentum=0.1, affine=True, track_running_stats=True)\n",
      "        (rbr_dense): Sequential(\n",
      "          (conv): Conv2d(192, 192, kernel_size=(3, 3), stride=(1, 1), padding=(1, 1), bias=False)\n",
      "          (bn): BatchNorm2d(192, eps=1e-05, momentum=0.1, affine=True, track_running_stats=True)\n",
      "        )\n",
      "        (rbr_1x1): Sequential(\n",
      "          (conv): Conv2d(192, 192, kernel_size=(1, 1), stride=(1, 1), bias=False)\n",
      "          (bn): BatchNorm2d(192, eps=1e-05, momentum=0.1, affine=True, track_running_stats=True)\n",
      "        )\n",
      "      )\n",
      "      (3): RepVGGBlock(\n",
      "        (nonlinearity): ReLU()\n",
      "        (se): Identity()\n",
      "        (rbr_identity): BatchNorm2d(192, eps=1e-05, momentum=0.1, affine=True, track_running_stats=True)\n",
      "        (rbr_dense): Sequential(\n",
      "          (conv): Conv2d(192, 192, kernel_size=(3, 3), stride=(1, 1), padding=(1, 1), bias=False)\n",
      "          (bn): BatchNorm2d(192, eps=1e-05, momentum=0.1, affine=True, track_running_stats=True)\n",
      "        )\n",
      "        (rbr_1x1): Sequential(\n",
      "          (conv): Conv2d(192, 192, kernel_size=(1, 1), stride=(1, 1), bias=False)\n",
      "          (bn): BatchNorm2d(192, eps=1e-05, momentum=0.1, affine=True, track_running_stats=True)\n",
      "        )\n",
      "      )\n",
      "      (4): RepVGGBlock(\n",
      "        (nonlinearity): ReLU()\n",
      "        (se): Identity()\n",
      "        (rbr_identity): BatchNorm2d(192, eps=1e-05, momentum=0.1, affine=True, track_running_stats=True)\n",
      "        (rbr_dense): Sequential(\n",
      "          (conv): Conv2d(192, 192, kernel_size=(3, 3), stride=(1, 1), padding=(1, 1), bias=False)\n",
      "          (bn): BatchNorm2d(192, eps=1e-05, momentum=0.1, affine=True, track_running_stats=True)\n",
      "        )\n",
      "        (rbr_1x1): Sequential(\n",
      "          (conv): Conv2d(192, 192, kernel_size=(1, 1), stride=(1, 1), bias=False)\n",
      "          (bn): BatchNorm2d(192, eps=1e-05, momentum=0.1, affine=True, track_running_stats=True)\n",
      "        )\n",
      "      )\n",
      "      (5): RepVGGBlock(\n",
      "        (nonlinearity): ReLU()\n",
      "        (se): Identity()\n",
      "        (rbr_identity): BatchNorm2d(192, eps=1e-05, momentum=0.1, affine=True, track_running_stats=True)\n",
      "        (rbr_dense): Sequential(\n",
      "          (conv): Conv2d(192, 192, kernel_size=(3, 3), stride=(1, 1), padding=(1, 1), bias=False)\n",
      "          (bn): BatchNorm2d(192, eps=1e-05, momentum=0.1, affine=True, track_running_stats=True)\n",
      "        )\n",
      "        (rbr_1x1): Sequential(\n",
      "          (conv): Conv2d(192, 192, kernel_size=(1, 1), stride=(1, 1), bias=False)\n",
      "          (bn): BatchNorm2d(192, eps=1e-05, momentum=0.1, affine=True, track_running_stats=True)\n",
      "        )\n",
      "      )\n",
      "      (6): RepVGGBlock(\n",
      "        (nonlinearity): ReLU()\n",
      "        (se): Identity()\n",
      "        (rbr_identity): BatchNorm2d(192, eps=1e-05, momentum=0.1, affine=True, track_running_stats=True)\n",
      "        (rbr_dense): Sequential(\n",
      "          (conv): Conv2d(192, 192, kernel_size=(3, 3), stride=(1, 1), padding=(1, 1), bias=False)\n",
      "          (bn): BatchNorm2d(192, eps=1e-05, momentum=0.1, affine=True, track_running_stats=True)\n",
      "        )\n",
      "        (rbr_1x1): Sequential(\n",
      "          (conv): Conv2d(192, 192, kernel_size=(1, 1), stride=(1, 1), bias=False)\n",
      "          (bn): BatchNorm2d(192, eps=1e-05, momentum=0.1, affine=True, track_running_stats=True)\n",
      "        )\n",
      "      )\n",
      "      (7): RepVGGBlock(\n",
      "        (nonlinearity): ReLU()\n",
      "        (se): Identity()\n",
      "        (rbr_identity): BatchNorm2d(192, eps=1e-05, momentum=0.1, affine=True, track_running_stats=True)\n",
      "        (rbr_dense): Sequential(\n",
      "          (conv): Conv2d(192, 192, kernel_size=(3, 3), stride=(1, 1), padding=(1, 1), bias=False)\n",
      "          (bn): BatchNorm2d(192, eps=1e-05, momentum=0.1, affine=True, track_running_stats=True)\n",
      "        )\n",
      "        (rbr_1x1): Sequential(\n",
      "          (conv): Conv2d(192, 192, kernel_size=(1, 1), stride=(1, 1), bias=False)\n",
      "          (bn): BatchNorm2d(192, eps=1e-05, momentum=0.1, affine=True, track_running_stats=True)\n",
      "        )\n",
      "      )\n",
      "      (8): RepVGGBlock(\n",
      "        (nonlinearity): ReLU()\n",
      "        (se): Identity()\n",
      "        (rbr_identity): BatchNorm2d(192, eps=1e-05, momentum=0.1, affine=True, track_running_stats=True)\n",
      "        (rbr_dense): Sequential(\n",
      "          (conv): Conv2d(192, 192, kernel_size=(3, 3), stride=(1, 1), padding=(1, 1), bias=False)\n",
      "          (bn): BatchNorm2d(192, eps=1e-05, momentum=0.1, affine=True, track_running_stats=True)\n",
      "        )\n",
      "        (rbr_1x1): Sequential(\n",
      "          (conv): Conv2d(192, 192, kernel_size=(1, 1), stride=(1, 1), bias=False)\n",
      "          (bn): BatchNorm2d(192, eps=1e-05, momentum=0.1, affine=True, track_running_stats=True)\n",
      "        )\n",
      "      )\n",
      "      (9): RepVGGBlock(\n",
      "        (nonlinearity): ReLU()\n",
      "        (se): Identity()\n",
      "        (rbr_identity): BatchNorm2d(192, eps=1e-05, momentum=0.1, affine=True, track_running_stats=True)\n",
      "        (rbr_dense): Sequential(\n",
      "          (conv): Conv2d(192, 192, kernel_size=(3, 3), stride=(1, 1), padding=(1, 1), bias=False)\n",
      "          (bn): BatchNorm2d(192, eps=1e-05, momentum=0.1, affine=True, track_running_stats=True)\n",
      "        )\n",
      "        (rbr_1x1): Sequential(\n",
      "          (conv): Conv2d(192, 192, kernel_size=(1, 1), stride=(1, 1), bias=False)\n",
      "          (bn): BatchNorm2d(192, eps=1e-05, momentum=0.1, affine=True, track_running_stats=True)\n",
      "        )\n",
      "      )\n",
      "      (10): RepVGGBlock(\n",
      "        (nonlinearity): ReLU()\n",
      "        (se): Identity()\n",
      "        (rbr_identity): BatchNorm2d(192, eps=1e-05, momentum=0.1, affine=True, track_running_stats=True)\n",
      "        (rbr_dense): Sequential(\n",
      "          (conv): Conv2d(192, 192, kernel_size=(3, 3), stride=(1, 1), padding=(1, 1), bias=False)\n",
      "          (bn): BatchNorm2d(192, eps=1e-05, momentum=0.1, affine=True, track_running_stats=True)\n",
      "        )\n",
      "        (rbr_1x1): Sequential(\n",
      "          (conv): Conv2d(192, 192, kernel_size=(1, 1), stride=(1, 1), bias=False)\n",
      "          (bn): BatchNorm2d(192, eps=1e-05, momentum=0.1, affine=True, track_running_stats=True)\n",
      "        )\n",
      "      )\n",
      "      (11): RepVGGBlock(\n",
      "        (nonlinearity): ReLU()\n",
      "        (se): Identity()\n",
      "        (rbr_identity): BatchNorm2d(192, eps=1e-05, momentum=0.1, affine=True, track_running_stats=True)\n",
      "        (rbr_dense): Sequential(\n",
      "          (conv): Conv2d(192, 192, kernel_size=(3, 3), stride=(1, 1), padding=(1, 1), bias=False)\n",
      "          (bn): BatchNorm2d(192, eps=1e-05, momentum=0.1, affine=True, track_running_stats=True)\n",
      "        )\n",
      "        (rbr_1x1): Sequential(\n",
      "          (conv): Conv2d(192, 192, kernel_size=(1, 1), stride=(1, 1), bias=False)\n",
      "          (bn): BatchNorm2d(192, eps=1e-05, momentum=0.1, affine=True, track_running_stats=True)\n",
      "        )\n",
      "      )\n",
      "      (12): RepVGGBlock(\n",
      "        (nonlinearity): ReLU()\n",
      "        (se): Identity()\n",
      "        (rbr_identity): BatchNorm2d(192, eps=1e-05, momentum=0.1, affine=True, track_running_stats=True)\n",
      "        (rbr_dense): Sequential(\n",
      "          (conv): Conv2d(192, 192, kernel_size=(3, 3), stride=(1, 1), padding=(1, 1), bias=False)\n",
      "          (bn): BatchNorm2d(192, eps=1e-05, momentum=0.1, affine=True, track_running_stats=True)\n",
      "        )\n",
      "        (rbr_1x1): Sequential(\n",
      "          (conv): Conv2d(192, 192, kernel_size=(1, 1), stride=(1, 1), bias=False)\n",
      "          (bn): BatchNorm2d(192, eps=1e-05, momentum=0.1, affine=True, track_running_stats=True)\n",
      "        )\n",
      "      )\n",
      "      (13): RepVGGBlock(\n",
      "        (nonlinearity): ReLU()\n",
      "        (se): Identity()\n",
      "        (rbr_identity): BatchNorm2d(192, eps=1e-05, momentum=0.1, affine=True, track_running_stats=True)\n",
      "        (rbr_dense): Sequential(\n",
      "          (conv): Conv2d(192, 192, kernel_size=(3, 3), stride=(1, 1), padding=(1, 1), bias=False)\n",
      "          (bn): BatchNorm2d(192, eps=1e-05, momentum=0.1, affine=True, track_running_stats=True)\n",
      "        )\n",
      "        (rbr_1x1): Sequential(\n",
      "          (conv): Conv2d(192, 192, kernel_size=(1, 1), stride=(1, 1), bias=False)\n",
      "          (bn): BatchNorm2d(192, eps=1e-05, momentum=0.1, affine=True, track_running_stats=True)\n",
      "        )\n",
      "      )\n",
      "    )\n",
      "    (stage4): Sequential(\n",
      "      (0): RepVGGBlock(\n",
      "        (nonlinearity): ReLU()\n",
      "        (se): Identity()\n",
      "        (rbr_dense): Sequential(\n",
      "          (conv): Conv2d(192, 1280, kernel_size=(3, 3), stride=(2, 2), padding=(1, 1), bias=False)\n",
      "          (bn): BatchNorm2d(1280, eps=1e-05, momentum=0.1, affine=True, track_running_stats=True)\n",
      "        )\n",
      "        (rbr_1x1): Sequential(\n",
      "          (conv): Conv2d(192, 1280, kernel_size=(1, 1), stride=(2, 2), bias=False)\n",
      "          (bn): BatchNorm2d(1280, eps=1e-05, momentum=0.1, affine=True, track_running_stats=True)\n",
      "        )\n",
      "      )\n",
      "    )\n",
      "    (gap): AdaptiveAvgPool2d(output_size=1)\n",
      "    (linear): Linear(in_features=1280, out_features=1000, bias=True)\n",
      "  )\n",
      "  (linear): Linear(in_features=1280, out_features=2048, bias=True)\n",
      ")\n"
     ]
    }
   ],
   "source": [
    "# Reshape last layer as 2048 (not 1000)\n",
    "import torch.nn as nn\n",
    "\n",
    "backbone.linear = nn.Linear(in_features=1280, out_features=2048, bias=True)\n",
    "print(backbone)"
   ]
  },
  {
   "cell_type": "code",
   "execution_count": 21,
   "metadata": {},
   "outputs": [],
   "source": [
    "# # Set backbone to non-trainable\n",
    "\n",
    "# def set_parameter_requires_grad(model):\n",
    "#     for param in model.parameters():\n",
    "#         param.requires_grad = False\n",
    "        \n",
    "# set_parameter_requires_grad(backbone)"
   ]
  },
  {
   "cell_type": "code",
   "execution_count": 22,
   "metadata": {},
   "outputs": [],
   "source": [
    "from torch.optim import SGD\n",
    "from nuscenes.prediction.models.covernet import CoverNet, ConstantLatticeLoss\n",
    "\n",
    "model = CoverNet(backbone, num_modes=config.num_modes)\n",
    "model = model.to(device)\n",
    "\n",
    "loss_function = ConstantLatticeLoss(trajectories_set)"
   ]
  },
  {
   "cell_type": "code",
   "execution_count": 23,
   "metadata": {},
   "outputs": [
    {
     "name": "stdout",
     "output_type": "stream",
     "text": [
      "\t backbone.backbone.stage0.rbr_dense.conv.weight\n",
      "\t backbone.backbone.stage0.rbr_dense.bn.weight\n",
      "\t backbone.backbone.stage0.rbr_dense.bn.bias\n",
      "\t backbone.backbone.stage0.rbr_1x1.conv.weight\n",
      "\t backbone.backbone.stage0.rbr_1x1.bn.weight\n",
      "\t backbone.backbone.stage0.rbr_1x1.bn.bias\n",
      "\t backbone.backbone.stage1.0.rbr_dense.conv.weight\n",
      "\t backbone.backbone.stage1.0.rbr_dense.bn.weight\n",
      "\t backbone.backbone.stage1.0.rbr_dense.bn.bias\n",
      "\t backbone.backbone.stage1.0.rbr_1x1.conv.weight\n",
      "\t backbone.backbone.stage1.0.rbr_1x1.bn.weight\n",
      "\t backbone.backbone.stage1.0.rbr_1x1.bn.bias\n",
      "\t backbone.backbone.stage1.1.rbr_identity.weight\n",
      "\t backbone.backbone.stage1.1.rbr_identity.bias\n",
      "\t backbone.backbone.stage1.1.rbr_dense.conv.weight\n",
      "\t backbone.backbone.stage1.1.rbr_dense.bn.weight\n",
      "\t backbone.backbone.stage1.1.rbr_dense.bn.bias\n",
      "\t backbone.backbone.stage1.1.rbr_1x1.conv.weight\n",
      "\t backbone.backbone.stage1.1.rbr_1x1.bn.weight\n",
      "\t backbone.backbone.stage1.1.rbr_1x1.bn.bias\n",
      "\t backbone.backbone.stage2.0.rbr_dense.conv.weight\n",
      "\t backbone.backbone.stage2.0.rbr_dense.bn.weight\n",
      "\t backbone.backbone.stage2.0.rbr_dense.bn.bias\n",
      "\t backbone.backbone.stage2.0.rbr_1x1.conv.weight\n",
      "\t backbone.backbone.stage2.0.rbr_1x1.bn.weight\n",
      "\t backbone.backbone.stage2.0.rbr_1x1.bn.bias\n",
      "\t backbone.backbone.stage2.1.rbr_identity.weight\n",
      "\t backbone.backbone.stage2.1.rbr_identity.bias\n",
      "\t backbone.backbone.stage2.1.rbr_dense.conv.weight\n",
      "\t backbone.backbone.stage2.1.rbr_dense.bn.weight\n",
      "\t backbone.backbone.stage2.1.rbr_dense.bn.bias\n",
      "\t backbone.backbone.stage2.1.rbr_1x1.conv.weight\n",
      "\t backbone.backbone.stage2.1.rbr_1x1.bn.weight\n",
      "\t backbone.backbone.stage2.1.rbr_1x1.bn.bias\n",
      "\t backbone.backbone.stage2.2.rbr_identity.weight\n",
      "\t backbone.backbone.stage2.2.rbr_identity.bias\n",
      "\t backbone.backbone.stage2.2.rbr_dense.conv.weight\n",
      "\t backbone.backbone.stage2.2.rbr_dense.bn.weight\n",
      "\t backbone.backbone.stage2.2.rbr_dense.bn.bias\n",
      "\t backbone.backbone.stage2.2.rbr_1x1.conv.weight\n",
      "\t backbone.backbone.stage2.2.rbr_1x1.bn.weight\n",
      "\t backbone.backbone.stage2.2.rbr_1x1.bn.bias\n",
      "\t backbone.backbone.stage2.3.rbr_identity.weight\n",
      "\t backbone.backbone.stage2.3.rbr_identity.bias\n",
      "\t backbone.backbone.stage2.3.rbr_dense.conv.weight\n",
      "\t backbone.backbone.stage2.3.rbr_dense.bn.weight\n",
      "\t backbone.backbone.stage2.3.rbr_dense.bn.bias\n",
      "\t backbone.backbone.stage2.3.rbr_1x1.conv.weight\n",
      "\t backbone.backbone.stage2.3.rbr_1x1.bn.weight\n",
      "\t backbone.backbone.stage2.3.rbr_1x1.bn.bias\n",
      "\t backbone.backbone.stage3.0.rbr_dense.conv.weight\n",
      "\t backbone.backbone.stage3.0.rbr_dense.bn.weight\n",
      "\t backbone.backbone.stage3.0.rbr_dense.bn.bias\n",
      "\t backbone.backbone.stage3.0.rbr_1x1.conv.weight\n",
      "\t backbone.backbone.stage3.0.rbr_1x1.bn.weight\n",
      "\t backbone.backbone.stage3.0.rbr_1x1.bn.bias\n",
      "\t backbone.backbone.stage3.1.rbr_identity.weight\n",
      "\t backbone.backbone.stage3.1.rbr_identity.bias\n",
      "\t backbone.backbone.stage3.1.rbr_dense.conv.weight\n",
      "\t backbone.backbone.stage3.1.rbr_dense.bn.weight\n",
      "\t backbone.backbone.stage3.1.rbr_dense.bn.bias\n",
      "\t backbone.backbone.stage3.1.rbr_1x1.conv.weight\n",
      "\t backbone.backbone.stage3.1.rbr_1x1.bn.weight\n",
      "\t backbone.backbone.stage3.1.rbr_1x1.bn.bias\n",
      "\t backbone.backbone.stage3.2.rbr_identity.weight\n",
      "\t backbone.backbone.stage3.2.rbr_identity.bias\n",
      "\t backbone.backbone.stage3.2.rbr_dense.conv.weight\n",
      "\t backbone.backbone.stage3.2.rbr_dense.bn.weight\n",
      "\t backbone.backbone.stage3.2.rbr_dense.bn.bias\n",
      "\t backbone.backbone.stage3.2.rbr_1x1.conv.weight\n",
      "\t backbone.backbone.stage3.2.rbr_1x1.bn.weight\n",
      "\t backbone.backbone.stage3.2.rbr_1x1.bn.bias\n",
      "\t backbone.backbone.stage3.3.rbr_identity.weight\n",
      "\t backbone.backbone.stage3.3.rbr_identity.bias\n",
      "\t backbone.backbone.stage3.3.rbr_dense.conv.weight\n",
      "\t backbone.backbone.stage3.3.rbr_dense.bn.weight\n",
      "\t backbone.backbone.stage3.3.rbr_dense.bn.bias\n",
      "\t backbone.backbone.stage3.3.rbr_1x1.conv.weight\n",
      "\t backbone.backbone.stage3.3.rbr_1x1.bn.weight\n",
      "\t backbone.backbone.stage3.3.rbr_1x1.bn.bias\n",
      "\t backbone.backbone.stage3.4.rbr_identity.weight\n",
      "\t backbone.backbone.stage3.4.rbr_identity.bias\n",
      "\t backbone.backbone.stage3.4.rbr_dense.conv.weight\n",
      "\t backbone.backbone.stage3.4.rbr_dense.bn.weight\n",
      "\t backbone.backbone.stage3.4.rbr_dense.bn.bias\n",
      "\t backbone.backbone.stage3.4.rbr_1x1.conv.weight\n",
      "\t backbone.backbone.stage3.4.rbr_1x1.bn.weight\n",
      "\t backbone.backbone.stage3.4.rbr_1x1.bn.bias\n",
      "\t backbone.backbone.stage3.5.rbr_identity.weight\n",
      "\t backbone.backbone.stage3.5.rbr_identity.bias\n",
      "\t backbone.backbone.stage3.5.rbr_dense.conv.weight\n",
      "\t backbone.backbone.stage3.5.rbr_dense.bn.weight\n",
      "\t backbone.backbone.stage3.5.rbr_dense.bn.bias\n",
      "\t backbone.backbone.stage3.5.rbr_1x1.conv.weight\n",
      "\t backbone.backbone.stage3.5.rbr_1x1.bn.weight\n",
      "\t backbone.backbone.stage3.5.rbr_1x1.bn.bias\n",
      "\t backbone.backbone.stage3.6.rbr_identity.weight\n",
      "\t backbone.backbone.stage3.6.rbr_identity.bias\n",
      "\t backbone.backbone.stage3.6.rbr_dense.conv.weight\n",
      "\t backbone.backbone.stage3.6.rbr_dense.bn.weight\n",
      "\t backbone.backbone.stage3.6.rbr_dense.bn.bias\n",
      "\t backbone.backbone.stage3.6.rbr_1x1.conv.weight\n",
      "\t backbone.backbone.stage3.6.rbr_1x1.bn.weight\n",
      "\t backbone.backbone.stage3.6.rbr_1x1.bn.bias\n",
      "\t backbone.backbone.stage3.7.rbr_identity.weight\n",
      "\t backbone.backbone.stage3.7.rbr_identity.bias\n",
      "\t backbone.backbone.stage3.7.rbr_dense.conv.weight\n",
      "\t backbone.backbone.stage3.7.rbr_dense.bn.weight\n",
      "\t backbone.backbone.stage3.7.rbr_dense.bn.bias\n",
      "\t backbone.backbone.stage3.7.rbr_1x1.conv.weight\n",
      "\t backbone.backbone.stage3.7.rbr_1x1.bn.weight\n",
      "\t backbone.backbone.stage3.7.rbr_1x1.bn.bias\n",
      "\t backbone.backbone.stage3.8.rbr_identity.weight\n",
      "\t backbone.backbone.stage3.8.rbr_identity.bias\n",
      "\t backbone.backbone.stage3.8.rbr_dense.conv.weight\n",
      "\t backbone.backbone.stage3.8.rbr_dense.bn.weight\n",
      "\t backbone.backbone.stage3.8.rbr_dense.bn.bias\n",
      "\t backbone.backbone.stage3.8.rbr_1x1.conv.weight\n",
      "\t backbone.backbone.stage3.8.rbr_1x1.bn.weight\n",
      "\t backbone.backbone.stage3.8.rbr_1x1.bn.bias\n",
      "\t backbone.backbone.stage3.9.rbr_identity.weight\n",
      "\t backbone.backbone.stage3.9.rbr_identity.bias\n",
      "\t backbone.backbone.stage3.9.rbr_dense.conv.weight\n",
      "\t backbone.backbone.stage3.9.rbr_dense.bn.weight\n",
      "\t backbone.backbone.stage3.9.rbr_dense.bn.bias\n",
      "\t backbone.backbone.stage3.9.rbr_1x1.conv.weight\n",
      "\t backbone.backbone.stage3.9.rbr_1x1.bn.weight\n",
      "\t backbone.backbone.stage3.9.rbr_1x1.bn.bias\n",
      "\t backbone.backbone.stage3.10.rbr_identity.weight\n",
      "\t backbone.backbone.stage3.10.rbr_identity.bias\n",
      "\t backbone.backbone.stage3.10.rbr_dense.conv.weight\n",
      "\t backbone.backbone.stage3.10.rbr_dense.bn.weight\n",
      "\t backbone.backbone.stage3.10.rbr_dense.bn.bias\n",
      "\t backbone.backbone.stage3.10.rbr_1x1.conv.weight\n",
      "\t backbone.backbone.stage3.10.rbr_1x1.bn.weight\n",
      "\t backbone.backbone.stage3.10.rbr_1x1.bn.bias\n",
      "\t backbone.backbone.stage3.11.rbr_identity.weight\n",
      "\t backbone.backbone.stage3.11.rbr_identity.bias\n",
      "\t backbone.backbone.stage3.11.rbr_dense.conv.weight\n",
      "\t backbone.backbone.stage3.11.rbr_dense.bn.weight\n",
      "\t backbone.backbone.stage3.11.rbr_dense.bn.bias\n",
      "\t backbone.backbone.stage3.11.rbr_1x1.conv.weight\n",
      "\t backbone.backbone.stage3.11.rbr_1x1.bn.weight\n",
      "\t backbone.backbone.stage3.11.rbr_1x1.bn.bias\n",
      "\t backbone.backbone.stage3.12.rbr_identity.weight\n",
      "\t backbone.backbone.stage3.12.rbr_identity.bias\n",
      "\t backbone.backbone.stage3.12.rbr_dense.conv.weight\n",
      "\t backbone.backbone.stage3.12.rbr_dense.bn.weight\n",
      "\t backbone.backbone.stage3.12.rbr_dense.bn.bias\n",
      "\t backbone.backbone.stage3.12.rbr_1x1.conv.weight\n",
      "\t backbone.backbone.stage3.12.rbr_1x1.bn.weight\n",
      "\t backbone.backbone.stage3.12.rbr_1x1.bn.bias\n",
      "\t backbone.backbone.stage3.13.rbr_identity.weight\n",
      "\t backbone.backbone.stage3.13.rbr_identity.bias\n",
      "\t backbone.backbone.stage3.13.rbr_dense.conv.weight\n",
      "\t backbone.backbone.stage3.13.rbr_dense.bn.weight\n",
      "\t backbone.backbone.stage3.13.rbr_dense.bn.bias\n",
      "\t backbone.backbone.stage3.13.rbr_1x1.conv.weight\n",
      "\t backbone.backbone.stage3.13.rbr_1x1.bn.weight\n",
      "\t backbone.backbone.stage3.13.rbr_1x1.bn.bias\n",
      "\t backbone.backbone.stage4.0.rbr_dense.conv.weight\n",
      "\t backbone.backbone.stage4.0.rbr_dense.bn.weight\n",
      "\t backbone.backbone.stage4.0.rbr_dense.bn.bias\n",
      "\t backbone.backbone.stage4.0.rbr_1x1.conv.weight\n",
      "\t backbone.backbone.stage4.0.rbr_1x1.bn.weight\n",
      "\t backbone.backbone.stage4.0.rbr_1x1.bn.bias\n",
      "\t backbone.backbone.linear.weight\n",
      "\t backbone.backbone.linear.bias\n",
      "\t backbone.linear.weight\n",
      "\t backbone.linear.bias\n",
      "\t head.0.weight\n",
      "\t head.0.bias\n",
      "\t head.1.weight\n",
      "\t head.1.bias\n"
     ]
    }
   ],
   "source": [
    "# Pass to optimizer only params with requires_grad\n",
    "params_to_update = []\n",
    "\n",
    "for name,param in model.named_parameters():\n",
    "    if param.requires_grad == True:\n",
    "        params_to_update.append(param)\n",
    "        print(\"\\t\",name)\n",
    "\n",
    "optimizer = SGD(params_to_update, lr=config.lr, momentum=0.9, weight_decay=5e-4)"
   ]
  },
  {
   "cell_type": "code",
   "execution_count": 24,
   "metadata": {},
   "outputs": [],
   "source": [
    "import copy\n",
    "\n",
    "current_epoch = 0\n",
    "best_model_wts = copy.deepcopy(model.state_dict())"
   ]
  },
  {
   "cell_type": "code",
   "execution_count": 25,
   "metadata": {},
   "outputs": [],
   "source": [
    "from tqdm import tqdm\n",
    "\n",
    "trajectories_set_np = trajectories_set.cpu().numpy()"
   ]
  },
  {
   "cell_type": "code",
   "execution_count": 26,
   "metadata": {},
   "outputs": [],
   "source": [
    "import nuscenes.eval.prediction.metrics as metrics\n",
    "from collections import defaultdict\n",
    "from typing import List, Dict, Any\n",
    "\n",
    "\n",
    "def GetPrediction(instance_token, sample_token, img, state):\n",
    "    img = torch.Tensor(img.reshape((500, 500, 3))).permute(2, 0, 1).unsqueeze(0)\n",
    "    img = img.to(device)\n",
    "\n",
    "    state = torch.Tensor(np.array([state])).to(device)\n",
    "    state = state.to(device)\n",
    "\n",
    "    logits = model(img, state)\n",
    "    mode_probabilities = np.array([logits.cpu().detach().numpy()[0]])[0]\n",
    "\n",
    "    # ВЗЯТЬ НЕ БОЛЕЕ 25 САМЫХ ПОПУЛЯРНЫХ; Иначе - ошибка Error: prediction contains more than 25 modes.\n",
    "    sorted_logits_indexes = logits.cpu().argsort(descending=True)\n",
    "    sorted_trajectories = trajectories_set_np[sorted_logits_indexes][0]\n",
    "\n",
    "    top_25_trajectories = sorted_trajectories[:25]\n",
    "    top_25_probabilities = mode_probabilities[:25]\n",
    "\n",
    "    # Create prediction object\n",
    "    prediction = metrics.Prediction(instance_token, sample_token, top_25_trajectories, top_25_probabilities)\n",
    "\n",
    "    return prediction\n",
    "\n",
    "\n",
    "def GetMetrics(model, samples, features, states, ground_truth):\n",
    "    # Define metrics function and container\n",
    "    metric_functions = [metrics.MinFDEK([1], aggregators=[metrics.RowMean()]),\n",
    "                        metrics.MinADEK([5, 10], aggregators=[metrics.RowMean()]),\n",
    "                        metrics.MissRateTopK([5, 10], tolerance=2, aggregators=[metrics.RowMean()])]\n",
    "\n",
    "    num_predictions = len(features) # Amount of prediction rows (equals of len of validation)\n",
    "\n",
    "    metrics_container = {metric.name: np.zeros((num_predictions, metric.shape)) for metric in metric_functions}\n",
    "    \n",
    "    # Prediction loop\n",
    "    for idx, x in enumerate(tqdm(features)):\n",
    "        \n",
    "        # Make prediction\n",
    "        instance_tkn, sample_tkn = samples[idx].split(\"_\")\n",
    "        prediction = GetPrediction(instance_tkn, sample_tkn, features[idx], states[idx])\n",
    "        \n",
    "        # Get ground_truth\n",
    "        gt = ground_truth[idx].reshape((12, 2))\n",
    "\n",
    "        # Calculate metrics\n",
    "        for metric in metric_functions:\n",
    "            metrics_container[metric.name][idx] = metric(gt, prediction)\n",
    "    \n",
    "    # Metrics aggregations\n",
    "    aggregations: Dict[str, Dict[str, List[float]]] = defaultdict(dict)\n",
    "\n",
    "    for metric in metric_functions:\n",
    "        for agg in metric.aggregators:\n",
    "            aggregations[metric.name][agg.name] = agg(metrics_container[metric.name])\n",
    "\n",
    "    return aggregations"
   ]
  },
  {
   "cell_type": "code",
   "execution_count": 27,
   "metadata": {
    "pycharm": {
     "name": "#%%\n"
    }
   },
   "outputs": [],
   "source": [
    "from tqdm import tqdm\n",
    "import time\n",
    "\n",
    "def loss_batch(model, loss_func, img, state_vec, ground_truth, opt=None):\n",
    "    img = img.to(device)\n",
    "    state_vec = state_vec.to(device)\n",
    "    ground_truth = ground_truth.to(device)\n",
    "    \n",
    "    predicted_logits = model(img, state_vec)\n",
    "    loss = loss_func(predicted_logits, ground_truth)\n",
    "\n",
    "    # For validation optimizer is None, thus we dont perform backprop\n",
    "    if opt is not None:\n",
    "        loss.backward()\n",
    "        opt.step()\n",
    "        opt.zero_grad()\n",
    "\n",
    "    # Return losses and amount of items\n",
    "    #print(f\"{loss.item()}; {len(img)}\")\n",
    "    return loss.item(), len(img)\n",
    "\n",
    "\n",
    "def train_step(model, train_dl, loss_func, opt):\n",
    "    model.train()\n",
    "\n",
    "    losses = []\n",
    "    nums = []\n",
    "    for img, state_vec, gt in tqdm(train_dl):\n",
    "        loss, num = loss_batch(model, loss_func, img, state_vec, gt, opt)\n",
    "        losses.append(loss)\n",
    "        nums.append(num)\n",
    "\n",
    "    # Calculate train loss\n",
    "    train_loss = np.sum(np.multiply(losses, nums)) / np.sum(nums)\n",
    "    return train_loss\n",
    "\n",
    "\n",
    "def validation_step(model, valid_dl, loss_func):\n",
    "    print(\"Validation step\")\n",
    "    model.eval()\n",
    "\n",
    "    with torch.no_grad():\n",
    "        losses = []\n",
    "        nums = []\n",
    "        for img, state_vec, gt in tqdm(valid_dl):\n",
    "            loss, num = loss_batch(model, loss_func, img, state_vec, gt)\n",
    "            losses.append(loss)\n",
    "            nums.append(num)\n",
    "        \n",
    "        # Calculate validation loss\n",
    "        val_loss = np.sum(np.multiply(losses, nums)) / np.sum(nums)\n",
    "        \n",
    "    return val_loss\n",
    "\n",
    "\n",
    "def log_metrics(model, start_epoch_time, best_loss, train_loss, val_loss):\n",
    "    \n",
    "    # Calculate metrics on validation set\n",
    "    print(\"Calculate metrics\")\n",
    "    \n",
    "    metricsRes = GetMetrics(model, validation_samples, validation_features, validation_states, validation_labels)\n",
    "    \n",
    "    minFDE_1 = metricsRes['MinFDEK']['RowMean'][0]\n",
    "    minADEK_5 = metricsRes['MinADEK']['RowMean'][0]\n",
    "    minADEK_10 = metricsRes['MinADEK']['RowMean'][1]\n",
    "    missRateTopK2_5 = metricsRes['MissRateTopK_2']['RowMean'][0]\n",
    "    missRateTopK2_10 = metricsRes['MissRateTopK_2']['RowMean'][1]    \n",
    "\n",
    "    wandb.log({'Train loss': train_loss,\n",
    "               'Val loss': val_loss,\n",
    "               'minFDE_1': minFDE_1,\n",
    "               'minADEK_5': minADEK_5,\n",
    "               'minADEK_10': minADEK_10,\n",
    "               'missRateTopK2_5':missRateTopK2_5,\n",
    "               'missRateTopK2_10':missRateTopK2_10\n",
    "              })\n",
    "        \n",
    "    print(f\"Epoch {current_epoch + 1}; Train loss: {train_loss:0.2f}; Val loss: {val_loss:0.2f}; Best VL: {best_loss:0.2f}; Time: {(time.time() - start_epoch_time):0.2f} sec;\")\n",
    "\n",
    "\n",
    "def fit(epochs, model, loss_func, opt, train_dl, valid_dl):\n",
    "    global current_epoch\n",
    "    global best_model_wts\n",
    "    \n",
    "    best_loss = 999.0\n",
    "\n",
    "    for epoch in range(epochs):\n",
    "        start_epoch_time = time.time()\n",
    "        print('-' * 20)\n",
    "        print(f'Epoch: {epoch + 1}/{epochs}')\n",
    "        \n",
    "        train_loss = train_step(model, train_dl, loss_func, opt)\n",
    "        val_loss = validation_step(model, valid_dl, loss_func)\n",
    "        \n",
    "        # deep copy the model\n",
    "        if val_loss < best_loss:\n",
    "            best_loss = val_loss\n",
    "            best_model_wts = copy.deepcopy(model.state_dict())\n",
    "\n",
    "        log_metrics(model, start_epoch_time, best_loss, train_loss, val_loss)\n",
    "            \n",
    "        torch.save(copy.deepcopy(model.state_dict()), f'./Models/VGG_CoverNet_e{current_epoch + 1}_{best_loss:0.2f}.pth')\n",
    "        current_epoch += 1\n",
    "        "
   ]
  },
  {
   "cell_type": "code",
   "execution_count": null,
   "metadata": {},
   "outputs": [
    {
     "name": "stdout",
     "output_type": "stream",
     "text": [
      "--------------------\n",
      "Epoch: 1/35\n"
     ]
    },
    {
     "name": "stderr",
     "output_type": "stream",
     "text": [
      " 79%|███████▉  | 154/194 [00:54<00:14,  2.83it/s]"
     ]
    }
   ],
   "source": [
    "current_epoch = 1\n",
    "fit(config.epoch, model, loss_function, optimizer, train_dl, validation_dl)"
   ]
  },
  {
   "cell_type": "code",
   "execution_count": 64,
   "metadata": {},
   "outputs": [
    {
     "name": "stdout",
     "output_type": "stream",
     "text": [
      "Error in callback <function _WandbInit._resume_backend at 0x7f2e6fae1620> (for pre_run_cell):\n"
     ]
    },
    {
     "ename": "Exception",
     "evalue": "The wandb backend process has shutdown",
     "output_type": "error",
     "traceback": [
      "\u001B[0;31m\u001B[0m",
      "\u001B[0;31mException\u001B[0mTraceback (most recent call last)",
      "\u001B[0;32m/usr/local/lib/python3.6/dist-packages/backcall/backcall.py\u001B[0m in \u001B[0;36madapted\u001B[0;34m(*args, **kwargs)\u001B[0m\n\u001B[1;32m    102\u001B[0m                 \u001B[0mkwargs\u001B[0m\u001B[0;34m.\u001B[0m\u001B[0mpop\u001B[0m\u001B[0;34m(\u001B[0m\u001B[0mname\u001B[0m\u001B[0;34m)\u001B[0m\u001B[0;34m\u001B[0m\u001B[0;34m\u001B[0m\u001B[0m\n\u001B[1;32m    103\u001B[0m \u001B[0;31m#            print(args, kwargs, unmatched_pos, cut_positional, unmatched_kw)\u001B[0m\u001B[0;34m\u001B[0m\u001B[0;34m\u001B[0m\u001B[0;34m\u001B[0m\u001B[0m\n\u001B[0;32m--> 104\u001B[0;31m             \u001B[0;32mreturn\u001B[0m \u001B[0mcallback\u001B[0m\u001B[0;34m(\u001B[0m\u001B[0;34m*\u001B[0m\u001B[0margs\u001B[0m\u001B[0;34m,\u001B[0m \u001B[0;34m**\u001B[0m\u001B[0mkwargs\u001B[0m\u001B[0;34m)\u001B[0m\u001B[0;34m\u001B[0m\u001B[0;34m\u001B[0m\u001B[0m\n\u001B[0m\u001B[1;32m    105\u001B[0m \u001B[0;34m\u001B[0m\u001B[0m\n\u001B[1;32m    106\u001B[0m         \u001B[0;32mreturn\u001B[0m \u001B[0madapted\u001B[0m\u001B[0;34m\u001B[0m\u001B[0;34m\u001B[0m\u001B[0m\n",
      "\u001B[0;32m/usr/local/lib/python3.6/dist-packages/wandb/sdk/wandb_init.py\u001B[0m in \u001B[0;36m_resume_backend\u001B[0;34m(self)\u001B[0m\n\u001B[1;32m    258\u001B[0m         \u001B[0;32mif\u001B[0m \u001B[0mself\u001B[0m\u001B[0;34m.\u001B[0m\u001B[0mbackend\u001B[0m \u001B[0;32mis\u001B[0m \u001B[0;32mnot\u001B[0m \u001B[0;32mNone\u001B[0m\u001B[0;34m:\u001B[0m\u001B[0;34m\u001B[0m\u001B[0;34m\u001B[0m\u001B[0m\n\u001B[1;32m    259\u001B[0m             \u001B[0mlogger\u001B[0m\u001B[0;34m.\u001B[0m\u001B[0minfo\u001B[0m\u001B[0;34m(\u001B[0m\u001B[0;34m\"resuming backend\"\u001B[0m\u001B[0;34m)\u001B[0m\u001B[0;34m\u001B[0m\u001B[0;34m\u001B[0m\u001B[0m\n\u001B[0;32m--> 260\u001B[0;31m             \u001B[0mself\u001B[0m\u001B[0;34m.\u001B[0m\u001B[0mbackend\u001B[0m\u001B[0;34m.\u001B[0m\u001B[0minterface\u001B[0m\u001B[0;34m.\u001B[0m\u001B[0mpublish_resume\u001B[0m\u001B[0;34m(\u001B[0m\u001B[0;34m)\u001B[0m\u001B[0;34m\u001B[0m\u001B[0;34m\u001B[0m\u001B[0m\n\u001B[0m\u001B[1;32m    261\u001B[0m \u001B[0;34m\u001B[0m\u001B[0m\n\u001B[1;32m    262\u001B[0m     \u001B[0;32mdef\u001B[0m \u001B[0m_jupyter_teardown\u001B[0m\u001B[0;34m(\u001B[0m\u001B[0mself\u001B[0m\u001B[0;34m)\u001B[0m\u001B[0;34m:\u001B[0m\u001B[0;34m\u001B[0m\u001B[0;34m\u001B[0m\u001B[0m\n",
      "\u001B[0;32m/usr/local/lib/python3.6/dist-packages/wandb/sdk/interface/interface.py\u001B[0m in \u001B[0;36mpublish_resume\u001B[0;34m(self)\u001B[0m\n\u001B[1;32m    603\u001B[0m         \u001B[0mresume\u001B[0m \u001B[0;34m=\u001B[0m \u001B[0mpb\u001B[0m\u001B[0;34m.\u001B[0m\u001B[0mResumeRequest\u001B[0m\u001B[0;34m(\u001B[0m\u001B[0;34m)\u001B[0m\u001B[0;34m\u001B[0m\u001B[0;34m\u001B[0m\u001B[0m\n\u001B[1;32m    604\u001B[0m         \u001B[0mrec\u001B[0m \u001B[0;34m=\u001B[0m \u001B[0mself\u001B[0m\u001B[0;34m.\u001B[0m\u001B[0m_make_request\u001B[0m\u001B[0;34m(\u001B[0m\u001B[0mresume\u001B[0m\u001B[0;34m=\u001B[0m\u001B[0mresume\u001B[0m\u001B[0;34m)\u001B[0m\u001B[0;34m\u001B[0m\u001B[0;34m\u001B[0m\u001B[0m\n\u001B[0;32m--> 605\u001B[0;31m         \u001B[0mself\u001B[0m\u001B[0;34m.\u001B[0m\u001B[0m_publish\u001B[0m\u001B[0;34m(\u001B[0m\u001B[0mrec\u001B[0m\u001B[0;34m)\u001B[0m\u001B[0;34m\u001B[0m\u001B[0;34m\u001B[0m\u001B[0m\n\u001B[0m\u001B[1;32m    606\u001B[0m \u001B[0;34m\u001B[0m\u001B[0m\n\u001B[1;32m    607\u001B[0m     \u001B[0;32mdef\u001B[0m \u001B[0m_publish_run\u001B[0m\u001B[0;34m(\u001B[0m\u001B[0mself\u001B[0m\u001B[0;34m,\u001B[0m \u001B[0mrun\u001B[0m\u001B[0;34m:\u001B[0m \u001B[0mpb\u001B[0m\u001B[0;34m.\u001B[0m\u001B[0mRunRecord\u001B[0m\u001B[0;34m)\u001B[0m \u001B[0;34m->\u001B[0m \u001B[0;32mNone\u001B[0m\u001B[0;34m:\u001B[0m\u001B[0;34m\u001B[0m\u001B[0;34m\u001B[0m\u001B[0m\n",
      "\u001B[0;32m/usr/local/lib/python3.6/dist-packages/wandb/sdk/interface/interface.py\u001B[0m in \u001B[0;36m_publish\u001B[0;34m(self, record, local)\u001B[0m\n\u001B[1;32m    534\u001B[0m     \u001B[0;32mdef\u001B[0m \u001B[0m_publish\u001B[0m\u001B[0;34m(\u001B[0m\u001B[0mself\u001B[0m\u001B[0;34m,\u001B[0m \u001B[0mrecord\u001B[0m\u001B[0;34m:\u001B[0m \u001B[0mpb\u001B[0m\u001B[0;34m.\u001B[0m\u001B[0mRecord\u001B[0m\u001B[0;34m,\u001B[0m \u001B[0mlocal\u001B[0m\u001B[0;34m:\u001B[0m \u001B[0mbool\u001B[0m \u001B[0;34m=\u001B[0m \u001B[0;32mNone\u001B[0m\u001B[0;34m)\u001B[0m \u001B[0;34m->\u001B[0m \u001B[0;32mNone\u001B[0m\u001B[0;34m:\u001B[0m\u001B[0;34m\u001B[0m\u001B[0;34m\u001B[0m\u001B[0m\n\u001B[1;32m    535\u001B[0m         \u001B[0;32mif\u001B[0m \u001B[0mself\u001B[0m\u001B[0;34m.\u001B[0m\u001B[0m_process\u001B[0m \u001B[0;32mand\u001B[0m \u001B[0;32mnot\u001B[0m \u001B[0mself\u001B[0m\u001B[0;34m.\u001B[0m\u001B[0m_process\u001B[0m\u001B[0;34m.\u001B[0m\u001B[0mis_alive\u001B[0m\u001B[0;34m(\u001B[0m\u001B[0;34m)\u001B[0m\u001B[0;34m:\u001B[0m\u001B[0;34m\u001B[0m\u001B[0;34m\u001B[0m\u001B[0m\n\u001B[0;32m--> 536\u001B[0;31m             \u001B[0;32mraise\u001B[0m \u001B[0mException\u001B[0m\u001B[0;34m(\u001B[0m\u001B[0;34m\"The wandb backend process has shutdown\"\u001B[0m\u001B[0;34m)\u001B[0m\u001B[0;34m\u001B[0m\u001B[0;34m\u001B[0m\u001B[0m\n\u001B[0m\u001B[1;32m    537\u001B[0m         \u001B[0;32mif\u001B[0m \u001B[0mlocal\u001B[0m\u001B[0;34m:\u001B[0m\u001B[0;34m\u001B[0m\u001B[0;34m\u001B[0m\u001B[0m\n\u001B[1;32m    538\u001B[0m             \u001B[0mrecord\u001B[0m\u001B[0;34m.\u001B[0m\u001B[0mcontrol\u001B[0m\u001B[0;34m.\u001B[0m\u001B[0mlocal\u001B[0m \u001B[0;34m=\u001B[0m \u001B[0mlocal\u001B[0m\u001B[0;34m\u001B[0m\u001B[0;34m\u001B[0m\u001B[0m\n",
      "\u001B[0;31mException\u001B[0m: The wandb backend process has shutdown"
     ]
    },
    {
     "data": {
      "text/html": [
       "<br/>Waiting for W&B process to finish, PID 1567<br/>Program ended successfully."
      ],
      "text/plain": [
       "<IPython.core.display.HTML object>"
      ]
     },
     "metadata": {},
     "output_type": "display_data"
    },
    {
     "ename": "Exception",
     "evalue": "The wandb backend process has shutdown",
     "output_type": "error",
     "traceback": [
      "\u001B[0;31m\u001B[0m",
      "\u001B[0;31mException\u001B[0mTraceback (most recent call last)",
      "\u001B[0;32m/usr/local/lib/python3.6/dist-packages/wandb/sdk/wandb_run.py\u001B[0m in \u001B[0;36m_atexit_cleanup\u001B[0;34m(self, exit_code)\u001B[0m\n\u001B[1;32m   1600\u001B[0m         \u001B[0;32mtry\u001B[0m\u001B[0;34m:\u001B[0m\u001B[0;34m\u001B[0m\u001B[0;34m\u001B[0m\u001B[0m\n\u001B[0;32m-> 1601\u001B[0;31m             \u001B[0mself\u001B[0m\u001B[0;34m.\u001B[0m\u001B[0m_on_finish\u001B[0m\u001B[0;34m(\u001B[0m\u001B[0;34m)\u001B[0m\u001B[0;34m\u001B[0m\u001B[0;34m\u001B[0m\u001B[0m\n\u001B[0m\u001B[1;32m   1602\u001B[0m         \u001B[0;32mexcept\u001B[0m \u001B[0mKeyboardInterrupt\u001B[0m \u001B[0;32mas\u001B[0m \u001B[0mki\u001B[0m\u001B[0;34m:\u001B[0m\u001B[0;34m\u001B[0m\u001B[0;34m\u001B[0m\u001B[0m\n",
      "\u001B[0;32m/usr/local/lib/python3.6/dist-packages/wandb/sdk/wandb_run.py\u001B[0m in \u001B[0;36m_on_finish\u001B[0;34m(self)\u001B[0m\n\u001B[1;32m   1757\u001B[0m         \u001B[0;32mif\u001B[0m \u001B[0mself\u001B[0m\u001B[0;34m.\u001B[0m\u001B[0m_backend\u001B[0m\u001B[0;34m:\u001B[0m\u001B[0;34m\u001B[0m\u001B[0;34m\u001B[0m\u001B[0m\n\u001B[0;32m-> 1758\u001B[0;31m             \u001B[0mself\u001B[0m\u001B[0;34m.\u001B[0m\u001B[0m_backend\u001B[0m\u001B[0;34m.\u001B[0m\u001B[0minterface\u001B[0m\u001B[0;34m.\u001B[0m\u001B[0mpublish_telemetry\u001B[0m\u001B[0;34m(\u001B[0m\u001B[0mself\u001B[0m\u001B[0;34m.\u001B[0m\u001B[0m_telemetry_obj\u001B[0m\u001B[0;34m)\u001B[0m\u001B[0;34m\u001B[0m\u001B[0;34m\u001B[0m\u001B[0m\n\u001B[0m\u001B[1;32m   1759\u001B[0m \u001B[0;34m\u001B[0m\u001B[0m\n",
      "\u001B[0;32m/usr/local/lib/python3.6/dist-packages/wandb/sdk/interface/interface.py\u001B[0m in \u001B[0;36mpublish_telemetry\u001B[0;34m(self, telem)\u001B[0m\n\u001B[1;32m    235\u001B[0m         \u001B[0mrec\u001B[0m \u001B[0;34m=\u001B[0m \u001B[0mself\u001B[0m\u001B[0;34m.\u001B[0m\u001B[0m_make_record\u001B[0m\u001B[0;34m(\u001B[0m\u001B[0mtelemetry\u001B[0m\u001B[0;34m=\u001B[0m\u001B[0mtelem\u001B[0m\u001B[0;34m)\u001B[0m\u001B[0;34m\u001B[0m\u001B[0;34m\u001B[0m\u001B[0m\n\u001B[0;32m--> 236\u001B[0;31m         \u001B[0mself\u001B[0m\u001B[0;34m.\u001B[0m\u001B[0m_publish\u001B[0m\u001B[0;34m(\u001B[0m\u001B[0mrec\u001B[0m\u001B[0;34m)\u001B[0m\u001B[0;34m\u001B[0m\u001B[0;34m\u001B[0m\u001B[0m\n\u001B[0m\u001B[1;32m    237\u001B[0m \u001B[0;34m\u001B[0m\u001B[0m\n",
      "\u001B[0;32m/usr/local/lib/python3.6/dist-packages/wandb/sdk/interface/interface.py\u001B[0m in \u001B[0;36m_publish\u001B[0;34m(self, record, local)\u001B[0m\n\u001B[1;32m    535\u001B[0m         \u001B[0;32mif\u001B[0m \u001B[0mself\u001B[0m\u001B[0;34m.\u001B[0m\u001B[0m_process\u001B[0m \u001B[0;32mand\u001B[0m \u001B[0;32mnot\u001B[0m \u001B[0mself\u001B[0m\u001B[0;34m.\u001B[0m\u001B[0m_process\u001B[0m\u001B[0;34m.\u001B[0m\u001B[0mis_alive\u001B[0m\u001B[0;34m(\u001B[0m\u001B[0;34m)\u001B[0m\u001B[0;34m:\u001B[0m\u001B[0;34m\u001B[0m\u001B[0;34m\u001B[0m\u001B[0m\n\u001B[0;32m--> 536\u001B[0;31m             \u001B[0;32mraise\u001B[0m \u001B[0mException\u001B[0m\u001B[0;34m(\u001B[0m\u001B[0;34m\"The wandb backend process has shutdown\"\u001B[0m\u001B[0;34m)\u001B[0m\u001B[0;34m\u001B[0m\u001B[0;34m\u001B[0m\u001B[0m\n\u001B[0m\u001B[1;32m    537\u001B[0m         \u001B[0;32mif\u001B[0m \u001B[0mlocal\u001B[0m\u001B[0;34m:\u001B[0m\u001B[0;34m\u001B[0m\u001B[0;34m\u001B[0m\u001B[0m\n",
      "\u001B[0;31mException\u001B[0m: The wandb backend process has shutdown",
      "\nDuring handling of the above exception, another exception occurred:\n",
      "\u001B[0;31mException\u001B[0mTraceback (most recent call last)",
      "\u001B[0;32m<ipython-input-64-db46e69e6108>\u001B[0m in \u001B[0;36m<module>\u001B[0;34m\u001B[0m\n\u001B[1;32m      1\u001B[0m \u001B[0;31m# Mark the run as finished\u001B[0m\u001B[0;34m\u001B[0m\u001B[0;34m\u001B[0m\u001B[0;34m\u001B[0m\u001B[0m\n\u001B[0;32m----> 2\u001B[0;31m \u001B[0mwandb\u001B[0m\u001B[0;34m.\u001B[0m\u001B[0mfinish\u001B[0m\u001B[0;34m(\u001B[0m\u001B[0;34m)\u001B[0m\u001B[0;34m\u001B[0m\u001B[0;34m\u001B[0m\u001B[0m\n\u001B[0m",
      "\u001B[0;32m/usr/local/lib/python3.6/dist-packages/wandb/sdk/wandb_run.py\u001B[0m in \u001B[0;36mfinish\u001B[0;34m(exit_code)\u001B[0m\n\u001B[1;32m   2504\u001B[0m     \"\"\"\n\u001B[1;32m   2505\u001B[0m     \u001B[0;32mif\u001B[0m \u001B[0mwandb\u001B[0m\u001B[0;34m.\u001B[0m\u001B[0mrun\u001B[0m\u001B[0;34m:\u001B[0m\u001B[0;34m\u001B[0m\u001B[0;34m\u001B[0m\u001B[0m\n\u001B[0;32m-> 2506\u001B[0;31m         \u001B[0mwandb\u001B[0m\u001B[0;34m.\u001B[0m\u001B[0mrun\u001B[0m\u001B[0;34m.\u001B[0m\u001B[0mfinish\u001B[0m\u001B[0;34m(\u001B[0m\u001B[0mexit_code\u001B[0m\u001B[0;34m=\u001B[0m\u001B[0mexit_code\u001B[0m\u001B[0;34m)\u001B[0m\u001B[0;34m\u001B[0m\u001B[0;34m\u001B[0m\u001B[0m\n\u001B[0m\u001B[1;32m   2507\u001B[0m \u001B[0;34m\u001B[0m\u001B[0m\n\u001B[1;32m   2508\u001B[0m \u001B[0;34m\u001B[0m\u001B[0m\n",
      "\u001B[0;32m/usr/local/lib/python3.6/dist-packages/wandb/sdk/wandb_run.py\u001B[0m in \u001B[0;36mfinish\u001B[0;34m(self, exit_code)\u001B[0m\n\u001B[1;32m   1295\u001B[0m             \u001B[0mhook\u001B[0m\u001B[0;34m(\u001B[0m\u001B[0;34m)\u001B[0m\u001B[0;34m\u001B[0m\u001B[0;34m\u001B[0m\u001B[0m\n\u001B[1;32m   1296\u001B[0m         \u001B[0mself\u001B[0m\u001B[0;34m.\u001B[0m\u001B[0m_teardown_hooks\u001B[0m \u001B[0;34m=\u001B[0m \u001B[0;34m[\u001B[0m\u001B[0;34m]\u001B[0m\u001B[0;34m\u001B[0m\u001B[0;34m\u001B[0m\u001B[0m\n\u001B[0;32m-> 1297\u001B[0;31m         \u001B[0mself\u001B[0m\u001B[0;34m.\u001B[0m\u001B[0m_atexit_cleanup\u001B[0m\u001B[0;34m(\u001B[0m\u001B[0mexit_code\u001B[0m\u001B[0;34m=\u001B[0m\u001B[0mexit_code\u001B[0m\u001B[0;34m)\u001B[0m\u001B[0;34m\u001B[0m\u001B[0;34m\u001B[0m\u001B[0m\n\u001B[0m\u001B[1;32m   1298\u001B[0m         \u001B[0;32mif\u001B[0m \u001B[0mself\u001B[0m\u001B[0;34m.\u001B[0m\u001B[0m_wl\u001B[0m \u001B[0;32mand\u001B[0m \u001B[0mlen\u001B[0m\u001B[0;34m(\u001B[0m\u001B[0mself\u001B[0m\u001B[0;34m.\u001B[0m\u001B[0m_wl\u001B[0m\u001B[0;34m.\u001B[0m\u001B[0m_global_run_stack\u001B[0m\u001B[0;34m)\u001B[0m \u001B[0;34m>\u001B[0m \u001B[0;36m0\u001B[0m\u001B[0;34m:\u001B[0m\u001B[0;34m\u001B[0m\u001B[0;34m\u001B[0m\u001B[0m\n\u001B[1;32m   1299\u001B[0m             \u001B[0mself\u001B[0m\u001B[0;34m.\u001B[0m\u001B[0m_wl\u001B[0m\u001B[0;34m.\u001B[0m\u001B[0m_global_run_stack\u001B[0m\u001B[0;34m.\u001B[0m\u001B[0mpop\u001B[0m\u001B[0;34m(\u001B[0m\u001B[0;34m)\u001B[0m\u001B[0;34m\u001B[0m\u001B[0;34m\u001B[0m\u001B[0m\n",
      "\u001B[0;32m/usr/local/lib/python3.6/dist-packages/wandb/sdk/wandb_run.py\u001B[0m in \u001B[0;36m_atexit_cleanup\u001B[0;34m(self, exit_code)\u001B[0m\n\u001B[1;32m   1608\u001B[0m         \u001B[0;32mexcept\u001B[0m \u001B[0mException\u001B[0m \u001B[0;32mas\u001B[0m \u001B[0me\u001B[0m\u001B[0;34m:\u001B[0m\u001B[0;34m\u001B[0m\u001B[0;34m\u001B[0m\u001B[0m\n\u001B[1;32m   1609\u001B[0m             \u001B[0mself\u001B[0m\u001B[0;34m.\u001B[0m\u001B[0m_console_stop\u001B[0m\u001B[0;34m(\u001B[0m\u001B[0;34m)\u001B[0m\u001B[0;34m\u001B[0m\u001B[0;34m\u001B[0m\u001B[0m\n\u001B[0;32m-> 1610\u001B[0;31m             \u001B[0mself\u001B[0m\u001B[0;34m.\u001B[0m\u001B[0m_backend\u001B[0m\u001B[0;34m.\u001B[0m\u001B[0mcleanup\u001B[0m\u001B[0;34m(\u001B[0m\u001B[0;34m)\u001B[0m\u001B[0;34m\u001B[0m\u001B[0;34m\u001B[0m\u001B[0m\n\u001B[0m\u001B[1;32m   1611\u001B[0m             \u001B[0mlogger\u001B[0m\u001B[0;34m.\u001B[0m\u001B[0merror\u001B[0m\u001B[0;34m(\u001B[0m\u001B[0;34m\"Problem finishing run\"\u001B[0m\u001B[0;34m,\u001B[0m \u001B[0mexc_info\u001B[0m\u001B[0;34m=\u001B[0m\u001B[0me\u001B[0m\u001B[0;34m)\u001B[0m\u001B[0;34m\u001B[0m\u001B[0;34m\u001B[0m\u001B[0m\n\u001B[1;32m   1612\u001B[0m             \u001B[0mwandb\u001B[0m\u001B[0;34m.\u001B[0m\u001B[0mtermerror\u001B[0m\u001B[0;34m(\u001B[0m\u001B[0;34m\"Problem finishing run\"\u001B[0m\u001B[0;34m)\u001B[0m\u001B[0;34m\u001B[0m\u001B[0;34m\u001B[0m\u001B[0m\n",
      "\u001B[0;32m/usr/local/lib/python3.6/dist-packages/wandb/sdk/backend/backend.py\u001B[0m in \u001B[0;36mcleanup\u001B[0;34m(self)\u001B[0m\n\u001B[1;32m    165\u001B[0m             \u001B[0;32mreturn\u001B[0m\u001B[0;34m\u001B[0m\u001B[0;34m\u001B[0m\u001B[0m\n\u001B[1;32m    166\u001B[0m         \u001B[0mself\u001B[0m\u001B[0;34m.\u001B[0m\u001B[0m_done\u001B[0m \u001B[0;34m=\u001B[0m \u001B[0;32mTrue\u001B[0m\u001B[0;34m\u001B[0m\u001B[0;34m\u001B[0m\u001B[0m\n\u001B[0;32m--> 167\u001B[0;31m         \u001B[0mself\u001B[0m\u001B[0;34m.\u001B[0m\u001B[0minterface\u001B[0m\u001B[0;34m.\u001B[0m\u001B[0mjoin\u001B[0m\u001B[0;34m(\u001B[0m\u001B[0;34m)\u001B[0m\u001B[0;34m\u001B[0m\u001B[0;34m\u001B[0m\u001B[0m\n\u001B[0m\u001B[1;32m    168\u001B[0m         \u001B[0mself\u001B[0m\u001B[0;34m.\u001B[0m\u001B[0mwandb_process\u001B[0m\u001B[0;34m.\u001B[0m\u001B[0mjoin\u001B[0m\u001B[0;34m(\u001B[0m\u001B[0;34m)\u001B[0m\u001B[0;34m\u001B[0m\u001B[0;34m\u001B[0m\u001B[0m\n\u001B[1;32m    169\u001B[0m         \u001B[0mself\u001B[0m\u001B[0;34m.\u001B[0m\u001B[0mrecord_q\u001B[0m\u001B[0;34m.\u001B[0m\u001B[0mclose\u001B[0m\u001B[0;34m(\u001B[0m\u001B[0;34m)\u001B[0m\u001B[0;34m\u001B[0m\u001B[0;34m\u001B[0m\u001B[0m\n",
      "\u001B[0;32m/usr/local/lib/python3.6/dist-packages/wandb/sdk/interface/interface.py\u001B[0m in \u001B[0;36mjoin\u001B[0;34m(self)\u001B[0m\n\u001B[1;32m    834\u001B[0m         \u001B[0mrequest\u001B[0m \u001B[0;34m=\u001B[0m \u001B[0mpb\u001B[0m\u001B[0;34m.\u001B[0m\u001B[0mRequest\u001B[0m\u001B[0;34m(\u001B[0m\u001B[0mshutdown\u001B[0m\u001B[0;34m=\u001B[0m\u001B[0mpb\u001B[0m\u001B[0;34m.\u001B[0m\u001B[0mShutdownRequest\u001B[0m\u001B[0;34m(\u001B[0m\u001B[0;34m)\u001B[0m\u001B[0;34m)\u001B[0m\u001B[0;34m\u001B[0m\u001B[0;34m\u001B[0m\u001B[0m\n\u001B[1;32m    835\u001B[0m         \u001B[0mrecord\u001B[0m \u001B[0;34m=\u001B[0m \u001B[0mself\u001B[0m\u001B[0;34m.\u001B[0m\u001B[0m_make_record\u001B[0m\u001B[0;34m(\u001B[0m\u001B[0mrequest\u001B[0m\u001B[0;34m=\u001B[0m\u001B[0mrequest\u001B[0m\u001B[0;34m)\u001B[0m\u001B[0;34m\u001B[0m\u001B[0;34m\u001B[0m\u001B[0m\n\u001B[0;32m--> 836\u001B[0;31m         \u001B[0m_\u001B[0m \u001B[0;34m=\u001B[0m \u001B[0mself\u001B[0m\u001B[0;34m.\u001B[0m\u001B[0m_communicate\u001B[0m\u001B[0;34m(\u001B[0m\u001B[0mrecord\u001B[0m\u001B[0;34m)\u001B[0m\u001B[0;34m\u001B[0m\u001B[0;34m\u001B[0m\u001B[0m\n\u001B[0m\u001B[1;32m    837\u001B[0m \u001B[0;34m\u001B[0m\u001B[0m\n\u001B[1;32m    838\u001B[0m         \u001B[0;32mif\u001B[0m \u001B[0mself\u001B[0m\u001B[0;34m.\u001B[0m\u001B[0m_router\u001B[0m\u001B[0;34m:\u001B[0m\u001B[0;34m\u001B[0m\u001B[0;34m\u001B[0m\u001B[0m\n",
      "\u001B[0;32m/usr/local/lib/python3.6/dist-packages/wandb/sdk/interface/interface.py\u001B[0m in \u001B[0;36m_communicate\u001B[0;34m(self, rec, timeout, local)\u001B[0m\n\u001B[1;32m    543\u001B[0m         \u001B[0mself\u001B[0m\u001B[0;34m,\u001B[0m \u001B[0mrec\u001B[0m\u001B[0;34m:\u001B[0m \u001B[0mpb\u001B[0m\u001B[0;34m.\u001B[0m\u001B[0mRecord\u001B[0m\u001B[0;34m,\u001B[0m \u001B[0mtimeout\u001B[0m\u001B[0;34m:\u001B[0m \u001B[0mOptional\u001B[0m\u001B[0;34m[\u001B[0m\u001B[0mint\u001B[0m\u001B[0;34m]\u001B[0m \u001B[0;34m=\u001B[0m \u001B[0;36m5\u001B[0m\u001B[0;34m,\u001B[0m \u001B[0mlocal\u001B[0m\u001B[0;34m:\u001B[0m \u001B[0mbool\u001B[0m \u001B[0;34m=\u001B[0m \u001B[0;32mNone\u001B[0m\u001B[0;34m\u001B[0m\u001B[0;34m\u001B[0m\u001B[0m\n\u001B[1;32m    544\u001B[0m     ) -> Optional[pb.Result]:\n\u001B[0;32m--> 545\u001B[0;31m         \u001B[0;32mreturn\u001B[0m \u001B[0mself\u001B[0m\u001B[0;34m.\u001B[0m\u001B[0m_communicate_async\u001B[0m\u001B[0;34m(\u001B[0m\u001B[0mrec\u001B[0m\u001B[0;34m,\u001B[0m \u001B[0mlocal\u001B[0m\u001B[0;34m=\u001B[0m\u001B[0mlocal\u001B[0m\u001B[0;34m)\u001B[0m\u001B[0;34m.\u001B[0m\u001B[0mget\u001B[0m\u001B[0;34m(\u001B[0m\u001B[0mtimeout\u001B[0m\u001B[0;34m=\u001B[0m\u001B[0mtimeout\u001B[0m\u001B[0;34m)\u001B[0m\u001B[0;34m\u001B[0m\u001B[0;34m\u001B[0m\u001B[0m\n\u001B[0m\u001B[1;32m    546\u001B[0m \u001B[0;34m\u001B[0m\u001B[0m\n\u001B[1;32m    547\u001B[0m     \u001B[0;32mdef\u001B[0m \u001B[0m_communicate_async\u001B[0m\u001B[0;34m(\u001B[0m\u001B[0mself\u001B[0m\u001B[0;34m,\u001B[0m \u001B[0mrec\u001B[0m\u001B[0;34m:\u001B[0m \u001B[0mpb\u001B[0m\u001B[0;34m.\u001B[0m\u001B[0mRecord\u001B[0m\u001B[0;34m,\u001B[0m \u001B[0mlocal\u001B[0m\u001B[0;34m:\u001B[0m \u001B[0mbool\u001B[0m \u001B[0;34m=\u001B[0m \u001B[0;32mNone\u001B[0m\u001B[0;34m)\u001B[0m \u001B[0;34m->\u001B[0m \u001B[0m_Future\u001B[0m\u001B[0;34m:\u001B[0m\u001B[0;34m\u001B[0m\u001B[0;34m\u001B[0m\u001B[0m\n",
      "\u001B[0;32m/usr/local/lib/python3.6/dist-packages/wandb/sdk/interface/interface.py\u001B[0m in \u001B[0;36m_communicate_async\u001B[0;34m(self, rec, local)\u001B[0m\n\u001B[1;32m    548\u001B[0m         \u001B[0;32massert\u001B[0m \u001B[0mself\u001B[0m\u001B[0;34m.\u001B[0m\u001B[0m_router\u001B[0m\u001B[0;34m\u001B[0m\u001B[0;34m\u001B[0m\u001B[0m\n\u001B[1;32m    549\u001B[0m         \u001B[0;32mif\u001B[0m \u001B[0mself\u001B[0m\u001B[0;34m.\u001B[0m\u001B[0m_process\u001B[0m \u001B[0;32mand\u001B[0m \u001B[0;32mnot\u001B[0m \u001B[0mself\u001B[0m\u001B[0;34m.\u001B[0m\u001B[0m_process\u001B[0m\u001B[0;34m.\u001B[0m\u001B[0mis_alive\u001B[0m\u001B[0;34m(\u001B[0m\u001B[0;34m)\u001B[0m\u001B[0;34m:\u001B[0m\u001B[0;34m\u001B[0m\u001B[0;34m\u001B[0m\u001B[0m\n\u001B[0;32m--> 550\u001B[0;31m             \u001B[0;32mraise\u001B[0m \u001B[0mException\u001B[0m\u001B[0;34m(\u001B[0m\u001B[0;34m\"The wandb backend process has shutdown\"\u001B[0m\u001B[0;34m)\u001B[0m\u001B[0;34m\u001B[0m\u001B[0;34m\u001B[0m\u001B[0m\n\u001B[0m\u001B[1;32m    551\u001B[0m         \u001B[0mfuture\u001B[0m \u001B[0;34m=\u001B[0m \u001B[0mself\u001B[0m\u001B[0;34m.\u001B[0m\u001B[0m_router\u001B[0m\u001B[0;34m.\u001B[0m\u001B[0msend_and_receive\u001B[0m\u001B[0;34m(\u001B[0m\u001B[0mrec\u001B[0m\u001B[0;34m,\u001B[0m \u001B[0mlocal\u001B[0m\u001B[0;34m=\u001B[0m\u001B[0mlocal\u001B[0m\u001B[0;34m)\u001B[0m\u001B[0;34m\u001B[0m\u001B[0;34m\u001B[0m\u001B[0m\n\u001B[1;32m    552\u001B[0m         \u001B[0;32mreturn\u001B[0m \u001B[0mfuture\u001B[0m\u001B[0;34m\u001B[0m\u001B[0;34m\u001B[0m\u001B[0m\n",
      "\u001B[0;31mException\u001B[0m: The wandb backend process has shutdown"
     ]
    }
   ],
   "source": [
    "# Mark the run as finished\n",
    "wandb.finish()"
   ]
  },
  {
   "cell_type": "code",
   "execution_count": 25,
   "metadata": {},
   "outputs": [],
   "source": [
    "torch.save(model.state_dict(), f'./VGG_CoverNet_e5.pth')"
   ]
  },
  {
   "cell_type": "markdown",
   "metadata": {},
   "source": [
    "### Calculate metrics on train data"
   ]
  },
  {
   "cell_type": "markdown",
   "metadata": {},
   "source": [
    "Or load trained model"
   ]
  },
  {
   "cell_type": "code",
   "execution_count": 30,
   "metadata": {},
   "outputs": [],
   "source": [
    "MODELS_FOLDER = './Models/expirement_2/'"
   ]
  },
  {
   "cell_type": "code",
   "execution_count": 31,
   "metadata": {},
   "outputs": [
    {
     "data": {
      "text/plain": [
       "<All keys matched successfully>"
      ]
     },
     "execution_count": 31,
     "metadata": {},
     "output_type": "execute_result"
    }
   ],
   "source": [
    "model.load_state_dict(torch.load(f'{MODELS_FOLDER}VGG_CoverNet_e12_1.29.pth'))"
   ]
  },
  {
   "cell_type": "code",
   "execution_count": 32,
   "metadata": {},
   "outputs": [
    {
     "data": {
      "text/plain": [
       "CoverNet(\n",
       "  (backbone): RepVGGBackbone(\n",
       "    (backbone): RepVGG(\n",
       "      (stage0): RepVGGBlock(\n",
       "        (nonlinearity): ReLU()\n",
       "        (se): Identity()\n",
       "        (rbr_reparam): Conv2d(3, 48, kernel_size=(3, 3), stride=(2, 2), padding=(1, 1))\n",
       "      )\n",
       "      (stage1): Sequential(\n",
       "        (0): RepVGGBlock(\n",
       "          (nonlinearity): ReLU()\n",
       "          (se): Identity()\n",
       "          (rbr_reparam): Conv2d(48, 48, kernel_size=(3, 3), stride=(2, 2), padding=(1, 1))\n",
       "        )\n",
       "        (1): RepVGGBlock(\n",
       "          (nonlinearity): ReLU()\n",
       "          (se): Identity()\n",
       "          (rbr_reparam): Conv2d(48, 48, kernel_size=(3, 3), stride=(1, 1), padding=(1, 1))\n",
       "        )\n",
       "      )\n",
       "      (stage2): Sequential(\n",
       "        (0): RepVGGBlock(\n",
       "          (nonlinearity): ReLU()\n",
       "          (se): Identity()\n",
       "          (rbr_reparam): Conv2d(48, 96, kernel_size=(3, 3), stride=(2, 2), padding=(1, 1))\n",
       "        )\n",
       "        (1): RepVGGBlock(\n",
       "          (nonlinearity): ReLU()\n",
       "          (se): Identity()\n",
       "          (rbr_reparam): Conv2d(96, 96, kernel_size=(3, 3), stride=(1, 1), padding=(1, 1))\n",
       "        )\n",
       "        (2): RepVGGBlock(\n",
       "          (nonlinearity): ReLU()\n",
       "          (se): Identity()\n",
       "          (rbr_reparam): Conv2d(96, 96, kernel_size=(3, 3), stride=(1, 1), padding=(1, 1))\n",
       "        )\n",
       "        (3): RepVGGBlock(\n",
       "          (nonlinearity): ReLU()\n",
       "          (se): Identity()\n",
       "          (rbr_reparam): Conv2d(96, 96, kernel_size=(3, 3), stride=(1, 1), padding=(1, 1))\n",
       "        )\n",
       "      )\n",
       "      (stage3): Sequential(\n",
       "        (0): RepVGGBlock(\n",
       "          (nonlinearity): ReLU()\n",
       "          (se): Identity()\n",
       "          (rbr_reparam): Conv2d(96, 192, kernel_size=(3, 3), stride=(2, 2), padding=(1, 1))\n",
       "        )\n",
       "        (1): RepVGGBlock(\n",
       "          (nonlinearity): ReLU()\n",
       "          (se): Identity()\n",
       "          (rbr_reparam): Conv2d(192, 192, kernel_size=(3, 3), stride=(1, 1), padding=(1, 1))\n",
       "        )\n",
       "        (2): RepVGGBlock(\n",
       "          (nonlinearity): ReLU()\n",
       "          (se): Identity()\n",
       "          (rbr_reparam): Conv2d(192, 192, kernel_size=(3, 3), stride=(1, 1), padding=(1, 1))\n",
       "        )\n",
       "        (3): RepVGGBlock(\n",
       "          (nonlinearity): ReLU()\n",
       "          (se): Identity()\n",
       "          (rbr_reparam): Conv2d(192, 192, kernel_size=(3, 3), stride=(1, 1), padding=(1, 1))\n",
       "        )\n",
       "        (4): RepVGGBlock(\n",
       "          (nonlinearity): ReLU()\n",
       "          (se): Identity()\n",
       "          (rbr_reparam): Conv2d(192, 192, kernel_size=(3, 3), stride=(1, 1), padding=(1, 1))\n",
       "        )\n",
       "        (5): RepVGGBlock(\n",
       "          (nonlinearity): ReLU()\n",
       "          (se): Identity()\n",
       "          (rbr_reparam): Conv2d(192, 192, kernel_size=(3, 3), stride=(1, 1), padding=(1, 1))\n",
       "        )\n",
       "        (6): RepVGGBlock(\n",
       "          (nonlinearity): ReLU()\n",
       "          (se): Identity()\n",
       "          (rbr_reparam): Conv2d(192, 192, kernel_size=(3, 3), stride=(1, 1), padding=(1, 1))\n",
       "        )\n",
       "        (7): RepVGGBlock(\n",
       "          (nonlinearity): ReLU()\n",
       "          (se): Identity()\n",
       "          (rbr_reparam): Conv2d(192, 192, kernel_size=(3, 3), stride=(1, 1), padding=(1, 1))\n",
       "        )\n",
       "        (8): RepVGGBlock(\n",
       "          (nonlinearity): ReLU()\n",
       "          (se): Identity()\n",
       "          (rbr_reparam): Conv2d(192, 192, kernel_size=(3, 3), stride=(1, 1), padding=(1, 1))\n",
       "        )\n",
       "        (9): RepVGGBlock(\n",
       "          (nonlinearity): ReLU()\n",
       "          (se): Identity()\n",
       "          (rbr_reparam): Conv2d(192, 192, kernel_size=(3, 3), stride=(1, 1), padding=(1, 1))\n",
       "        )\n",
       "        (10): RepVGGBlock(\n",
       "          (nonlinearity): ReLU()\n",
       "          (se): Identity()\n",
       "          (rbr_reparam): Conv2d(192, 192, kernel_size=(3, 3), stride=(1, 1), padding=(1, 1))\n",
       "        )\n",
       "        (11): RepVGGBlock(\n",
       "          (nonlinearity): ReLU()\n",
       "          (se): Identity()\n",
       "          (rbr_reparam): Conv2d(192, 192, kernel_size=(3, 3), stride=(1, 1), padding=(1, 1))\n",
       "        )\n",
       "        (12): RepVGGBlock(\n",
       "          (nonlinearity): ReLU()\n",
       "          (se): Identity()\n",
       "          (rbr_reparam): Conv2d(192, 192, kernel_size=(3, 3), stride=(1, 1), padding=(1, 1))\n",
       "        )\n",
       "        (13): RepVGGBlock(\n",
       "          (nonlinearity): ReLU()\n",
       "          (se): Identity()\n",
       "          (rbr_reparam): Conv2d(192, 192, kernel_size=(3, 3), stride=(1, 1), padding=(1, 1))\n",
       "        )\n",
       "      )\n",
       "      (stage4): Sequential(\n",
       "        (0): RepVGGBlock(\n",
       "          (nonlinearity): ReLU()\n",
       "          (se): Identity()\n",
       "          (rbr_reparam): Conv2d(192, 1280, kernel_size=(3, 3), stride=(2, 2), padding=(1, 1))\n",
       "        )\n",
       "      )\n",
       "      (gap): AdaptiveAvgPool2d(output_size=1)\n",
       "      (linear): Linear(in_features=1280, out_features=1000, bias=True)\n",
       "    )\n",
       "    (linear): Linear(in_features=1280, out_features=2048, bias=True)\n",
       "  )\n",
       "  (head): ModuleList(\n",
       "    (0): Linear(in_features=1003, out_features=4096, bias=True)\n",
       "    (1): Linear(in_features=4096, out_features=2206, bias=True)\n",
       "  )\n",
       ")"
      ]
     },
     "execution_count": 32,
     "metadata": {},
     "output_type": "execute_result"
    }
   ],
   "source": [
    "for module in model.modules():\n",
    "    if hasattr(module, 'switch_to_deploy'):\n",
    "        module.switch_to_deploy()\n",
    "\n",
    "model.eval()"
   ]
  },
  {
   "cell_type": "markdown",
   "metadata": {},
   "source": [
    "Load test samples from build-in dataset"
   ]
  },
  {
   "cell_type": "code",
   "execution_count": 8,
   "metadata": {},
   "outputs": [],
   "source": [
    "from nuscenes import NuScenes\n",
    "from nuscenes.prediction import PredictHelper\n",
    "from nuscenes.eval.prediction.splits import get_prediction_challenge_split\n",
    "\n",
    "# This is the path where you stored your copy of the nuScenes dataset.\n",
    "DATAROOT = 'Dataset/'\n",
    "\n",
    "history_length = 2\n",
    "prediction_length = 6\n",
    "\n",
    "# Use v1.0-trainval or v1.0-mini\n",
    "nusc = NuScenes('v1.0-trainval', dataroot=DATAROOT, verbose=False)\n",
    "helper = PredictHelper(nusc)"
   ]
  },
  {
   "cell_type": "code",
   "execution_count": 9,
   "metadata": {},
   "outputs": [],
   "source": [
    "test = get_prediction_challenge_split(\"val\", dataroot=DATAROOT)\n",
    "test = test[:5000]"
   ]
  },
  {
   "cell_type": "markdown",
   "metadata": {},
   "source": [
    "Load test samples from custom dataset"
   ]
  },
  {
   "cell_type": "code",
   "execution_count": 45,
   "metadata": {},
   "outputs": [],
   "source": [
    "TEST_SAMPLES_PATH = './CustomDataSplit/test_samples.json'"
   ]
  },
  {
   "cell_type": "code",
   "execution_count": 46,
   "metadata": {},
   "outputs": [
    {
     "data": {
      "text/plain": [
       "6200"
      ]
     },
     "execution_count": 46,
     "metadata": {},
     "output_type": "execute_result"
    }
   ],
   "source": [
    "test_samples = json_loader(VALIDATION_SAMPLES_PATH)    \n",
    "len(test_samples)"
   ]
  },
  {
   "cell_type": "code",
   "execution_count": 47,
   "metadata": {},
   "outputs": [],
   "source": [
    "import numpy as np\n",
    "\n",
    "test_features = np.load(f'{NPY_DATASET_PATH}multiagent_test_features_6k.npy')\n",
    "test_states = np.load(f'{NPY_DATASET_PATH}multiagent_test_states_6k.npy')\n",
    "test_labels = np.load(f'{NPY_DATASET_PATH}multiagent_test_labels_6k.npy')"
   ]
  },
  {
   "cell_type": "code",
   "execution_count": 48,
   "metadata": {},
   "outputs": [],
   "source": [
    "test_samples = test_samples[6000:6200]\n",
    "test_features = test_features[6000:6200]\n",
    "test_states = test_states[6000:6200]\n",
    "test_labels = test_labels[6000:6200]"
   ]
  },
  {
   "cell_type": "code",
   "execution_count": 49,
   "metadata": {},
   "outputs": [
    {
     "data": {
      "text/plain": [
       "(200, 200, 200, 200)"
      ]
     },
     "execution_count": 49,
     "metadata": {},
     "output_type": "execute_result"
    }
   ],
   "source": [
    "len(test_samples), len(test_features), len(test_states), len(test_labels)"
   ]
  },
  {
   "cell_type": "code",
   "execution_count": 50,
   "metadata": {},
   "outputs": [
    {
     "name": "stderr",
     "output_type": "stream",
     "text": [
      "100%|██████████| 200/200 [00:03<00:00, 50.45it/s]\n"
     ]
    },
    {
     "data": {
      "text/plain": [
       "defaultdict(dict,\n",
       "            {'MinFDEK': {'RowMean': [13.194695566329417]},\n",
       "             'MinADEK': {'RowMean': [3.7480546542179907, 2.76568557888486]},\n",
       "             'MissRateTopK_2': {'RowMean': [0.875, 0.8]}})"
      ]
     },
     "execution_count": 50,
     "metadata": {},
     "output_type": "execute_result"
    }
   ],
   "source": [
    "metricsRes = GetMetrics(model, test_samples, test_features, test_states, test_labels)\n",
    "metricsRes"
   ]
  },
  {
   "cell_type": "code",
   "execution_count": null,
   "metadata": {},
   "outputs": [],
   "source": []
  }
 ],
 "metadata": {
  "kernelspec": {
   "display_name": "Python 3",
   "language": "python",
   "name": "python3"
  },
  "language_info": {
   "codemirror_mode": {
    "name": "ipython",
    "version": 3
   },
   "file_extension": ".py",
   "mimetype": "text/x-python",
   "name": "python",
   "nbconvert_exporter": "python",
   "pygments_lexer": "ipython3",
   "version": "3.7.10"
  }
 },
 "nbformat": 4,
 "nbformat_minor": 1
}