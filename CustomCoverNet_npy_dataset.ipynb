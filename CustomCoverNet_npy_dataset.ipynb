{
 "cells": [
  {
   "cell_type": "markdown",
   "metadata": {},
   "source": [
    "Pytorch install"
   ]
  },
  {
   "cell_type": "code",
   "execution_count": 1,
   "metadata": {},
   "outputs": [
    {
     "name": "stdout",
     "output_type": "stream",
     "text": [
      "Looking in links: https://download.pytorch.org/whl/torch_stable.html\n",
      "Collecting torch==1.9.0+cu111\n",
      "  Downloading https://download.pytorch.org/whl/cu111/torch-1.9.0%2Bcu111-cp36-cp36m-linux_x86_64.whl (2041.3 MB)\n",
      "\u001b[K     |████████████████████████████████| 2041.3 MB 10 kB/s s eta 0:00:01   |█                               | 68.5 MB 41.2 MB/s eta 0:00:48     |█▍                              | 86.9 MB 18.0 MB/s eta 0:01:49     |█▉                              | 113.8 MB 21.9 MB/s eta 0:01:28     |█▉                              | 115.1 MB 21.9 MB/s eta 0:01:28     |█▉                              | 117.7 MB 21.9 MB/s eta 0:01:28     |███                             | 190.0 MB 64.1 MB/s eta 0:00:29     |███▉                            | 244.9 MB 27.5 MB/s eta 0:01:06     |████                            | 253.2 MB 27.5 MB/s eta 0:01:05MB/s eta 0:01:21     |████▊                           | 299.9 MB 21.7 MB/s eta 0:01:21     |█████▍                          | 343.8 MB 38.0 MB/s eta 0:00:45     |██████▋                         | 420.5 MB 24.3 MB/s eta 0:01:07     |█████████                       | 574.5 MB 18.5 MB/s eta 0:01:20     |█████████▍                      | 598.2 MB 32.3 MB/s eta 0:00:45     |██████████                      | 637.5 MB 2.9 MB/s eta 0:08:07     |██████████                      | 641.9 MB 2.9 MB/s eta 0:08:05     |██████████▋                     | 677.6 MB 24.8 MB/s eta 0:00:55     |█████████████▎                  | 847.6 MB 29.9 MB/s eta 0:00:40        | 862.6 MB 26.5 MB/s eta 0:00:45     |█████████████▋                  | 868.4 MB 26.5 MB/s eta 0:00:45     |██████████████▌                 | 923.3 MB 15.9 MB/s eta 0:01:11     |███████████████                 | 962.2 MB 21.4 MB/s eta 0:00:51     |███████████████                 | 963.9 MB 3.4 MB/s eta 0:05:13     |███████████████▏                | 971.0 MB 3.4 MB/s eta 0:05:11     |███████████████▎                | 973.7 MB 3.4 MB/s eta 0:05:10     |███████████████▎                | 975.4 MB 3.4 MB/s eta 0:05:10     |████████████████▎               | 1040.7 MB 19.4 MB/s eta 0:00:52��██████▍               | 1045.2 MB 22.1 MB/s eta 0:00:46     |████████████████▋               | 1059.9 MB 22.1 MB/s eta 0:00:45     |█████████████████               | 1081.8 MB 29.1 MB/s eta 0:00:33     |█████████████████               | 1088.6 MB 29.1 MB/s eta 0:00:33��███████               | 1090.0 MB 29.1 MB/s eta 0:00:33     |██████████████████              | 1147.2 MB 28.3 MB/s eta 0:00:32     |██████████████████▏             | 1161.6 MB 28.3 MB/s eta 0:00:32     |███████████████████▎            | 1229.2 MB 8.8 MB/s eta 0:01:32     |████████████████████▊           | 1324.4 MB 19.8 MB/s eta 0:00:37��████████████████████           | 1346.4 MB 24.1 MB/s eta 0:00:29B 24.1 MB/s eta 0:00:29B 14.1 MB/s eta 0:00:48     |██████████████████████          | 1410.4 MB 10.9 MB/s eta 0:00:58     |██████████████████████▎         | 1419.9 MB 18.1 MB/s eta 0:00:35��███████████████▍        | 1489.3 MB 25.8 MB/s eta 0:00:22     |████████████████████████▎       | 1546.5 MB 24.5 MB/s eta 0:00:21     |████████████████████████▎       | 1548.0 MB 24.5 MB/s eta 0:00:21     |████████████████████████▉       | 1585.8 MB 24.0 MB/s eta 0:00:19     |█████████████████████████       | 1596.9 MB 16.6 MB/s eta 0:00:27     |█████████████████████████▋      | 1634.4 MB 20.2 MB/s eta 0:00:21     |█████████████████████████▊      | 1641.6 MB 20.2 MB/s eta 0:00:20     |█████████████████████████▉      | 1645.6 MB 20.5 MB/s eta 0:00:20     |██████████████████████████▌     | 1693.7 MB 7.4 MB/s eta 0:00:48     |███████████████████████████▊    | 1767.1 MB 9.9 MB/s eta 0:00:28     |████████████████████████████▌   | 1818.8 MB 21.5 MB/s eta 0:00:11     |█████████████████████████████   | 1843.4 MB 4.7 MB/s eta 0:00:43     |█████████████████████████████▏  | 1857.6 MB 19.0 MB/s eta 0:00:10     |█████████████████████████████▌  | 1882.9 MB 4.6 MB/s eta 0:00:35     |█████████████████████████████▋  | 1888.8 MB 4.6 MB/s eta 0:00:34██████▏ | 1925.3 MB 22.8 MB/s eta 0:00:068.1 MB 21.3 MB/s eta 0:00:05     |██████████████████████████████▋ | 1953.7 MB 21.3 MB/s eta 0:00:05     |██████████████████████████████▊ | 1958.8 MB 21.3 MB/s eta 0:00:04     |██████████████████████████████▊ | 1961.1 MB 21.3 MB/s eta 0:00:04     |███████████████████████████████ | 1972.6 MB 23.2 MB/s eta 0:00:03\n",
      "\u001b[?25hCollecting torchvision==0.10.0+cu111\n",
      "  Downloading https://download.pytorch.org/whl/cu111/torchvision-0.10.0%2Bcu111-cp36-cp36m-linux_x86_64.whl (23.2 MB)\n",
      "\u001b[K     |████████████████████████████████| 23.2 MB 110 kB/s  eta 0:00:01     |█████████████████████▌          | 15.6 MB 39.8 MB/s eta 0:00:01\n",
      "\u001b[?25hCollecting torchaudio===0.9.0\n",
      "  Downloading torchaudio-0.9.0-cp36-cp36m-manylinux1_x86_64.whl (1.9 MB)\n",
      "\u001b[K     |████████████████████████████████| 1.9 MB 9.3 MB/s eta 0:00:01\n",
      "\u001b[?25hRequirement already satisfied: dataclasses; python_version < \"3.7\" in /usr/local/lib/python3.6/dist-packages (from torch==1.9.0+cu111) (0.8)\n",
      "Requirement already satisfied: typing-extensions in /usr/local/lib/python3.6/dist-packages (from torch==1.9.0+cu111) (3.7.4.3)\n",
      "Collecting pillow>=5.3.0\n",
      "  Downloading Pillow-8.2.0-cp36-cp36m-manylinux1_x86_64.whl (3.0 MB)\n",
      "\u001b[K     |████████████████████████████████| 3.0 MB 46.5 MB/s eta 0:00:01\n",
      "\u001b[?25hRequirement already satisfied: numpy in /usr/local/lib/python3.6/dist-packages (from torchvision==0.10.0+cu111) (1.19.5)\n",
      "Installing collected packages: torch, pillow, torchvision, torchaudio\n",
      "Successfully installed pillow-8.2.0 torch-1.9.0+cu111 torchaudio-0.9.0 torchvision-0.10.0+cu111\n",
      "\u001b[33mWARNING: You are using pip version 20.2.4; however, version 21.1.3 is available.\n",
      "You should consider upgrading via the '/usr/bin/python3 -m pip install --upgrade pip' command.\u001b[0m\n"
     ]
    }
   ],
   "source": [
    "!pip3 install torch==1.9.0+cu111 torchvision==0.10.0+cu111 torchaudio===0.9.0 -f https://download.pytorch.org/whl/torch_stable.html"
   ]
  },
  {
   "cell_type": "code",
   "execution_count": 20,
   "metadata": {},
   "outputs": [
    {
     "name": "stdout",
     "output_type": "stream",
     "text": [
      "Collecting nuscenes-devkit\n",
      "  Downloading nuscenes_devkit-1.1.5-py3-none-any.whl (283 kB)\n",
      "\u001b[K     |████████████████████████████████| 283 kB 11.3 MB/s eta 0:00:01\n",
      "\u001b[?25hCollecting matplotlib\n",
      "  Downloading matplotlib-3.3.4-cp36-cp36m-manylinux1_x86_64.whl (11.5 MB)\n",
      "\u001b[K     |████████████████████████████████| 11.5 MB 13.2 MB/s eta 0:00:01    |███▍                            | 1.2 MB 13.2 MB/s eta 0:00:016.3 MB 13.2 MB/s eta 0:00:01\n",
      "\u001b[?25hCollecting opencv-python\n",
      "  Downloading opencv_python-4.5.2.54-cp36-cp36m-manylinux2014_x86_64.whl (51.0 MB)\n",
      "\u001b[K     |████████████████████████████████| 51.0 MB 24.9 MB/s eta 0:00:01                   | 7.6 MB 24.9 MB/s eta 0:00:02     |███████▎                        | 11.6 MB 24.9 MB/s eta 0:00:02████████████████████▎       | 38.7 MB 24.9 MB/s eta 0:00:01  |███████████████████████████▏    | 43.4 MB 24.9 MB/s eta 0:00:01████████████████████████▍  | 46.8 MB 24.9 MB/s eta 0:00:01\n",
      "\u001b[?25hCollecting tqdm\n",
      "  Downloading tqdm-4.61.1-py2.py3-none-any.whl (75 kB)\n",
      "\u001b[K     |████████████████████████████████| 75 kB 4.5 MB/s  eta 0:00:01\n",
      "\u001b[?25hRequirement already satisfied: cachetools in /usr/local/lib/python3.6/dist-packages (from nuscenes-devkit) (4.2.2)\n",
      "Collecting pyquaternion>=0.9.5\n",
      "  Downloading pyquaternion-0.9.9-py3-none-any.whl (14 kB)\n",
      "Collecting descartes\n",
      "  Downloading descartes-1.1.0-py3-none-any.whl (5.8 kB)\n",
      "Collecting scikit-learn\n",
      "  Downloading scikit_learn-0.24.2-cp36-cp36m-manylinux2010_x86_64.whl (22.2 MB)\n",
      "\u001b[K     |████████████████████████████████| 22.2 MB 977 kB/s eta 0:00:01\n",
      "\u001b[?25hCollecting fire\n",
      "  Downloading fire-0.4.0.tar.gz (87 kB)\n",
      "\u001b[K     |████████████████████████████████| 87 kB 16.7 MB/s  eta 0:00:01\n",
      "\u001b[?25hCollecting Shapely\n",
      "  Downloading Shapely-1.7.1-cp36-cp36m-manylinux1_x86_64.whl (1.0 MB)\n",
      "\u001b[K     |████████████████████████████████| 1.0 MB 82.5 MB/s eta 0:00:01\n",
      "\u001b[?25hCollecting pycocotools>=2.0.1\n",
      "  Downloading pycocotools-2.0.2.tar.gz (23 kB)\n",
      "Requirement already satisfied: Pillow>6.2.1 in /usr/local/lib/python3.6/dist-packages (from nuscenes-devkit) (8.2.0)\n",
      "Requirement already satisfied: numpy in /usr/local/lib/python3.6/dist-packages (from nuscenes-devkit) (1.19.5)\n",
      "Requirement already satisfied: jupyter in /usr/local/lib/python3.6/dist-packages (from nuscenes-devkit) (1.0.0)\n",
      "Collecting scipy\n",
      "  Downloading scipy-1.5.4-cp36-cp36m-manylinux1_x86_64.whl (25.9 MB)\n",
      "\u001b[K     |████████████████████████████████| 25.9 MB 873 kB/s eta 0:00:01\n",
      "\u001b[?25hCollecting cycler>=0.10\n",
      "  Downloading cycler-0.10.0-py2.py3-none-any.whl (6.5 kB)\n",
      "Requirement already satisfied: python-dateutil>=2.1 in /usr/local/lib/python3.6/dist-packages (from matplotlib->nuscenes-devkit) (2.8.1)\n",
      "Collecting kiwisolver>=1.0.1\n",
      "  Downloading kiwisolver-1.3.1-cp36-cp36m-manylinux1_x86_64.whl (1.1 MB)\n",
      "\u001b[K     |████████████████████████████████| 1.1 MB 34.4 MB/s eta 0:00:01\n",
      "\u001b[?25hRequirement already satisfied: pyparsing!=2.0.4,!=2.1.2,!=2.1.6,>=2.0.3 in /usr/local/lib/python3.6/dist-packages (from matplotlib->nuscenes-devkit) (2.4.7)\n",
      "Collecting threadpoolctl>=2.0.0\n",
      "  Downloading threadpoolctl-2.1.0-py3-none-any.whl (12 kB)\n",
      "Collecting joblib>=0.11\n",
      "  Downloading joblib-1.0.1-py3-none-any.whl (303 kB)\n",
      "\u001b[K     |████████████████████████████████| 303 kB 90.3 MB/s eta 0:00:01\n",
      "\u001b[?25hRequirement already satisfied: six in /usr/local/lib/python3.6/dist-packages (from fire->nuscenes-devkit) (1.15.0)\n",
      "Requirement already satisfied: termcolor in /usr/local/lib/python3.6/dist-packages (from fire->nuscenes-devkit) (1.1.0)\n",
      "Requirement already satisfied: setuptools>=18.0 in /usr/local/lib/python3.6/dist-packages (from pycocotools>=2.0.1->nuscenes-devkit) (56.2.0)\n",
      "Collecting cython>=0.27.3\n",
      "  Using cached Cython-0.29.23-cp36-cp36m-manylinux1_x86_64.whl (2.0 MB)\n",
      "Requirement already satisfied: ipywidgets in /usr/local/lib/python3.6/dist-packages (from jupyter->nuscenes-devkit) (7.6.3)\n",
      "Requirement already satisfied: notebook in /usr/local/lib/python3.6/dist-packages (from jupyter->nuscenes-devkit) (6.4.0)\n",
      "Requirement already satisfied: nbconvert in /usr/local/lib/python3.6/dist-packages (from jupyter->nuscenes-devkit) (6.0.7)\n",
      "Requirement already satisfied: qtconsole in /usr/local/lib/python3.6/dist-packages (from jupyter->nuscenes-devkit) (5.1.0)\n",
      "Requirement already satisfied: ipykernel in /usr/local/lib/python3.6/dist-packages (from jupyter->nuscenes-devkit) (5.5.5)\n",
      "Requirement already satisfied: jupyter-console in /usr/local/lib/python3.6/dist-packages (from jupyter->nuscenes-devkit) (6.4.0)\n",
      "Requirement already satisfied: traitlets>=4.3.1 in /usr/local/lib/python3.6/dist-packages (from ipywidgets->jupyter->nuscenes-devkit) (4.3.3)\n",
      "Requirement already satisfied: jupyterlab-widgets>=1.0.0; python_version >= \"3.6\" in /usr/local/lib/python3.6/dist-packages (from ipywidgets->jupyter->nuscenes-devkit) (1.0.0)\n",
      "Requirement already satisfied: widgetsnbextension~=3.5.0 in /usr/local/lib/python3.6/dist-packages (from ipywidgets->jupyter->nuscenes-devkit) (3.5.1)\n",
      "Requirement already satisfied: nbformat>=4.2.0 in /usr/local/lib/python3.6/dist-packages (from ipywidgets->jupyter->nuscenes-devkit) (5.1.3)\n",
      "Requirement already satisfied: ipython>=4.0.0; python_version >= \"3.3\" in /usr/local/lib/python3.6/dist-packages (from ipywidgets->jupyter->nuscenes-devkit) (7.16.1)\n",
      "Requirement already satisfied: pyzmq>=17 in /usr/local/lib/python3.6/dist-packages (from notebook->jupyter->nuscenes-devkit) (22.0.3)\n",
      "Requirement already satisfied: ipython-genutils in /usr/local/lib/python3.6/dist-packages (from notebook->jupyter->nuscenes-devkit) (0.2.0)\n",
      "Requirement already satisfied: jupyter-core>=4.6.1 in /usr/local/lib/python3.6/dist-packages (from notebook->jupyter->nuscenes-devkit) (4.7.1)\n",
      "Requirement already satisfied: jupyter-client>=5.3.4 in /usr/local/lib/python3.6/dist-packages (from notebook->jupyter->nuscenes-devkit) (6.1.12)\n",
      "Requirement already satisfied: tornado>=6.1 in /usr/local/lib/python3.6/dist-packages (from notebook->jupyter->nuscenes-devkit) (6.1)\n",
      "Requirement already satisfied: Send2Trash>=1.5.0 in /usr/local/lib/python3.6/dist-packages (from notebook->jupyter->nuscenes-devkit) (1.5.0)\n",
      "Requirement already satisfied: prometheus-client in /usr/local/lib/python3.6/dist-packages (from notebook->jupyter->nuscenes-devkit) (0.10.1)\n",
      "Requirement already satisfied: terminado>=0.8.3 in /usr/local/lib/python3.6/dist-packages (from notebook->jupyter->nuscenes-devkit) (0.10.0)\n",
      "Requirement already satisfied: jinja2 in /usr/local/lib/python3.6/dist-packages (from notebook->jupyter->nuscenes-devkit) (3.0.1)\n",
      "Requirement already satisfied: argon2-cffi in /usr/local/lib/python3.6/dist-packages (from notebook->jupyter->nuscenes-devkit) (20.1.0)\n",
      "Requirement already satisfied: testpath in /usr/local/lib/python3.6/dist-packages (from nbconvert->jupyter->nuscenes-devkit) (0.5.0)\n",
      "Requirement already satisfied: defusedxml in /usr/local/lib/python3.6/dist-packages (from nbconvert->jupyter->nuscenes-devkit) (0.7.1)\n",
      "Requirement already satisfied: jupyterlab-pygments in /usr/local/lib/python3.6/dist-packages (from nbconvert->jupyter->nuscenes-devkit) (0.1.2)\n",
      "Requirement already satisfied: entrypoints>=0.2.2 in /usr/local/lib/python3.6/dist-packages (from nbconvert->jupyter->nuscenes-devkit) (0.3)\n",
      "Requirement already satisfied: bleach in /usr/local/lib/python3.6/dist-packages (from nbconvert->jupyter->nuscenes-devkit) (3.3.0)\n",
      "Requirement already satisfied: nbclient<0.6.0,>=0.5.0 in /usr/local/lib/python3.6/dist-packages (from nbconvert->jupyter->nuscenes-devkit) (0.5.3)\n",
      "Requirement already satisfied: pygments>=2.4.1 in /usr/local/lib/python3.6/dist-packages (from nbconvert->jupyter->nuscenes-devkit) (2.9.0)\n",
      "Requirement already satisfied: mistune<2,>=0.8.1 in /usr/local/lib/python3.6/dist-packages (from nbconvert->jupyter->nuscenes-devkit) (0.8.4)\n",
      "Requirement already satisfied: pandocfilters>=1.4.1 in /usr/local/lib/python3.6/dist-packages (from nbconvert->jupyter->nuscenes-devkit) (1.4.3)\n",
      "Requirement already satisfied: qtpy in /usr/local/lib/python3.6/dist-packages (from qtconsole->jupyter->nuscenes-devkit) (1.9.0)\n",
      "Requirement already satisfied: prompt-toolkit!=3.0.0,!=3.0.1,<3.1.0,>=2.0.0 in /usr/local/lib/python3.6/dist-packages (from jupyter-console->jupyter->nuscenes-devkit) (3.0.18)\n",
      "Requirement already satisfied: decorator in /usr/local/lib/python3.6/dist-packages (from traitlets>=4.3.1->ipywidgets->jupyter->nuscenes-devkit) (5.0.9)\n",
      "Requirement already satisfied: jsonschema!=2.5.0,>=2.4 in /usr/local/lib/python3.6/dist-packages (from nbformat>=4.2.0->ipywidgets->jupyter->nuscenes-devkit) (3.2.0)\n",
      "Requirement already satisfied: pexpect; sys_platform != \"win32\" in /usr/local/lib/python3.6/dist-packages (from ipython>=4.0.0; python_version >= \"3.3\"->ipywidgets->jupyter->nuscenes-devkit) (4.8.0)\n",
      "Requirement already satisfied: backcall in /usr/local/lib/python3.6/dist-packages (from ipython>=4.0.0; python_version >= \"3.3\"->ipywidgets->jupyter->nuscenes-devkit) (0.2.0)\n",
      "Requirement already satisfied: jedi>=0.10 in /usr/local/lib/python3.6/dist-packages (from ipython>=4.0.0; python_version >= \"3.3\"->ipywidgets->jupyter->nuscenes-devkit) (0.18.0)\n",
      "Requirement already satisfied: pickleshare in /usr/local/lib/python3.6/dist-packages (from ipython>=4.0.0; python_version >= \"3.3\"->ipywidgets->jupyter->nuscenes-devkit) (0.7.5)\n",
      "Requirement already satisfied: ptyprocess; os_name != \"nt\" in /usr/local/lib/python3.6/dist-packages (from terminado>=0.8.3->notebook->jupyter->nuscenes-devkit) (0.7.0)\n",
      "Requirement already satisfied: MarkupSafe>=2.0 in /usr/local/lib/python3.6/dist-packages (from jinja2->notebook->jupyter->nuscenes-devkit) (2.0.1)\n",
      "Requirement already satisfied: cffi>=1.0.0 in /usr/local/lib/python3.6/dist-packages (from argon2-cffi->notebook->jupyter->nuscenes-devkit) (1.14.5)\n",
      "Requirement already satisfied: webencodings in /usr/local/lib/python3.6/dist-packages (from bleach->nbconvert->jupyter->nuscenes-devkit) (0.5.1)\n",
      "Requirement already satisfied: packaging in /usr/local/lib/python3.6/dist-packages (from bleach->nbconvert->jupyter->nuscenes-devkit) (20.9)\n",
      "Requirement already satisfied: async-generator in /usr/local/lib/python3.6/dist-packages (from nbclient<0.6.0,>=0.5.0->nbconvert->jupyter->nuscenes-devkit) (1.10)\n",
      "Requirement already satisfied: nest-asyncio in /usr/local/lib/python3.6/dist-packages (from nbclient<0.6.0,>=0.5.0->nbconvert->jupyter->nuscenes-devkit) (1.5.1)\n",
      "Requirement already satisfied: wcwidth in /usr/local/lib/python3.6/dist-packages (from prompt-toolkit!=3.0.0,!=3.0.1,<3.1.0,>=2.0.0->jupyter-console->jupyter->nuscenes-devkit) (0.2.5)\n",
      "Requirement already satisfied: importlib-metadata; python_version < \"3.8\" in /usr/local/lib/python3.6/dist-packages (from jsonschema!=2.5.0,>=2.4->nbformat>=4.2.0->ipywidgets->jupyter->nuscenes-devkit) (4.0.1)\n",
      "Requirement already satisfied: attrs>=17.4.0 in /usr/local/lib/python3.6/dist-packages (from jsonschema!=2.5.0,>=2.4->nbformat>=4.2.0->ipywidgets->jupyter->nuscenes-devkit) (21.2.0)\n",
      "Requirement already satisfied: pyrsistent>=0.14.0 in /usr/local/lib/python3.6/dist-packages (from jsonschema!=2.5.0,>=2.4->nbformat>=4.2.0->ipywidgets->jupyter->nuscenes-devkit) (0.17.3)\n",
      "Requirement already satisfied: parso<0.9.0,>=0.8.0 in /usr/local/lib/python3.6/dist-packages (from jedi>=0.10->ipython>=4.0.0; python_version >= \"3.3\"->ipywidgets->jupyter->nuscenes-devkit) (0.8.2)\n",
      "Requirement already satisfied: pycparser in /usr/local/lib/python3.6/dist-packages (from cffi>=1.0.0->argon2-cffi->notebook->jupyter->nuscenes-devkit) (2.20)\n",
      "Requirement already satisfied: zipp>=0.5 in /usr/local/lib/python3.6/dist-packages (from importlib-metadata; python_version < \"3.8\"->jsonschema!=2.5.0,>=2.4->nbformat>=4.2.0->ipywidgets->jupyter->nuscenes-devkit) (3.4.1)\n",
      "Requirement already satisfied: typing-extensions>=3.6.4; python_version < \"3.8\" in /usr/local/lib/python3.6/dist-packages (from importlib-metadata; python_version < \"3.8\"->jsonschema!=2.5.0,>=2.4->nbformat>=4.2.0->ipywidgets->jupyter->nuscenes-devkit) (3.7.4.3)\n",
      "Building wheels for collected packages: fire, pycocotools\n",
      "  Building wheel for fire (setup.py) ... \u001b[?25ldone\n",
      "\u001b[?25h  Created wheel for fire: filename=fire-0.4.0-py2.py3-none-any.whl size=115928 sha256=cea48eca0897ab1297b69e1854843cf31927b7320e0986a396dc0c5af8e6ac1e\n",
      "  Stored in directory: /root/.cache/pip/wheels/a6/12/74/ce0728e3990845862240349a12d7179a262e388ec73938024b\n",
      "  Building wheel for pycocotools (setup.py) ... \u001b[?25ldone\n",
      "\u001b[?25h  Created wheel for pycocotools: filename=pycocotools-2.0.2-cp36-cp36m-linux_x86_64.whl size=265630 sha256=951b4317168ab55f50800e15ec472367a9b923fe17c2a2b86646dc95f218e758\n",
      "  Stored in directory: /root/.cache/pip/wheels/d8/c2/ba/8f5306f921c2e79ad7b09effdfed6bd966cfcf8c6fe55422d6\n",
      "Successfully built fire pycocotools\n",
      "Installing collected packages: cycler, kiwisolver, matplotlib, opencv-python, tqdm, pyquaternion, descartes, threadpoolctl, joblib, scipy, scikit-learn, fire, Shapely, cython, pycocotools, nuscenes-devkit\n",
      "Successfully installed Shapely-1.7.1 cycler-0.10.0 cython-0.29.23 descartes-1.1.0 fire-0.4.0 joblib-1.0.1 kiwisolver-1.3.1 matplotlib-3.3.4 nuscenes-devkit-1.1.5 opencv-python-4.5.2.54 pycocotools-2.0.2 pyquaternion-0.9.9 scikit-learn-0.24.2 scipy-1.5.4 threadpoolctl-2.1.0 tqdm-4.61.1\n",
      "\u001b[33mWARNING: You are using pip version 20.2.4; however, version 21.1.3 is available.\n",
      "You should consider upgrading via the '/usr/bin/python3 -m pip install --upgrade pip' command.\u001b[0m\n"
     ]
    }
   ],
   "source": [
    "!pip install nuscenes-devkit"
   ]
  },
  {
   "cell_type": "code",
   "execution_count": 2,
   "metadata": {},
   "outputs": [
    {
     "name": "stdout",
     "output_type": "stream",
     "text": [
      "True\n",
      "Running on  cuda:0\n",
      "Device count: 1\n"
     ]
    }
   ],
   "source": [
    "import torch\n",
    "\n",
    "print(torch.cuda.is_available())\n",
    "\n",
    "device = torch.device('cuda:0' if torch.cuda.is_available() else 'cpu')\n",
    "print('Running on ', device)\n",
    "print(f\"Device count: {torch.cuda.device_count()}\")"
   ]
  },
  {
   "cell_type": "code",
   "execution_count": 26,
   "metadata": {},
   "outputs": [
    {
     "name": "stdout",
     "output_type": "stream",
     "text": [
      "Hit:1 http://archive.ubuntu.com/ubuntu bionic InRelease\n",
      "Get:2 http://archive.ubuntu.com/ubuntu bionic-updates InRelease [88.7 kB]      \n",
      "Get:3 http://security.ubuntu.com/ubuntu bionic-security InRelease [88.7 kB]    \n",
      "Ign:4 https://developer.download.nvidia.com/compute/cuda/repos/ubuntu1804/x86_64  InRelease\n",
      "Get:5 http://archive.ubuntu.com/ubuntu bionic-backports InRelease [74.6 kB]    \n",
      "Get:6 http://archive.ubuntu.com/ubuntu bionic-updates/main amd64 Packages [2653 kB]\n",
      "Get:7 http://archive.ubuntu.com/ubuntu bionic-updates/restricted amd64 Packages [505 kB]\n",
      "Get:8 http://archive.ubuntu.com/ubuntu bionic-updates/multiverse amd64 Packages [33.5 kB]\n",
      "Get:9 http://archive.ubuntu.com/ubuntu bionic-updates/universe amd64 Packages [2188 kB]\n",
      "Get:10 http://security.ubuntu.com/ubuntu bionic-security/restricted amd64 Packages [473 kB]\n",
      "Ign:11 https://developer.download.nvidia.com/compute/machine-learning/repos/ubuntu1804/x86_64  InRelease\n",
      "Get:12 https://developer.download.nvidia.com/compute/cuda/repos/ubuntu1804/x86_64  Release [697 B]\n",
      "Hit:13 https://developer.download.nvidia.com/compute/machine-learning/repos/ubuntu1804/x86_64  Release\n",
      "Get:14 https://developer.download.nvidia.com/compute/cuda/repos/ubuntu1804/x86_64  Release.gpg [836 B]\n",
      "Get:16 http://security.ubuntu.com/ubuntu bionic-security/main amd64 Packages [2220 kB]\n",
      "Ign:17 https://developer.download.nvidia.com/compute/cuda/repos/ubuntu1804/x86_64  Packages\n",
      "Get:17 https://developer.download.nvidia.com/compute/cuda/repos/ubuntu1804/x86_64  Packages [599 kB]\n",
      "Get:18 http://security.ubuntu.com/ubuntu bionic-security/universe amd64 Packages [1418 kB]\n",
      "Fetched 10.3 MB in 2s (5631 kB/s)                          \n",
      "Reading package lists... Done\n",
      "Reading package lists... Done\n",
      "Building dependency tree       \n",
      "Reading state information... Done\n",
      "The following additional packages will be installed:\n",
      "  libdrm-amdgpu1 libdrm-common libdrm-intel1 libdrm-nouveau2 libdrm-radeon1\n",
      "  libdrm2 libelf1 libgl1 libgl1-mesa-dri libglapi-mesa libglvnd0 libglx-mesa0\n",
      "  libglx0 libllvm10 libpciaccess0 libsensors4 libx11-6 libx11-data libx11-xcb1\n",
      "  libxau6 libxcb-dri2-0 libxcb-dri3-0 libxcb-glx0 libxcb-present0 libxcb-sync1\n",
      "  libxcb1 libxdamage1 libxdmcp6 libxext6 libxfixes3 libxshmfence1 libxxf86vm1\n",
      "Suggested packages:\n",
      "  pciutils lm-sensors\n",
      "The following NEW packages will be installed:\n",
      "  libdrm-amdgpu1 libdrm-common libdrm-intel1 libdrm-nouveau2 libdrm-radeon1\n",
      "  libdrm2 libelf1 libgl1 libgl1-mesa-dri libgl1-mesa-glx libglapi-mesa\n",
      "  libglvnd0 libglx-mesa0 libglx0 libllvm10 libpciaccess0 libsensors4 libx11-6\n",
      "  libx11-data libx11-xcb1 libxau6 libxcb-dri2-0 libxcb-dri3-0 libxcb-glx0\n",
      "  libxcb-present0 libxcb-sync1 libxcb1 libxdamage1 libxdmcp6 libxext6\n",
      "  libxfixes3 libxshmfence1 libxxf86vm1\n",
      "0 upgraded, 33 newly installed, 0 to remove and 21 not upgraded.\n",
      "Need to get 26.2 MB of archives.\n",
      "After this operation, 330 MB of additional disk space will be used.\n",
      "Get:1 http://archive.ubuntu.com/ubuntu bionic-updates/main amd64 libxau6 amd64 1:1.0.8-1ubuntu1 [7556 B]\n",
      "Get:2 http://archive.ubuntu.com/ubuntu bionic/main amd64 libxdmcp6 amd64 1:1.1.2-3 [10.7 kB]\n",
      "Get:3 http://archive.ubuntu.com/ubuntu bionic-updates/main amd64 libxcb1 amd64 1.13-2~ubuntu18.04 [45.5 kB]\n",
      "Get:4 http://archive.ubuntu.com/ubuntu bionic-updates/main amd64 libx11-data all 2:1.6.4-3ubuntu0.4 [114 kB]\n",
      "Get:5 http://archive.ubuntu.com/ubuntu bionic-updates/main amd64 libx11-6 amd64 2:1.6.4-3ubuntu0.4 [572 kB]\n",
      "Get:6 http://archive.ubuntu.com/ubuntu bionic/main amd64 libxext6 amd64 2:1.3.3-1 [29.4 kB]\n",
      "Get:7 http://archive.ubuntu.com/ubuntu bionic/main amd64 libxxf86vm1 amd64 1:1.1.4-1 [10.6 kB]\n",
      "Get:8 http://archive.ubuntu.com/ubuntu bionic-updates/main amd64 libelf1 amd64 0.170-0.4ubuntu0.1 [44.8 kB]\n",
      "Get:9 http://archive.ubuntu.com/ubuntu bionic-updates/main amd64 libdrm-common all 2.4.101-2~18.04.1 [5560 B]\n",
      "Get:10 http://archive.ubuntu.com/ubuntu bionic-updates/main amd64 libdrm2 amd64 2.4.101-2~18.04.1 [32.3 kB]\n",
      "Get:11 http://archive.ubuntu.com/ubuntu bionic-updates/main amd64 libdrm-amdgpu1 amd64 2.4.101-2~18.04.1 [18.2 kB]\n",
      "Get:12 http://archive.ubuntu.com/ubuntu bionic/main amd64 libpciaccess0 amd64 0.14-1 [17.9 kB]\n",
      "Get:13 http://archive.ubuntu.com/ubuntu bionic-updates/main amd64 libdrm-intel1 amd64 2.4.101-2~18.04.1 [60.0 kB]\n",
      "Get:14 http://archive.ubuntu.com/ubuntu bionic-updates/main amd64 libdrm-nouveau2 amd64 2.4.101-2~18.04.1 [16.5 kB]\n",
      "Get:15 http://archive.ubuntu.com/ubuntu bionic-updates/main amd64 libdrm-radeon1 amd64 2.4.101-2~18.04.1 [21.7 kB]\n",
      "Get:16 http://archive.ubuntu.com/ubuntu bionic-updates/main amd64 libglapi-mesa amd64 20.0.8-0ubuntu1~18.04.1 [26.6 kB]\n",
      "Get:17 http://archive.ubuntu.com/ubuntu bionic-updates/main amd64 libllvm10 amd64 1:10.0.0-4ubuntu1~18.04.2 [15.4 MB]\n",
      "Get:18 http://archive.ubuntu.com/ubuntu bionic/main amd64 libsensors4 amd64 1:3.4.0-4 [28.8 kB]\n",
      "Get:19 http://archive.ubuntu.com/ubuntu bionic-updates/main amd64 libgl1-mesa-dri amd64 20.0.8-0ubuntu1~18.04.1 [9333 kB]\n",
      "Get:20 http://archive.ubuntu.com/ubuntu bionic-updates/main amd64 libglvnd0 amd64 1.0.0-2ubuntu2.3 [47.0 kB]\n",
      "Get:21 http://archive.ubuntu.com/ubuntu bionic-updates/main amd64 libx11-xcb1 amd64 2:1.6.4-3ubuntu0.4 [9720 B]\n",
      "Get:22 http://archive.ubuntu.com/ubuntu bionic-updates/main amd64 libxcb-dri2-0 amd64 1.13-2~ubuntu18.04 [6920 B]\n",
      "Get:23 http://archive.ubuntu.com/ubuntu bionic-updates/main amd64 libxcb-dri3-0 amd64 1.13-2~ubuntu18.04 [6568 B]\n",
      "Get:24 http://archive.ubuntu.com/ubuntu bionic-updates/main amd64 libxcb-glx0 amd64 1.13-2~ubuntu18.04 [22.1 kB]\n",
      "Get:25 http://archive.ubuntu.com/ubuntu bionic-updates/main amd64 libxcb-present0 amd64 1.13-2~ubuntu18.04 [5552 B]\n",
      "Get:26 http://archive.ubuntu.com/ubuntu bionic-updates/main amd64 libxcb-sync1 amd64 1.13-2~ubuntu18.04 [8808 B]\n",
      "Get:27 http://archive.ubuntu.com/ubuntu bionic/main amd64 libxdamage1 amd64 1:1.1.4-3 [6934 B]\n",
      "Get:28 http://archive.ubuntu.com/ubuntu bionic/main amd64 libxfixes3 amd64 1:5.0.3-1 [10.8 kB]\n",
      "Get:29 http://archive.ubuntu.com/ubuntu bionic/main amd64 libxshmfence1 amd64 1.3-1 [5028 B]\n",
      "Get:30 http://archive.ubuntu.com/ubuntu bionic-updates/main amd64 libglx-mesa0 amd64 20.0.8-0ubuntu1~18.04.1 [139 kB]\n",
      "Get:31 http://archive.ubuntu.com/ubuntu bionic-updates/main amd64 libglx0 amd64 1.0.0-2ubuntu2.3 [28.1 kB]\n",
      "Get:32 http://archive.ubuntu.com/ubuntu bionic-updates/main amd64 libgl1 amd64 1.0.0-2ubuntu2.3 [86.2 kB]\n",
      "Get:33 http://archive.ubuntu.com/ubuntu bionic-updates/main amd64 libgl1-mesa-glx amd64 20.0.8-0ubuntu1~18.04.1 [5532 B]\n",
      "Fetched 26.2 MB in 1s (25.9 MB/s)          \u001b[0m\u001b[33m\n",
      "debconf: delaying package configuration, since apt-utils is not installed\n",
      "\n",
      "\u001b7\u001b[0;23r\u001b8\u001b[1ASelecting previously unselected package libxau6:amd64.\n",
      "(Reading database ... 17238 files and directories currently installed.)\n",
      "Preparing to unpack .../00-libxau6_1%3a1.0.8-1ubuntu1_amd64.deb ...\n",
      "\u001b7\u001b[24;0f\u001b[42m\u001b[30mProgress: [  0%]\u001b[49m\u001b[39m [..........................................................] \u001b8Unpacking libxau6:amd64 (1:1.0.8-1ubuntu1) ...\n",
      "\u001b7\u001b[24;0f\u001b[42m\u001b[30mProgress: [  1%]\u001b[49m\u001b[39m [..........................................................] \u001b8Selecting previously unselected package libxdmcp6:amd64.\n",
      "Preparing to unpack .../01-libxdmcp6_1%3a1.1.2-3_amd64.deb ...\n",
      "\u001b7\u001b[24;0f\u001b[42m\u001b[30mProgress: [  2%]\u001b[49m\u001b[39m [#.........................................................] \u001b8Unpacking libxdmcp6:amd64 (1:1.1.2-3) ...\n",
      "\u001b7\u001b[24;0f\u001b[42m\u001b[30mProgress: [  3%]\u001b[49m\u001b[39m [#.........................................................] \u001b8Selecting previously unselected package libxcb1:amd64.\n",
      "Preparing to unpack .../02-libxcb1_1.13-2~ubuntu18.04_amd64.deb ...\n",
      "\u001b7\u001b[24;0f\u001b[42m\u001b[30mProgress: [  4%]\u001b[49m\u001b[39m [##........................................................] \u001b8Unpacking libxcb1:amd64 (1.13-2~ubuntu18.04) ...\n",
      "\u001b7\u001b[24;0f\u001b[42m\u001b[30mProgress: [  5%]\u001b[49m\u001b[39m [###.......................................................] \u001b8Selecting previously unselected package libx11-data.\n",
      "Preparing to unpack .../03-libx11-data_2%3a1.6.4-3ubuntu0.4_all.deb ...\n",
      "\u001b7\u001b[24;0f\u001b[42m\u001b[30mProgress: [  6%]\u001b[49m\u001b[39m [###.......................................................] \u001b8Unpacking libx11-data (2:1.6.4-3ubuntu0.4) ...\n",
      "\u001b7\u001b[24;0f\u001b[42m\u001b[30mProgress: [  7%]\u001b[49m\u001b[39m [####......................................................] \u001b8Selecting previously unselected package libx11-6:amd64.\n",
      "Preparing to unpack .../04-libx11-6_2%3a1.6.4-3ubuntu0.4_amd64.deb ...\n",
      "Unpacking libx11-6:amd64 (2:1.6.4-3ubuntu0.4) ...\n",
      "\u001b7\u001b[24;0f\u001b[42m\u001b[30mProgress: [  8%]\u001b[49m\u001b[39m [####......................................................] \u001b8\u001b7\u001b[24;0f\u001b[42m\u001b[30mProgress: [  9%]\u001b[49m\u001b[39m [#####.....................................................] \u001b8Selecting previously unselected package libxext6:amd64.\n",
      "Preparing to unpack .../05-libxext6_2%3a1.3.3-1_amd64.deb ...\n",
      "Unpacking libxext6:amd64 (2:1.3.3-1) ...\n",
      "\u001b7\u001b[24;0f\u001b[42m\u001b[30mProgress: [ 10%]\u001b[49m\u001b[39m [#####.....................................................] \u001b8Selecting previously unselected package libxxf86vm1:amd64.\n",
      "Preparing to unpack .../06-libxxf86vm1_1%3a1.1.4-1_amd64.deb ...\n",
      "Unpacking libxxf86vm1:amd64 (1:1.1.4-1) ...\n",
      "\u001b7\u001b[24;0f\u001b[42m\u001b[30mProgress: [ 11%]\u001b[49m\u001b[39m [######....................................................] \u001b8\u001b7\u001b[24;0f\u001b[42m\u001b[30mProgress: [ 12%]\u001b[49m\u001b[39m [######....................................................] \u001b8Selecting previously unselected package libelf1:amd64.\n",
      "Preparing to unpack .../07-libelf1_0.170-0.4ubuntu0.1_amd64.deb ...\n",
      "\u001b7\u001b[24;0f\u001b[42m\u001b[30mProgress: [ 13%]\u001b[49m\u001b[39m [#######...................................................] \u001b8Unpacking libelf1:amd64 (0.170-0.4ubuntu0.1) ...\n",
      "\u001b7\u001b[24;0f\u001b[42m\u001b[30mProgress: [ 14%]\u001b[49m\u001b[39m [########..................................................] \u001b8Selecting previously unselected package libdrm-common.\n",
      "Preparing to unpack .../08-libdrm-common_2.4.101-2~18.04.1_all.deb ...\n",
      "\u001b7\u001b[24;0f\u001b[42m\u001b[30mProgress: [ 15%]\u001b[49m\u001b[39m [########..................................................] \u001b8Unpacking libdrm-common (2.4.101-2~18.04.1) ...\n",
      "\u001b7\u001b[24;0f\u001b[42m\u001b[30mProgress: [ 16%]\u001b[49m\u001b[39m [#########.................................................] \u001b8Selecting previously unselected package libdrm2:amd64.\n",
      "Preparing to unpack .../09-libdrm2_2.4.101-2~18.04.1_amd64.deb ...\n",
      "Unpacking libdrm2:amd64 (2.4.101-2~18.04.1) ...\n",
      "\u001b7\u001b[24;0f\u001b[42m\u001b[30mProgress: [ 17%]\u001b[49m\u001b[39m [##########................................................] \u001b8\u001b7\u001b[24;0f\u001b[42m\u001b[30mProgress: [ 18%]\u001b[49m\u001b[39m [##########................................................] \u001b8Selecting previously unselected package libdrm-amdgpu1:amd64.\n",
      "Preparing to unpack .../10-libdrm-amdgpu1_2.4.101-2~18.04.1_amd64.deb ...\n",
      "Unpacking libdrm-amdgpu1:amd64 (2.4.101-2~18.04.1) ...\n",
      "\u001b7\u001b[24;0f\u001b[42m\u001b[30mProgress: [ 19%]\u001b[49m\u001b[39m [###########...............................................] \u001b8Selecting previously unselected package libpciaccess0:amd64.\n",
      "Preparing to unpack .../11-libpciaccess0_0.14-1_amd64.deb ...\n",
      "\u001b7\u001b[24;0f\u001b[42m\u001b[30mProgress: [ 20%]\u001b[49m\u001b[39m [###########...............................................] \u001b8Unpacking libpciaccess0:amd64 (0.14-1) ...\n",
      "\u001b7\u001b[24;0f\u001b[42m\u001b[30mProgress: [ 21%]\u001b[49m\u001b[39m [############..............................................] \u001b8Selecting previously unselected package libdrm-intel1:amd64.\n",
      "Preparing to unpack .../12-libdrm-intel1_2.4.101-2~18.04.1_amd64.deb ...\n",
      "\u001b7\u001b[24;0f\u001b[42m\u001b[30mProgress: [ 22%]\u001b[49m\u001b[39m [############..............................................] \u001b8Unpacking libdrm-intel1:amd64 (2.4.101-2~18.04.1) ...\n",
      "\u001b7\u001b[24;0f\u001b[42m\u001b[30mProgress: [ 23%]\u001b[49m\u001b[39m [#############.............................................] \u001b8Selecting previously unselected package libdrm-nouveau2:amd64.\n",
      "Preparing to unpack .../13-libdrm-nouveau2_2.4.101-2~18.04.1_amd64.deb ...\n",
      "\u001b7\u001b[24;0f\u001b[42m\u001b[30mProgress: [ 24%]\u001b[49m\u001b[39m [#############.............................................] \u001b8Unpacking libdrm-nouveau2:amd64 (2.4.101-2~18.04.1) ...\n",
      "\u001b7\u001b[24;0f\u001b[42m\u001b[30mProgress: [ 25%]\u001b[49m\u001b[39m [##############............................................] \u001b8Selecting previously unselected package libdrm-radeon1:amd64.\n",
      "Preparing to unpack .../14-libdrm-radeon1_2.4.101-2~18.04.1_amd64.deb ...\n",
      "Unpacking libdrm-radeon1:amd64 (2.4.101-2~18.04.1) ...\n",
      "\u001b7\u001b[24;0f\u001b[42m\u001b[30mProgress: [ 27%]\u001b[49m\u001b[39m [###############...........................................] \u001b8\u001b7\u001b[24;0f\u001b[42m\u001b[30mProgress: [ 27%]\u001b[49m\u001b[39m [###############...........................................] \u001b8Selecting previously unselected package libglapi-mesa:amd64.\n",
      "Preparing to unpack .../15-libglapi-mesa_20.0.8-0ubuntu1~18.04.1_amd64.deb ...\n",
      "Unpacking libglapi-mesa:amd64 (20.0.8-0ubuntu1~18.04.1) ...\n",
      "\u001b7\u001b[24;0f\u001b[42m\u001b[30mProgress: [ 28%]\u001b[49m\u001b[39m [################..........................................] \u001b8Selecting previously unselected package libllvm10:amd64.\n",
      "Preparing to unpack .../16-libllvm10_1%3a10.0.0-4ubuntu1~18.04.2_amd64.deb ...\n",
      "\u001b7\u001b[24;0f\u001b[42m\u001b[30mProgress: [ 30%]\u001b[49m\u001b[39m [#################.........................................] \u001b8Unpacking libllvm10:amd64 (1:10.0.0-4ubuntu1~18.04.2) ...\n",
      "\u001b7\u001b[24;0f\u001b[42m\u001b[30mProgress: [ 30%]\u001b[49m\u001b[39m [#################.........................................] \u001b8Selecting previously unselected package libsensors4:amd64.\n",
      "Preparing to unpack .../17-libsensors4_1%3a3.4.0-4_amd64.deb ...\n",
      "\u001b7\u001b[24;0f\u001b[42m\u001b[30mProgress: [ 31%]\u001b[49m\u001b[39m [##################........................................] \u001b8Unpacking libsensors4:amd64 (1:3.4.0-4) ...\n",
      "\u001b7\u001b[24;0f\u001b[42m\u001b[30mProgress: [ 33%]\u001b[49m\u001b[39m [##################........................................] \u001b8Selecting previously unselected package libgl1-mesa-dri:amd64.\n",
      "Preparing to unpack .../18-libgl1-mesa-dri_20.0.8-0ubuntu1~18.04.1_amd64.deb ...\n",
      "\u001b7\u001b[24;0f\u001b[42m\u001b[30mProgress: [ 33%]\u001b[49m\u001b[39m [###################.......................................] \u001b8Unpacking libgl1-mesa-dri:amd64 (20.0.8-0ubuntu1~18.04.1) ...\n",
      "\u001b7\u001b[24;0f\u001b[42m\u001b[30mProgress: [ 34%]\u001b[49m\u001b[39m [###################.......................................] \u001b8Selecting previously unselected package libglvnd0:amd64.\n",
      "Preparing to unpack .../19-libglvnd0_1.0.0-2ubuntu2.3_amd64.deb ...\n",
      "Unpacking libglvnd0:amd64 (1.0.0-2ubuntu2.3) ...\n",
      "\u001b7\u001b[24;0f\u001b[42m\u001b[30mProgress: [ 36%]\u001b[49m\u001b[39m [####################......................................] \u001b8\u001b7\u001b[24;0f\u001b[42m\u001b[30mProgress: [ 36%]\u001b[49m\u001b[39m [####################......................................] \u001b8Selecting previously unselected package libx11-xcb1:amd64.\n",
      "Preparing to unpack .../20-libx11-xcb1_2%3a1.6.4-3ubuntu0.4_amd64.deb ...\n",
      "Unpacking libx11-xcb1:amd64 (2:1.6.4-3ubuntu0.4) ...\n",
      "\u001b7\u001b[24;0f\u001b[42m\u001b[30mProgress: [ 37%]\u001b[49m\u001b[39m [#####################.....................................] \u001b8Selecting previously unselected package libxcb-dri2-0:amd64.\n",
      "Preparing to unpack .../21-libxcb-dri2-0_1.13-2~ubuntu18.04_amd64.deb ...\n",
      "\u001b7\u001b[24;0f\u001b[42m\u001b[30mProgress: [ 39%]\u001b[49m\u001b[39m [######################....................................] \u001b8Unpacking libxcb-dri2-0:amd64 (1.13-2~ubuntu18.04) ...\n",
      "\u001b7\u001b[24;0f\u001b[42m\u001b[30mProgress: [ 39%]\u001b[49m\u001b[39m [######################....................................] \u001b8Selecting previously unselected package libxcb-dri3-0:amd64.\n",
      "Preparing to unpack .../22-libxcb-dri3-0_1.13-2~ubuntu18.04_amd64.deb ...\n",
      "\u001b7\u001b[24;0f\u001b[42m\u001b[30mProgress: [ 40%]\u001b[49m\u001b[39m [#######################...................................] \u001b8Unpacking libxcb-dri3-0:amd64 (1.13-2~ubuntu18.04) ...\n",
      "\u001b7\u001b[24;0f\u001b[42m\u001b[30mProgress: [ 42%]\u001b[49m\u001b[39m [########################..................................] \u001b8Selecting previously unselected package libxcb-glx0:amd64.\n",
      "Preparing to unpack .../23-libxcb-glx0_1.13-2~ubuntu18.04_amd64.deb ...\n",
      "\u001b7\u001b[24;0f\u001b[42m\u001b[30mProgress: [ 42%]\u001b[49m\u001b[39m [########################..................................] \u001b8Unpacking libxcb-glx0:amd64 (1.13-2~ubuntu18.04) ...\n",
      "\u001b7\u001b[24;0f\u001b[42m\u001b[30mProgress: [ 43%]\u001b[49m\u001b[39m [#########################.................................] \u001b8Selecting previously unselected package libxcb-present0:amd64.\n",
      "Preparing to unpack .../24-libxcb-present0_1.13-2~ubuntu18.04_amd64.deb ...\n",
      "Unpacking libxcb-present0:amd64 (1.13-2~ubuntu18.04) ...\n",
      "\u001b7\u001b[24;0f\u001b[42m\u001b[30mProgress: [ 45%]\u001b[49m\u001b[39m [#########################.................................] \u001b8\u001b7\u001b[24;0f\u001b[42m\u001b[30mProgress: [ 45%]\u001b[49m\u001b[39m [##########################................................] \u001b8Selecting previously unselected package libxcb-sync1:amd64.\n",
      "Preparing to unpack .../25-libxcb-sync1_1.13-2~ubuntu18.04_amd64.deb ...\n",
      "Unpacking libxcb-sync1:amd64 (1.13-2~ubuntu18.04) ...\n",
      "\u001b7\u001b[24;0f\u001b[42m\u001b[30mProgress: [ 46%]\u001b[49m\u001b[39m [##########################................................] \u001b8Selecting previously unselected package libxdamage1:amd64.\n",
      "Preparing to unpack .../26-libxdamage1_1%3a1.1.4-3_amd64.deb ...\n",
      "\u001b7\u001b[24;0f\u001b[42m\u001b[30mProgress: [ 48%]\u001b[49m\u001b[39m [###########################...............................] \u001b8Unpacking libxdamage1:amd64 (1:1.1.4-3) ...\n",
      "\u001b7\u001b[24;0f\u001b[42m\u001b[30mProgress: [ 48%]\u001b[49m\u001b[39m [###########################...............................] \u001b8Selecting previously unselected package libxfixes3:amd64.\n",
      "Preparing to unpack .../27-libxfixes3_1%3a5.0.3-1_amd64.deb ...\n",
      "\u001b7\u001b[24;0f\u001b[42m\u001b[30mProgress: [ 49%]\u001b[49m\u001b[39m [############################..............................] \u001b8Unpacking libxfixes3:amd64 (1:5.0.3-1) ...\n",
      "\u001b7\u001b[24;0f\u001b[42m\u001b[30mProgress: [ 50%]\u001b[49m\u001b[39m [#############################.............................] \u001b8Selecting previously unselected package libxshmfence1:amd64.\n",
      "Preparing to unpack .../28-libxshmfence1_1.3-1_amd64.deb ...\n",
      "\u001b7\u001b[24;0f\u001b[42m\u001b[30mProgress: [ 51%]\u001b[49m\u001b[39m [#############################.............................] \u001b8Unpacking libxshmfence1:amd64 (1.3-1) ...\n",
      "\u001b7\u001b[24;0f\u001b[42m\u001b[30mProgress: [ 52%]\u001b[49m\u001b[39m [##############################............................] \u001b8Selecting previously unselected package libglx-mesa0:amd64.\n",
      "Preparing to unpack .../29-libglx-mesa0_20.0.8-0ubuntu1~18.04.1_amd64.deb ...\n",
      "\u001b7\u001b[24;0f\u001b[42m\u001b[30mProgress: [ 53%]\u001b[49m\u001b[39m [##############################............................] \u001b8Unpacking libglx-mesa0:amd64 (20.0.8-0ubuntu1~18.04.1) ...\n",
      "\u001b7\u001b[24;0f\u001b[42m\u001b[30mProgress: [ 54%]\u001b[49m\u001b[39m [###############################...........................] \u001b8Selecting previously unselected package libglx0:amd64.\n",
      "Preparing to unpack .../30-libglx0_1.0.0-2ubuntu2.3_amd64.deb ...\n",
      "Unpacking libglx0:amd64 (1.0.0-2ubuntu2.3) ...\n",
      "\u001b7\u001b[24;0f\u001b[42m\u001b[30mProgress: [ 55%]\u001b[49m\u001b[39m [################################..........................] \u001b8\u001b7\u001b[24;0f\u001b[42m\u001b[30mProgress: [ 56%]\u001b[49m\u001b[39m [################################..........................] \u001b8Selecting previously unselected package libgl1:amd64.\n",
      "Preparing to unpack .../31-libgl1_1.0.0-2ubuntu2.3_amd64.deb ...\n",
      "Unpacking libgl1:amd64 (1.0.0-2ubuntu2.3) ...\n",
      "\u001b7\u001b[24;0f\u001b[42m\u001b[30mProgress: [ 57%]\u001b[49m\u001b[39m [#################################.........................] \u001b8Selecting previously unselected package libgl1-mesa-glx:amd64.\n",
      "Preparing to unpack .../32-libgl1-mesa-glx_20.0.8-0ubuntu1~18.04.1_amd64.deb ...\n",
      "\u001b7\u001b[24;0f\u001b[42m\u001b[30mProgress: [ 58%]\u001b[49m\u001b[39m [#################################.........................] \u001b8Unpacking libgl1-mesa-glx:amd64 (20.0.8-0ubuntu1~18.04.1) ...\n",
      "\u001b7\u001b[24;0f\u001b[42m\u001b[30mProgress: [ 59%]\u001b[49m\u001b[39m [##################################........................] \u001b8Setting up libglvnd0:amd64 (1.0.0-2ubuntu2.3) ...\n",
      "\u001b7\u001b[24;0f\u001b[42m\u001b[30mProgress: [ 60%]\u001b[49m\u001b[39m [##################################........................] \u001b8Setting up libllvm10:amd64 (1:10.0.0-4ubuntu1~18.04.2) ...\n",
      "\u001b7\u001b[24;0f\u001b[42m\u001b[30mProgress: [ 61%]\u001b[49m\u001b[39m [###################################.......................] \u001b8\u001b7\u001b[24;0f\u001b[42m\u001b[30mProgress: [ 62%]\u001b[49m\u001b[39m [###################################.......................] \u001b8Setting up libelf1:amd64 (0.170-0.4ubuntu0.1) ...\n",
      "\u001b7\u001b[24;0f\u001b[42m\u001b[30mProgress: [ 63%]\u001b[49m\u001b[39m [####################################......................] \u001b8Setting up libxshmfence1:amd64 (1.3-1) ...\n",
      "\u001b7\u001b[24;0f\u001b[42m\u001b[30mProgress: [ 64%]\u001b[49m\u001b[39m [#####################################.....................] \u001b8Setting up libglapi-mesa:amd64 (20.0.8-0ubuntu1~18.04.1) ...\n",
      "\u001b7\u001b[24;0f\u001b[42m\u001b[30mProgress: [ 65%]\u001b[49m\u001b[39m [#####################################.....................] \u001b8Setting up libdrm-common (2.4.101-2~18.04.1) ...\n",
      "\u001b7\u001b[24;0f\u001b[42m\u001b[30mProgress: [ 66%]\u001b[49m\u001b[39m [######################################....................] \u001b8Setting up libx11-xcb1:amd64 (2:1.6.4-3ubuntu0.4) ...\n",
      "\u001b7\u001b[24;0f\u001b[42m\u001b[30mProgress: [ 67%]\u001b[49m\u001b[39m [#######################################...................] \u001b8\u001b7\u001b[24;0f\u001b[42m\u001b[30mProgress: [ 68%]\u001b[49m\u001b[39m [#######################################...................] \u001b8Setting up libpciaccess0:amd64 (0.14-1) ...\n",
      "\u001b7\u001b[24;0f\u001b[42m\u001b[30mProgress: [ 69%]\u001b[49m\u001b[39m [########################################..................] \u001b8Setting up libsensors4:amd64 (1:3.4.0-4) ...\n",
      "\u001b7\u001b[24;0f\u001b[42m\u001b[30mProgress: [ 70%]\u001b[49m\u001b[39m [########################################..................] \u001b8Setting up libxdmcp6:amd64 (1:1.1.2-3) ...\n",
      "\u001b7\u001b[24;0f\u001b[42m\u001b[30mProgress: [ 71%]\u001b[49m\u001b[39m [#########################################.................] \u001b8Setting up libx11-data (2:1.6.4-3ubuntu0.4) ...\n",
      "\u001b7\u001b[24;0f\u001b[42m\u001b[30mProgress: [ 72%]\u001b[49m\u001b[39m [#########################################.................] \u001b8Setting up libxau6:amd64 (1:1.0.8-1ubuntu1) ...\n",
      "\u001b7\u001b[24;0f\u001b[42m\u001b[30mProgress: [ 73%]\u001b[49m\u001b[39m [##########################################................] \u001b8\u001b7\u001b[24;0f\u001b[42m\u001b[30mProgress: [ 74%]\u001b[49m\u001b[39m [##########################################................] \u001b8Setting up libdrm2:amd64 (2.4.101-2~18.04.1) ...\n",
      "\u001b7\u001b[24;0f\u001b[42m\u001b[30mProgress: [ 75%]\u001b[49m\u001b[39m [###########################################...............] \u001b8Setting up libdrm-intel1:amd64 (2.4.101-2~18.04.1) ...\n",
      "\u001b7\u001b[24;0f\u001b[42m\u001b[30mProgress: [ 77%]\u001b[49m\u001b[39m [############################################..............] \u001b8Setting up libdrm-radeon1:amd64 (2.4.101-2~18.04.1) ...\n",
      "\u001b7\u001b[24;0f\u001b[42m\u001b[30mProgress: [ 77%]\u001b[49m\u001b[39m [############################################..............] \u001b8Setting up libdrm-nouveau2:amd64 (2.4.101-2~18.04.1) ...\n",
      "\u001b7\u001b[24;0f\u001b[42m\u001b[30mProgress: [ 78%]\u001b[49m\u001b[39m [#############################################.............] \u001b8Setting up libxcb1:amd64 (1.13-2~ubuntu18.04) ...\n",
      "\u001b7\u001b[24;0f\u001b[42m\u001b[30mProgress: [ 80%]\u001b[49m\u001b[39m [##############################################............] \u001b8\u001b7\u001b[24;0f\u001b[42m\u001b[30mProgress: [ 80%]\u001b[49m\u001b[39m [##############################################............] \u001b8Setting up libxcb-present0:amd64 (1.13-2~ubuntu18.04) ...\n",
      "\u001b7\u001b[24;0f\u001b[42m\u001b[30mProgress: [ 81%]\u001b[49m\u001b[39m [###############################################...........] \u001b8Setting up libxcb-dri2-0:amd64 (1.13-2~ubuntu18.04) ...\n",
      "\u001b7\u001b[24;0f\u001b[42m\u001b[30mProgress: [ 83%]\u001b[49m\u001b[39m [###############################################...........] \u001b8Setting up libxcb-dri3-0:amd64 (1.13-2~ubuntu18.04) ...\n",
      "\u001b7\u001b[24;0f\u001b[42m\u001b[30mProgress: [ 83%]\u001b[49m\u001b[39m [################################################..........] \u001b8Setting up libxcb-glx0:amd64 (1.13-2~ubuntu18.04) ...\n",
      "\u001b7\u001b[24;0f\u001b[42m\u001b[30mProgress: [ 84%]\u001b[49m\u001b[39m [################################################..........] \u001b8Setting up libdrm-amdgpu1:amd64 (2.4.101-2~18.04.1) ...\n",
      "\u001b7\u001b[24;0f\u001b[42m\u001b[30mProgress: [ 86%]\u001b[49m\u001b[39m [#################################################.........] \u001b8\u001b7\u001b[24;0f\u001b[42m\u001b[30mProgress: [ 86%]\u001b[49m\u001b[39m [#################################################.........] \u001b8Setting up libx11-6:amd64 (2:1.6.4-3ubuntu0.4) ...\n",
      "\u001b7\u001b[24;0f\u001b[42m\u001b[30mProgress: [ 87%]\u001b[49m\u001b[39m [##################################################........] \u001b8Setting up libgl1-mesa-dri:amd64 (20.0.8-0ubuntu1~18.04.1) ...\n",
      "\u001b7\u001b[24;0f\u001b[42m\u001b[30mProgress: [ 89%]\u001b[49m\u001b[39m [###################################################.......] \u001b8Setting up libxcb-sync1:amd64 (1.13-2~ubuntu18.04) ...\n",
      "\u001b7\u001b[24;0f\u001b[42m\u001b[30mProgress: [ 89%]\u001b[49m\u001b[39m [###################################################.......] \u001b8Setting up libxdamage1:amd64 (1:1.1.4-3) ...\n",
      "\u001b7\u001b[24;0f\u001b[42m\u001b[30mProgress: [ 90%]\u001b[49m\u001b[39m [####################################################......] \u001b8Setting up libxext6:amd64 (2:1.3.3-1) ...\n",
      "\u001b7\u001b[24;0f\u001b[42m\u001b[30mProgress: [ 92%]\u001b[49m\u001b[39m [#####################################################.....] \u001b8\u001b7\u001b[24;0f\u001b[42m\u001b[30mProgress: [ 92%]\u001b[49m\u001b[39m [#####################################################.....] \u001b8Setting up libxfixes3:amd64 (1:5.0.3-1) ...\n",
      "\u001b7\u001b[24;0f\u001b[42m\u001b[30mProgress: [ 93%]\u001b[49m\u001b[39m [######################################################....] \u001b8Setting up libxxf86vm1:amd64 (1:1.1.4-1) ...\n",
      "\u001b7\u001b[24;0f\u001b[42m\u001b[30mProgress: [ 95%]\u001b[49m\u001b[39m [######################################################....] \u001b8Setting up libglx-mesa0:amd64 (20.0.8-0ubuntu1~18.04.1) ...\n",
      "\u001b7\u001b[24;0f\u001b[42m\u001b[30mProgress: [ 95%]\u001b[49m\u001b[39m [#######################################################...] \u001b8Setting up libglx0:amd64 (1.0.0-2ubuntu2.3) ...\n",
      "\u001b7\u001b[24;0f\u001b[42m\u001b[30mProgress: [ 96%]\u001b[49m\u001b[39m [#######################################################...] \u001b8Setting up libgl1:amd64 (1.0.0-2ubuntu2.3) ...\n",
      "\u001b7\u001b[24;0f\u001b[42m\u001b[30mProgress: [ 98%]\u001b[49m\u001b[39m [########################################################..] \u001b8\u001b7\u001b[24;0f\u001b[42m\u001b[30mProgress: [ 98%]\u001b[49m\u001b[39m [########################################################..] \u001b8Setting up libgl1-mesa-glx:amd64 (20.0.8-0ubuntu1~18.04.1) ...\r\n",
      "\u001b7\u001b[24;0f\u001b[42m\u001b[30mProgress: [ 99%]\u001b[49m\u001b[39m [#########################################################.] \u001b8Processing triggers for libc-bin (2.27-3ubuntu1.4) ...\r\n",
      "\r\n",
      "\u001b7\u001b[0;24r\u001b8\u001b[1A\u001b[J"
     ]
    }
   ],
   "source": [
    "# Fix error : libGL.so.1: cannot open shared object file: No such file or directory\n",
    "!apt-get update\n",
    "!apt install -y libgl1-mesa-glx"
   ]
  },
  {
   "cell_type": "code",
   "execution_count": 7,
   "metadata": {},
   "outputs": [],
   "source": [
    "import os\n",
    "import zipfile\n",
    "import subprocess\n",
    "\n",
    "CURRENT_PATH = f'{os.getcwd()}/'\n",
    "\n",
    "# data_features_5000.zip\n",
    "# data_validation_features_2000.zip\n",
    "# prediction_trajectory_sets.zip\n",
    "DatasetName = 'data_features_5000.zip'\n",
    "\n",
    "# Another way to unzip dataset\n",
    "\n",
    "pathToZip = f'{CURRENT_PATH}{DatasetName}'\n",
    "pathToOut = CURRENT_PATH\n",
    "unzip = ['unzip', '-o', pathToZip, '-d', pathToOut]\n",
    "p = subprocess.call(unzip)"
   ]
  },
  {
   "cell_type": "code",
   "execution_count": 9,
   "metadata": {},
   "outputs": [],
   "source": [
    "# from nuscenes import NuScenes\n",
    "# from nuscenes.prediction import PredictHelper\n",
    "# from nuscenes.eval.prediction.splits import get_prediction_challenge_split\n",
    "\n",
    "# import matplotlib.pyplot as plt\n",
    "\n",
    "# # This is the path where you stored your copy of the nuScenes dataset.\n",
    "# DATAROOT = 'Dataset/'\n",
    "\n",
    "# history_length = 2\n",
    "# prediction_length = 6\n",
    "\n",
    "# # Use v1.0-trainval or v1.0-mini\n",
    "# nusc = NuScenes('v1.0-trainval', dataroot=DATAROOT, verbose=False)\n",
    "# helper = PredictHelper(nusc)"
   ]
  },
  {
   "cell_type": "code",
   "execution_count": 10,
   "metadata": {
    "pycharm": {
     "name": "#%%\n"
    }
   },
   "outputs": [],
   "source": [
    "# train = get_prediction_challenge_split(\"train\", dataroot=DATAROOT)\n",
    "# validation = get_prediction_challenge_split(\"train_val\", dataroot=DATAROOT)\n",
    "# test = get_prediction_challenge_split(\"val\", dataroot=DATAROOT)\n",
    "\n",
    "# print(f\"Train len: {len(train)}\\nVal len: {len(validation)}\\nTest len: {len(test)}\")"
   ]
  },
  {
   "cell_type": "code",
   "execution_count": 11,
   "metadata": {},
   "outputs": [],
   "source": [
    "# train = train[:5000]\n",
    "# validation = validation[:1000]\n",
    "# test = test[:1000]"
   ]
  },
  {
   "cell_type": "code",
   "execution_count": 9,
   "metadata": {},
   "outputs": [],
   "source": [
    "# CURRENT_PATH = './NpyDataset/'\n",
    "CURRENT_PATH = './'"
   ]
  },
  {
   "cell_type": "code",
   "execution_count": 10,
   "metadata": {},
   "outputs": [],
   "source": [
    "import numpy as np\n",
    "\n",
    "# Npy dataset\n",
    "\n",
    "train_features = np.load(f'{CURRENT_PATH}data_features_5000.npy')\n",
    "train_states = np.load(f'{CURRENT_PATH}data_states_5000.npy')\n",
    "train_labels = np.load(f'{CURRENT_PATH}data_labels_5000.npy')\n",
    "\n",
    "validation_features = torch.load(f'{CURRENT_PATH}data_validation_features_2000.pt')\n",
    "validation_states = np.load(f'{CURRENT_PATH}data_validation_states_2000.npy')\n",
    "validation_labels = np.load(f'{CURRENT_PATH}data_validation_labels_2000.npy')"
   ]
  },
  {
   "cell_type": "code",
   "execution_count": 11,
   "metadata": {},
   "outputs": [],
   "source": [
    "validation_features = validation_features.cpu().numpy()"
   ]
  },
  {
   "cell_type": "code",
   "execution_count": 13,
   "metadata": {
    "pycharm": {
     "name": "#%%\n"
    }
   },
   "outputs": [],
   "source": [
    "import pickle\n",
    "\n",
    "# PATH_TO_EPSILON_8_SET = f\"./Dataset/prediction_trajectory_sets/epsilon_8.pkl\"\n",
    "PATH_TO_EPSILON_8_SET = f\"./prediction_trajectory_sets/epsilon_8.pkl\"\n",
    "\n",
    "trajectories_set_8 = pickle.load(open(PATH_TO_EPSILON_8_SET, 'rb'))\n",
    "trajectories_set_8 = torch.Tensor(trajectories_set_8)"
   ]
  },
  {
   "cell_type": "markdown",
   "metadata": {
    "pycharm": {
     "name": "#%% md\n"
    }
   },
   "source": [
    "Dataset"
   ]
  },
  {
   "cell_type": "code",
   "execution_count": 14,
   "metadata": {
    "pycharm": {
     "name": "#%%\n"
    }
   },
   "outputs": [],
   "source": [
    "from torch.utils.data import DataLoader, Dataset\n",
    "\n",
    "import numpy as np\n",
    "from typing import List\n",
    "\n",
    "class NuscenesDataset(Dataset):\n",
    "    def __init__(self, features: List[str], states: List[str], labels: List[str]):\n",
    "        self.features = features\n",
    "        self.states = states\n",
    "        self.labels = labels\n",
    "\n",
    "    def __len__(self):\n",
    "        return len(self.features)\n",
    "    \n",
    "    def __getitem__(self, index: int):\n",
    "\n",
    "        image = self.features[index].reshape((500, 500, 3))\n",
    "        image = torch.Tensor(image).permute(2, 0, 1)\n",
    "        \n",
    "        agent_state_vector = torch.Tensor(self.states[index])\n",
    "        ground_truth = self.labels[index].reshape((12, 2))\n",
    "\n",
    "        # Convert to [batch_size, 1, 12, 2]\n",
    "        # Because loss function need that format\n",
    "        ground_truth = np.expand_dims(ground_truth, 0)\n",
    "\n",
    "        return image, agent_state_vector, ground_truth"
   ]
  },
  {
   "cell_type": "code",
   "execution_count": 15,
   "metadata": {
    "pycharm": {
     "name": "#%%\n"
    }
   },
   "outputs": [],
   "source": [
    "batch_size = 32\n",
    "\n",
    "train_ds = NuscenesDataset(train_features, train_states, train_labels)\n",
    "train_dl = DataLoader(train_ds, batch_size=batch_size, shuffle=True)\n",
    "\n",
    "train_val_ds = NuscenesDataset(validation_features, validation_states, validation_labels)\n",
    "train_val_dl = DataLoader(train_ds, batch_size=batch_size * 2)"
   ]
  },
  {
   "cell_type": "code",
   "execution_count": 16,
   "metadata": {},
   "outputs": [
    {
     "name": "stdout",
     "output_type": "stream",
     "text": [
      "torch.Size([32, 3, 500, 500])\n",
      "torch.Size([32, 3])\n",
      "torch.Size([32, 1, 12, 2])\n",
      "Preprocessing states:\n",
      "tensor([[ 1.0492e+01,  3.7549e+00, -7.7220e-03],\n",
      "        [ 1.8792e+00, -2.2042e-01, -2.7963e-01],\n",
      "        [ 3.9921e-02,  2.2361e-03,  0.0000e+00],\n",
      "        [ 9.1858e-02, -2.3551e-01,  5.6066e-02],\n",
      "        [ 1.0609e+01,  7.9001e-01,  0.0000e+00],\n",
      "        [ 6.7009e+00, -1.2905e-03, -3.9500e-02],\n",
      "        [ 4.5625e+00, -1.2472e+01,  9.3646e-02],\n",
      "        [ 6.8984e+00, -2.5745e-03,  1.1634e-02],\n",
      "        [ 1.2808e+01, -1.0000e+00,  5.0806e-03],\n",
      "        [ 9.9071e+00, -1.0000e+00, -2.9128e-03],\n",
      "        [ 5.1509e+00,  8.8466e-04,  0.0000e+00],\n",
      "        [ 9.0055e+00,  8.9938e-01,  3.4914e-02],\n",
      "        [ 1.1024e+01,  3.4450e+00,  0.0000e+00],\n",
      "        [ 3.1713e+00, -3.1527e-03,  0.0000e+00],\n",
      "        [ 8.9533e+00,  3.7263e-01,  1.1690e-01],\n",
      "        [ 4.8156e+00, -4.9862e-01, -5.5701e-02],\n",
      "        [ 2.7033e+00,  1.7860e-01, -1.1651e-02],\n",
      "        [ 2.7186e+00,  1.3016e+00,  0.0000e+00],\n",
      "        [ 6.7802e+00, -1.0000e+00,  4.5389e-01],\n",
      "        [ 6.5226e+00, -3.6377e-01,  6.9909e-02],\n",
      "        [ 4.0215e-01,  6.2223e-01,  4.8009e-02],\n",
      "        [ 1.9125e+00,  7.2448e-01, -4.8798e-02],\n",
      "        [ 1.4181e+01,  1.0573e-01,  0.0000e+00],\n",
      "        [ 4.7140e+00,  1.4797e+00,  6.9831e-02],\n",
      "        [ 5.9524e+00, -1.0000e+00, -8.7289e-02],\n",
      "        [ 1.6609e-01, -1.0000e+00,  3.8070e-02],\n",
      "        [ 2.7644e+00, -3.6268e-01, -1.3950e-01],\n",
      "        [ 8.5720e+00,  3.6137e-02,  0.0000e+00],\n",
      "        [ 9.6259e+00, -2.5970e+00,  7.5717e-03],\n",
      "        [ 0.0000e+00,  0.0000e+00,  2.1163e-02],\n",
      "        [ 6.9969e+00, -1.0000e+00,  0.0000e+00],\n",
      "        [ 8.1707e+00,  1.1101e+00, -5.8194e-02]])\n"
     ]
    }
   ],
   "source": [
    "image, state, ground_truth = next(iter(train_dl))\n",
    "print(image.size())\n",
    "print(state.size())\n",
    "print(ground_truth.size())\n",
    "\n",
    "print(\"Preprocessing states:\")\n",
    "print(state)"
   ]
  },
  {
   "cell_type": "code",
   "execution_count": 18,
   "metadata": {
    "pycharm": {
     "name": "#%%\n"
    }
   },
   "outputs": [
    {
     "name": "stderr",
     "output_type": "stream",
     "text": [
      "Downloading: \"https://download.pytorch.org/models/resnext50_32x4d-7cdf4587.pth\" to /root/.cache/torch/hub/checkpoints/resnext50_32x4d-7cdf4587.pth\n",
      "24.5%IOPub message rate exceeded.\n",
      "The notebook server will temporarily stop sending output\n",
      "to the client in order to avoid crashing it.\n",
      "To change this limit, set the config variable\n",
      "`--NotebookApp.iopub_msg_rate_limit`.\n",
      "\n",
      "Current values:\n",
      "NotebookApp.iopub_msg_rate_limit=1000.0 (msgs/sec)\n",
      "NotebookApp.rate_limit_window=3.0 (secs)\n",
      "\n",
      "61.5%IOPub message rate exceeded.\n",
      "The notebook server will temporarily stop sending output\n",
      "to the client in order to avoid crashing it.\n",
      "To change this limit, set the config variable\n",
      "`--NotebookApp.iopub_msg_rate_limit`.\n",
      "\n",
      "Current values:\n",
      "NotebookApp.iopub_msg_rate_limit=1000.0 (msgs/sec)\n",
      "NotebookApp.rate_limit_window=3.0 (secs)\n",
      "\n",
      "100.0%\n"
     ]
    }
   ],
   "source": [
    "#from nuscenes.prediction.models.backbone import ResNetBackbone\n",
    "import torchvision.models as models\n",
    "\n",
    "# Torchvision backbone\n",
    "backbone = models.resnext50_32x4d(pretrained=True)\n",
    "\n",
    "# Build-in backbone\n",
    "#backbone = ResNetBackbone('resnet50')\n",
    "\n",
    "# Set backbone to non-trainable\n",
    "def set_parameter_requires_grad(model):\n",
    "    for param in model.parameters():\n",
    "        param.requires_grad = False\n",
    "        \n",
    "set_parameter_requires_grad(backbone)"
   ]
  },
  {
   "cell_type": "code",
   "execution_count": 27,
   "metadata": {},
   "outputs": [
    {
     "name": "stderr",
     "output_type": "stream",
     "text": [
      "/usr/local/lib/python3.6/dist-packages/torch/nn/functional.py:718: UserWarning: Named tensors and all their associated APIs are an experimental feature and subject to change. Please do not use them for anything important until they are released as stable. (Triggered internally at  /pytorch/c10/core/TensorImpl.h:1156.)\n",
      "  return torch.max_pool2d(input, kernel_size, stride, padding, dilation, ceil_mode)\n"
     ]
    }
   ],
   "source": [
    "from torch.optim import SGD\n",
    "from nuscenes.prediction.models.covernet import CoverNet, ConstantLatticeLoss\n",
    "\n",
    "NUM_MODES = 64\n",
    "\n",
    "model = CoverNet(backbone, num_modes=NUM_MODES)\n",
    "model = model.to(device)\n",
    "\n",
    "loss_function = ConstantLatticeLoss(trajectories_set_8)"
   ]
  },
  {
   "cell_type": "code",
   "execution_count": 28,
   "metadata": {},
   "outputs": [
    {
     "name": "stdout",
     "output_type": "stream",
     "text": [
      "\t head.0.weight\n",
      "\t head.0.bias\n",
      "\t head.1.weight\n",
      "\t head.1.bias\n"
     ]
    }
   ],
   "source": [
    "# Pass to optimizer only params with requires_grad\n",
    "params_to_update = []\n",
    "\n",
    "for name,param in model.named_parameters():\n",
    "    if param.requires_grad == True:\n",
    "        params_to_update.append(param)\n",
    "        print(\"\\t\",name)\n",
    "\n",
    "optimizer = SGD(params_to_update, lr=5e-4, momentum=0.9, weight_decay=5e-4)"
   ]
  },
  {
   "cell_type": "code",
   "execution_count": 31,
   "metadata": {
    "pycharm": {
     "name": "#%%\n"
    }
   },
   "outputs": [],
   "source": [
    "from tqdm import tqdm\n",
    "import copy\n",
    "import time\n",
    "\n",
    "def loss_batch(model, loss_func, img, state_vec, ground_truth, opt=None):\n",
    "    img = img.to(device)\n",
    "    state_vec = state_vec.to(device)\n",
    "    ground_truth = ground_truth.to(device)\n",
    "    \n",
    "    predicted_logits = model(img, state_vec)\n",
    "    loss = loss_func(predicted_logits, ground_truth)\n",
    "\n",
    "    # For validation optimizer is None, thus we dont perform backprop\n",
    "    if opt is not None:\n",
    "        loss.backward()\n",
    "        opt.step()\n",
    "        opt.zero_grad()\n",
    "\n",
    "    # Return losses and amount of items\n",
    "    #print(f\"{loss.item()}; {len(img)}\")\n",
    "    return loss.item(), len(img)\n",
    "\n",
    "\n",
    "def fit(epochs, model, loss_func, opt, train_dl, valid_dl):\n",
    "    best_loss = 999.0\n",
    "    best_model_wts = copy.deepcopy(model.state_dict())\n",
    "\n",
    "    for epoch in range(epochs):\n",
    "        start_epoch_time = time.time()\n",
    "        print(f'Epoch: {epoch + 1}/{epochs}')\n",
    "        print('-' * 10)\n",
    "        \n",
    "        model.train()\n",
    "\n",
    "        for img, state_vec, gt in tqdm(train_dl):\n",
    "            loss_batch(model, loss_func, img, state_vec, gt, opt)\n",
    "\n",
    "        model.eval()\n",
    "        print(\"Validation step\")\n",
    "\n",
    "        with torch.no_grad():\n",
    "            # TODO: Using tqdm\n",
    "            losses, nums = zip(\n",
    "                *[loss_batch(model, loss_func, img, state_vec, gt) for img, state_vec, gt in valid_dl]\n",
    "            )\n",
    "\n",
    "        val_loss = np.sum(np.multiply(losses, nums)) / np.sum(nums)\n",
    "        \n",
    "        # deep copy the model\n",
    "        if val_loss < best_loss:\n",
    "            best_loss = val_loss\n",
    "            best_model_wts = copy.deepcopy(model.state_dict())\n",
    "\n",
    "        print(f\"Epoch {epoch + 1}; Loss: {val_loss:0.2f}; Best: {best_loss:0.2f} Time: {(time.time() - start_epoch_time):0.2f} sec;\")\n"
   ]
  },
  {
   "cell_type": "code",
   "execution_count": 35,
   "metadata": {},
   "outputs": [
    {
     "name": "stderr",
     "output_type": "stream",
     "text": [
      "  0%|          | 0/157 [00:00<?, ?it/s]"
     ]
    },
    {
     "name": "stdout",
     "output_type": "stream",
     "text": [
      "Epoch: 1/5\n",
      "----------\n"
     ]
    },
    {
     "name": "stderr",
     "output_type": "stream",
     "text": [
      "100%|██████████| 157/157 [00:56<00:00,  2.79it/s]\n"
     ]
    },
    {
     "name": "stdout",
     "output_type": "stream",
     "text": [
      "Validation step\n"
     ]
    },
    {
     "name": "stderr",
     "output_type": "stream",
     "text": [
      "  0%|          | 0/157 [00:00<?, ?it/s]"
     ]
    },
    {
     "name": "stdout",
     "output_type": "stream",
     "text": [
      "Epoch 1; Loss: 1.13; Best: 1.13 Time: 221.80 sec;\n",
      "Epoch: 2/5\n",
      "----------\n"
     ]
    },
    {
     "name": "stderr",
     "output_type": "stream",
     "text": [
      "100%|██████████| 157/157 [01:09<00:00,  2.26it/s]\n"
     ]
    },
    {
     "name": "stdout",
     "output_type": "stream",
     "text": [
      "Validation step\n"
     ]
    },
    {
     "name": "stderr",
     "output_type": "stream",
     "text": [
      "  0%|          | 0/157 [00:00<?, ?it/s]"
     ]
    },
    {
     "name": "stdout",
     "output_type": "stream",
     "text": [
      "Epoch 2; Loss: 1.13; Best: 1.13 Time: 238.65 sec;\n",
      "Epoch: 3/5\n",
      "----------\n"
     ]
    },
    {
     "name": "stderr",
     "output_type": "stream",
     "text": [
      "100%|██████████| 157/157 [01:11<00:00,  2.21it/s]\n"
     ]
    },
    {
     "name": "stdout",
     "output_type": "stream",
     "text": [
      "Validation step\n"
     ]
    },
    {
     "name": "stderr",
     "output_type": "stream",
     "text": [
      "  0%|          | 0/157 [00:00<?, ?it/s]"
     ]
    },
    {
     "name": "stdout",
     "output_type": "stream",
     "text": [
      "Epoch 3; Loss: 1.10; Best: 1.10 Time: 240.03 sec;\n",
      "Epoch: 4/5\n",
      "----------\n"
     ]
    },
    {
     "name": "stderr",
     "output_type": "stream",
     "text": [
      "100%|██████████| 157/157 [01:10<00:00,  2.22it/s]\n"
     ]
    },
    {
     "name": "stdout",
     "output_type": "stream",
     "text": [
      "Validation step\n"
     ]
    },
    {
     "name": "stderr",
     "output_type": "stream",
     "text": [
      "  0%|          | 0/157 [00:00<?, ?it/s]"
     ]
    },
    {
     "name": "stdout",
     "output_type": "stream",
     "text": [
      "Epoch 4; Loss: 1.09; Best: 1.09 Time: 240.71 sec;\n",
      "Epoch: 5/5\n",
      "----------\n"
     ]
    },
    {
     "name": "stderr",
     "output_type": "stream",
     "text": [
      "100%|██████████| 157/157 [01:10<00:00,  2.22it/s]\n"
     ]
    },
    {
     "name": "stdout",
     "output_type": "stream",
     "text": [
      "Validation step\n",
      "Epoch 5; Loss: 1.09; Best: 1.09 Time: 239.65 sec;\n"
     ]
    }
   ],
   "source": [
    "epochs = 5  # how many epochs to train for\n",
    "fit(epochs, model, loss_function, optimizer, train_dl, train_val_dl)"
   ]
  },
  {
   "cell_type": "code",
   "execution_count": 37,
   "metadata": {
    "pycharm": {
     "name": "#%%\n"
    }
   },
   "outputs": [],
   "source": [
    "torch.save(model.state_dict(), '/root/model.pth')"
   ]
  },
  {
   "cell_type": "code",
   "execution_count": 21,
   "metadata": {},
   "outputs": [],
   "source": [
    "import shutil\n",
    "\n",
    "shutil.rmtree('/root/Dataset', ignore_errors=True)"
   ]
  },
  {
   "cell_type": "code",
   "execution_count": null,
   "metadata": {},
   "outputs": [],
   "source": []
  }
 ],
 "metadata": {
  "kernelspec": {
   "display_name": "Python 3",
   "language": "python",
   "name": "python3"
  },
  "language_info": {
   "codemirror_mode": {
    "name": "ipython",
    "version": 3
   },
   "file_extension": ".py",
   "mimetype": "text/x-python",
   "name": "python",
   "nbconvert_exporter": "python",
   "pygments_lexer": "ipython3",
   "version": "3.6.9"
  }
 },
 "nbformat": 4,
 "nbformat_minor": 1
}
