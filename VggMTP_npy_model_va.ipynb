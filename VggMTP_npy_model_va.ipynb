{
 "cells": [
  {
   "cell_type": "markdown",
   "metadata": {},
   "source": [
    "Install all requirements"
   ]
  },
  {
   "cell_type": "code",
   "execution_count": 1,
   "metadata": {},
   "outputs": [
    {
     "name": "stdout",
     "output_type": "stream",
     "text": [
      "Looking in links: https://download.pytorch.org/whl/torch_stable.html\n",
      "Collecting torch==1.9.0+cu111\n",
      "  Downloading https://download.pytorch.org/whl/cu111/torch-1.9.0%2Bcu111-cp36-cp36m-linux_x86_64.whl (2041.3 MB)\n",
      "\u001B[K     |█████████▏                      | 584.9 MB 117.5 MB/s eta 0:00:13"
     ]
    },
    {
     "name": "stderr",
     "output_type": "stream",
     "text": [
      "IOPub data rate exceeded.\n",
      "The notebook server will temporarily stop sending output\n",
      "to the client in order to avoid crashing it.\n",
      "To change this limit, set the config variable\n",
      "`--NotebookApp.iopub_data_rate_limit`.\n",
      "\n",
      "Current values:\n",
      "NotebookApp.iopub_data_rate_limit=1000000.0 (bytes/sec)\n",
      "NotebookApp.rate_limit_window=3.0 (secs)\n",
      "\n"
     ]
    },
    {
     "name": "stdout",
     "output_type": "stream",
     "text": [
      "\u001B[K     |██████████████▌                 | 926.1 MB 120.6 MB/s eta 0:00:10"
     ]
    },
    {
     "name": "stderr",
     "output_type": "stream",
     "text": [
      "IOPub data rate exceeded.\n",
      "The notebook server will temporarily stop sending output\n",
      "to the client in order to avoid crashing it.\n",
      "To change this limit, set the config variable\n",
      "`--NotebookApp.iopub_data_rate_limit`.\n",
      "\n",
      "Current values:\n",
      "NotebookApp.iopub_data_rate_limit=1000000.0 (bytes/sec)\n",
      "NotebookApp.rate_limit_window=3.0 (secs)\n",
      "\n"
     ]
    },
    {
     "name": "stdout",
     "output_type": "stream",
     "text": [
      "\u001B[K     |████████████████▍               | 1043.9 MB 108.1 MB/s eta 0:00:10\u001B[K     |████████████████████            | 1276.1 MB 152.4 MB/s eta 0:00:06"
     ]
    },
    {
     "name": "stderr",
     "output_type": "stream",
     "text": [
      "IOPub data rate exceeded.\n",
      "The notebook server will temporarily stop sending output\n",
      "to the client in order to avoid crashing it.\n",
      "To change this limit, set the config variable\n",
      "`--NotebookApp.iopub_data_rate_limit`.\n",
      "\n",
      "Current values:\n",
      "NotebookApp.iopub_data_rate_limit=1000000.0 (bytes/sec)\n",
      "NotebookApp.rate_limit_window=3.0 (secs)\n",
      "\n"
     ]
    },
    {
     "name": "stdout",
     "output_type": "stream",
     "text": [
      "\u001B[K     |███████████████████████▌        | 1496.7 MB 107.6 MB/s eta 0:00:06\u001B[K     |█████████████████████████▌      | 1623.3 MB 104.6 MB/s eta 0:00:04"
     ]
    },
    {
     "name": "stderr",
     "output_type": "stream",
     "text": [
      "IOPub data rate exceeded.\n",
      "The notebook server will temporarily stop sending output\n",
      "to the client in order to avoid crashing it.\n",
      "To change this limit, set the config variable\n",
      "`--NotebookApp.iopub_data_rate_limit`.\n",
      "\n",
      "Current values:\n",
      "NotebookApp.iopub_data_rate_limit=1000000.0 (bytes/sec)\n",
      "NotebookApp.rate_limit_window=3.0 (secs)\n",
      "\n"
     ]
    },
    {
     "name": "stdout",
     "output_type": "stream",
     "text": [
      "\u001B[K     |███████████████████████████▉    | 1772.9 MB 122.9 MB/s eta 0:00:03\u001B[K     |██████████████████████████████▊ | 1960.0 MB 3.1 MB/s eta 0:00:2701"
     ]
    },
    {
     "name": "stderr",
     "output_type": "stream",
     "text": [
      "IOPub data rate exceeded.\n",
      "The notebook server will temporarily stop sending output\n",
      "to the client in order to avoid crashing it.\n",
      "To change this limit, set the config variable\n",
      "`--NotebookApp.iopub_data_rate_limit`.\n",
      "\n",
      "Current values:\n",
      "NotebookApp.iopub_data_rate_limit=1000000.0 (bytes/sec)\n",
      "NotebookApp.rate_limit_window=3.0 (secs)\n",
      "\n"
     ]
    },
    {
     "name": "stdout",
     "output_type": "stream",
     "text": [
      "\u001B[K     |████████████████████████████████| 2041.3 MB 14 kB/s \n",
      "\u001B[?25hCollecting torchvision==0.10.0+cu111\n",
      "  Downloading https://download.pytorch.org/whl/cu111/torchvision-0.10.0%2Bcu111-cp36-cp36m-linux_x86_64.whl (23.2 MB)\n",
      "\u001B[K     |████████████████████████████████| 23.2 MB 16.0 MB/s eta 0:00:01     |██████████████████████████████  | 21.8 MB 16.0 MB/s eta 0:00:01\n",
      "\u001B[?25hCollecting torchaudio===0.9.0\n",
      "  Downloading torchaudio-0.9.0-cp36-cp36m-manylinux1_x86_64.whl (1.9 MB)\n",
      "\u001B[K     |████████████████████████████████| 1.9 MB 8.8 MB/s eta 0:00:01\n",
      "\u001B[?25hRequirement already satisfied: typing-extensions in /usr/local/lib/python3.6/dist-packages (from torch==1.9.0+cu111) (3.7.4.3)\n",
      "Requirement already satisfied: dataclasses; python_version < \"3.7\" in /usr/local/lib/python3.6/dist-packages (from torch==1.9.0+cu111) (0.8)\n",
      "Collecting pillow>=5.3.0\n",
      "  Downloading Pillow-8.3.1-cp36-cp36m-manylinux_2_5_x86_64.manylinux1_x86_64.whl (3.0 MB)\n",
      "\u001B[K     |████████████████████████████████| 3.0 MB 104.6 MB/s eta 0:00:01\n",
      "\u001B[?25hRequirement already satisfied: numpy in /usr/local/lib/python3.6/dist-packages (from torchvision==0.10.0+cu111) (1.19.5)\n",
      "Installing collected packages: torch, pillow, torchvision, torchaudio\n",
      "Successfully installed pillow-8.3.1 torch-1.9.0+cu111 torchaudio-0.9.0 torchvision-0.10.0+cu111\n",
      "\u001B[33mWARNING: You are using pip version 20.2.4; however, version 21.1.3 is available.\n",
      "You should consider upgrading via the '/usr/bin/python3 -m pip install --upgrade pip' command.\u001B[0m\n",
      "Collecting nuscenes-devkit\n",
      "  Downloading nuscenes_devkit-1.1.5-py3-none-any.whl (283 kB)\n",
      "\u001B[K     |████████████████████████████████| 283 kB 13.0 MB/s eta 0:00:01\n",
      "\u001B[?25hCollecting scikit-learn\n",
      "  Downloading scikit_learn-0.24.2-cp36-cp36m-manylinux2010_x86_64.whl (22.2 MB)\n",
      "\u001B[K     |████████████████████████████████| 22.2 MB 44.4 MB/s eta 0:00:01\n",
      "\u001B[?25hRequirement already satisfied: Pillow>6.2.1 in /usr/local/lib/python3.6/dist-packages (from nuscenes-devkit) (8.3.1)\n",
      "Requirement already satisfied: jupyter in /usr/local/lib/python3.6/dist-packages (from nuscenes-devkit) (1.0.0)\n",
      "Collecting pycocotools>=2.0.1\n",
      "  Downloading pycocotools-2.0.2.tar.gz (23 kB)\n",
      "Collecting matplotlib\n",
      "  Downloading matplotlib-3.3.4-cp36-cp36m-manylinux1_x86_64.whl (11.5 MB)\n",
      "\u001B[K     |████████████████████████████████| 11.5 MB 38.9 MB/s eta 0:00:01\n",
      "\u001B[?25hRequirement already satisfied: numpy in /usr/local/lib/python3.6/dist-packages (from nuscenes-devkit) (1.19.5)\n",
      "Collecting tqdm\n",
      "  Downloading tqdm-4.61.2-py2.py3-none-any.whl (76 kB)\n",
      "\u001B[K     |████████████████████████████████| 76 kB 9.8 MB/s s eta 0:00:01\n",
      "\u001B[?25hCollecting fire\n",
      "  Downloading fire-0.4.0.tar.gz (87 kB)\n",
      "\u001B[K     |████████████████████████████████| 87 kB 17.2 MB/s  eta 0:00:01\n",
      "\u001B[?25hCollecting opencv-python\n",
      "  Downloading opencv_python-4.5.3.56-cp36-cp36m-manylinux2014_x86_64.whl (49.9 MB)\n",
      "\u001B[K     |████████████████████████████████| 49.9 MB 39.3 MB/s eta 0:00:01\n",
      "\u001B[?25hCollecting Shapely\n",
      "  Downloading Shapely-1.7.1-cp36-cp36m-manylinux1_x86_64.whl (1.0 MB)\n",
      "\u001B[K     |████████████████████████████████| 1.0 MB 128.9 MB/s eta 0:00:01\n",
      "\u001B[?25hCollecting pyquaternion>=0.9.5\n",
      "  Downloading pyquaternion-0.9.9-py3-none-any.whl (14 kB)\n",
      "Collecting descartes\n",
      "  Downloading descartes-1.1.0-py3-none-any.whl (5.8 kB)\n",
      "Collecting scipy\n",
      "  Downloading scipy-1.5.4-cp36-cp36m-manylinux1_x86_64.whl (25.9 MB)\n",
      "\u001B[K     |████████████████████████████████| 25.9 MB 893 kB/s eta 0:00:01\n",
      "\u001B[?25hRequirement already satisfied: cachetools in /usr/local/lib/python3.6/dist-packages (from nuscenes-devkit) (4.2.2)\n",
      "Collecting joblib>=0.11\n",
      "  Downloading joblib-1.0.1-py3-none-any.whl (303 kB)\n",
      "\u001B[K     |████████████████████████████████| 303 kB 117.5 MB/s eta 0:00:01\n",
      "\u001B[?25hCollecting threadpoolctl>=2.0.0\n",
      "  Downloading threadpoolctl-2.2.0-py3-none-any.whl (12 kB)\n",
      "Requirement already satisfied: qtconsole in /usr/local/lib/python3.6/dist-packages (from jupyter->nuscenes-devkit) (5.1.0)\n",
      "Requirement already satisfied: notebook in /usr/local/lib/python3.6/dist-packages (from jupyter->nuscenes-devkit) (6.4.0)\n",
      "Requirement already satisfied: ipywidgets in /usr/local/lib/python3.6/dist-packages (from jupyter->nuscenes-devkit) (7.6.3)\n",
      "Requirement already satisfied: jupyter-console in /usr/local/lib/python3.6/dist-packages (from jupyter->nuscenes-devkit) (6.4.0)\n",
      "Requirement already satisfied: ipykernel in /usr/local/lib/python3.6/dist-packages (from jupyter->nuscenes-devkit) (5.5.5)\n",
      "Requirement already satisfied: nbconvert in /usr/local/lib/python3.6/dist-packages (from jupyter->nuscenes-devkit) (6.0.7)\n",
      "Requirement already satisfied: setuptools>=18.0 in /usr/local/lib/python3.6/dist-packages (from pycocotools>=2.0.1->nuscenes-devkit) (56.2.0)\n",
      "Collecting cython>=0.27.3\n",
      "  Using cached Cython-0.29.24-cp36-cp36m-manylinux1_x86_64.whl (2.0 MB)\n",
      "Requirement already satisfied: pyparsing!=2.0.4,!=2.1.2,!=2.1.6,>=2.0.3 in /usr/local/lib/python3.6/dist-packages (from matplotlib->nuscenes-devkit) (2.4.7)\n",
      "Requirement already satisfied: python-dateutil>=2.1 in /usr/local/lib/python3.6/dist-packages (from matplotlib->nuscenes-devkit) (2.8.1)\n",
      "Collecting kiwisolver>=1.0.1\n",
      "  Downloading kiwisolver-1.3.1-cp36-cp36m-manylinux1_x86_64.whl (1.1 MB)\n",
      "\u001B[K     |████████████████████████████████| 1.1 MB 126.4 MB/s eta 0:00:01\n",
      "\u001B[?25hCollecting cycler>=0.10\n",
      "  Downloading cycler-0.10.0-py2.py3-none-any.whl (6.5 kB)\n",
      "Requirement already satisfied: six in /usr/local/lib/python3.6/dist-packages (from fire->nuscenes-devkit) (1.15.0)\n",
      "Requirement already satisfied: termcolor in /usr/local/lib/python3.6/dist-packages (from fire->nuscenes-devkit) (1.1.0)\n",
      "Requirement already satisfied: pyzmq>=17.1 in /usr/local/lib/python3.6/dist-packages (from qtconsole->jupyter->nuscenes-devkit) (22.0.3)\n",
      "Requirement already satisfied: traitlets in /usr/local/lib/python3.6/dist-packages (from qtconsole->jupyter->nuscenes-devkit) (4.3.3)\n",
      "Requirement already satisfied: jupyter-core in /usr/local/lib/python3.6/dist-packages (from qtconsole->jupyter->nuscenes-devkit) (4.7.1)\n",
      "Requirement already satisfied: qtpy in /usr/local/lib/python3.6/dist-packages (from qtconsole->jupyter->nuscenes-devkit) (1.9.0)\n",
      "Requirement already satisfied: jupyter-client>=4.1 in /usr/local/lib/python3.6/dist-packages (from qtconsole->jupyter->nuscenes-devkit) (6.1.12)\n",
      "Requirement already satisfied: ipython-genutils in /usr/local/lib/python3.6/dist-packages (from qtconsole->jupyter->nuscenes-devkit) (0.2.0)\n",
      "Requirement already satisfied: pygments in /usr/local/lib/python3.6/dist-packages (from qtconsole->jupyter->nuscenes-devkit) (2.9.0)\n",
      "Requirement already satisfied: jinja2 in /usr/local/lib/python3.6/dist-packages (from notebook->jupyter->nuscenes-devkit) (3.0.1)\n",
      "Requirement already satisfied: Send2Trash>=1.5.0 in /usr/local/lib/python3.6/dist-packages (from notebook->jupyter->nuscenes-devkit) (1.5.0)\n",
      "Requirement already satisfied: tornado>=6.1 in /usr/local/lib/python3.6/dist-packages (from notebook->jupyter->nuscenes-devkit) (6.1)\n",
      "Requirement already satisfied: terminado>=0.8.3 in /usr/local/lib/python3.6/dist-packages (from notebook->jupyter->nuscenes-devkit) (0.10.0)\n",
      "Requirement already satisfied: prometheus-client in /usr/local/lib/python3.6/dist-packages (from notebook->jupyter->nuscenes-devkit) (0.10.1)\n",
      "Requirement already satisfied: argon2-cffi in /usr/local/lib/python3.6/dist-packages (from notebook->jupyter->nuscenes-devkit) (20.1.0)\n",
      "Requirement already satisfied: nbformat in /usr/local/lib/python3.6/dist-packages (from notebook->jupyter->nuscenes-devkit) (5.1.3)\n",
      "Requirement already satisfied: ipython>=4.0.0; python_version >= \"3.3\" in /usr/local/lib/python3.6/dist-packages (from ipywidgets->jupyter->nuscenes-devkit) (7.16.1)\n",
      "Requirement already satisfied: widgetsnbextension~=3.5.0 in /usr/local/lib/python3.6/dist-packages (from ipywidgets->jupyter->nuscenes-devkit) (3.5.1)\n",
      "Requirement already satisfied: jupyterlab-widgets>=1.0.0; python_version >= \"3.6\" in /usr/local/lib/python3.6/dist-packages (from ipywidgets->jupyter->nuscenes-devkit) (1.0.0)\n",
      "Requirement already satisfied: prompt-toolkit!=3.0.0,!=3.0.1,<3.1.0,>=2.0.0 in /usr/local/lib/python3.6/dist-packages (from jupyter-console->jupyter->nuscenes-devkit) (3.0.18)\n",
      "Requirement already satisfied: mistune<2,>=0.8.1 in /usr/local/lib/python3.6/dist-packages (from nbconvert->jupyter->nuscenes-devkit) (0.8.4)\n",
      "Requirement already satisfied: nbclient<0.6.0,>=0.5.0 in /usr/local/lib/python3.6/dist-packages (from nbconvert->jupyter->nuscenes-devkit) (0.5.3)\n",
      "Requirement already satisfied: defusedxml in /usr/local/lib/python3.6/dist-packages (from nbconvert->jupyter->nuscenes-devkit) (0.7.1)\n",
      "Requirement already satisfied: pandocfilters>=1.4.1 in /usr/local/lib/python3.6/dist-packages (from nbconvert->jupyter->nuscenes-devkit) (1.4.3)\n",
      "Requirement already satisfied: testpath in /usr/local/lib/python3.6/dist-packages (from nbconvert->jupyter->nuscenes-devkit) (0.5.0)\n",
      "Requirement already satisfied: jupyterlab-pygments in /usr/local/lib/python3.6/dist-packages (from nbconvert->jupyter->nuscenes-devkit) (0.1.2)\n",
      "Requirement already satisfied: entrypoints>=0.2.2 in /usr/local/lib/python3.6/dist-packages (from nbconvert->jupyter->nuscenes-devkit) (0.3)\n",
      "Requirement already satisfied: bleach in /usr/local/lib/python3.6/dist-packages (from nbconvert->jupyter->nuscenes-devkit) (3.3.0)\n",
      "Requirement already satisfied: decorator in /usr/local/lib/python3.6/dist-packages (from traitlets->qtconsole->jupyter->nuscenes-devkit) (5.0.9)\n",
      "Requirement already satisfied: MarkupSafe>=2.0 in /usr/local/lib/python3.6/dist-packages (from jinja2->notebook->jupyter->nuscenes-devkit) (2.0.1)\n",
      "Requirement already satisfied: ptyprocess; os_name != \"nt\" in /usr/local/lib/python3.6/dist-packages (from terminado>=0.8.3->notebook->jupyter->nuscenes-devkit) (0.7.0)\n",
      "Requirement already satisfied: cffi>=1.0.0 in /usr/local/lib/python3.6/dist-packages (from argon2-cffi->notebook->jupyter->nuscenes-devkit) (1.14.5)\n",
      "Requirement already satisfied: jsonschema!=2.5.0,>=2.4 in /usr/local/lib/python3.6/dist-packages (from nbformat->notebook->jupyter->nuscenes-devkit) (3.2.0)\n",
      "Requirement already satisfied: pickleshare in /usr/local/lib/python3.6/dist-packages (from ipython>=4.0.0; python_version >= \"3.3\"->ipywidgets->jupyter->nuscenes-devkit) (0.7.5)\n",
      "Requirement already satisfied: backcall in /usr/local/lib/python3.6/dist-packages (from ipython>=4.0.0; python_version >= \"3.3\"->ipywidgets->jupyter->nuscenes-devkit) (0.2.0)\n",
      "Requirement already satisfied: jedi>=0.10 in /usr/local/lib/python3.6/dist-packages (from ipython>=4.0.0; python_version >= \"3.3\"->ipywidgets->jupyter->nuscenes-devkit) (0.18.0)\n",
      "Requirement already satisfied: pexpect; sys_platform != \"win32\" in /usr/local/lib/python3.6/dist-packages (from ipython>=4.0.0; python_version >= \"3.3\"->ipywidgets->jupyter->nuscenes-devkit) (4.8.0)\n",
      "Requirement already satisfied: wcwidth in /usr/local/lib/python3.6/dist-packages (from prompt-toolkit!=3.0.0,!=3.0.1,<3.1.0,>=2.0.0->jupyter-console->jupyter->nuscenes-devkit) (0.2.5)\n",
      "Requirement already satisfied: nest-asyncio in /usr/local/lib/python3.6/dist-packages (from nbclient<0.6.0,>=0.5.0->nbconvert->jupyter->nuscenes-devkit) (1.5.1)\n",
      "Requirement already satisfied: async-generator in /usr/local/lib/python3.6/dist-packages (from nbclient<0.6.0,>=0.5.0->nbconvert->jupyter->nuscenes-devkit) (1.10)\n",
      "Requirement already satisfied: packaging in /usr/local/lib/python3.6/dist-packages (from bleach->nbconvert->jupyter->nuscenes-devkit) (20.9)\n",
      "Requirement already satisfied: webencodings in /usr/local/lib/python3.6/dist-packages (from bleach->nbconvert->jupyter->nuscenes-devkit) (0.5.1)\n",
      "Requirement already satisfied: pycparser in /usr/local/lib/python3.6/dist-packages (from cffi>=1.0.0->argon2-cffi->notebook->jupyter->nuscenes-devkit) (2.20)\n",
      "Requirement already satisfied: importlib-metadata; python_version < \"3.8\" in /usr/local/lib/python3.6/dist-packages (from jsonschema!=2.5.0,>=2.4->nbformat->notebook->jupyter->nuscenes-devkit) (4.0.1)\n",
      "Requirement already satisfied: pyrsistent>=0.14.0 in /usr/local/lib/python3.6/dist-packages (from jsonschema!=2.5.0,>=2.4->nbformat->notebook->jupyter->nuscenes-devkit) (0.17.3)\n",
      "Requirement already satisfied: attrs>=17.4.0 in /usr/local/lib/python3.6/dist-packages (from jsonschema!=2.5.0,>=2.4->nbformat->notebook->jupyter->nuscenes-devkit) (21.2.0)\n",
      "Requirement already satisfied: parso<0.9.0,>=0.8.0 in /usr/local/lib/python3.6/dist-packages (from jedi>=0.10->ipython>=4.0.0; python_version >= \"3.3\"->ipywidgets->jupyter->nuscenes-devkit) (0.8.2)\n",
      "Requirement already satisfied: typing-extensions>=3.6.4; python_version < \"3.8\" in /usr/local/lib/python3.6/dist-packages (from importlib-metadata; python_version < \"3.8\"->jsonschema!=2.5.0,>=2.4->nbformat->notebook->jupyter->nuscenes-devkit) (3.7.4.3)\n",
      "Requirement already satisfied: zipp>=0.5 in /usr/local/lib/python3.6/dist-packages (from importlib-metadata; python_version < \"3.8\"->jsonschema!=2.5.0,>=2.4->nbformat->notebook->jupyter->nuscenes-devkit) (3.4.1)\n",
      "Building wheels for collected packages: pycocotools, fire\n",
      "  Building wheel for pycocotools (setup.py) ... \u001B[?25ldone\n",
      "\u001B[?25h  Created wheel for pycocotools: filename=pycocotools-2.0.2-cp36-cp36m-linux_x86_64.whl size=265630 sha256=5ddc7a75e3231ae49446595e6912f0f96b90ee517ee60f5da2ea855cfbefb003\n",
      "  Stored in directory: /root/.cache/pip/wheels/d8/c2/ba/8f5306f921c2e79ad7b09effdfed6bd966cfcf8c6fe55422d6\n",
      "  Building wheel for fire (setup.py) ... \u001B[?25ldone\n",
      "\u001B[?25h  Created wheel for fire: filename=fire-0.4.0-py2.py3-none-any.whl size=115928 sha256=b6b6366fe7df296c74a01d4742256a168d9504966440f4bf43c7feef688799c3\n",
      "  Stored in directory: /root/.cache/pip/wheels/a6/12/74/ce0728e3990845862240349a12d7179a262e388ec73938024b\n",
      "Successfully built pycocotools fire\n",
      "Installing collected packages: scipy, joblib, threadpoolctl, scikit-learn, cython, kiwisolver, cycler, matplotlib, pycocotools, tqdm, fire, opencv-python, Shapely, pyquaternion, descartes, nuscenes-devkit\n",
      "Successfully installed Shapely-1.7.1 cycler-0.10.0 cython-0.29.24 descartes-1.1.0 fire-0.4.0 joblib-1.0.1 kiwisolver-1.3.1 matplotlib-3.3.4 nuscenes-devkit-1.1.5 opencv-python-4.5.3.56 pycocotools-2.0.2 pyquaternion-0.9.9 scikit-learn-0.24.2 scipy-1.5.4 threadpoolctl-2.2.0 tqdm-4.61.2\n",
      "\u001B[33mWARNING: You are using pip version 20.2.4; however, version 21.1.3 is available.\n",
      "You should consider upgrading via the '/usr/bin/python3 -m pip install --upgrade pip' command.\u001B[0m\n",
      "Collecting wandb\n",
      "  Downloading wandb-0.11.0-py2.py3-none-any.whl (1.8 MB)\n",
      "\u001B[K     |████████████████████████████████| 1.8 MB 14.4 MB/s eta 0:00:01\n",
      "\u001B[?25hRequirement already satisfied: requests<3,>=2.0.0 in /usr/local/lib/python3.6/dist-packages (from wandb) (2.25.1)\n",
      "Requirement already satisfied: python-dateutil>=2.6.1 in /usr/local/lib/python3.6/dist-packages (from wandb) (2.8.1)\n",
      "Collecting psutil>=5.0.0\n",
      "  Downloading psutil-5.8.0-cp36-cp36m-manylinux2010_x86_64.whl (291 kB)\n",
      "\u001B[K     |████████████████████████████████| 291 kB 79.4 MB/s eta 0:00:01\n",
      "\u001B[?25hCollecting sentry-sdk>=0.4.0\n",
      "  Downloading sentry_sdk-1.3.0-py2.py3-none-any.whl (133 kB)\n",
      "\u001B[K     |████████████████████████████████| 133 kB 20.5 MB/s eta 0:00:01\n",
      "\u001B[?25hCollecting subprocess32>=3.5.3\n",
      "  Downloading subprocess32-3.5.4.tar.gz (97 kB)\n",
      "\u001B[K     |████████████████████████████████| 97 kB 14.3 MB/s eta 0:00:01\n",
      "\u001B[?25hRequirement already satisfied: protobuf>=3.12.0 in /usr/local/lib/python3.6/dist-packages (from wandb) (3.17.0)\n",
      "Collecting PyYAML\n",
      "  Downloading PyYAML-5.4.1-cp36-cp36m-manylinux1_x86_64.whl (640 kB)\n",
      "\u001B[K     |████████████████████████████████| 640 kB 107.7 MB/s eta 0:00:01\n",
      "\u001B[?25hCollecting docker-pycreds>=0.4.0\n",
      "  Downloading docker_pycreds-0.4.0-py2.py3-none-any.whl (9.0 kB)\n",
      "Collecting Click!=8.0.0,>=7.0\n",
      "  Downloading click-8.0.1-py3-none-any.whl (97 kB)\n",
      "\u001B[K     |████████████████████████████████| 97 kB 15.7 MB/s  eta 0:00:01\n",
      "\u001B[?25hCollecting pathtools\n",
      "  Downloading pathtools-0.1.2.tar.gz (11 kB)\n",
      "Collecting promise<3,>=2.0\n",
      "  Downloading promise-2.3.tar.gz (19 kB)\n",
      "Collecting configparser>=3.8.1\n",
      "  Downloading configparser-5.0.2-py3-none-any.whl (19 kB)\n",
      "Collecting urllib3>=1.26.5\n",
      "  Downloading urllib3-1.26.6-py2.py3-none-any.whl (138 kB)\n",
      "\u001B[K     |████████████████████████████████| 138 kB 124.3 MB/s eta 0:00:01\n",
      "\u001B[?25hRequirement already satisfied: six>=1.13.0 in /usr/local/lib/python3.6/dist-packages (from wandb) (1.15.0)\n",
      "Collecting GitPython>=1.0.0\n",
      "  Downloading GitPython-3.1.18-py3-none-any.whl (170 kB)\n",
      "\u001B[K     |████████████████████████████████| 170 kB 24.2 MB/s eta 0:00:01\n",
      "\u001B[?25hCollecting shortuuid>=0.5.0\n",
      "  Downloading shortuuid-1.0.1-py3-none-any.whl (7.5 kB)\n",
      "Requirement already satisfied: chardet<5,>=3.0.2 in /usr/local/lib/python3.6/dist-packages (from requests<3,>=2.0.0->wandb) (4.0.0)\n",
      "Requirement already satisfied: certifi>=2017.4.17 in /usr/local/lib/python3.6/dist-packages (from requests<3,>=2.0.0->wandb) (2020.12.5)\n",
      "Collecting idna<3,>=2.5\n",
      "  Downloading idna-2.10-py2.py3-none-any.whl (58 kB)\n",
      "\u001B[K     |████████████████████████████████| 58 kB 14.9 MB/s  eta 0:00:01\n",
      "\u001B[?25hRequirement already satisfied: importlib-metadata; python_version < \"3.8\" in /usr/local/lib/python3.6/dist-packages (from Click!=8.0.0,>=7.0->wandb) (4.0.1)\n",
      "Collecting gitdb<5,>=4.0.1\n",
      "  Downloading gitdb-4.0.7-py3-none-any.whl (63 kB)\n",
      "\u001B[K     |████████████████████████████████| 63 kB 4.0 MB/s  eta 0:00:01\n",
      "\u001B[?25hRequirement already satisfied: typing-extensions>=3.7.4.0; python_version < \"3.8\" in /usr/local/lib/python3.6/dist-packages (from GitPython>=1.0.0->wandb) (3.7.4.3)\n",
      "Requirement already satisfied: zipp>=0.5 in /usr/local/lib/python3.6/dist-packages (from importlib-metadata; python_version < \"3.8\"->Click!=8.0.0,>=7.0->wandb) (3.4.1)\n",
      "Collecting smmap<5,>=3.0.1\n",
      "  Downloading smmap-4.0.0-py2.py3-none-any.whl (24 kB)\n",
      "Building wheels for collected packages: subprocess32, pathtools, promise\n",
      "  Building wheel for subprocess32 (setup.py) ... \u001B[?25ldone\n",
      "\u001B[?25h  Created wheel for subprocess32: filename=subprocess32-3.5.4-py3-none-any.whl size=6488 sha256=903e0e2d0074ed6be696aeb7fb35bfec5feeabe6e740c46c55e6b434408208bf\n",
      "  Stored in directory: /root/.cache/pip/wheels/44/3a/ab/102386d84fe551b6cedb628ed1e74c5f5be76af8b909aeda09\n",
      "  Building wheel for pathtools (setup.py) ... \u001B[?25ldone\n",
      "\u001B[?25h  Created wheel for pathtools: filename=pathtools-0.1.2-py3-none-any.whl size=8784 sha256=3b4a82cb348e1c27872c72b0943a2587994fe30a73ee84c9720dde3c7592d045\n",
      "  Stored in directory: /root/.cache/pip/wheels/42/ea/90/e37d463fb3b03848bf715080595de62545266f53dd546b2497\n",
      "  Building wheel for promise (setup.py) ... \u001B[?25ldone\n",
      "\u001B[?25h  Created wheel for promise: filename=promise-2.3-py3-none-any.whl size=21494 sha256=378d204f5277f9287013459535cf3a8f76c7a9bcc13b249e00bdf21fcfe92f10\n",
      "  Stored in directory: /root/.cache/pip/wheels/59/9a/1d/3f1afbbb5122d0410547bf9eb50955f4a7a98e53a6d8b99bd1\n",
      "Successfully built subprocess32 pathtools promise\n",
      "Installing collected packages: psutil, urllib3, sentry-sdk, subprocess32, PyYAML, docker-pycreds, Click, pathtools, promise, configparser, smmap, gitdb, GitPython, shortuuid, wandb, idna\n",
      "  Attempting uninstall: urllib3\n",
      "    Found existing installation: urllib3 1.26.4\n",
      "    Uninstalling urllib3-1.26.4:\n",
      "      Successfully uninstalled urllib3-1.26.4\n",
      "  Attempting uninstall: idna\n",
      "    Found existing installation: idna 3.1\n",
      "    Uninstalling idna-3.1:\n",
      "      Successfully uninstalled idna-3.1\n",
      "Successfully installed Click-8.0.1 GitPython-3.1.18 PyYAML-5.4.1 configparser-5.0.2 docker-pycreds-0.4.0 gitdb-4.0.7 idna-2.10 pathtools-0.1.2 promise-2.3 psutil-5.8.0 sentry-sdk-1.3.0 shortuuid-1.0.1 smmap-4.0.0 subprocess32-3.5.4 urllib3-1.26.6 wandb-0.11.0\n",
      "\u001B[33mWARNING: You are using pip version 20.2.4; however, version 21.1.3 is available.\n",
      "You should consider upgrading via the '/usr/bin/python3 -m pip install --upgrade pip' command.\u001B[0m\n",
      "Ign:1 https://developer.download.nvidia.com/compute/cuda/repos/ubuntu1804/x86_64  InRelease\n",
      "Ign:2 https://developer.download.nvidia.com/compute/machine-learning/repos/ubuntu1804/x86_64  InRelease\n",
      "Get:3 https://developer.download.nvidia.com/compute/cuda/repos/ubuntu1804/x86_64  Release [697 B]\n",
      "Hit:4 https://developer.download.nvidia.com/compute/machine-learning/repos/ubuntu1804/x86_64  Release\n",
      "Get:5 https://developer.download.nvidia.com/compute/cuda/repos/ubuntu1804/x86_64  Release.gpg [836 B]\n",
      "Get:7 http://security.ubuntu.com/ubuntu bionic-security InRelease [88.7 kB]    \n",
      "Hit:8 http://archive.ubuntu.com/ubuntu bionic InRelease                        \n",
      "Get:9 http://archive.ubuntu.com/ubuntu bionic-updates InRelease [88.7 kB]      \n",
      "Get:10 http://archive.ubuntu.com/ubuntu bionic-backports InRelease [74.6 kB]   \n",
      "Get:11 http://archive.ubuntu.com/ubuntu bionic-updates/main amd64 Packages [2658 kB]\n",
      "Get:12 http://archive.ubuntu.com/ubuntu bionic-updates/universe amd64 Packages [2188 kB]\n",
      "Get:13 http://archive.ubuntu.com/ubuntu bionic-updates/multiverse amd64 Packages [33.5 kB]\n",
      "Get:14 http://archive.ubuntu.com/ubuntu bionic-updates/restricted amd64 Packages [506 kB]\n",
      "Get:15 http://security.ubuntu.com/ubuntu bionic-security/universe amd64 Packages [1418 kB]\n",
      "Ign:16 https://developer.download.nvidia.com/compute/cuda/repos/ubuntu1804/x86_64  Packages\n",
      "Get:16 https://developer.download.nvidia.com/compute/cuda/repos/ubuntu1804/x86_64  Packages [637 kB]\n",
      "Get:17 http://security.ubuntu.com/ubuntu bionic-security/restricted amd64 Packages [473 kB]\n",
      "Get:18 http://security.ubuntu.com/ubuntu bionic-security/main amd64 Packages [2221 kB]\n",
      "Fetched 10.4 MB in 3s (3917 kB/s)                          \n",
      "Reading package lists... Done\n",
      "Reading package lists... Done\n",
      "Building dependency tree       \n",
      "Reading state information... Done\n",
      "The following additional packages will be installed:\n",
      "  libdrm-amdgpu1 libdrm-common libdrm-intel1 libdrm-nouveau2 libdrm-radeon1\n",
      "  libdrm2 libelf1 libgl1 libgl1-mesa-dri libglapi-mesa libglvnd0 libglx-mesa0\n",
      "  libglx0 libllvm10 libpciaccess0 libsensors4 libx11-6 libx11-data libx11-xcb1\n",
      "  libxau6 libxcb-dri2-0 libxcb-dri3-0 libxcb-glx0 libxcb-present0 libxcb-sync1\n",
      "  libxcb1 libxdamage1 libxdmcp6 libxext6 libxfixes3 libxshmfence1 libxxf86vm1\n",
      "Suggested packages:\n",
      "  pciutils lm-sensors\n",
      "The following NEW packages will be installed:\n",
      "  libdrm-amdgpu1 libdrm-common libdrm-intel1 libdrm-nouveau2 libdrm-radeon1\n",
      "  libdrm2 libelf1 libgl1 libgl1-mesa-dri libgl1-mesa-glx libglapi-mesa\n",
      "  libglvnd0 libglx-mesa0 libglx0 libllvm10 libpciaccess0 libsensors4 libx11-6\n",
      "  libx11-data libx11-xcb1 libxau6 libxcb-dri2-0 libxcb-dri3-0 libxcb-glx0\n",
      "  libxcb-present0 libxcb-sync1 libxcb1 libxdamage1 libxdmcp6 libxext6\n",
      "  libxfixes3 libxshmfence1 libxxf86vm1\n",
      "0 upgraded, 33 newly installed, 0 to remove and 23 not upgraded.\n",
      "Need to get 26.2 MB of archives.\n",
      "After this operation, 330 MB of additional disk space will be used.\n",
      "Get:1 http://archive.ubuntu.com/ubuntu bionic-updates/main amd64 libxau6 amd64 1:1.0.8-1ubuntu1 [7556 B]\n",
      "Get:2 http://archive.ubuntu.com/ubuntu bionic/main amd64 libxdmcp6 amd64 1:1.1.2-3 [10.7 kB]\n",
      "Get:3 http://archive.ubuntu.com/ubuntu bionic-updates/main amd64 libxcb1 amd64 1.13-2~ubuntu18.04 [45.5 kB]\n",
      "Get:4 http://archive.ubuntu.com/ubuntu bionic-updates/main amd64 libx11-data all 2:1.6.4-3ubuntu0.4 [114 kB]\n",
      "Get:5 http://archive.ubuntu.com/ubuntu bionic-updates/main amd64 libx11-6 amd64 2:1.6.4-3ubuntu0.4 [572 kB]\n",
      "Get:6 http://archive.ubuntu.com/ubuntu bionic/main amd64 libxext6 amd64 2:1.3.3-1 [29.4 kB]\n",
      "Get:7 http://archive.ubuntu.com/ubuntu bionic/main amd64 libxxf86vm1 amd64 1:1.1.4-1 [10.6 kB]\n",
      "Get:8 http://archive.ubuntu.com/ubuntu bionic-updates/main amd64 libelf1 amd64 0.170-0.4ubuntu0.1 [44.8 kB]\n",
      "Get:9 http://archive.ubuntu.com/ubuntu bionic-updates/main amd64 libdrm-common all 2.4.101-2~18.04.1 [5560 B]\n",
      "Get:10 http://archive.ubuntu.com/ubuntu bionic-updates/main amd64 libdrm2 amd64 2.4.101-2~18.04.1 [32.3 kB]\n",
      "Get:11 http://archive.ubuntu.com/ubuntu bionic-updates/main amd64 libdrm-amdgpu1 amd64 2.4.101-2~18.04.1 [18.2 kB]\n",
      "Get:12 http://archive.ubuntu.com/ubuntu bionic/main amd64 libpciaccess0 amd64 0.14-1 [17.9 kB]\n",
      "Get:13 http://archive.ubuntu.com/ubuntu bionic-updates/main amd64 libdrm-intel1 amd64 2.4.101-2~18.04.1 [60.0 kB]\n",
      "Get:14 http://archive.ubuntu.com/ubuntu bionic-updates/main amd64 libdrm-nouveau2 amd64 2.4.101-2~18.04.1 [16.5 kB]\n",
      "Get:15 http://archive.ubuntu.com/ubuntu bionic-updates/main amd64 libdrm-radeon1 amd64 2.4.101-2~18.04.1 [21.7 kB]\n",
      "Get:16 http://archive.ubuntu.com/ubuntu bionic-updates/main amd64 libglapi-mesa amd64 20.0.8-0ubuntu1~18.04.1 [26.6 kB]\n",
      "Get:17 http://archive.ubuntu.com/ubuntu bionic-updates/main amd64 libllvm10 amd64 1:10.0.0-4ubuntu1~18.04.2 [15.4 MB]\n",
      "Get:18 http://archive.ubuntu.com/ubuntu bionic/main amd64 libsensors4 amd64 1:3.4.0-4 [28.8 kB]\n",
      "Get:19 http://archive.ubuntu.com/ubuntu bionic-updates/main amd64 libgl1-mesa-dri amd64 20.0.8-0ubuntu1~18.04.1 [9333 kB]\n",
      "Get:20 http://archive.ubuntu.com/ubuntu bionic-updates/main amd64 libglvnd0 amd64 1.0.0-2ubuntu2.3 [47.0 kB]\n",
      "Get:21 http://archive.ubuntu.com/ubuntu bionic-updates/main amd64 libx11-xcb1 amd64 2:1.6.4-3ubuntu0.4 [9720 B]\n",
      "Get:22 http://archive.ubuntu.com/ubuntu bionic-updates/main amd64 libxcb-dri2-0 amd64 1.13-2~ubuntu18.04 [6920 B]\n",
      "Get:23 http://archive.ubuntu.com/ubuntu bionic-updates/main amd64 libxcb-dri3-0 amd64 1.13-2~ubuntu18.04 [6568 B]\n",
      "Get:24 http://archive.ubuntu.com/ubuntu bionic-updates/main amd64 libxcb-glx0 amd64 1.13-2~ubuntu18.04 [22.1 kB]\n",
      "Get:25 http://archive.ubuntu.com/ubuntu bionic-updates/main amd64 libxcb-present0 amd64 1.13-2~ubuntu18.04 [5552 B]\n",
      "Get:26 http://archive.ubuntu.com/ubuntu bionic-updates/main amd64 libxcb-sync1 amd64 1.13-2~ubuntu18.04 [8808 B]\n",
      "Get:27 http://archive.ubuntu.com/ubuntu bionic/main amd64 libxdamage1 amd64 1:1.1.4-3 [6934 B]\n",
      "Get:28 http://archive.ubuntu.com/ubuntu bionic/main amd64 libxfixes3 amd64 1:5.0.3-1 [10.8 kB]\n",
      "Get:29 http://archive.ubuntu.com/ubuntu bionic/main amd64 libxshmfence1 amd64 1.3-1 [5028 B]\n",
      "Get:30 http://archive.ubuntu.com/ubuntu bionic-updates/main amd64 libglx-mesa0 amd64 20.0.8-0ubuntu1~18.04.1 [139 kB]\n",
      "Get:31 http://archive.ubuntu.com/ubuntu bionic-updates/main amd64 libglx0 amd64 1.0.0-2ubuntu2.3 [28.1 kB]\n",
      "Get:32 http://archive.ubuntu.com/ubuntu bionic-updates/main amd64 libgl1 amd64 1.0.0-2ubuntu2.3 [86.2 kB]\n",
      "Get:33 http://archive.ubuntu.com/ubuntu bionic-updates/main amd64 libgl1-mesa-glx amd64 20.0.8-0ubuntu1~18.04.1 [5532 B]\n",
      "Fetched 26.2 MB in 1s (32.7 MB/s)          \u001B[0m\u001B[33m\n",
      "debconf: delaying package configuration, since apt-utils is not installed\n",
      "\n",
      "\u001B7\u001B[0;23r\u001B8\u001B[1ASelecting previously unselected package libxau6:amd64.\n",
      "(Reading database ... 17238 files and directories currently installed.)\n",
      "Preparing to unpack .../00-libxau6_1%3a1.0.8-1ubuntu1_amd64.deb ...\n",
      "\u001B7\u001B[24;0f\u001B[42m\u001B[30mProgress: [  0%]\u001B[49m\u001B[39m [..........................................................] \u001B8Unpacking libxau6:amd64 (1:1.0.8-1ubuntu1) ...\n",
      "\u001B7\u001B[24;0f\u001B[42m\u001B[30mProgress: [  1%]\u001B[49m\u001B[39m [..........................................................] \u001B8Selecting previously unselected package libxdmcp6:amd64.\n",
      "Preparing to unpack .../01-libxdmcp6_1%3a1.1.2-3_amd64.deb ...\n",
      "\u001B7\u001B[24;0f\u001B[42m\u001B[30mProgress: [  2%]\u001B[49m\u001B[39m [#.........................................................] \u001B8Unpacking libxdmcp6:amd64 (1:1.1.2-3) ...\n",
      "\u001B7\u001B[24;0f\u001B[42m\u001B[30mProgress: [  3%]\u001B[49m\u001B[39m [#.........................................................] \u001B8Selecting previously unselected package libxcb1:amd64.\n",
      "Preparing to unpack .../02-libxcb1_1.13-2~ubuntu18.04_amd64.deb ...\n",
      "\u001B7\u001B[24;0f\u001B[42m\u001B[30mProgress: [  4%]\u001B[49m\u001B[39m [##........................................................] \u001B8Unpacking libxcb1:amd64 (1.13-2~ubuntu18.04) ...\n",
      "\u001B7\u001B[24;0f\u001B[42m\u001B[30mProgress: [  5%]\u001B[49m\u001B[39m [###.......................................................] \u001B8Selecting previously unselected package libx11-data.\n",
      "Preparing to unpack .../03-libx11-data_2%3a1.6.4-3ubuntu0.4_all.deb ...\n",
      "\u001B7\u001B[24;0f\u001B[42m\u001B[30mProgress: [  6%]\u001B[49m\u001B[39m [###.......................................................] \u001B8Unpacking libx11-data (2:1.6.4-3ubuntu0.4) ...\n",
      "\u001B7\u001B[24;0f\u001B[42m\u001B[30mProgress: [  7%]\u001B[49m\u001B[39m [####......................................................] \u001B8Selecting previously unselected package libx11-6:amd64.\n",
      "Preparing to unpack .../04-libx11-6_2%3a1.6.4-3ubuntu0.4_amd64.deb ...\n",
      "Unpacking libx11-6:amd64 (2:1.6.4-3ubuntu0.4) ...\n",
      "\u001B7\u001B[24;0f\u001B[42m\u001B[30mProgress: [  8%]\u001B[49m\u001B[39m [####......................................................] \u001B8\u001B7\u001B[24;0f\u001B[42m\u001B[30mProgress: [  9%]\u001B[49m\u001B[39m [#####.....................................................] \u001B8Selecting previously unselected package libxext6:amd64.\n",
      "Preparing to unpack .../05-libxext6_2%3a1.3.3-1_amd64.deb ...\n",
      "Unpacking libxext6:amd64 (2:1.3.3-1) ...\n",
      "\u001B7\u001B[24;0f\u001B[42m\u001B[30mProgress: [ 10%]\u001B[49m\u001B[39m [#####.....................................................] \u001B8Selecting previously unselected package libxxf86vm1:amd64.\n",
      "Preparing to unpack .../06-libxxf86vm1_1%3a1.1.4-1_amd64.deb ...\n",
      "\u001B7\u001B[24;0f\u001B[42m\u001B[30mProgress: [ 11%]\u001B[49m\u001B[39m [######....................................................] \u001B8Unpacking libxxf86vm1:amd64 (1:1.1.4-1) ...\n",
      "\u001B7\u001B[24;0f\u001B[42m\u001B[30mProgress: [ 12%]\u001B[49m\u001B[39m [######....................................................] \u001B8Selecting previously unselected package libelf1:amd64.\n",
      "Preparing to unpack .../07-libelf1_0.170-0.4ubuntu0.1_amd64.deb ...\n",
      "\u001B7\u001B[24;0f\u001B[42m\u001B[30mProgress: [ 13%]\u001B[49m\u001B[39m [#######...................................................] \u001B8Unpacking libelf1:amd64 (0.170-0.4ubuntu0.1) ...\n",
      "\u001B7\u001B[24;0f\u001B[42m\u001B[30mProgress: [ 14%]\u001B[49m\u001B[39m [########..................................................] \u001B8Selecting previously unselected package libdrm-common.\n",
      "Preparing to unpack .../08-libdrm-common_2.4.101-2~18.04.1_all.deb ...\n",
      "\u001B7\u001B[24;0f\u001B[42m\u001B[30mProgress: [ 15%]\u001B[49m\u001B[39m [########..................................................] \u001B8Unpacking libdrm-common (2.4.101-2~18.04.1) ...\n",
      "\u001B7\u001B[24;0f\u001B[42m\u001B[30mProgress: [ 16%]\u001B[49m\u001B[39m [#########.................................................] \u001B8Selecting previously unselected package libdrm2:amd64.\n",
      "Preparing to unpack .../09-libdrm2_2.4.101-2~18.04.1_amd64.deb ...\n",
      "Unpacking libdrm2:amd64 (2.4.101-2~18.04.1) ...\n",
      "\u001B7\u001B[24;0f\u001B[42m\u001B[30mProgress: [ 17%]\u001B[49m\u001B[39m [##########................................................] \u001B8\u001B7\u001B[24;0f\u001B[42m\u001B[30mProgress: [ 18%]\u001B[49m\u001B[39m [##########................................................] \u001B8Selecting previously unselected package libdrm-amdgpu1:amd64.\n",
      "Preparing to unpack .../10-libdrm-amdgpu1_2.4.101-2~18.04.1_amd64.deb ...\n",
      "Unpacking libdrm-amdgpu1:amd64 (2.4.101-2~18.04.1) ...\n",
      "\u001B7\u001B[24;0f\u001B[42m\u001B[30mProgress: [ 19%]\u001B[49m\u001B[39m [###########...............................................] \u001B8Selecting previously unselected package libpciaccess0:amd64.\n",
      "Preparing to unpack .../11-libpciaccess0_0.14-1_amd64.deb ...\n",
      "\u001B7\u001B[24;0f\u001B[42m\u001B[30mProgress: [ 20%]\u001B[49m\u001B[39m [###########...............................................] \u001B8Unpacking libpciaccess0:amd64 (0.14-1) ...\n",
      "\u001B7\u001B[24;0f\u001B[42m\u001B[30mProgress: [ 21%]\u001B[49m\u001B[39m [############..............................................] \u001B8Selecting previously unselected package libdrm-intel1:amd64.\n",
      "Preparing to unpack .../12-libdrm-intel1_2.4.101-2~18.04.1_amd64.deb ...\n",
      "\u001B7\u001B[24;0f\u001B[42m\u001B[30mProgress: [ 22%]\u001B[49m\u001B[39m [############..............................................] \u001B8Unpacking libdrm-intel1:amd64 (2.4.101-2~18.04.1) ...\n",
      "\u001B7\u001B[24;0f\u001B[42m\u001B[30mProgress: [ 23%]\u001B[49m\u001B[39m [#############.............................................] \u001B8Selecting previously unselected package libdrm-nouveau2:amd64.\n",
      "Preparing to unpack .../13-libdrm-nouveau2_2.4.101-2~18.04.1_amd64.deb ...\n",
      "\u001B7\u001B[24;0f\u001B[42m\u001B[30mProgress: [ 24%]\u001B[49m\u001B[39m [#############.............................................] \u001B8Unpacking libdrm-nouveau2:amd64 (2.4.101-2~18.04.1) ...\n",
      "\u001B7\u001B[24;0f\u001B[42m\u001B[30mProgress: [ 25%]\u001B[49m\u001B[39m [##############............................................] \u001B8Selecting previously unselected package libdrm-radeon1:amd64.\n",
      "Preparing to unpack .../14-libdrm-radeon1_2.4.101-2~18.04.1_amd64.deb ...\n",
      "Unpacking libdrm-radeon1:amd64 (2.4.101-2~18.04.1) ...\n",
      "\u001B7\u001B[24;0f\u001B[42m\u001B[30mProgress: [ 27%]\u001B[49m\u001B[39m [###############...........................................] \u001B8\u001B7\u001B[24;0f\u001B[42m\u001B[30mProgress: [ 27%]\u001B[49m\u001B[39m [###############...........................................] \u001B8Selecting previously unselected package libglapi-mesa:amd64.\n",
      "Preparing to unpack .../15-libglapi-mesa_20.0.8-0ubuntu1~18.04.1_amd64.deb ...\n",
      "Unpacking libglapi-mesa:amd64 (20.0.8-0ubuntu1~18.04.1) ...\n",
      "\u001B7\u001B[24;0f\u001B[42m\u001B[30mProgress: [ 28%]\u001B[49m\u001B[39m [################..........................................] \u001B8Selecting previously unselected package libllvm10:amd64.\n",
      "Preparing to unpack .../16-libllvm10_1%3a10.0.0-4ubuntu1~18.04.2_amd64.deb ...\n",
      "\u001B7\u001B[24;0f\u001B[42m\u001B[30mProgress: [ 30%]\u001B[49m\u001B[39m [#################.........................................] \u001B8Unpacking libllvm10:amd64 (1:10.0.0-4ubuntu1~18.04.2) ...\n",
      "\u001B7\u001B[24;0f\u001B[42m\u001B[30mProgress: [ 30%]\u001B[49m\u001B[39m [#################.........................................] \u001B8Selecting previously unselected package libsensors4:amd64.\n",
      "Preparing to unpack .../17-libsensors4_1%3a3.4.0-4_amd64.deb ...\n",
      "\u001B7\u001B[24;0f\u001B[42m\u001B[30mProgress: [ 31%]\u001B[49m\u001B[39m [##################........................................] \u001B8Unpacking libsensors4:amd64 (1:3.4.0-4) ...\n",
      "\u001B7\u001B[24;0f\u001B[42m\u001B[30mProgress: [ 33%]\u001B[49m\u001B[39m [##################........................................] \u001B8Selecting previously unselected package libgl1-mesa-dri:amd64.\n",
      "Preparing to unpack .../18-libgl1-mesa-dri_20.0.8-0ubuntu1~18.04.1_amd64.deb ...\n",
      "\u001B7\u001B[24;0f\u001B[42m\u001B[30mProgress: [ 33%]\u001B[49m\u001B[39m [###################.......................................] \u001B8Unpacking libgl1-mesa-dri:amd64 (20.0.8-0ubuntu1~18.04.1) ...\n",
      "\u001B7\u001B[24;0f\u001B[42m\u001B[30mProgress: [ 34%]\u001B[49m\u001B[39m [###################.......................................] \u001B8Selecting previously unselected package libglvnd0:amd64.\n",
      "Preparing to unpack .../19-libglvnd0_1.0.0-2ubuntu2.3_amd64.deb ...\n",
      "Unpacking libglvnd0:amd64 (1.0.0-2ubuntu2.3) ...\n",
      "\u001B7\u001B[24;0f\u001B[42m\u001B[30mProgress: [ 36%]\u001B[49m\u001B[39m [####################......................................] \u001B8\u001B7\u001B[24;0f\u001B[42m\u001B[30mProgress: [ 36%]\u001B[49m\u001B[39m [####################......................................] \u001B8Selecting previously unselected package libx11-xcb1:amd64.\n",
      "Preparing to unpack .../20-libx11-xcb1_2%3a1.6.4-3ubuntu0.4_amd64.deb ...\n",
      "Unpacking libx11-xcb1:amd64 (2:1.6.4-3ubuntu0.4) ...\n",
      "\u001B7\u001B[24;0f\u001B[42m\u001B[30mProgress: [ 37%]\u001B[49m\u001B[39m [#####################.....................................] \u001B8Selecting previously unselected package libxcb-dri2-0:amd64.\n",
      "Preparing to unpack .../21-libxcb-dri2-0_1.13-2~ubuntu18.04_amd64.deb ...\n",
      "\u001B7\u001B[24;0f\u001B[42m\u001B[30mProgress: [ 39%]\u001B[49m\u001B[39m [######################....................................] \u001B8Unpacking libxcb-dri2-0:amd64 (1.13-2~ubuntu18.04) ...\n",
      "\u001B7\u001B[24;0f\u001B[42m\u001B[30mProgress: [ 39%]\u001B[49m\u001B[39m [######################....................................] \u001B8Selecting previously unselected package libxcb-dri3-0:amd64.\n",
      "Preparing to unpack .../22-libxcb-dri3-0_1.13-2~ubuntu18.04_amd64.deb ...\n",
      "\u001B7\u001B[24;0f\u001B[42m\u001B[30mProgress: [ 40%]\u001B[49m\u001B[39m [#######################...................................] \u001B8Unpacking libxcb-dri3-0:amd64 (1.13-2~ubuntu18.04) ...\n",
      "\u001B7\u001B[24;0f\u001B[42m\u001B[30mProgress: [ 42%]\u001B[49m\u001B[39m [########################..................................] \u001B8Selecting previously unselected package libxcb-glx0:amd64.\n",
      "Preparing to unpack .../23-libxcb-glx0_1.13-2~ubuntu18.04_amd64.deb ...\n",
      "\u001B7\u001B[24;0f\u001B[42m\u001B[30mProgress: [ 42%]\u001B[49m\u001B[39m [########################..................................] \u001B8Unpacking libxcb-glx0:amd64 (1.13-2~ubuntu18.04) ...\n",
      "\u001B7\u001B[24;0f\u001B[42m\u001B[30mProgress: [ 43%]\u001B[49m\u001B[39m [#########################.................................] \u001B8Selecting previously unselected package libxcb-present0:amd64.\n",
      "Preparing to unpack .../24-libxcb-present0_1.13-2~ubuntu18.04_amd64.deb ...\n",
      "Unpacking libxcb-present0:amd64 (1.13-2~ubuntu18.04) ...\n",
      "\u001B7\u001B[24;0f\u001B[42m\u001B[30mProgress: [ 45%]\u001B[49m\u001B[39m [#########################.................................] \u001B8\u001B7\u001B[24;0f\u001B[42m\u001B[30mProgress: [ 45%]\u001B[49m\u001B[39m [##########################................................] \u001B8Selecting previously unselected package libxcb-sync1:amd64.\n",
      "Preparing to unpack .../25-libxcb-sync1_1.13-2~ubuntu18.04_amd64.deb ...\n",
      "Unpacking libxcb-sync1:amd64 (1.13-2~ubuntu18.04) ...\n",
      "\u001B7\u001B[24;0f\u001B[42m\u001B[30mProgress: [ 46%]\u001B[49m\u001B[39m [##########################................................] \u001B8Selecting previously unselected package libxdamage1:amd64.\n",
      "Preparing to unpack .../26-libxdamage1_1%3a1.1.4-3_amd64.deb ...\n",
      "\u001B7\u001B[24;0f\u001B[42m\u001B[30mProgress: [ 48%]\u001B[49m\u001B[39m [###########################...............................] \u001B8Unpacking libxdamage1:amd64 (1:1.1.4-3) ...\n",
      "\u001B7\u001B[24;0f\u001B[42m\u001B[30mProgress: [ 48%]\u001B[49m\u001B[39m [###########################...............................] \u001B8Selecting previously unselected package libxfixes3:amd64.\n",
      "Preparing to unpack .../27-libxfixes3_1%3a5.0.3-1_amd64.deb ...\n",
      "\u001B7\u001B[24;0f\u001B[42m\u001B[30mProgress: [ 49%]\u001B[49m\u001B[39m [############################..............................] \u001B8Unpacking libxfixes3:amd64 (1:5.0.3-1) ...\n",
      "\u001B7\u001B[24;0f\u001B[42m\u001B[30mProgress: [ 50%]\u001B[49m\u001B[39m [#############################.............................] \u001B8Selecting previously unselected package libxshmfence1:amd64.\n",
      "Preparing to unpack .../28-libxshmfence1_1.3-1_amd64.deb ...\n",
      "\u001B7\u001B[24;0f\u001B[42m\u001B[30mProgress: [ 51%]\u001B[49m\u001B[39m [#############################.............................] \u001B8Unpacking libxshmfence1:amd64 (1.3-1) ...\n",
      "\u001B7\u001B[24;0f\u001B[42m\u001B[30mProgress: [ 52%]\u001B[49m\u001B[39m [##############################............................] \u001B8Selecting previously unselected package libglx-mesa0:amd64.\n",
      "Preparing to unpack .../29-libglx-mesa0_20.0.8-0ubuntu1~18.04.1_amd64.deb ...\n",
      "\u001B7\u001B[24;0f\u001B[42m\u001B[30mProgress: [ 53%]\u001B[49m\u001B[39m [##############################............................] \u001B8Unpacking libglx-mesa0:amd64 (20.0.8-0ubuntu1~18.04.1) ...\n",
      "\u001B7\u001B[24;0f\u001B[42m\u001B[30mProgress: [ 54%]\u001B[49m\u001B[39m [###############################...........................] \u001B8Selecting previously unselected package libglx0:amd64.\n",
      "Preparing to unpack .../30-libglx0_1.0.0-2ubuntu2.3_amd64.deb ...\n",
      "Unpacking libglx0:amd64 (1.0.0-2ubuntu2.3) ...\n",
      "\u001B7\u001B[24;0f\u001B[42m\u001B[30mProgress: [ 55%]\u001B[49m\u001B[39m [################################..........................] \u001B8\u001B7\u001B[24;0f\u001B[42m\u001B[30mProgress: [ 56%]\u001B[49m\u001B[39m [################################..........................] \u001B8Selecting previously unselected package libgl1:amd64.\n",
      "Preparing to unpack .../31-libgl1_1.0.0-2ubuntu2.3_amd64.deb ...\n",
      "Unpacking libgl1:amd64 (1.0.0-2ubuntu2.3) ...\n",
      "\u001B7\u001B[24;0f\u001B[42m\u001B[30mProgress: [ 57%]\u001B[49m\u001B[39m [#################################.........................] \u001B8Selecting previously unselected package libgl1-mesa-glx:amd64.\n",
      "Preparing to unpack .../32-libgl1-mesa-glx_20.0.8-0ubuntu1~18.04.1_amd64.deb ...\n",
      "\u001B7\u001B[24;0f\u001B[42m\u001B[30mProgress: [ 58%]\u001B[49m\u001B[39m [#################################.........................] \u001B8Unpacking libgl1-mesa-glx:amd64 (20.0.8-0ubuntu1~18.04.1) ...\n",
      "\u001B7\u001B[24;0f\u001B[42m\u001B[30mProgress: [ 59%]\u001B[49m\u001B[39m [##################################........................] \u001B8Setting up libglvnd0:amd64 (1.0.0-2ubuntu2.3) ...\n",
      "\u001B7\u001B[24;0f\u001B[42m\u001B[30mProgress: [ 60%]\u001B[49m\u001B[39m [##################################........................] \u001B8Setting up libllvm10:amd64 (1:10.0.0-4ubuntu1~18.04.2) ...\n",
      "\u001B7\u001B[24;0f\u001B[42m\u001B[30mProgress: [ 61%]\u001B[49m\u001B[39m [###################################.......................] \u001B8\u001B7\u001B[24;0f\u001B[42m\u001B[30mProgress: [ 62%]\u001B[49m\u001B[39m [###################################.......................] \u001B8Setting up libelf1:amd64 (0.170-0.4ubuntu0.1) ...\n",
      "\u001B7\u001B[24;0f\u001B[42m\u001B[30mProgress: [ 63%]\u001B[49m\u001B[39m [####################################......................] \u001B8Setting up libxshmfence1:amd64 (1.3-1) ...\n",
      "\u001B7\u001B[24;0f\u001B[42m\u001B[30mProgress: [ 64%]\u001B[49m\u001B[39m [#####################################.....................] \u001B8Setting up libglapi-mesa:amd64 (20.0.8-0ubuntu1~18.04.1) ...\n",
      "\u001B7\u001B[24;0f\u001B[42m\u001B[30mProgress: [ 65%]\u001B[49m\u001B[39m [#####################################.....................] \u001B8Setting up libdrm-common (2.4.101-2~18.04.1) ...\n",
      "\u001B7\u001B[24;0f\u001B[42m\u001B[30mProgress: [ 66%]\u001B[49m\u001B[39m [######################################....................] \u001B8Setting up libx11-xcb1:amd64 (2:1.6.4-3ubuntu0.4) ...\n",
      "\u001B7\u001B[24;0f\u001B[42m\u001B[30mProgress: [ 67%]\u001B[49m\u001B[39m [#######################################...................] \u001B8\u001B7\u001B[24;0f\u001B[42m\u001B[30mProgress: [ 68%]\u001B[49m\u001B[39m [#######################################...................] \u001B8Setting up libpciaccess0:amd64 (0.14-1) ...\n",
      "\u001B7\u001B[24;0f\u001B[42m\u001B[30mProgress: [ 69%]\u001B[49m\u001B[39m [########################################..................] \u001B8Setting up libsensors4:amd64 (1:3.4.0-4) ...\n",
      "\u001B7\u001B[24;0f\u001B[42m\u001B[30mProgress: [ 70%]\u001B[49m\u001B[39m [########################################..................] \u001B8Setting up libxdmcp6:amd64 (1:1.1.2-3) ...\n",
      "\u001B7\u001B[24;0f\u001B[42m\u001B[30mProgress: [ 71%]\u001B[49m\u001B[39m [#########################################.................] \u001B8Setting up libx11-data (2:1.6.4-3ubuntu0.4) ...\n",
      "\u001B7\u001B[24;0f\u001B[42m\u001B[30mProgress: [ 72%]\u001B[49m\u001B[39m [#########################################.................] \u001B8Setting up libxau6:amd64 (1:1.0.8-1ubuntu1) ...\n",
      "\u001B7\u001B[24;0f\u001B[42m\u001B[30mProgress: [ 73%]\u001B[49m\u001B[39m [##########################################................] \u001B8\u001B7\u001B[24;0f\u001B[42m\u001B[30mProgress: [ 74%]\u001B[49m\u001B[39m [##########################################................] \u001B8Setting up libdrm2:amd64 (2.4.101-2~18.04.1) ...\n",
      "\u001B7\u001B[24;0f\u001B[42m\u001B[30mProgress: [ 75%]\u001B[49m\u001B[39m [###########################################...............] \u001B8Setting up libdrm-intel1:amd64 (2.4.101-2~18.04.1) ...\n",
      "\u001B7\u001B[24;0f\u001B[42m\u001B[30mProgress: [ 77%]\u001B[49m\u001B[39m [############################################..............] \u001B8Setting up libdrm-radeon1:amd64 (2.4.101-2~18.04.1) ...\n",
      "\u001B7\u001B[24;0f\u001B[42m\u001B[30mProgress: [ 77%]\u001B[49m\u001B[39m [############################################..............] \u001B8Setting up libdrm-nouveau2:amd64 (2.4.101-2~18.04.1) ...\n",
      "\u001B7\u001B[24;0f\u001B[42m\u001B[30mProgress: [ 78%]\u001B[49m\u001B[39m [#############################################.............] \u001B8Setting up libxcb1:amd64 (1.13-2~ubuntu18.04) ...\n",
      "\u001B7\u001B[24;0f\u001B[42m\u001B[30mProgress: [ 80%]\u001B[49m\u001B[39m [##############################################............] \u001B8\u001B7\u001B[24;0f\u001B[42m\u001B[30mProgress: [ 80%]\u001B[49m\u001B[39m [##############################################............] \u001B8Setting up libxcb-present0:amd64 (1.13-2~ubuntu18.04) ...\n",
      "\u001B7\u001B[24;0f\u001B[42m\u001B[30mProgress: [ 81%]\u001B[49m\u001B[39m [###############################################...........] \u001B8Setting up libxcb-dri2-0:amd64 (1.13-2~ubuntu18.04) ...\n",
      "\u001B7\u001B[24;0f\u001B[42m\u001B[30mProgress: [ 83%]\u001B[49m\u001B[39m [###############################################...........] \u001B8Setting up libxcb-dri3-0:amd64 (1.13-2~ubuntu18.04) ...\n",
      "\u001B7\u001B[24;0f\u001B[42m\u001B[30mProgress: [ 83%]\u001B[49m\u001B[39m [################################################..........] \u001B8Setting up libxcb-glx0:amd64 (1.13-2~ubuntu18.04) ...\n",
      "\u001B7\u001B[24;0f\u001B[42m\u001B[30mProgress: [ 84%]\u001B[49m\u001B[39m [################################################..........] \u001B8Setting up libdrm-amdgpu1:amd64 (2.4.101-2~18.04.1) ...\n",
      "\u001B7\u001B[24;0f\u001B[42m\u001B[30mProgress: [ 86%]\u001B[49m\u001B[39m [#################################################.........] \u001B8\u001B7\u001B[24;0f\u001B[42m\u001B[30mProgress: [ 86%]\u001B[49m\u001B[39m [#################################################.........] \u001B8Setting up libx11-6:amd64 (2:1.6.4-3ubuntu0.4) ...\n",
      "\u001B7\u001B[24;0f\u001B[42m\u001B[30mProgress: [ 87%]\u001B[49m\u001B[39m [##################################################........] \u001B8Setting up libgl1-mesa-dri:amd64 (20.0.8-0ubuntu1~18.04.1) ...\n",
      "\u001B7\u001B[24;0f\u001B[42m\u001B[30mProgress: [ 89%]\u001B[49m\u001B[39m [###################################################.......] \u001B8Setting up libxcb-sync1:amd64 (1.13-2~ubuntu18.04) ...\n",
      "\u001B7\u001B[24;0f\u001B[42m\u001B[30mProgress: [ 89%]\u001B[49m\u001B[39m [###################################################.......] \u001B8Setting up libxdamage1:amd64 (1:1.1.4-3) ...\n",
      "\u001B7\u001B[24;0f\u001B[42m\u001B[30mProgress: [ 90%]\u001B[49m\u001B[39m [####################################################......] \u001B8Setting up libxext6:amd64 (2:1.3.3-1) ...\n",
      "\u001B7\u001B[24;0f\u001B[42m\u001B[30mProgress: [ 92%]\u001B[49m\u001B[39m [#####################################################.....] \u001B8\u001B7\u001B[24;0f\u001B[42m\u001B[30mProgress: [ 92%]\u001B[49m\u001B[39m [#####################################################.....] \u001B8Setting up libxfixes3:amd64 (1:5.0.3-1) ...\n",
      "\u001B7\u001B[24;0f\u001B[42m\u001B[30mProgress: [ 93%]\u001B[49m\u001B[39m [######################################################....] \u001B8Setting up libxxf86vm1:amd64 (1:1.1.4-1) ...\n",
      "\u001B7\u001B[24;0f\u001B[42m\u001B[30mProgress: [ 95%]\u001B[49m\u001B[39m [######################################################....] \u001B8Setting up libglx-mesa0:amd64 (20.0.8-0ubuntu1~18.04.1) ...\n",
      "\u001B7\u001B[24;0f\u001B[42m\u001B[30mProgress: [ 95%]\u001B[49m\u001B[39m [#######################################################...] \u001B8Setting up libglx0:amd64 (1.0.0-2ubuntu2.3) ...\n",
      "\u001B7\u001B[24;0f\u001B[42m\u001B[30mProgress: [ 96%]\u001B[49m\u001B[39m [#######################################################...] \u001B8Setting up libgl1:amd64 (1.0.0-2ubuntu2.3) ...\n",
      "\u001B7\u001B[24;0f\u001B[42m\u001B[30mProgress: [ 98%]\u001B[49m\u001B[39m [########################################################..] \u001B8\u001B7\u001B[24;0f\u001B[42m\u001B[30mProgress: [ 98%]\u001B[49m\u001B[39m [########################################################..] \u001B8Setting up libgl1-mesa-glx:amd64 (20.0.8-0ubuntu1~18.04.1) ...\n",
      "\u001B7\u001B[24;0f\u001B[42m\u001B[30mProgress: [ 99%]\u001B[49m\u001B[39m [#########################################################.] \u001B8Processing triggers for libc-bin (2.27-3ubuntu1.4) ...\n",
      "\n",
      "\u001B7\u001B[0;24r\u001B8\u001B[1A\u001B[J"
     ]
    }
   ],
   "source": [
    "!pip3 install torch==1.9.0+cu111 torchvision==0.10.0+cu111 torchaudio===0.9.0 -f https://download.pytorch.org/whl/torch_stable.html\n",
    "!pip install nuscenes-devkit\n",
    "!pip install wandb\n",
    "\n",
    "# Fix error : libGL.so.1: cannot open shared object file: No such file or directory\n",
    "!apt-get update\n",
    "!apt install -y libgl1-mesa-glx"
   ]
  },
  {
   "cell_type": "code",
   "execution_count": 1,
   "metadata": {},
   "outputs": [
    {
     "name": "stdout",
     "output_type": "stream",
     "text": [
      "True\n",
      "Running on  cuda:0\n",
      "Device count: 1\n"
     ]
    }
   ],
   "source": [
    "import torch\n",
    "\n",
    "print(torch.cuda.is_available())\n",
    "\n",
    "device = torch.device('cuda:0' if torch.cuda.is_available() else 'cpu')\n",
    "print('Running on ', device)\n",
    "print(f\"Device count: {torch.cuda.device_count()}\")"
   ]
  },
  {
   "cell_type": "code",
   "execution_count": 2,
   "metadata": {},
   "outputs": [],
   "source": [
    "CURRENT_PATH = './'\n",
    "\n",
    "#NPY_DATASET_PATH = './NpyDataset/Multiagent/'\n",
    "NPY_DATASET_PATH = './'\n",
    "\n",
    "#TRAJECTORY_SET_PATH = './Dataset/'\n",
    "TRAJECTORY_SET_PATH = './'\n",
    "\n",
    "#VALIDATION_SAMPLES_PATH = \"./CustomDataSplit/validation_samples.json\"\n",
    "VALIDATION_SAMPLES_PATH = \"./validation_samples.json\""
   ]
  },
  {
   "cell_type": "markdown",
   "metadata": {},
   "source": [
    "Unzip nessesary files"
   ]
  },
  {
   "cell_type": "code",
   "execution_count": 3,
   "metadata": {},
   "outputs": [],
   "source": [
    "import os\n",
    "import zipfile\n",
    "import subprocess\n",
    "\n",
    "def unzipFile(pathToZip, pathToOut):\n",
    "    unzip = ['unzip', '-o', pathToZip, '-d', pathToOut]\n",
    "    p = subprocess.call(unzip)"
   ]
  },
  {
   "cell_type": "code",
   "execution_count": 4,
   "metadata": {},
   "outputs": [],
   "source": [
    "#unzipFile(f'./prediction_trajectory_sets.zip', CURRENT_PATH)\n",
    "unzipFile(f'./repVgg.zip', CURRENT_PATH)"
   ]
  },
  {
   "cell_type": "code",
   "execution_count": 5,
   "metadata": {},
   "outputs": [],
   "source": [
    "unzipFile(f'./multiagent_validation_features_6k.zip', CURRENT_PATH)\n",
    "unzipFile(f'./multiagent_train_features_24k.zip', CURRENT_PATH)"
   ]
  },
  {
   "cell_type": "markdown",
   "metadata": {},
   "source": [
    "Load files"
   ]
  },
  {
   "cell_type": "code",
   "execution_count": 6,
   "metadata": {},
   "outputs": [],
   "source": [
    "import json\n",
    "\n",
    "def json_loader(path):\n",
    "    with open(VALIDATION_SAMPLES_PATH, \"r\") as read_file:\n",
    "        result_list = json.load(read_file)\n",
    "        \n",
    "    return result_list"
   ]
  },
  {
   "cell_type": "code",
   "execution_count": 7,
   "metadata": {},
   "outputs": [
    {
     "data": {
      "text/plain": [
       "6200"
      ]
     },
     "execution_count": 7,
     "metadata": {},
     "output_type": "execute_result"
    }
   ],
   "source": [
    "validation_samples = json_loader(VALIDATION_SAMPLES_PATH)\n",
    "len(validation_samples)"
   ]
  },
  {
   "cell_type": "code",
   "execution_count": 8,
   "metadata": {},
   "outputs": [],
   "source": [
    "import numpy as np\n",
    "\n",
    "# Npy dataset\n",
    "\n",
    "train_features = np.load(f'{NPY_DATASET_PATH}multiagent_train_features_24k.npy')\n",
    "train_states = np.load(f'{NPY_DATASET_PATH}multiagent_train_states_24k.npy')\n",
    "train_labels = np.load(f'{NPY_DATASET_PATH}multiagent_train_labels_24k.npy')\n",
    "\n",
    "validation_features = np.load(f'{NPY_DATASET_PATH}multiagent_validation_features_6k.npy')\n",
    "validation_states = np.load(f'{NPY_DATASET_PATH}multiagent_validation_states_6k.npy')\n",
    "validation_labels = np.load(f'{NPY_DATASET_PATH}multiagent_validation_labels_6k.npy')"
   ]
  },
  {
   "cell_type": "code",
   "execution_count": 9,
   "metadata": {},
   "outputs": [],
   "source": [
    "# train_features = train_features[:100]\n",
    "# train_states = train_states[:100]\n",
    "# train_labels = train_labels[:100]\n",
    "\n",
    "# validation_features = validation_features[:100]\n",
    "# validation_states = validation_states[:100]\n",
    "# validation_labels = validation_labels[:100]"
   ]
  },
  {
   "cell_type": "code",
   "execution_count": 10,
   "metadata": {},
   "outputs": [
    {
     "data": {
      "text/plain": [
       "(24250, 24250, 24250)"
      ]
     },
     "execution_count": 10,
     "metadata": {},
     "output_type": "execute_result"
    }
   ],
   "source": [
    "len(train_features), len(train_states), len(train_labels)"
   ]
  },
  {
   "cell_type": "code",
   "execution_count": 11,
   "metadata": {},
   "outputs": [
    {
     "data": {
      "text/plain": [
       "(6200, 6200, 6200)"
      ]
     },
     "execution_count": 11,
     "metadata": {},
     "output_type": "execute_result"
    }
   ],
   "source": [
    "len(validation_features), len(validation_states), len(validation_labels)"
   ]
  },
  {
   "cell_type": "code",
   "execution_count": 12,
   "metadata": {},
   "outputs": [
    {
     "data": {
      "text/plain": [
       "(numpy.ndarray, numpy.float32)"
      ]
     },
     "execution_count": 12,
     "metadata": {},
     "output_type": "execute_result"
    }
   ],
   "source": [
    "# Fix error dot : expected both vectors to have same dtype, but found Double and Float\n",
    "# Because predictions from MTP in type float32\n",
    "\n",
    "train_labels = train_labels.astype(np.float32)\n",
    "type(train_labels), type(train_labels[0][0])"
   ]
  },
  {
   "cell_type": "markdown",
   "metadata": {},
   "source": [
    "Wandb config"
   ]
  },
  {
   "cell_type": "code",
   "execution_count": 13,
   "metadata": {},
   "outputs": [
    {
     "name": "stderr",
     "output_type": "stream",
     "text": [
      "\u001B[34m\u001B[1mwandb\u001B[0m: Currently logged in as: \u001B[33mtechtoker\u001B[0m (use `wandb login --relogin` to force relogin)\n"
     ]
    },
    {
     "data": {
      "text/html": [
       "\n",
       "                Tracking run with wandb version 0.11.0<br/>\n",
       "                Syncing run <strong style=\"color:#cdcd00\">avid-night-20</strong> to <a href=\"https://wandb.ai\" target=\"_blank\">Weights & Biases</a> <a href=\"https://docs.wandb.com/integrations/jupyter.html\" target=\"_blank\">(Documentation)</a>.<br/>\n",
       "                Project page: <a href=\"https://wandb.ai/techtoker/MTP\" target=\"_blank\">https://wandb.ai/techtoker/MTP</a><br/>\n",
       "                Run page: <a href=\"https://wandb.ai/techtoker/MTP/runs/1yw8v8ix\" target=\"_blank\">https://wandb.ai/techtoker/MTP/runs/1yw8v8ix</a><br/>\n",
       "                Run data is saved locally in <code>/root/wandb/run-20210718_133648-1yw8v8ix</code><br/><br/>\n",
       "            "
      ],
      "text/plain": [
       "<IPython.core.display.HTML object>"
      ]
     },
     "metadata": {},
     "output_type": "display_data"
    }
   ],
   "source": [
    "import wandb\n",
    "\n",
    "wandb.init(\n",
    "    project='MTP',\n",
    "    #project='testing',\n",
    "    entity='techtoker',\n",
    "    config={    \n",
    "        \"epoch\": 30,\n",
    "        \"batch_size\": 32,\n",
    "        # Trajectory set 8: 64 ;Trajectory set 2 : 2206\n",
    "        \"num_modes\": 10,\n",
    "        \"lr\":1e-4,\n",
    "        \"notes\": \"v0.2 : MTP Multiagent model: train: 20k cars, 3600 peds, 800 motobikes; val: 5k cars 1k peds, 200 motobikes\"\n",
    "    })\n",
    "\n",
    "config = wandb.config"
   ]
  },
  {
   "cell_type": "markdown",
   "metadata": {
    "pycharm": {
     "name": "#%% md\n"
    }
   },
   "source": [
    "Dataset"
   ]
  },
  {
   "cell_type": "code",
   "execution_count": 14,
   "metadata": {
    "pycharm": {
     "name": "#%%\n"
    }
   },
   "outputs": [],
   "source": [
    "from torch.utils.data import DataLoader, Dataset\n",
    "\n",
    "import numpy as np\n",
    "from typing import List\n",
    "\n",
    "class NuscenesDataset(Dataset):\n",
    "    def __init__(self, features: List[str], states: List[str], labels: List[str]):\n",
    "        self.features = features\n",
    "        self.states = states\n",
    "        self.labels = labels\n",
    "\n",
    "    def __len__(self):\n",
    "        return len(self.features)\n",
    "    \n",
    "    def __getitem__(self, index: int):\n",
    "\n",
    "        image = self.features[index].reshape((500, 500, 3))\n",
    "        image = torch.Tensor(image).permute(2, 0, 1)\n",
    "        \n",
    "        agent_state_vector = torch.Tensor(self.states[index])\n",
    "        ground_truth = self.labels[index].reshape((12, 2))\n",
    "\n",
    "        # Convert to [batch_size, 1, 12, 2]\n",
    "        # Because loss function need that format\n",
    "        ground_truth = np.expand_dims(ground_truth, 0)\n",
    "\n",
    "        return image, agent_state_vector, ground_truth"
   ]
  },
  {
   "cell_type": "code",
   "execution_count": 15,
   "metadata": {
    "pycharm": {
     "name": "#%%\n"
    }
   },
   "outputs": [],
   "source": [
    "train_ds = NuscenesDataset(train_features, train_states, train_labels)\n",
    "train_dl = DataLoader(train_ds, batch_size=config.batch_size, shuffle=True)\n",
    "\n",
    "validation_ds = NuscenesDataset(validation_features, validation_states, validation_labels)\n",
    "validation_dl = DataLoader(train_ds, batch_size=config.batch_size * 2)"
   ]
  },
  {
   "cell_type": "code",
   "execution_count": 16,
   "metadata": {},
   "outputs": [
    {
     "name": "stdout",
     "output_type": "stream",
     "text": [
      "torch.Size([32, 3, 500, 500])\n",
      "torch.Size([32, 3])\n",
      "torch.Size([32, 1, 12, 2])\n"
     ]
    }
   ],
   "source": [
    "image, state, ground_truth = next(iter(train_dl))\n",
    "print(image.size())\n",
    "print(state.size())\n",
    "print(ground_truth.size())"
   ]
  },
  {
   "cell_type": "code",
   "execution_count": 17,
   "metadata": {
    "pycharm": {
     "name": "#%%\n"
    }
   },
   "outputs": [
    {
     "name": "stdout",
     "output_type": "stream",
     "text": [
      "RepVGG Block, identity =  None\n",
      "RepVGG Block, identity =  None\n",
      "RepVGG Block, identity =  BatchNorm2d(48, eps=1e-05, momentum=0.1, affine=True, track_running_stats=True)\n",
      "RepVGG Block, identity =  None\n",
      "RepVGG Block, identity =  BatchNorm2d(96, eps=1e-05, momentum=0.1, affine=True, track_running_stats=True)\n",
      "RepVGG Block, identity =  BatchNorm2d(96, eps=1e-05, momentum=0.1, affine=True, track_running_stats=True)\n",
      "RepVGG Block, identity =  BatchNorm2d(96, eps=1e-05, momentum=0.1, affine=True, track_running_stats=True)\n",
      "RepVGG Block, identity =  None\n",
      "RepVGG Block, identity =  BatchNorm2d(192, eps=1e-05, momentum=0.1, affine=True, track_running_stats=True)\n",
      "RepVGG Block, identity =  BatchNorm2d(192, eps=1e-05, momentum=0.1, affine=True, track_running_stats=True)\n",
      "RepVGG Block, identity =  BatchNorm2d(192, eps=1e-05, momentum=0.1, affine=True, track_running_stats=True)\n",
      "RepVGG Block, identity =  BatchNorm2d(192, eps=1e-05, momentum=0.1, affine=True, track_running_stats=True)\n",
      "RepVGG Block, identity =  BatchNorm2d(192, eps=1e-05, momentum=0.1, affine=True, track_running_stats=True)\n",
      "RepVGG Block, identity =  BatchNorm2d(192, eps=1e-05, momentum=0.1, affine=True, track_running_stats=True)\n",
      "RepVGG Block, identity =  BatchNorm2d(192, eps=1e-05, momentum=0.1, affine=True, track_running_stats=True)\n",
      "RepVGG Block, identity =  BatchNorm2d(192, eps=1e-05, momentum=0.1, affine=True, track_running_stats=True)\n",
      "RepVGG Block, identity =  BatchNorm2d(192, eps=1e-05, momentum=0.1, affine=True, track_running_stats=True)\n",
      "RepVGG Block, identity =  BatchNorm2d(192, eps=1e-05, momentum=0.1, affine=True, track_running_stats=True)\n",
      "RepVGG Block, identity =  BatchNorm2d(192, eps=1e-05, momentum=0.1, affine=True, track_running_stats=True)\n",
      "RepVGG Block, identity =  BatchNorm2d(192, eps=1e-05, momentum=0.1, affine=True, track_running_stats=True)\n",
      "RepVGG Block, identity =  BatchNorm2d(192, eps=1e-05, momentum=0.1, affine=True, track_running_stats=True)\n",
      "RepVGG Block, identity =  None\n"
     ]
    }
   ],
   "source": [
    "from repVgg.repVggBackbone import RepVGGBackbone\n",
    "\n",
    "# RepVGG\n",
    "backbone = RepVGGBackbone()"
   ]
  },
  {
   "cell_type": "code",
   "execution_count": 18,
   "metadata": {
    "pycharm": {
     "name": "#%%\n"
    }
   },
   "outputs": [
    {
     "name": "stdout",
     "output_type": "stream",
     "text": [
      "RepVGGBackbone(\n",
      "  (backbone): RepVGG(\n",
      "    (stage0): RepVGGBlock(\n",
      "      (nonlinearity): ReLU()\n",
      "      (se): Identity()\n",
      "      (rbr_dense): Sequential(\n",
      "        (conv): Conv2d(3, 48, kernel_size=(3, 3), stride=(2, 2), padding=(1, 1), bias=False)\n",
      "        (bn): BatchNorm2d(48, eps=1e-05, momentum=0.1, affine=True, track_running_stats=True)\n",
      "      )\n",
      "      (rbr_1x1): Sequential(\n",
      "        (conv): Conv2d(3, 48, kernel_size=(1, 1), stride=(2, 2), bias=False)\n",
      "        (bn): BatchNorm2d(48, eps=1e-05, momentum=0.1, affine=True, track_running_stats=True)\n",
      "      )\n",
      "    )\n",
      "    (stage1): Sequential(\n",
      "      (0): RepVGGBlock(\n",
      "        (nonlinearity): ReLU()\n",
      "        (se): Identity()\n",
      "        (rbr_dense): Sequential(\n",
      "          (conv): Conv2d(48, 48, kernel_size=(3, 3), stride=(2, 2), padding=(1, 1), bias=False)\n",
      "          (bn): BatchNorm2d(48, eps=1e-05, momentum=0.1, affine=True, track_running_stats=True)\n",
      "        )\n",
      "        (rbr_1x1): Sequential(\n",
      "          (conv): Conv2d(48, 48, kernel_size=(1, 1), stride=(2, 2), bias=False)\n",
      "          (bn): BatchNorm2d(48, eps=1e-05, momentum=0.1, affine=True, track_running_stats=True)\n",
      "        )\n",
      "      )\n",
      "      (1): RepVGGBlock(\n",
      "        (nonlinearity): ReLU()\n",
      "        (se): Identity()\n",
      "        (rbr_identity): BatchNorm2d(48, eps=1e-05, momentum=0.1, affine=True, track_running_stats=True)\n",
      "        (rbr_dense): Sequential(\n",
      "          (conv): Conv2d(48, 48, kernel_size=(3, 3), stride=(1, 1), padding=(1, 1), bias=False)\n",
      "          (bn): BatchNorm2d(48, eps=1e-05, momentum=0.1, affine=True, track_running_stats=True)\n",
      "        )\n",
      "        (rbr_1x1): Sequential(\n",
      "          (conv): Conv2d(48, 48, kernel_size=(1, 1), stride=(1, 1), bias=False)\n",
      "          (bn): BatchNorm2d(48, eps=1e-05, momentum=0.1, affine=True, track_running_stats=True)\n",
      "        )\n",
      "      )\n",
      "    )\n",
      "    (stage2): Sequential(\n",
      "      (0): RepVGGBlock(\n",
      "        (nonlinearity): ReLU()\n",
      "        (se): Identity()\n",
      "        (rbr_dense): Sequential(\n",
      "          (conv): Conv2d(48, 96, kernel_size=(3, 3), stride=(2, 2), padding=(1, 1), bias=False)\n",
      "          (bn): BatchNorm2d(96, eps=1e-05, momentum=0.1, affine=True, track_running_stats=True)\n",
      "        )\n",
      "        (rbr_1x1): Sequential(\n",
      "          (conv): Conv2d(48, 96, kernel_size=(1, 1), stride=(2, 2), bias=False)\n",
      "          (bn): BatchNorm2d(96, eps=1e-05, momentum=0.1, affine=True, track_running_stats=True)\n",
      "        )\n",
      "      )\n",
      "      (1): RepVGGBlock(\n",
      "        (nonlinearity): ReLU()\n",
      "        (se): Identity()\n",
      "        (rbr_identity): BatchNorm2d(96, eps=1e-05, momentum=0.1, affine=True, track_running_stats=True)\n",
      "        (rbr_dense): Sequential(\n",
      "          (conv): Conv2d(96, 96, kernel_size=(3, 3), stride=(1, 1), padding=(1, 1), bias=False)\n",
      "          (bn): BatchNorm2d(96, eps=1e-05, momentum=0.1, affine=True, track_running_stats=True)\n",
      "        )\n",
      "        (rbr_1x1): Sequential(\n",
      "          (conv): Conv2d(96, 96, kernel_size=(1, 1), stride=(1, 1), bias=False)\n",
      "          (bn): BatchNorm2d(96, eps=1e-05, momentum=0.1, affine=True, track_running_stats=True)\n",
      "        )\n",
      "      )\n",
      "      (2): RepVGGBlock(\n",
      "        (nonlinearity): ReLU()\n",
      "        (se): Identity()\n",
      "        (rbr_identity): BatchNorm2d(96, eps=1e-05, momentum=0.1, affine=True, track_running_stats=True)\n",
      "        (rbr_dense): Sequential(\n",
      "          (conv): Conv2d(96, 96, kernel_size=(3, 3), stride=(1, 1), padding=(1, 1), bias=False)\n",
      "          (bn): BatchNorm2d(96, eps=1e-05, momentum=0.1, affine=True, track_running_stats=True)\n",
      "        )\n",
      "        (rbr_1x1): Sequential(\n",
      "          (conv): Conv2d(96, 96, kernel_size=(1, 1), stride=(1, 1), bias=False)\n",
      "          (bn): BatchNorm2d(96, eps=1e-05, momentum=0.1, affine=True, track_running_stats=True)\n",
      "        )\n",
      "      )\n",
      "      (3): RepVGGBlock(\n",
      "        (nonlinearity): ReLU()\n",
      "        (se): Identity()\n",
      "        (rbr_identity): BatchNorm2d(96, eps=1e-05, momentum=0.1, affine=True, track_running_stats=True)\n",
      "        (rbr_dense): Sequential(\n",
      "          (conv): Conv2d(96, 96, kernel_size=(3, 3), stride=(1, 1), padding=(1, 1), bias=False)\n",
      "          (bn): BatchNorm2d(96, eps=1e-05, momentum=0.1, affine=True, track_running_stats=True)\n",
      "        )\n",
      "        (rbr_1x1): Sequential(\n",
      "          (conv): Conv2d(96, 96, kernel_size=(1, 1), stride=(1, 1), bias=False)\n",
      "          (bn): BatchNorm2d(96, eps=1e-05, momentum=0.1, affine=True, track_running_stats=True)\n",
      "        )\n",
      "      )\n",
      "    )\n",
      "    (stage3): Sequential(\n",
      "      (0): RepVGGBlock(\n",
      "        (nonlinearity): ReLU()\n",
      "        (se): Identity()\n",
      "        (rbr_dense): Sequential(\n",
      "          (conv): Conv2d(96, 192, kernel_size=(3, 3), stride=(2, 2), padding=(1, 1), bias=False)\n",
      "          (bn): BatchNorm2d(192, eps=1e-05, momentum=0.1, affine=True, track_running_stats=True)\n",
      "        )\n",
      "        (rbr_1x1): Sequential(\n",
      "          (conv): Conv2d(96, 192, kernel_size=(1, 1), stride=(2, 2), bias=False)\n",
      "          (bn): BatchNorm2d(192, eps=1e-05, momentum=0.1, affine=True, track_running_stats=True)\n",
      "        )\n",
      "      )\n",
      "      (1): RepVGGBlock(\n",
      "        (nonlinearity): ReLU()\n",
      "        (se): Identity()\n",
      "        (rbr_identity): BatchNorm2d(192, eps=1e-05, momentum=0.1, affine=True, track_running_stats=True)\n",
      "        (rbr_dense): Sequential(\n",
      "          (conv): Conv2d(192, 192, kernel_size=(3, 3), stride=(1, 1), padding=(1, 1), bias=False)\n",
      "          (bn): BatchNorm2d(192, eps=1e-05, momentum=0.1, affine=True, track_running_stats=True)\n",
      "        )\n",
      "        (rbr_1x1): Sequential(\n",
      "          (conv): Conv2d(192, 192, kernel_size=(1, 1), stride=(1, 1), bias=False)\n",
      "          (bn): BatchNorm2d(192, eps=1e-05, momentum=0.1, affine=True, track_running_stats=True)\n",
      "        )\n",
      "      )\n",
      "      (2): RepVGGBlock(\n",
      "        (nonlinearity): ReLU()\n",
      "        (se): Identity()\n",
      "        (rbr_identity): BatchNorm2d(192, eps=1e-05, momentum=0.1, affine=True, track_running_stats=True)\n",
      "        (rbr_dense): Sequential(\n",
      "          (conv): Conv2d(192, 192, kernel_size=(3, 3), stride=(1, 1), padding=(1, 1), bias=False)\n",
      "          (bn): BatchNorm2d(192, eps=1e-05, momentum=0.1, affine=True, track_running_stats=True)\n",
      "        )\n",
      "        (rbr_1x1): Sequential(\n",
      "          (conv): Conv2d(192, 192, kernel_size=(1, 1), stride=(1, 1), bias=False)\n",
      "          (bn): BatchNorm2d(192, eps=1e-05, momentum=0.1, affine=True, track_running_stats=True)\n",
      "        )\n",
      "      )\n",
      "      (3): RepVGGBlock(\n",
      "        (nonlinearity): ReLU()\n",
      "        (se): Identity()\n",
      "        (rbr_identity): BatchNorm2d(192, eps=1e-05, momentum=0.1, affine=True, track_running_stats=True)\n",
      "        (rbr_dense): Sequential(\n",
      "          (conv): Conv2d(192, 192, kernel_size=(3, 3), stride=(1, 1), padding=(1, 1), bias=False)\n",
      "          (bn): BatchNorm2d(192, eps=1e-05, momentum=0.1, affine=True, track_running_stats=True)\n",
      "        )\n",
      "        (rbr_1x1): Sequential(\n",
      "          (conv): Conv2d(192, 192, kernel_size=(1, 1), stride=(1, 1), bias=False)\n",
      "          (bn): BatchNorm2d(192, eps=1e-05, momentum=0.1, affine=True, track_running_stats=True)\n",
      "        )\n",
      "      )\n",
      "      (4): RepVGGBlock(\n",
      "        (nonlinearity): ReLU()\n",
      "        (se): Identity()\n",
      "        (rbr_identity): BatchNorm2d(192, eps=1e-05, momentum=0.1, affine=True, track_running_stats=True)\n",
      "        (rbr_dense): Sequential(\n",
      "          (conv): Conv2d(192, 192, kernel_size=(3, 3), stride=(1, 1), padding=(1, 1), bias=False)\n",
      "          (bn): BatchNorm2d(192, eps=1e-05, momentum=0.1, affine=True, track_running_stats=True)\n",
      "        )\n",
      "        (rbr_1x1): Sequential(\n",
      "          (conv): Conv2d(192, 192, kernel_size=(1, 1), stride=(1, 1), bias=False)\n",
      "          (bn): BatchNorm2d(192, eps=1e-05, momentum=0.1, affine=True, track_running_stats=True)\n",
      "        )\n",
      "      )\n",
      "      (5): RepVGGBlock(\n",
      "        (nonlinearity): ReLU()\n",
      "        (se): Identity()\n",
      "        (rbr_identity): BatchNorm2d(192, eps=1e-05, momentum=0.1, affine=True, track_running_stats=True)\n",
      "        (rbr_dense): Sequential(\n",
      "          (conv): Conv2d(192, 192, kernel_size=(3, 3), stride=(1, 1), padding=(1, 1), bias=False)\n",
      "          (bn): BatchNorm2d(192, eps=1e-05, momentum=0.1, affine=True, track_running_stats=True)\n",
      "        )\n",
      "        (rbr_1x1): Sequential(\n",
      "          (conv): Conv2d(192, 192, kernel_size=(1, 1), stride=(1, 1), bias=False)\n",
      "          (bn): BatchNorm2d(192, eps=1e-05, momentum=0.1, affine=True, track_running_stats=True)\n",
      "        )\n",
      "      )\n",
      "      (6): RepVGGBlock(\n",
      "        (nonlinearity): ReLU()\n",
      "        (se): Identity()\n",
      "        (rbr_identity): BatchNorm2d(192, eps=1e-05, momentum=0.1, affine=True, track_running_stats=True)\n",
      "        (rbr_dense): Sequential(\n",
      "          (conv): Conv2d(192, 192, kernel_size=(3, 3), stride=(1, 1), padding=(1, 1), bias=False)\n",
      "          (bn): BatchNorm2d(192, eps=1e-05, momentum=0.1, affine=True, track_running_stats=True)\n",
      "        )\n",
      "        (rbr_1x1): Sequential(\n",
      "          (conv): Conv2d(192, 192, kernel_size=(1, 1), stride=(1, 1), bias=False)\n",
      "          (bn): BatchNorm2d(192, eps=1e-05, momentum=0.1, affine=True, track_running_stats=True)\n",
      "        )\n",
      "      )\n",
      "      (7): RepVGGBlock(\n",
      "        (nonlinearity): ReLU()\n",
      "        (se): Identity()\n",
      "        (rbr_identity): BatchNorm2d(192, eps=1e-05, momentum=0.1, affine=True, track_running_stats=True)\n",
      "        (rbr_dense): Sequential(\n",
      "          (conv): Conv2d(192, 192, kernel_size=(3, 3), stride=(1, 1), padding=(1, 1), bias=False)\n",
      "          (bn): BatchNorm2d(192, eps=1e-05, momentum=0.1, affine=True, track_running_stats=True)\n",
      "        )\n",
      "        (rbr_1x1): Sequential(\n",
      "          (conv): Conv2d(192, 192, kernel_size=(1, 1), stride=(1, 1), bias=False)\n",
      "          (bn): BatchNorm2d(192, eps=1e-05, momentum=0.1, affine=True, track_running_stats=True)\n",
      "        )\n",
      "      )\n",
      "      (8): RepVGGBlock(\n",
      "        (nonlinearity): ReLU()\n",
      "        (se): Identity()\n",
      "        (rbr_identity): BatchNorm2d(192, eps=1e-05, momentum=0.1, affine=True, track_running_stats=True)\n",
      "        (rbr_dense): Sequential(\n",
      "          (conv): Conv2d(192, 192, kernel_size=(3, 3), stride=(1, 1), padding=(1, 1), bias=False)\n",
      "          (bn): BatchNorm2d(192, eps=1e-05, momentum=0.1, affine=True, track_running_stats=True)\n",
      "        )\n",
      "        (rbr_1x1): Sequential(\n",
      "          (conv): Conv2d(192, 192, kernel_size=(1, 1), stride=(1, 1), bias=False)\n",
      "          (bn): BatchNorm2d(192, eps=1e-05, momentum=0.1, affine=True, track_running_stats=True)\n",
      "        )\n",
      "      )\n",
      "      (9): RepVGGBlock(\n",
      "        (nonlinearity): ReLU()\n",
      "        (se): Identity()\n",
      "        (rbr_identity): BatchNorm2d(192, eps=1e-05, momentum=0.1, affine=True, track_running_stats=True)\n",
      "        (rbr_dense): Sequential(\n",
      "          (conv): Conv2d(192, 192, kernel_size=(3, 3), stride=(1, 1), padding=(1, 1), bias=False)\n",
      "          (bn): BatchNorm2d(192, eps=1e-05, momentum=0.1, affine=True, track_running_stats=True)\n",
      "        )\n",
      "        (rbr_1x1): Sequential(\n",
      "          (conv): Conv2d(192, 192, kernel_size=(1, 1), stride=(1, 1), bias=False)\n",
      "          (bn): BatchNorm2d(192, eps=1e-05, momentum=0.1, affine=True, track_running_stats=True)\n",
      "        )\n",
      "      )\n",
      "      (10): RepVGGBlock(\n",
      "        (nonlinearity): ReLU()\n",
      "        (se): Identity()\n",
      "        (rbr_identity): BatchNorm2d(192, eps=1e-05, momentum=0.1, affine=True, track_running_stats=True)\n",
      "        (rbr_dense): Sequential(\n",
      "          (conv): Conv2d(192, 192, kernel_size=(3, 3), stride=(1, 1), padding=(1, 1), bias=False)\n",
      "          (bn): BatchNorm2d(192, eps=1e-05, momentum=0.1, affine=True, track_running_stats=True)\n",
      "        )\n",
      "        (rbr_1x1): Sequential(\n",
      "          (conv): Conv2d(192, 192, kernel_size=(1, 1), stride=(1, 1), bias=False)\n",
      "          (bn): BatchNorm2d(192, eps=1e-05, momentum=0.1, affine=True, track_running_stats=True)\n",
      "        )\n",
      "      )\n",
      "      (11): RepVGGBlock(\n",
      "        (nonlinearity): ReLU()\n",
      "        (se): Identity()\n",
      "        (rbr_identity): BatchNorm2d(192, eps=1e-05, momentum=0.1, affine=True, track_running_stats=True)\n",
      "        (rbr_dense): Sequential(\n",
      "          (conv): Conv2d(192, 192, kernel_size=(3, 3), stride=(1, 1), padding=(1, 1), bias=False)\n",
      "          (bn): BatchNorm2d(192, eps=1e-05, momentum=0.1, affine=True, track_running_stats=True)\n",
      "        )\n",
      "        (rbr_1x1): Sequential(\n",
      "          (conv): Conv2d(192, 192, kernel_size=(1, 1), stride=(1, 1), bias=False)\n",
      "          (bn): BatchNorm2d(192, eps=1e-05, momentum=0.1, affine=True, track_running_stats=True)\n",
      "        )\n",
      "      )\n",
      "      (12): RepVGGBlock(\n",
      "        (nonlinearity): ReLU()\n",
      "        (se): Identity()\n",
      "        (rbr_identity): BatchNorm2d(192, eps=1e-05, momentum=0.1, affine=True, track_running_stats=True)\n",
      "        (rbr_dense): Sequential(\n",
      "          (conv): Conv2d(192, 192, kernel_size=(3, 3), stride=(1, 1), padding=(1, 1), bias=False)\n",
      "          (bn): BatchNorm2d(192, eps=1e-05, momentum=0.1, affine=True, track_running_stats=True)\n",
      "        )\n",
      "        (rbr_1x1): Sequential(\n",
      "          (conv): Conv2d(192, 192, kernel_size=(1, 1), stride=(1, 1), bias=False)\n",
      "          (bn): BatchNorm2d(192, eps=1e-05, momentum=0.1, affine=True, track_running_stats=True)\n",
      "        )\n",
      "      )\n",
      "      (13): RepVGGBlock(\n",
      "        (nonlinearity): ReLU()\n",
      "        (se): Identity()\n",
      "        (rbr_identity): BatchNorm2d(192, eps=1e-05, momentum=0.1, affine=True, track_running_stats=True)\n",
      "        (rbr_dense): Sequential(\n",
      "          (conv): Conv2d(192, 192, kernel_size=(3, 3), stride=(1, 1), padding=(1, 1), bias=False)\n",
      "          (bn): BatchNorm2d(192, eps=1e-05, momentum=0.1, affine=True, track_running_stats=True)\n",
      "        )\n",
      "        (rbr_1x1): Sequential(\n",
      "          (conv): Conv2d(192, 192, kernel_size=(1, 1), stride=(1, 1), bias=False)\n",
      "          (bn): BatchNorm2d(192, eps=1e-05, momentum=0.1, affine=True, track_running_stats=True)\n",
      "        )\n",
      "      )\n",
      "    )\n",
      "    (stage4): Sequential(\n",
      "      (0): RepVGGBlock(\n",
      "        (nonlinearity): ReLU()\n",
      "        (se): Identity()\n",
      "        (rbr_dense): Sequential(\n",
      "          (conv): Conv2d(192, 1280, kernel_size=(3, 3), stride=(2, 2), padding=(1, 1), bias=False)\n",
      "          (bn): BatchNorm2d(1280, eps=1e-05, momentum=0.1, affine=True, track_running_stats=True)\n",
      "        )\n",
      "        (rbr_1x1): Sequential(\n",
      "          (conv): Conv2d(192, 1280, kernel_size=(1, 1), stride=(2, 2), bias=False)\n",
      "          (bn): BatchNorm2d(1280, eps=1e-05, momentum=0.1, affine=True, track_running_stats=True)\n",
      "        )\n",
      "      )\n",
      "    )\n",
      "    (gap): AdaptiveAvgPool2d(output_size=1)\n",
      "    (linear): Linear(in_features=1280, out_features=1000, bias=True)\n",
      "  )\n",
      "  (linear): Linear(in_features=1280, out_features=2048, bias=True)\n",
      ")\n"
     ]
    }
   ],
   "source": [
    "# Reshape last layer as 2048 (not 1000)\n",
    "import torch.nn as nn\n",
    "\n",
    "backbone.linear = nn.Linear(in_features=1280, out_features=2048, bias=True)\n",
    "print(backbone)"
   ]
  },
  {
   "cell_type": "code",
   "execution_count": 19,
   "metadata": {},
   "outputs": [],
   "source": [
    "# # Set backbone to non-trainable\n",
    "\n",
    "# def set_parameter_requires_grad(model):\n",
    "#     for param in model.parameters():\n",
    "#         param.requires_grad = False\n",
    "        \n",
    "# set_parameter_requires_grad(backbone)"
   ]
  },
  {
   "cell_type": "code",
   "execution_count": 20,
   "metadata": {},
   "outputs": [],
   "source": [
    "from nuscenes.prediction.models.mtp import MTP, MTPLoss\n",
    "\n",
    "model = mtp = MTP(backbone, num_modes=config.num_modes)\n",
    "model = model.to(device)\n",
    "\n",
    "loss_function = MTPLoss(config.num_modes)"
   ]
  },
  {
   "cell_type": "code",
   "execution_count": 21,
   "metadata": {},
   "outputs": [
    {
     "name": "stdout",
     "output_type": "stream",
     "text": [
      "\t backbone.backbone.stage0.rbr_dense.conv.weight\n",
      "\t backbone.backbone.stage0.rbr_dense.bn.weight\n",
      "\t backbone.backbone.stage0.rbr_dense.bn.bias\n",
      "\t backbone.backbone.stage0.rbr_1x1.conv.weight\n",
      "\t backbone.backbone.stage0.rbr_1x1.bn.weight\n",
      "\t backbone.backbone.stage0.rbr_1x1.bn.bias\n",
      "\t backbone.backbone.stage1.0.rbr_dense.conv.weight\n",
      "\t backbone.backbone.stage1.0.rbr_dense.bn.weight\n",
      "\t backbone.backbone.stage1.0.rbr_dense.bn.bias\n",
      "\t backbone.backbone.stage1.0.rbr_1x1.conv.weight\n",
      "\t backbone.backbone.stage1.0.rbr_1x1.bn.weight\n",
      "\t backbone.backbone.stage1.0.rbr_1x1.bn.bias\n",
      "\t backbone.backbone.stage1.1.rbr_identity.weight\n",
      "\t backbone.backbone.stage1.1.rbr_identity.bias\n",
      "\t backbone.backbone.stage1.1.rbr_dense.conv.weight\n",
      "\t backbone.backbone.stage1.1.rbr_dense.bn.weight\n",
      "\t backbone.backbone.stage1.1.rbr_dense.bn.bias\n",
      "\t backbone.backbone.stage1.1.rbr_1x1.conv.weight\n",
      "\t backbone.backbone.stage1.1.rbr_1x1.bn.weight\n",
      "\t backbone.backbone.stage1.1.rbr_1x1.bn.bias\n",
      "\t backbone.backbone.stage2.0.rbr_dense.conv.weight\n",
      "\t backbone.backbone.stage2.0.rbr_dense.bn.weight\n",
      "\t backbone.backbone.stage2.0.rbr_dense.bn.bias\n",
      "\t backbone.backbone.stage2.0.rbr_1x1.conv.weight\n",
      "\t backbone.backbone.stage2.0.rbr_1x1.bn.weight\n",
      "\t backbone.backbone.stage2.0.rbr_1x1.bn.bias\n",
      "\t backbone.backbone.stage2.1.rbr_identity.weight\n",
      "\t backbone.backbone.stage2.1.rbr_identity.bias\n",
      "\t backbone.backbone.stage2.1.rbr_dense.conv.weight\n",
      "\t backbone.backbone.stage2.1.rbr_dense.bn.weight\n",
      "\t backbone.backbone.stage2.1.rbr_dense.bn.bias\n",
      "\t backbone.backbone.stage2.1.rbr_1x1.conv.weight\n",
      "\t backbone.backbone.stage2.1.rbr_1x1.bn.weight\n",
      "\t backbone.backbone.stage2.1.rbr_1x1.bn.bias\n",
      "\t backbone.backbone.stage2.2.rbr_identity.weight\n",
      "\t backbone.backbone.stage2.2.rbr_identity.bias\n",
      "\t backbone.backbone.stage2.2.rbr_dense.conv.weight\n",
      "\t backbone.backbone.stage2.2.rbr_dense.bn.weight\n",
      "\t backbone.backbone.stage2.2.rbr_dense.bn.bias\n",
      "\t backbone.backbone.stage2.2.rbr_1x1.conv.weight\n",
      "\t backbone.backbone.stage2.2.rbr_1x1.bn.weight\n",
      "\t backbone.backbone.stage2.2.rbr_1x1.bn.bias\n",
      "\t backbone.backbone.stage2.3.rbr_identity.weight\n",
      "\t backbone.backbone.stage2.3.rbr_identity.bias\n",
      "\t backbone.backbone.stage2.3.rbr_dense.conv.weight\n",
      "\t backbone.backbone.stage2.3.rbr_dense.bn.weight\n",
      "\t backbone.backbone.stage2.3.rbr_dense.bn.bias\n",
      "\t backbone.backbone.stage2.3.rbr_1x1.conv.weight\n",
      "\t backbone.backbone.stage2.3.rbr_1x1.bn.weight\n",
      "\t backbone.backbone.stage2.3.rbr_1x1.bn.bias\n",
      "\t backbone.backbone.stage3.0.rbr_dense.conv.weight\n",
      "\t backbone.backbone.stage3.0.rbr_dense.bn.weight\n",
      "\t backbone.backbone.stage3.0.rbr_dense.bn.bias\n",
      "\t backbone.backbone.stage3.0.rbr_1x1.conv.weight\n",
      "\t backbone.backbone.stage3.0.rbr_1x1.bn.weight\n",
      "\t backbone.backbone.stage3.0.rbr_1x1.bn.bias\n",
      "\t backbone.backbone.stage3.1.rbr_identity.weight\n",
      "\t backbone.backbone.stage3.1.rbr_identity.bias\n",
      "\t backbone.backbone.stage3.1.rbr_dense.conv.weight\n",
      "\t backbone.backbone.stage3.1.rbr_dense.bn.weight\n",
      "\t backbone.backbone.stage3.1.rbr_dense.bn.bias\n",
      "\t backbone.backbone.stage3.1.rbr_1x1.conv.weight\n",
      "\t backbone.backbone.stage3.1.rbr_1x1.bn.weight\n",
      "\t backbone.backbone.stage3.1.rbr_1x1.bn.bias\n",
      "\t backbone.backbone.stage3.2.rbr_identity.weight\n",
      "\t backbone.backbone.stage3.2.rbr_identity.bias\n",
      "\t backbone.backbone.stage3.2.rbr_dense.conv.weight\n",
      "\t backbone.backbone.stage3.2.rbr_dense.bn.weight\n",
      "\t backbone.backbone.stage3.2.rbr_dense.bn.bias\n",
      "\t backbone.backbone.stage3.2.rbr_1x1.conv.weight\n",
      "\t backbone.backbone.stage3.2.rbr_1x1.bn.weight\n",
      "\t backbone.backbone.stage3.2.rbr_1x1.bn.bias\n",
      "\t backbone.backbone.stage3.3.rbr_identity.weight\n",
      "\t backbone.backbone.stage3.3.rbr_identity.bias\n",
      "\t backbone.backbone.stage3.3.rbr_dense.conv.weight\n",
      "\t backbone.backbone.stage3.3.rbr_dense.bn.weight\n",
      "\t backbone.backbone.stage3.3.rbr_dense.bn.bias\n",
      "\t backbone.backbone.stage3.3.rbr_1x1.conv.weight\n",
      "\t backbone.backbone.stage3.3.rbr_1x1.bn.weight\n",
      "\t backbone.backbone.stage3.3.rbr_1x1.bn.bias\n",
      "\t backbone.backbone.stage3.4.rbr_identity.weight\n",
      "\t backbone.backbone.stage3.4.rbr_identity.bias\n",
      "\t backbone.backbone.stage3.4.rbr_dense.conv.weight\n",
      "\t backbone.backbone.stage3.4.rbr_dense.bn.weight\n",
      "\t backbone.backbone.stage3.4.rbr_dense.bn.bias\n",
      "\t backbone.backbone.stage3.4.rbr_1x1.conv.weight\n",
      "\t backbone.backbone.stage3.4.rbr_1x1.bn.weight\n",
      "\t backbone.backbone.stage3.4.rbr_1x1.bn.bias\n",
      "\t backbone.backbone.stage3.5.rbr_identity.weight\n",
      "\t backbone.backbone.stage3.5.rbr_identity.bias\n",
      "\t backbone.backbone.stage3.5.rbr_dense.conv.weight\n",
      "\t backbone.backbone.stage3.5.rbr_dense.bn.weight\n",
      "\t backbone.backbone.stage3.5.rbr_dense.bn.bias\n",
      "\t backbone.backbone.stage3.5.rbr_1x1.conv.weight\n",
      "\t backbone.backbone.stage3.5.rbr_1x1.bn.weight\n",
      "\t backbone.backbone.stage3.5.rbr_1x1.bn.bias\n",
      "\t backbone.backbone.stage3.6.rbr_identity.weight\n",
      "\t backbone.backbone.stage3.6.rbr_identity.bias\n",
      "\t backbone.backbone.stage3.6.rbr_dense.conv.weight\n",
      "\t backbone.backbone.stage3.6.rbr_dense.bn.weight\n",
      "\t backbone.backbone.stage3.6.rbr_dense.bn.bias\n",
      "\t backbone.backbone.stage3.6.rbr_1x1.conv.weight\n",
      "\t backbone.backbone.stage3.6.rbr_1x1.bn.weight\n",
      "\t backbone.backbone.stage3.6.rbr_1x1.bn.bias\n",
      "\t backbone.backbone.stage3.7.rbr_identity.weight\n",
      "\t backbone.backbone.stage3.7.rbr_identity.bias\n",
      "\t backbone.backbone.stage3.7.rbr_dense.conv.weight\n",
      "\t backbone.backbone.stage3.7.rbr_dense.bn.weight\n",
      "\t backbone.backbone.stage3.7.rbr_dense.bn.bias\n",
      "\t backbone.backbone.stage3.7.rbr_1x1.conv.weight\n",
      "\t backbone.backbone.stage3.7.rbr_1x1.bn.weight\n",
      "\t backbone.backbone.stage3.7.rbr_1x1.bn.bias\n",
      "\t backbone.backbone.stage3.8.rbr_identity.weight\n",
      "\t backbone.backbone.stage3.8.rbr_identity.bias\n",
      "\t backbone.backbone.stage3.8.rbr_dense.conv.weight\n",
      "\t backbone.backbone.stage3.8.rbr_dense.bn.weight\n",
      "\t backbone.backbone.stage3.8.rbr_dense.bn.bias\n",
      "\t backbone.backbone.stage3.8.rbr_1x1.conv.weight\n",
      "\t backbone.backbone.stage3.8.rbr_1x1.bn.weight\n",
      "\t backbone.backbone.stage3.8.rbr_1x1.bn.bias\n",
      "\t backbone.backbone.stage3.9.rbr_identity.weight\n",
      "\t backbone.backbone.stage3.9.rbr_identity.bias\n",
      "\t backbone.backbone.stage3.9.rbr_dense.conv.weight\n",
      "\t backbone.backbone.stage3.9.rbr_dense.bn.weight\n",
      "\t backbone.backbone.stage3.9.rbr_dense.bn.bias\n",
      "\t backbone.backbone.stage3.9.rbr_1x1.conv.weight\n",
      "\t backbone.backbone.stage3.9.rbr_1x1.bn.weight\n",
      "\t backbone.backbone.stage3.9.rbr_1x1.bn.bias\n",
      "\t backbone.backbone.stage3.10.rbr_identity.weight\n",
      "\t backbone.backbone.stage3.10.rbr_identity.bias\n",
      "\t backbone.backbone.stage3.10.rbr_dense.conv.weight\n",
      "\t backbone.backbone.stage3.10.rbr_dense.bn.weight\n",
      "\t backbone.backbone.stage3.10.rbr_dense.bn.bias\n",
      "\t backbone.backbone.stage3.10.rbr_1x1.conv.weight\n",
      "\t backbone.backbone.stage3.10.rbr_1x1.bn.weight\n",
      "\t backbone.backbone.stage3.10.rbr_1x1.bn.bias\n",
      "\t backbone.backbone.stage3.11.rbr_identity.weight\n",
      "\t backbone.backbone.stage3.11.rbr_identity.bias\n",
      "\t backbone.backbone.stage3.11.rbr_dense.conv.weight\n",
      "\t backbone.backbone.stage3.11.rbr_dense.bn.weight\n",
      "\t backbone.backbone.stage3.11.rbr_dense.bn.bias\n",
      "\t backbone.backbone.stage3.11.rbr_1x1.conv.weight\n",
      "\t backbone.backbone.stage3.11.rbr_1x1.bn.weight\n",
      "\t backbone.backbone.stage3.11.rbr_1x1.bn.bias\n",
      "\t backbone.backbone.stage3.12.rbr_identity.weight\n",
      "\t backbone.backbone.stage3.12.rbr_identity.bias\n",
      "\t backbone.backbone.stage3.12.rbr_dense.conv.weight\n",
      "\t backbone.backbone.stage3.12.rbr_dense.bn.weight\n",
      "\t backbone.backbone.stage3.12.rbr_dense.bn.bias\n",
      "\t backbone.backbone.stage3.12.rbr_1x1.conv.weight\n",
      "\t backbone.backbone.stage3.12.rbr_1x1.bn.weight\n",
      "\t backbone.backbone.stage3.12.rbr_1x1.bn.bias\n",
      "\t backbone.backbone.stage3.13.rbr_identity.weight\n",
      "\t backbone.backbone.stage3.13.rbr_identity.bias\n",
      "\t backbone.backbone.stage3.13.rbr_dense.conv.weight\n",
      "\t backbone.backbone.stage3.13.rbr_dense.bn.weight\n",
      "\t backbone.backbone.stage3.13.rbr_dense.bn.bias\n",
      "\t backbone.backbone.stage3.13.rbr_1x1.conv.weight\n",
      "\t backbone.backbone.stage3.13.rbr_1x1.bn.weight\n",
      "\t backbone.backbone.stage3.13.rbr_1x1.bn.bias\n",
      "\t backbone.backbone.stage4.0.rbr_dense.conv.weight\n",
      "\t backbone.backbone.stage4.0.rbr_dense.bn.weight\n",
      "\t backbone.backbone.stage4.0.rbr_dense.bn.bias\n",
      "\t backbone.backbone.stage4.0.rbr_1x1.conv.weight\n",
      "\t backbone.backbone.stage4.0.rbr_1x1.bn.weight\n",
      "\t backbone.backbone.stage4.0.rbr_1x1.bn.bias\n",
      "\t backbone.backbone.linear.weight\n",
      "\t backbone.backbone.linear.bias\n",
      "\t backbone.linear.weight\n",
      "\t backbone.linear.bias\n",
      "\t fc1.weight\n",
      "\t fc1.bias\n",
      "\t fc2.weight\n",
      "\t fc2.bias\n"
     ]
    }
   ],
   "source": [
    "from torch.optim import Adam\n",
    "\n",
    "# Pass to optimizer only params with requires_grad\n",
    "params_to_update = []\n",
    "\n",
    "for name,param in model.named_parameters():\n",
    "    if param.requires_grad == True:\n",
    "        params_to_update.append(param)\n",
    "        print(\"\\t\",name)"
   ]
  },
  {
   "cell_type": "code",
   "execution_count": 22,
   "metadata": {},
   "outputs": [],
   "source": [
    "from torch.optim import Adam\n",
    "from torch.optim.lr_scheduler import ExponentialLR, StepLR, ReduceLROnPlateau\n",
    "\n",
    "optimizer = Adam(params_to_update, lr=config.lr, weight_decay=5e-4)\n",
    "#scheduler_exp = ExponentialLR(optimizer, gamma=0.9)\n",
    "scheduler_exp = StepLR(optimizer, step_size=6, gamma=0.9)\n",
    "\n",
    "scheduler_onPlateau = ReduceLROnPlateau(optimizer, 'min')"
   ]
  },
  {
   "cell_type": "code",
   "execution_count": 23,
   "metadata": {},
   "outputs": [],
   "source": [
    "import copy\n",
    "\n",
    "current_epoch = 0\n",
    "best_model_wts = copy.deepcopy(model.state_dict())"
   ]
  },
  {
   "cell_type": "code",
   "execution_count": 24,
   "metadata": {},
   "outputs": [],
   "source": [
    "import os\n",
    "\n",
    "# Create folder for all models\n",
    "dir = os.path.join('./Models')\n",
    "if not os.path.exists(dir):\n",
    "    os.mkdir(dir)"
   ]
  },
  {
   "cell_type": "code",
   "execution_count": 25,
   "metadata": {},
   "outputs": [],
   "source": [
    "import nuscenes.eval.prediction.metrics as metrics\n",
    "from collections import defaultdict\n",
    "from typing import List, Dict, Any\n",
    "\n",
    "\n",
    "def GetPrediction(instance_token, sample_token, img, state):\n",
    "    img = torch.Tensor(img.reshape((500, 500, 3))).permute(2, 0, 1).unsqueeze(0)\n",
    "    img = img.to(device)\n",
    "\n",
    "    state = torch.Tensor(np.array([state])).to(device)\n",
    "    state = state.to(device)\n",
    "\n",
    "    predict = model(img, state)\n",
    "    predict = predict[0]\n",
    "\n",
    "    trajectories_set = predict[:len(predict) - config.num_modes]\n",
    "    trajectories_set = trajectories_set.reshape(config.num_modes, 12, 2)\n",
    "        \n",
    "    mode_probabilities = predict[-config.num_modes:]\n",
    "\n",
    "    sorted_logits_indexes = mode_probabilities.argsort(descending=True)\n",
    "    sorted_trajectories = trajectories_set[sorted_logits_indexes]\n",
    "    \n",
    "    mode_probabilities = mode_probabilities.cpu().detach().numpy()\n",
    "    sorted_trajectories = sorted_trajectories.cpu().detach().numpy()\n",
    "    \n",
    "    top_25_trajectories = sorted_trajectories[:10]\n",
    "    top_25_probabilities = mode_probabilities[:10]\n",
    "    \n",
    "    # Create prediction object\n",
    "    # ВЗЯТЬ НЕ БОЛЕЕ 25 САМЫХ ПОПУЛЯРНЫХ ТРАЕКТОРИЙ; Иначе - ошибка Error: prediction contains more than 25 modes.\n",
    "        \n",
    "    prediction = metrics.Prediction(instance_token, sample_token, top_25_trajectories, top_25_probabilities)\n",
    "\n",
    "    return prediction\n",
    "\n",
    "\n",
    "def GetMetrics(model, samples, features, states, ground_truth):\n",
    "    # Define metrics function and container\n",
    "    metric_functions = [metrics.MinFDEK([1], aggregators=[metrics.RowMean()]),\n",
    "                        metrics.MinADEK([5, 10], aggregators=[metrics.RowMean()]),\n",
    "                        metrics.MissRateTopK([5, 10], tolerance=2, aggregators=[metrics.RowMean()])]\n",
    "\n",
    "    num_predictions = len(features) # Amount of prediction rows (equals of len of validation)\n",
    "\n",
    "    metrics_container = {metric.name: np.zeros((num_predictions, metric.shape)) for metric in metric_functions}\n",
    "    \n",
    "    # Prediction loop\n",
    "    for idx, x in enumerate(tqdm(features)):\n",
    "        \n",
    "        # Make prediction\n",
    "        instance_tkn, sample_tkn = samples[idx].split(\"_\")\n",
    "        prediction = GetPrediction(instance_tkn, sample_tkn, features[idx], states[idx])\n",
    "        \n",
    "        # Get ground_truth\n",
    "        gt = ground_truth[idx].reshape((12, 2))\n",
    "\n",
    "        # Calculate metrics\n",
    "        for metric in metric_functions:\n",
    "            metrics_container[metric.name][idx] = metric(gt, prediction)\n",
    "    \n",
    "    # Metrics aggregations\n",
    "    aggregations: Dict[str, Dict[str, List[float]]] = defaultdict(dict)\n",
    "\n",
    "    for metric in metric_functions:\n",
    "        for agg in metric.aggregators:\n",
    "            aggregations[metric.name][agg.name] = agg(metrics_container[metric.name])\n",
    "\n",
    "    return aggregations"
   ]
  },
  {
   "cell_type": "code",
   "execution_count": 26,
   "metadata": {
    "pycharm": {
     "name": "#%%\n"
    }
   },
   "outputs": [],
   "source": [
    "from tqdm import tqdm\n",
    "import time\n",
    "\n",
    "def loss_batch(model, loss_func, img, state_vec, ground_truth, opt=None):\n",
    "    img = img.to(device)\n",
    "    state_vec = state_vec.to(device)\n",
    "    ground_truth = ground_truth.to(device)\n",
    "        \n",
    "    predicted_logits = model(img, state_vec)\n",
    "    loss = loss_func(predicted_logits, ground_truth)\n",
    "\n",
    "    # For validation optimizer is None, thus we dont perform backprop\n",
    "    if opt is not None:\n",
    "        loss.backward()\n",
    "        opt.step()\n",
    "        opt.zero_grad()\n",
    "\n",
    "    # Return losses and amount of items\n",
    "    #print(f\"{loss.item()}; {len(img)}\")\n",
    "    return loss.item(), len(img)\n",
    "\n",
    "\n",
    "def train_step(model, train_dl, loss_func, opt):\n",
    "    model.train()\n",
    "\n",
    "    losses = []\n",
    "    nums = []\n",
    "    for img, state_vec, gt in tqdm(train_dl):\n",
    "        loss, num = loss_batch(model, loss_func, img, state_vec, gt, opt)\n",
    "        losses.append(loss)\n",
    "        nums.append(num)\n",
    "        \n",
    "    # Calculate train loss\n",
    "    train_loss = np.sum(np.multiply(losses, nums)) / np.sum(nums)\n",
    "    return train_loss\n",
    "\n",
    "\n",
    "def validation_step(model, valid_dl, loss_func):\n",
    "    print(\"Validation step\")\n",
    "    model.eval()\n",
    "\n",
    "    with torch.no_grad():\n",
    "        losses = []\n",
    "        nums = []\n",
    "        for img, state_vec, gt in tqdm(valid_dl):\n",
    "            loss, num = loss_batch(model, loss_func, img, state_vec, gt)\n",
    "            losses.append(loss)\n",
    "            nums.append(num)\n",
    "        \n",
    "        # Calculate validation loss\n",
    "        val_loss = np.sum(np.multiply(losses, nums)) / np.sum(nums)\n",
    "        \n",
    "        scheduler_exp.step()\n",
    "        scheduler_onPlateau.step(val_loss)\n",
    "        \n",
    "    return val_loss\n",
    "\n",
    "\n",
    "def log_metrics(model, start_epoch_time, best_loss, train_loss, val_loss):\n",
    "    \n",
    "    # Calculate metrics on validation set\n",
    "    print(\"Calculate metrics\")\n",
    "    \n",
    "    metricsRes = GetMetrics(model, validation_samples, validation_features, validation_states, validation_labels)\n",
    "    \n",
    "    minFDE_1 = metricsRes['MinFDEK']['RowMean'][0]\n",
    "    minADEK_5 = metricsRes['MinADEK']['RowMean'][0]\n",
    "    minADEK_10 = metricsRes['MinADEK']['RowMean'][1]\n",
    "    missRateTopK2_5 = metricsRes['MissRateTopK_2']['RowMean'][0]\n",
    "    missRateTopK2_10 = metricsRes['MissRateTopK_2']['RowMean'][1]    \n",
    "\n",
    "    wandb.log({'Train loss': train_loss,\n",
    "               'Val loss': val_loss,\n",
    "               'Learning_rate': scheduler_exp.get_last_lr()[0],\n",
    "               'minFDE_1': minFDE_1,\n",
    "               'minADEK_5': minADEK_5,\n",
    "               'minADEK_10': minADEK_10,\n",
    "               'missRateTopK2_5':missRateTopK2_5,\n",
    "               'missRateTopK2_10':missRateTopK2_10\n",
    "              })\n",
    "        \n",
    "    print(f\"Epoch {current_epoch + 1}; Train loss: {train_loss:0.2f}; Val loss: {val_loss:0.2f}; Best VL: {best_loss:0.2f}; Time: {(time.time() - start_epoch_time):0.2f} sec;\")\n",
    "\n",
    "\n",
    "def fit(epochs, model, loss_func, opt, train_dl, valid_dl):\n",
    "    global current_epoch\n",
    "    global best_model_wts\n",
    "    \n",
    "    best_loss = 999.0\n",
    "\n",
    "    for epoch in range(epochs):\n",
    "        start_epoch_time = time.time()\n",
    "        print('-' * 20)\n",
    "        print(f'Epoch: {epoch + 1}/{epochs}')\n",
    "        \n",
    "        train_loss = train_step(model, train_dl, loss_func, opt)\n",
    "        val_loss = validation_step(model, valid_dl, loss_func)\n",
    "        \n",
    "        # deep copy the model\n",
    "        if val_loss < best_loss:\n",
    "            best_loss = val_loss\n",
    "            best_model_wts = copy.deepcopy(model.state_dict())\n",
    "\n",
    "        log_metrics(model, start_epoch_time, best_loss, train_loss, val_loss)\n",
    "            \n",
    "        torch.save(copy.deepcopy(model.state_dict()), f'./Models/VGG_CoverNet_e{current_epoch}_{best_loss:0.2f}.pth')\n",
    "        current_epoch += 1\n",
    "        "
   ]
  },
  {
   "cell_type": "code",
   "execution_count": 27,
   "metadata": {},
   "outputs": [
    {
     "name": "stdout",
     "output_type": "stream",
     "text": [
      "--------------------\n",
      "Epoch: 1/30\n"
     ]
    },
    {
     "name": "stderr",
     "output_type": "stream",
     "text": [
      "100%|██████████| 758/758 [05:38<00:00,  2.24it/s]\n"
     ]
    },
    {
     "name": "stdout",
     "output_type": "stream",
     "text": [
      "Validation step\n"
     ]
    },
    {
     "name": "stderr",
     "output_type": "stream",
     "text": [
      "100%|██████████| 379/379 [02:32<00:00,  2.49it/s]\n"
     ]
    },
    {
     "name": "stdout",
     "output_type": "stream",
     "text": [
      "Calculate metrics\n"
     ]
    },
    {
     "name": "stderr",
     "output_type": "stream",
     "text": [
      "100%|██████████| 6200/6200 [01:01<00:00, 100.12it/s]\n"
     ]
    },
    {
     "name": "stdout",
     "output_type": "stream",
     "text": [
      "Epoch 1; Train loss: 3.93; Val loss: 3.51; Best VL: 3.51; Time: 552.96 sec;\n",
      "--------------------\n",
      "Epoch: 2/30\n"
     ]
    },
    {
     "name": "stderr",
     "output_type": "stream",
     "text": [
      "100%|██████████| 758/758 [05:40<00:00,  2.22it/s]\n"
     ]
    },
    {
     "name": "stdout",
     "output_type": "stream",
     "text": [
      "Validation step\n"
     ]
    },
    {
     "name": "stderr",
     "output_type": "stream",
     "text": [
      "100%|██████████| 379/379 [02:32<00:00,  2.49it/s]\n"
     ]
    },
    {
     "name": "stdout",
     "output_type": "stream",
     "text": [
      "Calculate metrics\n"
     ]
    },
    {
     "name": "stderr",
     "output_type": "stream",
     "text": [
      "100%|██████████| 6200/6200 [01:02<00:00, 99.20it/s] \n"
     ]
    },
    {
     "name": "stdout",
     "output_type": "stream",
     "text": [
      "Epoch 2; Train loss: 3.28; Val loss: 3.26; Best VL: 3.26; Time: 555.93 sec;\n",
      "--------------------\n",
      "Epoch: 3/30\n"
     ]
    },
    {
     "name": "stderr",
     "output_type": "stream",
     "text": [
      "100%|██████████| 758/758 [05:40<00:00,  2.23it/s]\n"
     ]
    },
    {
     "name": "stdout",
     "output_type": "stream",
     "text": [
      "Validation step\n"
     ]
    },
    {
     "name": "stderr",
     "output_type": "stream",
     "text": [
      "100%|██████████| 379/379 [02:33<00:00,  2.47it/s]\n"
     ]
    },
    {
     "name": "stdout",
     "output_type": "stream",
     "text": [
      "Calculate metrics\n"
     ]
    },
    {
     "name": "stderr",
     "output_type": "stream",
     "text": [
      "100%|██████████| 6200/6200 [01:02<00:00, 99.14it/s] \n"
     ]
    },
    {
     "name": "stdout",
     "output_type": "stream",
     "text": [
      "Epoch 3; Train loss: 3.11; Val loss: 3.11; Best VL: 3.11; Time: 556.69 sec;\n",
      "--------------------\n",
      "Epoch: 4/30\n"
     ]
    },
    {
     "name": "stderr",
     "output_type": "stream",
     "text": [
      "100%|██████████| 758/758 [05:40<00:00,  2.22it/s]\n"
     ]
    },
    {
     "name": "stdout",
     "output_type": "stream",
     "text": [
      "Validation step\n"
     ]
    },
    {
     "name": "stderr",
     "output_type": "stream",
     "text": [
      "100%|██████████| 379/379 [02:33<00:00,  2.47it/s]\n"
     ]
    },
    {
     "name": "stdout",
     "output_type": "stream",
     "text": [
      "Calculate metrics\n"
     ]
    },
    {
     "name": "stderr",
     "output_type": "stream",
     "text": [
      "100%|██████████| 6200/6200 [01:02<00:00, 99.03it/s] \n"
     ]
    },
    {
     "name": "stdout",
     "output_type": "stream",
     "text": [
      "Epoch 4; Train loss: 2.97; Val loss: 2.98; Best VL: 2.98; Time: 556.59 sec;\n",
      "--------------------\n",
      "Epoch: 5/30\n"
     ]
    },
    {
     "name": "stderr",
     "output_type": "stream",
     "text": [
      "100%|██████████| 758/758 [05:40<00:00,  2.22it/s]\n"
     ]
    },
    {
     "name": "stdout",
     "output_type": "stream",
     "text": [
      "Validation step\n"
     ]
    },
    {
     "name": "stderr",
     "output_type": "stream",
     "text": [
      "100%|██████████| 379/379 [02:33<00:00,  2.47it/s]\n"
     ]
    },
    {
     "name": "stdout",
     "output_type": "stream",
     "text": [
      "Calculate metrics\n"
     ]
    },
    {
     "name": "stderr",
     "output_type": "stream",
     "text": [
      "100%|██████████| 6200/6200 [01:02<00:00, 98.85it/s] \n"
     ]
    },
    {
     "name": "stdout",
     "output_type": "stream",
     "text": [
      "Epoch 5; Train loss: 2.91; Val loss: 2.89; Best VL: 2.89; Time: 557.29 sec;\n",
      "--------------------\n",
      "Epoch: 6/30\n"
     ]
    },
    {
     "name": "stderr",
     "output_type": "stream",
     "text": [
      "100%|██████████| 758/758 [05:40<00:00,  2.22it/s]\n"
     ]
    },
    {
     "name": "stdout",
     "output_type": "stream",
     "text": [
      "Validation step\n"
     ]
    },
    {
     "name": "stderr",
     "output_type": "stream",
     "text": [
      "100%|██████████| 379/379 [02:33<00:00,  2.47it/s]\n"
     ]
    },
    {
     "name": "stdout",
     "output_type": "stream",
     "text": [
      "Calculate metrics\n"
     ]
    },
    {
     "name": "stderr",
     "output_type": "stream",
     "text": [
      "100%|██████████| 6200/6200 [01:02<00:00, 98.92it/s] \n"
     ]
    },
    {
     "name": "stdout",
     "output_type": "stream",
     "text": [
      "Epoch 6; Train loss: 2.84; Val loss: 2.95; Best VL: 2.89; Time: 556.89 sec;\n",
      "--------------------\n",
      "Epoch: 7/30\n"
     ]
    },
    {
     "name": "stderr",
     "output_type": "stream",
     "text": [
      "100%|██████████| 758/758 [05:41<00:00,  2.22it/s]\n"
     ]
    },
    {
     "name": "stdout",
     "output_type": "stream",
     "text": [
      "Validation step\n"
     ]
    },
    {
     "name": "stderr",
     "output_type": "stream",
     "text": [
      "100%|██████████| 379/379 [02:32<00:00,  2.48it/s]\n"
     ]
    },
    {
     "name": "stdout",
     "output_type": "stream",
     "text": [
      "Calculate metrics\n"
     ]
    },
    {
     "name": "stderr",
     "output_type": "stream",
     "text": [
      "100%|██████████| 6200/6200 [01:02<00:00, 98.86it/s] \n"
     ]
    },
    {
     "name": "stdout",
     "output_type": "stream",
     "text": [
      "Epoch 7; Train loss: 2.79; Val loss: 2.84; Best VL: 2.84; Time: 556.66 sec;\n",
      "--------------------\n",
      "Epoch: 8/30\n"
     ]
    },
    {
     "name": "stderr",
     "output_type": "stream",
     "text": [
      "100%|██████████| 758/758 [05:41<00:00,  2.22it/s]\n"
     ]
    },
    {
     "name": "stdout",
     "output_type": "stream",
     "text": [
      "Validation step\n"
     ]
    },
    {
     "name": "stderr",
     "output_type": "stream",
     "text": [
      "100%|██████████| 379/379 [02:33<00:00,  2.46it/s]\n"
     ]
    },
    {
     "name": "stdout",
     "output_type": "stream",
     "text": [
      "Calculate metrics\n"
     ]
    },
    {
     "name": "stderr",
     "output_type": "stream",
     "text": [
      "100%|██████████| 6200/6200 [01:02<00:00, 98.91it/s] \n"
     ]
    },
    {
     "name": "stdout",
     "output_type": "stream",
     "text": [
      "Epoch 8; Train loss: 2.73; Val loss: 2.75; Best VL: 2.75; Time: 558.20 sec;\n",
      "--------------------\n",
      "Epoch: 9/30\n"
     ]
    },
    {
     "name": "stderr",
     "output_type": "stream",
     "text": [
      "100%|██████████| 758/758 [05:41<00:00,  2.22it/s]\n"
     ]
    },
    {
     "name": "stdout",
     "output_type": "stream",
     "text": [
      "Validation step\n"
     ]
    },
    {
     "name": "stderr",
     "output_type": "stream",
     "text": [
      "100%|██████████| 379/379 [02:34<00:00,  2.46it/s]\n"
     ]
    },
    {
     "name": "stdout",
     "output_type": "stream",
     "text": [
      "Calculate metrics\n"
     ]
    },
    {
     "name": "stderr",
     "output_type": "stream",
     "text": [
      "100%|██████████| 6200/6200 [01:02<00:00, 98.70it/s] \n"
     ]
    },
    {
     "name": "stdout",
     "output_type": "stream",
     "text": [
      "Epoch 9; Train loss: 2.71; Val loss: 2.72; Best VL: 2.72; Time: 558.77 sec;\n",
      "--------------------\n",
      "Epoch: 10/30\n"
     ]
    },
    {
     "name": "stderr",
     "output_type": "stream",
     "text": [
      "100%|██████████| 758/758 [05:41<00:00,  2.22it/s]\n"
     ]
    },
    {
     "name": "stdout",
     "output_type": "stream",
     "text": [
      "Validation step\n"
     ]
    },
    {
     "name": "stderr",
     "output_type": "stream",
     "text": [
      "100%|██████████| 379/379 [02:34<00:00,  2.46it/s]\n"
     ]
    },
    {
     "name": "stdout",
     "output_type": "stream",
     "text": [
      "Calculate metrics\n"
     ]
    },
    {
     "name": "stderr",
     "output_type": "stream",
     "text": [
      "100%|██████████| 6200/6200 [01:02<00:00, 99.05it/s] \n"
     ]
    },
    {
     "name": "stdout",
     "output_type": "stream",
     "text": [
      "Epoch 10; Train loss: 2.69; Val loss: 2.72; Best VL: 2.72; Time: 558.57 sec;\n",
      "--------------------\n",
      "Epoch: 11/30\n"
     ]
    },
    {
     "name": "stderr",
     "output_type": "stream",
     "text": [
      "100%|██████████| 758/758 [05:41<00:00,  2.22it/s]\n"
     ]
    },
    {
     "name": "stdout",
     "output_type": "stream",
     "text": [
      "Validation step\n"
     ]
    },
    {
     "name": "stderr",
     "output_type": "stream",
     "text": [
      "100%|██████████| 379/379 [02:33<00:00,  2.47it/s]\n"
     ]
    },
    {
     "name": "stdout",
     "output_type": "stream",
     "text": [
      "Calculate metrics\n"
     ]
    },
    {
     "name": "stderr",
     "output_type": "stream",
     "text": [
      "100%|██████████| 6200/6200 [01:03<00:00, 98.25it/s] \n"
     ]
    },
    {
     "name": "stdout",
     "output_type": "stream",
     "text": [
      "Epoch 11; Train loss: 2.67; Val loss: 2.72; Best VL: 2.72; Time: 558.19 sec;\n",
      "--------------------\n",
      "Epoch: 12/30\n"
     ]
    },
    {
     "name": "stderr",
     "output_type": "stream",
     "text": [
      "100%|██████████| 758/758 [05:41<00:00,  2.22it/s]\n"
     ]
    },
    {
     "name": "stdout",
     "output_type": "stream",
     "text": [
      "Validation step\n"
     ]
    },
    {
     "name": "stderr",
     "output_type": "stream",
     "text": [
      "100%|██████████| 379/379 [02:33<00:00,  2.47it/s]\n"
     ]
    },
    {
     "name": "stdout",
     "output_type": "stream",
     "text": [
      "Calculate metrics\n"
     ]
    },
    {
     "name": "stderr",
     "output_type": "stream",
     "text": [
      "100%|██████████| 6200/6200 [01:02<00:00, 99.18it/s] \n"
     ]
    },
    {
     "name": "stdout",
     "output_type": "stream",
     "text": [
      "Epoch 12; Train loss: 2.66; Val loss: 2.69; Best VL: 2.69; Time: 557.84 sec;\n",
      "--------------------\n",
      "Epoch: 13/30\n"
     ]
    },
    {
     "name": "stderr",
     "output_type": "stream",
     "text": [
      "100%|██████████| 758/758 [05:41<00:00,  2.22it/s]\n"
     ]
    },
    {
     "name": "stdout",
     "output_type": "stream",
     "text": [
      "Validation step\n"
     ]
    },
    {
     "name": "stderr",
     "output_type": "stream",
     "text": [
      "100%|██████████| 379/379 [02:34<00:00,  2.46it/s]\n"
     ]
    },
    {
     "name": "stdout",
     "output_type": "stream",
     "text": [
      "Calculate metrics\n"
     ]
    },
    {
     "name": "stderr",
     "output_type": "stream",
     "text": [
      "100%|██████████| 6200/6200 [01:03<00:00, 98.23it/s] \n"
     ]
    },
    {
     "name": "stdout",
     "output_type": "stream",
     "text": [
      "Epoch 13; Train loss: 2.63; Val loss: 2.63; Best VL: 2.63; Time: 558.88 sec;\n",
      "--------------------\n",
      "Epoch: 14/30\n"
     ]
    },
    {
     "name": "stderr",
     "output_type": "stream",
     "text": [
      "100%|██████████| 758/758 [05:41<00:00,  2.22it/s]\n"
     ]
    },
    {
     "name": "stdout",
     "output_type": "stream",
     "text": [
      "Validation step\n"
     ]
    },
    {
     "name": "stderr",
     "output_type": "stream",
     "text": [
      "100%|██████████| 379/379 [02:33<00:00,  2.47it/s]\n"
     ]
    },
    {
     "name": "stdout",
     "output_type": "stream",
     "text": [
      "Calculate metrics\n"
     ]
    },
    {
     "name": "stderr",
     "output_type": "stream",
     "text": [
      "100%|██████████| 6200/6200 [01:03<00:00, 98.40it/s] \n"
     ]
    },
    {
     "name": "stdout",
     "output_type": "stream",
     "text": [
      "Epoch 14; Train loss: 2.60; Val loss: 2.67; Best VL: 2.63; Time: 558.46 sec;\n",
      "--------------------\n",
      "Epoch: 15/30\n"
     ]
    },
    {
     "name": "stderr",
     "output_type": "stream",
     "text": [
      "100%|██████████| 758/758 [05:41<00:00,  2.22it/s]\n"
     ]
    },
    {
     "name": "stdout",
     "output_type": "stream",
     "text": [
      "Validation step\n"
     ]
    },
    {
     "name": "stderr",
     "output_type": "stream",
     "text": [
      "100%|██████████| 379/379 [02:33<00:00,  2.47it/s]\n"
     ]
    },
    {
     "name": "stdout",
     "output_type": "stream",
     "text": [
      "Calculate metrics\n"
     ]
    },
    {
     "name": "stderr",
     "output_type": "stream",
     "text": [
      "100%|██████████| 6200/6200 [01:02<00:00, 99.20it/s] \n"
     ]
    },
    {
     "name": "stdout",
     "output_type": "stream",
     "text": [
      "Epoch 15; Train loss: 2.60; Val loss: 2.66; Best VL: 2.63; Time: 557.62 sec;\n",
      "--------------------\n",
      "Epoch: 16/30\n"
     ]
    },
    {
     "name": "stderr",
     "output_type": "stream",
     "text": [
      "100%|██████████| 758/758 [05:41<00:00,  2.22it/s]\n"
     ]
    },
    {
     "name": "stdout",
     "output_type": "stream",
     "text": [
      "Validation step\n"
     ]
    },
    {
     "name": "stderr",
     "output_type": "stream",
     "text": [
      "100%|██████████| 379/379 [02:34<00:00,  2.46it/s]\n"
     ]
    },
    {
     "name": "stdout",
     "output_type": "stream",
     "text": [
      "Calculate metrics\n"
     ]
    },
    {
     "name": "stderr",
     "output_type": "stream",
     "text": [
      "100%|██████████| 6200/6200 [01:03<00:00, 98.18it/s] \n"
     ]
    },
    {
     "name": "stdout",
     "output_type": "stream",
     "text": [
      "Epoch 16; Train loss: 2.60; Val loss: 2.64; Best VL: 2.63; Time: 559.17 sec;\n",
      "--------------------\n",
      "Epoch: 17/30\n"
     ]
    },
    {
     "name": "stderr",
     "output_type": "stream",
     "text": [
      "100%|██████████| 758/758 [05:42<00:00,  2.21it/s]\n"
     ]
    },
    {
     "name": "stdout",
     "output_type": "stream",
     "text": [
      "Validation step\n"
     ]
    },
    {
     "name": "stderr",
     "output_type": "stream",
     "text": [
      "100%|██████████| 379/379 [02:34<00:00,  2.46it/s]\n"
     ]
    },
    {
     "name": "stdout",
     "output_type": "stream",
     "text": [
      "Calculate metrics\n"
     ]
    },
    {
     "name": "stderr",
     "output_type": "stream",
     "text": [
      "100%|██████████| 6200/6200 [01:03<00:00, 97.69it/s] \n"
     ]
    },
    {
     "name": "stdout",
     "output_type": "stream",
     "text": [
      "Epoch 17; Train loss: 2.57; Val loss: 2.59; Best VL: 2.59; Time: 560.37 sec;\n",
      "--------------------\n",
      "Epoch: 18/30\n"
     ]
    },
    {
     "name": "stderr",
     "output_type": "stream",
     "text": [
      "100%|██████████| 758/758 [05:45<00:00,  2.19it/s]\n"
     ]
    },
    {
     "name": "stdout",
     "output_type": "stream",
     "text": [
      "Validation step\n"
     ]
    },
    {
     "name": "stderr",
     "output_type": "stream",
     "text": [
      "100%|██████████| 379/379 [02:34<00:00,  2.45it/s]\n"
     ]
    },
    {
     "name": "stdout",
     "output_type": "stream",
     "text": [
      "Calculate metrics\n"
     ]
    },
    {
     "name": "stderr",
     "output_type": "stream",
     "text": [
      "100%|██████████| 6200/6200 [01:03<00:00, 97.84it/s] \n"
     ]
    },
    {
     "name": "stdout",
     "output_type": "stream",
     "text": [
      "Epoch 18; Train loss: 2.59; Val loss: 2.60; Best VL: 2.59; Time: 563.25 sec;\n",
      "--------------------\n",
      "Epoch: 19/30\n"
     ]
    },
    {
     "name": "stderr",
     "output_type": "stream",
     "text": [
      "100%|██████████| 758/758 [05:42<00:00,  2.22it/s]\n"
     ]
    },
    {
     "name": "stdout",
     "output_type": "stream",
     "text": [
      "Validation step\n"
     ]
    },
    {
     "name": "stderr",
     "output_type": "stream",
     "text": [
      "100%|██████████| 379/379 [02:33<00:00,  2.46it/s]\n"
     ]
    },
    {
     "name": "stdout",
     "output_type": "stream",
     "text": [
      "Calculate metrics\n"
     ]
    },
    {
     "name": "stderr",
     "output_type": "stream",
     "text": [
      "100%|██████████| 6200/6200 [01:03<00:00, 98.41it/s] \n"
     ]
    },
    {
     "name": "stdout",
     "output_type": "stream",
     "text": [
      "Epoch 19; Train loss: 2.56; Val loss: 2.57; Best VL: 2.57; Time: 559.01 sec;\n",
      "--------------------\n",
      "Epoch: 20/30\n"
     ]
    },
    {
     "name": "stderr",
     "output_type": "stream",
     "text": [
      "100%|██████████| 758/758 [05:41<00:00,  2.22it/s]\n"
     ]
    },
    {
     "name": "stdout",
     "output_type": "stream",
     "text": [
      "Validation step\n"
     ]
    },
    {
     "name": "stderr",
     "output_type": "stream",
     "text": [
      "100%|██████████| 379/379 [02:33<00:00,  2.47it/s]\n"
     ]
    },
    {
     "name": "stdout",
     "output_type": "stream",
     "text": [
      "Calculate metrics\n"
     ]
    },
    {
     "name": "stderr",
     "output_type": "stream",
     "text": [
      "100%|██████████| 6200/6200 [01:06<00:00, 93.55it/s] \n"
     ]
    },
    {
     "name": "stdout",
     "output_type": "stream",
     "text": [
      "Epoch 20; Train loss: 2.54; Val loss: 2.60; Best VL: 2.57; Time: 561.10 sec;\n",
      "--------------------\n",
      "Epoch: 21/30\n"
     ]
    },
    {
     "name": "stderr",
     "output_type": "stream",
     "text": [
      "100%|██████████| 758/758 [06:17<00:00,  2.01it/s]\n"
     ]
    },
    {
     "name": "stdout",
     "output_type": "stream",
     "text": [
      "Validation step\n"
     ]
    },
    {
     "name": "stderr",
     "output_type": "stream",
     "text": [
      "100%|██████████| 379/379 [03:26<00:00,  1.83it/s]\n"
     ]
    },
    {
     "name": "stdout",
     "output_type": "stream",
     "text": [
      "Calculate metrics\n"
     ]
    },
    {
     "name": "stderr",
     "output_type": "stream",
     "text": [
      "100%|██████████| 6200/6200 [01:02<00:00, 99.04it/s] \n"
     ]
    },
    {
     "name": "stdout",
     "output_type": "stream",
     "text": [
      "Epoch 21; Train loss: 2.52; Val loss: 2.56; Best VL: 2.56; Time: 647.05 sec;\n",
      "--------------------\n",
      "Epoch: 22/30\n"
     ]
    },
    {
     "name": "stderr",
     "output_type": "stream",
     "text": [
      "100%|██████████| 758/758 [06:09<00:00,  2.05it/s]\n"
     ]
    },
    {
     "name": "stdout",
     "output_type": "stream",
     "text": [
      "Validation step\n"
     ]
    },
    {
     "name": "stderr",
     "output_type": "stream",
     "text": [
      "100%|██████████| 379/379 [02:34<00:00,  2.46it/s]\n"
     ]
    },
    {
     "name": "stdout",
     "output_type": "stream",
     "text": [
      "Calculate metrics\n"
     ]
    },
    {
     "name": "stderr",
     "output_type": "stream",
     "text": [
      "100%|██████████| 6200/6200 [01:12<00:00, 85.43it/s] \n"
     ]
    },
    {
     "name": "stdout",
     "output_type": "stream",
     "text": [
      "Epoch 22; Train loss: 2.53; Val loss: 2.54; Best VL: 2.54; Time: 596.68 sec;\n",
      "--------------------\n",
      "Epoch: 23/30\n"
     ]
    },
    {
     "name": "stderr",
     "output_type": "stream",
     "text": [
      "100%|██████████| 758/758 [05:54<00:00,  2.14it/s]\n"
     ]
    },
    {
     "name": "stdout",
     "output_type": "stream",
     "text": [
      "Validation step\n"
     ]
    },
    {
     "name": "stderr",
     "output_type": "stream",
     "text": [
      "100%|██████████| 379/379 [02:35<00:00,  2.44it/s]\n"
     ]
    },
    {
     "name": "stdout",
     "output_type": "stream",
     "text": [
      "Calculate metrics\n"
     ]
    },
    {
     "name": "stderr",
     "output_type": "stream",
     "text": [
      "100%|██████████| 6200/6200 [01:14<00:00, 83.69it/s] \n"
     ]
    },
    {
     "name": "stdout",
     "output_type": "stream",
     "text": [
      "Epoch 23; Train loss: 2.49; Val loss: 2.51; Best VL: 2.51; Time: 584.01 sec;\n",
      "--------------------\n",
      "Epoch: 24/30\n"
     ]
    },
    {
     "name": "stderr",
     "output_type": "stream",
     "text": [
      "100%|██████████| 758/758 [05:53<00:00,  2.15it/s]\n"
     ]
    },
    {
     "name": "stdout",
     "output_type": "stream",
     "text": [
      "Validation step\n"
     ]
    },
    {
     "name": "stderr",
     "output_type": "stream",
     "text": [
      "100%|██████████| 379/379 [02:34<00:00,  2.45it/s]\n"
     ]
    },
    {
     "name": "stdout",
     "output_type": "stream",
     "text": [
      "Calculate metrics\n"
     ]
    },
    {
     "name": "stderr",
     "output_type": "stream",
     "text": [
      "100%|██████████| 6200/6200 [01:02<00:00, 98.73it/s] \n"
     ]
    },
    {
     "name": "stdout",
     "output_type": "stream",
     "text": [
      "Epoch 24; Train loss: 2.50; Val loss: 2.58; Best VL: 2.51; Time: 571.06 sec;\n",
      "--------------------\n",
      "Epoch: 25/30\n"
     ]
    },
    {
     "name": "stderr",
     "output_type": "stream",
     "text": [
      "100%|██████████| 758/758 [05:43<00:00,  2.21it/s]\n"
     ]
    },
    {
     "name": "stdout",
     "output_type": "stream",
     "text": [
      "Validation step\n"
     ]
    },
    {
     "name": "stderr",
     "output_type": "stream",
     "text": [
      "100%|██████████| 379/379 [02:34<00:00,  2.45it/s]\n"
     ]
    },
    {
     "name": "stdout",
     "output_type": "stream",
     "text": [
      "Calculate metrics\n"
     ]
    },
    {
     "name": "stderr",
     "output_type": "stream",
     "text": [
      "100%|██████████| 6200/6200 [01:02<00:00, 98.98it/s] \n"
     ]
    },
    {
     "name": "stdout",
     "output_type": "stream",
     "text": [
      "Epoch 25; Train loss: 2.49; Val loss: 2.54; Best VL: 2.51; Time: 560.51 sec;\n",
      "--------------------\n",
      "Epoch: 26/30\n"
     ]
    },
    {
     "name": "stderr",
     "output_type": "stream",
     "text": [
      "100%|██████████| 758/758 [05:43<00:00,  2.21it/s]\n"
     ]
    },
    {
     "name": "stdout",
     "output_type": "stream",
     "text": [
      "Validation step\n"
     ]
    },
    {
     "name": "stderr",
     "output_type": "stream",
     "text": [
      "100%|██████████| 379/379 [02:34<00:00,  2.45it/s]\n"
     ]
    },
    {
     "name": "stdout",
     "output_type": "stream",
     "text": [
      "Calculate metrics\n"
     ]
    },
    {
     "name": "stderr",
     "output_type": "stream",
     "text": [
      "100%|██████████| 6200/6200 [01:02<00:00, 98.73it/s] \n"
     ]
    },
    {
     "name": "stdout",
     "output_type": "stream",
     "text": [
      "Epoch 26; Train loss: 2.49; Val loss: 2.52; Best VL: 2.51; Time: 560.57 sec;\n",
      "--------------------\n",
      "Epoch: 27/30\n"
     ]
    },
    {
     "name": "stderr",
     "output_type": "stream",
     "text": [
      "100%|██████████| 758/758 [05:42<00:00,  2.21it/s]\n"
     ]
    },
    {
     "name": "stdout",
     "output_type": "stream",
     "text": [
      "Validation step\n"
     ]
    },
    {
     "name": "stderr",
     "output_type": "stream",
     "text": [
      "100%|██████████| 379/379 [02:34<00:00,  2.46it/s]\n"
     ]
    },
    {
     "name": "stdout",
     "output_type": "stream",
     "text": [
      "Calculate metrics\n"
     ]
    },
    {
     "name": "stderr",
     "output_type": "stream",
     "text": [
      "100%|██████████| 6200/6200 [01:02<00:00, 98.92it/s] \n"
     ]
    },
    {
     "name": "stdout",
     "output_type": "stream",
     "text": [
      "Epoch 27; Train loss: 2.46; Val loss: 2.50; Best VL: 2.50; Time: 559.70 sec;\n",
      "--------------------\n",
      "Epoch: 28/30\n"
     ]
    },
    {
     "name": "stderr",
     "output_type": "stream",
     "text": [
      "100%|██████████| 758/758 [05:43<00:00,  2.21it/s]\n"
     ]
    },
    {
     "name": "stdout",
     "output_type": "stream",
     "text": [
      "Validation step\n"
     ]
    },
    {
     "name": "stderr",
     "output_type": "stream",
     "text": [
      "100%|██████████| 379/379 [02:34<00:00,  2.45it/s]\n"
     ]
    },
    {
     "name": "stdout",
     "output_type": "stream",
     "text": [
      "Calculate metrics\n"
     ]
    },
    {
     "name": "stderr",
     "output_type": "stream",
     "text": [
      "100%|██████████| 6200/6200 [01:02<00:00, 98.61it/s] \n"
     ]
    },
    {
     "name": "stdout",
     "output_type": "stream",
     "text": [
      "Epoch 28; Train loss: 2.47; Val loss: 2.50; Best VL: 2.50; Time: 560.99 sec;\n",
      "--------------------\n",
      "Epoch: 29/30\n"
     ]
    },
    {
     "name": "stderr",
     "output_type": "stream",
     "text": [
      "100%|██████████| 758/758 [05:42<00:00,  2.21it/s]\n"
     ]
    },
    {
     "name": "stdout",
     "output_type": "stream",
     "text": [
      "Validation step\n"
     ]
    },
    {
     "name": "stderr",
     "output_type": "stream",
     "text": [
      "100%|██████████| 379/379 [02:34<00:00,  2.46it/s]\n"
     ]
    },
    {
     "name": "stdout",
     "output_type": "stream",
     "text": [
      "Calculate metrics\n"
     ]
    },
    {
     "name": "stderr",
     "output_type": "stream",
     "text": [
      "100%|██████████| 6200/6200 [01:02<00:00, 99.23it/s] \n"
     ]
    },
    {
     "name": "stdout",
     "output_type": "stream",
     "text": [
      "Epoch 29; Train loss: 2.47; Val loss: 2.52; Best VL: 2.50; Time: 559.69 sec;\n",
      "--------------------\n",
      "Epoch: 30/30\n"
     ]
    },
    {
     "name": "stderr",
     "output_type": "stream",
     "text": [
      "100%|██████████| 758/758 [05:42<00:00,  2.21it/s]\n"
     ]
    },
    {
     "name": "stdout",
     "output_type": "stream",
     "text": [
      "Validation step\n"
     ]
    },
    {
     "name": "stderr",
     "output_type": "stream",
     "text": [
      "100%|██████████| 379/379 [02:34<00:00,  2.46it/s]\n"
     ]
    },
    {
     "name": "stdout",
     "output_type": "stream",
     "text": [
      "Calculate metrics\n"
     ]
    },
    {
     "name": "stderr",
     "output_type": "stream",
     "text": [
      "100%|██████████| 6200/6200 [01:02<00:00, 99.00it/s] \n"
     ]
    },
    {
     "name": "stdout",
     "output_type": "stream",
     "text": [
      "Epoch 30; Train loss: 2.46; Val loss: 2.49; Best VL: 2.49; Time: 559.51 sec;\n"
     ]
    }
   ],
   "source": [
    "fit(config.epoch, model, loss_function, optimizer, train_dl, validation_dl)"
   ]
  },
  {
   "cell_type": "code",
   "execution_count": 30,
   "metadata": {},
   "outputs": [
    {
     "data": {
      "text/plain": [
       "0.0001"
      ]
     },
     "execution_count": 30,
     "metadata": {},
     "output_type": "execute_result"
    }
   ],
   "source": [
    "scheduler_exp.get_last_lr()[0]"
   ]
  },
  {
   "cell_type": "code",
   "execution_count": 64,
   "metadata": {},
   "outputs": [
    {
     "name": "stdout",
     "output_type": "stream",
     "text": [
      "Error in callback <function _WandbInit._resume_backend at 0x7f2e6fae1620> (for pre_run_cell):\n"
     ]
    },
    {
     "ename": "Exception",
     "evalue": "The wandb backend process has shutdown",
     "output_type": "error",
     "traceback": [
      "\u001B[0;31m\u001B[0m",
      "\u001B[0;31mException\u001B[0mTraceback (most recent call last)",
      "\u001B[0;32m/usr/local/lib/python3.6/dist-packages/backcall/backcall.py\u001B[0m in \u001B[0;36madapted\u001B[0;34m(*args, **kwargs)\u001B[0m\n\u001B[1;32m    102\u001B[0m                 \u001B[0mkwargs\u001B[0m\u001B[0;34m.\u001B[0m\u001B[0mpop\u001B[0m\u001B[0;34m(\u001B[0m\u001B[0mname\u001B[0m\u001B[0;34m)\u001B[0m\u001B[0;34m\u001B[0m\u001B[0;34m\u001B[0m\u001B[0m\n\u001B[1;32m    103\u001B[0m \u001B[0;31m#            print(args, kwargs, unmatched_pos, cut_positional, unmatched_kw)\u001B[0m\u001B[0;34m\u001B[0m\u001B[0;34m\u001B[0m\u001B[0;34m\u001B[0m\u001B[0m\n\u001B[0;32m--> 104\u001B[0;31m             \u001B[0;32mreturn\u001B[0m \u001B[0mcallback\u001B[0m\u001B[0;34m(\u001B[0m\u001B[0;34m*\u001B[0m\u001B[0margs\u001B[0m\u001B[0;34m,\u001B[0m \u001B[0;34m**\u001B[0m\u001B[0mkwargs\u001B[0m\u001B[0;34m)\u001B[0m\u001B[0;34m\u001B[0m\u001B[0;34m\u001B[0m\u001B[0m\n\u001B[0m\u001B[1;32m    105\u001B[0m \u001B[0;34m\u001B[0m\u001B[0m\n\u001B[1;32m    106\u001B[0m         \u001B[0;32mreturn\u001B[0m \u001B[0madapted\u001B[0m\u001B[0;34m\u001B[0m\u001B[0;34m\u001B[0m\u001B[0m\n",
      "\u001B[0;32m/usr/local/lib/python3.6/dist-packages/wandb/sdk/wandb_init.py\u001B[0m in \u001B[0;36m_resume_backend\u001B[0;34m(self)\u001B[0m\n\u001B[1;32m    258\u001B[0m         \u001B[0;32mif\u001B[0m \u001B[0mself\u001B[0m\u001B[0;34m.\u001B[0m\u001B[0mbackend\u001B[0m \u001B[0;32mis\u001B[0m \u001B[0;32mnot\u001B[0m \u001B[0;32mNone\u001B[0m\u001B[0;34m:\u001B[0m\u001B[0;34m\u001B[0m\u001B[0;34m\u001B[0m\u001B[0m\n\u001B[1;32m    259\u001B[0m             \u001B[0mlogger\u001B[0m\u001B[0;34m.\u001B[0m\u001B[0minfo\u001B[0m\u001B[0;34m(\u001B[0m\u001B[0;34m\"resuming backend\"\u001B[0m\u001B[0;34m)\u001B[0m\u001B[0;34m\u001B[0m\u001B[0;34m\u001B[0m\u001B[0m\n\u001B[0;32m--> 260\u001B[0;31m             \u001B[0mself\u001B[0m\u001B[0;34m.\u001B[0m\u001B[0mbackend\u001B[0m\u001B[0;34m.\u001B[0m\u001B[0minterface\u001B[0m\u001B[0;34m.\u001B[0m\u001B[0mpublish_resume\u001B[0m\u001B[0;34m(\u001B[0m\u001B[0;34m)\u001B[0m\u001B[0;34m\u001B[0m\u001B[0;34m\u001B[0m\u001B[0m\n\u001B[0m\u001B[1;32m    261\u001B[0m \u001B[0;34m\u001B[0m\u001B[0m\n\u001B[1;32m    262\u001B[0m     \u001B[0;32mdef\u001B[0m \u001B[0m_jupyter_teardown\u001B[0m\u001B[0;34m(\u001B[0m\u001B[0mself\u001B[0m\u001B[0;34m)\u001B[0m\u001B[0;34m:\u001B[0m\u001B[0;34m\u001B[0m\u001B[0;34m\u001B[0m\u001B[0m\n",
      "\u001B[0;32m/usr/local/lib/python3.6/dist-packages/wandb/sdk/interface/interface.py\u001B[0m in \u001B[0;36mpublish_resume\u001B[0;34m(self)\u001B[0m\n\u001B[1;32m    603\u001B[0m         \u001B[0mresume\u001B[0m \u001B[0;34m=\u001B[0m \u001B[0mpb\u001B[0m\u001B[0;34m.\u001B[0m\u001B[0mResumeRequest\u001B[0m\u001B[0;34m(\u001B[0m\u001B[0;34m)\u001B[0m\u001B[0;34m\u001B[0m\u001B[0;34m\u001B[0m\u001B[0m\n\u001B[1;32m    604\u001B[0m         \u001B[0mrec\u001B[0m \u001B[0;34m=\u001B[0m \u001B[0mself\u001B[0m\u001B[0;34m.\u001B[0m\u001B[0m_make_request\u001B[0m\u001B[0;34m(\u001B[0m\u001B[0mresume\u001B[0m\u001B[0;34m=\u001B[0m\u001B[0mresume\u001B[0m\u001B[0;34m)\u001B[0m\u001B[0;34m\u001B[0m\u001B[0;34m\u001B[0m\u001B[0m\n\u001B[0;32m--> 605\u001B[0;31m         \u001B[0mself\u001B[0m\u001B[0;34m.\u001B[0m\u001B[0m_publish\u001B[0m\u001B[0;34m(\u001B[0m\u001B[0mrec\u001B[0m\u001B[0;34m)\u001B[0m\u001B[0;34m\u001B[0m\u001B[0;34m\u001B[0m\u001B[0m\n\u001B[0m\u001B[1;32m    606\u001B[0m \u001B[0;34m\u001B[0m\u001B[0m\n\u001B[1;32m    607\u001B[0m     \u001B[0;32mdef\u001B[0m \u001B[0m_publish_run\u001B[0m\u001B[0;34m(\u001B[0m\u001B[0mself\u001B[0m\u001B[0;34m,\u001B[0m \u001B[0mrun\u001B[0m\u001B[0;34m:\u001B[0m \u001B[0mpb\u001B[0m\u001B[0;34m.\u001B[0m\u001B[0mRunRecord\u001B[0m\u001B[0;34m)\u001B[0m \u001B[0;34m->\u001B[0m \u001B[0;32mNone\u001B[0m\u001B[0;34m:\u001B[0m\u001B[0;34m\u001B[0m\u001B[0;34m\u001B[0m\u001B[0m\n",
      "\u001B[0;32m/usr/local/lib/python3.6/dist-packages/wandb/sdk/interface/interface.py\u001B[0m in \u001B[0;36m_publish\u001B[0;34m(self, record, local)\u001B[0m\n\u001B[1;32m    534\u001B[0m     \u001B[0;32mdef\u001B[0m \u001B[0m_publish\u001B[0m\u001B[0;34m(\u001B[0m\u001B[0mself\u001B[0m\u001B[0;34m,\u001B[0m \u001B[0mrecord\u001B[0m\u001B[0;34m:\u001B[0m \u001B[0mpb\u001B[0m\u001B[0;34m.\u001B[0m\u001B[0mRecord\u001B[0m\u001B[0;34m,\u001B[0m \u001B[0mlocal\u001B[0m\u001B[0;34m:\u001B[0m \u001B[0mbool\u001B[0m \u001B[0;34m=\u001B[0m \u001B[0;32mNone\u001B[0m\u001B[0;34m)\u001B[0m \u001B[0;34m->\u001B[0m \u001B[0;32mNone\u001B[0m\u001B[0;34m:\u001B[0m\u001B[0;34m\u001B[0m\u001B[0;34m\u001B[0m\u001B[0m\n\u001B[1;32m    535\u001B[0m         \u001B[0;32mif\u001B[0m \u001B[0mself\u001B[0m\u001B[0;34m.\u001B[0m\u001B[0m_process\u001B[0m \u001B[0;32mand\u001B[0m \u001B[0;32mnot\u001B[0m \u001B[0mself\u001B[0m\u001B[0;34m.\u001B[0m\u001B[0m_process\u001B[0m\u001B[0;34m.\u001B[0m\u001B[0mis_alive\u001B[0m\u001B[0;34m(\u001B[0m\u001B[0;34m)\u001B[0m\u001B[0;34m:\u001B[0m\u001B[0;34m\u001B[0m\u001B[0;34m\u001B[0m\u001B[0m\n\u001B[0;32m--> 536\u001B[0;31m             \u001B[0;32mraise\u001B[0m \u001B[0mException\u001B[0m\u001B[0;34m(\u001B[0m\u001B[0;34m\"The wandb backend process has shutdown\"\u001B[0m\u001B[0;34m)\u001B[0m\u001B[0;34m\u001B[0m\u001B[0;34m\u001B[0m\u001B[0m\n\u001B[0m\u001B[1;32m    537\u001B[0m         \u001B[0;32mif\u001B[0m \u001B[0mlocal\u001B[0m\u001B[0;34m:\u001B[0m\u001B[0;34m\u001B[0m\u001B[0;34m\u001B[0m\u001B[0m\n\u001B[1;32m    538\u001B[0m             \u001B[0mrecord\u001B[0m\u001B[0;34m.\u001B[0m\u001B[0mcontrol\u001B[0m\u001B[0;34m.\u001B[0m\u001B[0mlocal\u001B[0m \u001B[0;34m=\u001B[0m \u001B[0mlocal\u001B[0m\u001B[0;34m\u001B[0m\u001B[0;34m\u001B[0m\u001B[0m\n",
      "\u001B[0;31mException\u001B[0m: The wandb backend process has shutdown"
     ]
    },
    {
     "data": {
      "text/html": [
       "<br/>Waiting for W&B process to finish, PID 1567<br/>Program ended successfully."
      ],
      "text/plain": [
       "<IPython.core.display.HTML object>"
      ]
     },
     "metadata": {},
     "output_type": "display_data"
    },
    {
     "ename": "Exception",
     "evalue": "The wandb backend process has shutdown",
     "output_type": "error",
     "traceback": [
      "\u001B[0;31m\u001B[0m",
      "\u001B[0;31mException\u001B[0mTraceback (most recent call last)",
      "\u001B[0;32m/usr/local/lib/python3.6/dist-packages/wandb/sdk/wandb_run.py\u001B[0m in \u001B[0;36m_atexit_cleanup\u001B[0;34m(self, exit_code)\u001B[0m\n\u001B[1;32m   1600\u001B[0m         \u001B[0;32mtry\u001B[0m\u001B[0;34m:\u001B[0m\u001B[0;34m\u001B[0m\u001B[0;34m\u001B[0m\u001B[0m\n\u001B[0;32m-> 1601\u001B[0;31m             \u001B[0mself\u001B[0m\u001B[0;34m.\u001B[0m\u001B[0m_on_finish\u001B[0m\u001B[0;34m(\u001B[0m\u001B[0;34m)\u001B[0m\u001B[0;34m\u001B[0m\u001B[0;34m\u001B[0m\u001B[0m\n\u001B[0m\u001B[1;32m   1602\u001B[0m         \u001B[0;32mexcept\u001B[0m \u001B[0mKeyboardInterrupt\u001B[0m \u001B[0;32mas\u001B[0m \u001B[0mki\u001B[0m\u001B[0;34m:\u001B[0m\u001B[0;34m\u001B[0m\u001B[0;34m\u001B[0m\u001B[0m\n",
      "\u001B[0;32m/usr/local/lib/python3.6/dist-packages/wandb/sdk/wandb_run.py\u001B[0m in \u001B[0;36m_on_finish\u001B[0;34m(self)\u001B[0m\n\u001B[1;32m   1757\u001B[0m         \u001B[0;32mif\u001B[0m \u001B[0mself\u001B[0m\u001B[0;34m.\u001B[0m\u001B[0m_backend\u001B[0m\u001B[0;34m:\u001B[0m\u001B[0;34m\u001B[0m\u001B[0;34m\u001B[0m\u001B[0m\n\u001B[0;32m-> 1758\u001B[0;31m             \u001B[0mself\u001B[0m\u001B[0;34m.\u001B[0m\u001B[0m_backend\u001B[0m\u001B[0;34m.\u001B[0m\u001B[0minterface\u001B[0m\u001B[0;34m.\u001B[0m\u001B[0mpublish_telemetry\u001B[0m\u001B[0;34m(\u001B[0m\u001B[0mself\u001B[0m\u001B[0;34m.\u001B[0m\u001B[0m_telemetry_obj\u001B[0m\u001B[0;34m)\u001B[0m\u001B[0;34m\u001B[0m\u001B[0;34m\u001B[0m\u001B[0m\n\u001B[0m\u001B[1;32m   1759\u001B[0m \u001B[0;34m\u001B[0m\u001B[0m\n",
      "\u001B[0;32m/usr/local/lib/python3.6/dist-packages/wandb/sdk/interface/interface.py\u001B[0m in \u001B[0;36mpublish_telemetry\u001B[0;34m(self, telem)\u001B[0m\n\u001B[1;32m    235\u001B[0m         \u001B[0mrec\u001B[0m \u001B[0;34m=\u001B[0m \u001B[0mself\u001B[0m\u001B[0;34m.\u001B[0m\u001B[0m_make_record\u001B[0m\u001B[0;34m(\u001B[0m\u001B[0mtelemetry\u001B[0m\u001B[0;34m=\u001B[0m\u001B[0mtelem\u001B[0m\u001B[0;34m)\u001B[0m\u001B[0;34m\u001B[0m\u001B[0;34m\u001B[0m\u001B[0m\n\u001B[0;32m--> 236\u001B[0;31m         \u001B[0mself\u001B[0m\u001B[0;34m.\u001B[0m\u001B[0m_publish\u001B[0m\u001B[0;34m(\u001B[0m\u001B[0mrec\u001B[0m\u001B[0;34m)\u001B[0m\u001B[0;34m\u001B[0m\u001B[0;34m\u001B[0m\u001B[0m\n\u001B[0m\u001B[1;32m    237\u001B[0m \u001B[0;34m\u001B[0m\u001B[0m\n",
      "\u001B[0;32m/usr/local/lib/python3.6/dist-packages/wandb/sdk/interface/interface.py\u001B[0m in \u001B[0;36m_publish\u001B[0;34m(self, record, local)\u001B[0m\n\u001B[1;32m    535\u001B[0m         \u001B[0;32mif\u001B[0m \u001B[0mself\u001B[0m\u001B[0;34m.\u001B[0m\u001B[0m_process\u001B[0m \u001B[0;32mand\u001B[0m \u001B[0;32mnot\u001B[0m \u001B[0mself\u001B[0m\u001B[0;34m.\u001B[0m\u001B[0m_process\u001B[0m\u001B[0;34m.\u001B[0m\u001B[0mis_alive\u001B[0m\u001B[0;34m(\u001B[0m\u001B[0;34m)\u001B[0m\u001B[0;34m:\u001B[0m\u001B[0;34m\u001B[0m\u001B[0;34m\u001B[0m\u001B[0m\n\u001B[0;32m--> 536\u001B[0;31m             \u001B[0;32mraise\u001B[0m \u001B[0mException\u001B[0m\u001B[0;34m(\u001B[0m\u001B[0;34m\"The wandb backend process has shutdown\"\u001B[0m\u001B[0;34m)\u001B[0m\u001B[0;34m\u001B[0m\u001B[0;34m\u001B[0m\u001B[0m\n\u001B[0m\u001B[1;32m    537\u001B[0m         \u001B[0;32mif\u001B[0m \u001B[0mlocal\u001B[0m\u001B[0;34m:\u001B[0m\u001B[0;34m\u001B[0m\u001B[0;34m\u001B[0m\u001B[0m\n",
      "\u001B[0;31mException\u001B[0m: The wandb backend process has shutdown",
      "\nDuring handling of the above exception, another exception occurred:\n",
      "\u001B[0;31mException\u001B[0mTraceback (most recent call last)",
      "\u001B[0;32m<ipython-input-64-db46e69e6108>\u001B[0m in \u001B[0;36m<module>\u001B[0;34m\u001B[0m\n\u001B[1;32m      1\u001B[0m \u001B[0;31m# Mark the run as finished\u001B[0m\u001B[0;34m\u001B[0m\u001B[0;34m\u001B[0m\u001B[0;34m\u001B[0m\u001B[0m\n\u001B[0;32m----> 2\u001B[0;31m \u001B[0mwandb\u001B[0m\u001B[0;34m.\u001B[0m\u001B[0mfinish\u001B[0m\u001B[0;34m(\u001B[0m\u001B[0;34m)\u001B[0m\u001B[0;34m\u001B[0m\u001B[0;34m\u001B[0m\u001B[0m\n\u001B[0m",
      "\u001B[0;32m/usr/local/lib/python3.6/dist-packages/wandb/sdk/wandb_run.py\u001B[0m in \u001B[0;36mfinish\u001B[0;34m(exit_code)\u001B[0m\n\u001B[1;32m   2504\u001B[0m     \"\"\"\n\u001B[1;32m   2505\u001B[0m     \u001B[0;32mif\u001B[0m \u001B[0mwandb\u001B[0m\u001B[0;34m.\u001B[0m\u001B[0mrun\u001B[0m\u001B[0;34m:\u001B[0m\u001B[0;34m\u001B[0m\u001B[0;34m\u001B[0m\u001B[0m\n\u001B[0;32m-> 2506\u001B[0;31m         \u001B[0mwandb\u001B[0m\u001B[0;34m.\u001B[0m\u001B[0mrun\u001B[0m\u001B[0;34m.\u001B[0m\u001B[0mfinish\u001B[0m\u001B[0;34m(\u001B[0m\u001B[0mexit_code\u001B[0m\u001B[0;34m=\u001B[0m\u001B[0mexit_code\u001B[0m\u001B[0;34m)\u001B[0m\u001B[0;34m\u001B[0m\u001B[0;34m\u001B[0m\u001B[0m\n\u001B[0m\u001B[1;32m   2507\u001B[0m \u001B[0;34m\u001B[0m\u001B[0m\n\u001B[1;32m   2508\u001B[0m \u001B[0;34m\u001B[0m\u001B[0m\n",
      "\u001B[0;32m/usr/local/lib/python3.6/dist-packages/wandb/sdk/wandb_run.py\u001B[0m in \u001B[0;36mfinish\u001B[0;34m(self, exit_code)\u001B[0m\n\u001B[1;32m   1295\u001B[0m             \u001B[0mhook\u001B[0m\u001B[0;34m(\u001B[0m\u001B[0;34m)\u001B[0m\u001B[0;34m\u001B[0m\u001B[0;34m\u001B[0m\u001B[0m\n\u001B[1;32m   1296\u001B[0m         \u001B[0mself\u001B[0m\u001B[0;34m.\u001B[0m\u001B[0m_teardown_hooks\u001B[0m \u001B[0;34m=\u001B[0m \u001B[0;34m[\u001B[0m\u001B[0;34m]\u001B[0m\u001B[0;34m\u001B[0m\u001B[0;34m\u001B[0m\u001B[0m\n\u001B[0;32m-> 1297\u001B[0;31m         \u001B[0mself\u001B[0m\u001B[0;34m.\u001B[0m\u001B[0m_atexit_cleanup\u001B[0m\u001B[0;34m(\u001B[0m\u001B[0mexit_code\u001B[0m\u001B[0;34m=\u001B[0m\u001B[0mexit_code\u001B[0m\u001B[0;34m)\u001B[0m\u001B[0;34m\u001B[0m\u001B[0;34m\u001B[0m\u001B[0m\n\u001B[0m\u001B[1;32m   1298\u001B[0m         \u001B[0;32mif\u001B[0m \u001B[0mself\u001B[0m\u001B[0;34m.\u001B[0m\u001B[0m_wl\u001B[0m \u001B[0;32mand\u001B[0m \u001B[0mlen\u001B[0m\u001B[0;34m(\u001B[0m\u001B[0mself\u001B[0m\u001B[0;34m.\u001B[0m\u001B[0m_wl\u001B[0m\u001B[0;34m.\u001B[0m\u001B[0m_global_run_stack\u001B[0m\u001B[0;34m)\u001B[0m \u001B[0;34m>\u001B[0m \u001B[0;36m0\u001B[0m\u001B[0;34m:\u001B[0m\u001B[0;34m\u001B[0m\u001B[0;34m\u001B[0m\u001B[0m\n\u001B[1;32m   1299\u001B[0m             \u001B[0mself\u001B[0m\u001B[0;34m.\u001B[0m\u001B[0m_wl\u001B[0m\u001B[0;34m.\u001B[0m\u001B[0m_global_run_stack\u001B[0m\u001B[0;34m.\u001B[0m\u001B[0mpop\u001B[0m\u001B[0;34m(\u001B[0m\u001B[0;34m)\u001B[0m\u001B[0;34m\u001B[0m\u001B[0;34m\u001B[0m\u001B[0m\n",
      "\u001B[0;32m/usr/local/lib/python3.6/dist-packages/wandb/sdk/wandb_run.py\u001B[0m in \u001B[0;36m_atexit_cleanup\u001B[0;34m(self, exit_code)\u001B[0m\n\u001B[1;32m   1608\u001B[0m         \u001B[0;32mexcept\u001B[0m \u001B[0mException\u001B[0m \u001B[0;32mas\u001B[0m \u001B[0me\u001B[0m\u001B[0;34m:\u001B[0m\u001B[0;34m\u001B[0m\u001B[0;34m\u001B[0m\u001B[0m\n\u001B[1;32m   1609\u001B[0m             \u001B[0mself\u001B[0m\u001B[0;34m.\u001B[0m\u001B[0m_console_stop\u001B[0m\u001B[0;34m(\u001B[0m\u001B[0;34m)\u001B[0m\u001B[0;34m\u001B[0m\u001B[0;34m\u001B[0m\u001B[0m\n\u001B[0;32m-> 1610\u001B[0;31m             \u001B[0mself\u001B[0m\u001B[0;34m.\u001B[0m\u001B[0m_backend\u001B[0m\u001B[0;34m.\u001B[0m\u001B[0mcleanup\u001B[0m\u001B[0;34m(\u001B[0m\u001B[0;34m)\u001B[0m\u001B[0;34m\u001B[0m\u001B[0;34m\u001B[0m\u001B[0m\n\u001B[0m\u001B[1;32m   1611\u001B[0m             \u001B[0mlogger\u001B[0m\u001B[0;34m.\u001B[0m\u001B[0merror\u001B[0m\u001B[0;34m(\u001B[0m\u001B[0;34m\"Problem finishing run\"\u001B[0m\u001B[0;34m,\u001B[0m \u001B[0mexc_info\u001B[0m\u001B[0;34m=\u001B[0m\u001B[0me\u001B[0m\u001B[0;34m)\u001B[0m\u001B[0;34m\u001B[0m\u001B[0;34m\u001B[0m\u001B[0m\n\u001B[1;32m   1612\u001B[0m             \u001B[0mwandb\u001B[0m\u001B[0;34m.\u001B[0m\u001B[0mtermerror\u001B[0m\u001B[0;34m(\u001B[0m\u001B[0;34m\"Problem finishing run\"\u001B[0m\u001B[0;34m)\u001B[0m\u001B[0;34m\u001B[0m\u001B[0;34m\u001B[0m\u001B[0m\n",
      "\u001B[0;32m/usr/local/lib/python3.6/dist-packages/wandb/sdk/backend/backend.py\u001B[0m in \u001B[0;36mcleanup\u001B[0;34m(self)\u001B[0m\n\u001B[1;32m    165\u001B[0m             \u001B[0;32mreturn\u001B[0m\u001B[0;34m\u001B[0m\u001B[0;34m\u001B[0m\u001B[0m\n\u001B[1;32m    166\u001B[0m         \u001B[0mself\u001B[0m\u001B[0;34m.\u001B[0m\u001B[0m_done\u001B[0m \u001B[0;34m=\u001B[0m \u001B[0;32mTrue\u001B[0m\u001B[0;34m\u001B[0m\u001B[0;34m\u001B[0m\u001B[0m\n\u001B[0;32m--> 167\u001B[0;31m         \u001B[0mself\u001B[0m\u001B[0;34m.\u001B[0m\u001B[0minterface\u001B[0m\u001B[0;34m.\u001B[0m\u001B[0mjoin\u001B[0m\u001B[0;34m(\u001B[0m\u001B[0;34m)\u001B[0m\u001B[0;34m\u001B[0m\u001B[0;34m\u001B[0m\u001B[0m\n\u001B[0m\u001B[1;32m    168\u001B[0m         \u001B[0mself\u001B[0m\u001B[0;34m.\u001B[0m\u001B[0mwandb_process\u001B[0m\u001B[0;34m.\u001B[0m\u001B[0mjoin\u001B[0m\u001B[0;34m(\u001B[0m\u001B[0;34m)\u001B[0m\u001B[0;34m\u001B[0m\u001B[0;34m\u001B[0m\u001B[0m\n\u001B[1;32m    169\u001B[0m         \u001B[0mself\u001B[0m\u001B[0;34m.\u001B[0m\u001B[0mrecord_q\u001B[0m\u001B[0;34m.\u001B[0m\u001B[0mclose\u001B[0m\u001B[0;34m(\u001B[0m\u001B[0;34m)\u001B[0m\u001B[0;34m\u001B[0m\u001B[0;34m\u001B[0m\u001B[0m\n",
      "\u001B[0;32m/usr/local/lib/python3.6/dist-packages/wandb/sdk/interface/interface.py\u001B[0m in \u001B[0;36mjoin\u001B[0;34m(self)\u001B[0m\n\u001B[1;32m    834\u001B[0m         \u001B[0mrequest\u001B[0m \u001B[0;34m=\u001B[0m \u001B[0mpb\u001B[0m\u001B[0;34m.\u001B[0m\u001B[0mRequest\u001B[0m\u001B[0;34m(\u001B[0m\u001B[0mshutdown\u001B[0m\u001B[0;34m=\u001B[0m\u001B[0mpb\u001B[0m\u001B[0;34m.\u001B[0m\u001B[0mShutdownRequest\u001B[0m\u001B[0;34m(\u001B[0m\u001B[0;34m)\u001B[0m\u001B[0;34m)\u001B[0m\u001B[0;34m\u001B[0m\u001B[0;34m\u001B[0m\u001B[0m\n\u001B[1;32m    835\u001B[0m         \u001B[0mrecord\u001B[0m \u001B[0;34m=\u001B[0m \u001B[0mself\u001B[0m\u001B[0;34m.\u001B[0m\u001B[0m_make_record\u001B[0m\u001B[0;34m(\u001B[0m\u001B[0mrequest\u001B[0m\u001B[0;34m=\u001B[0m\u001B[0mrequest\u001B[0m\u001B[0;34m)\u001B[0m\u001B[0;34m\u001B[0m\u001B[0;34m\u001B[0m\u001B[0m\n\u001B[0;32m--> 836\u001B[0;31m         \u001B[0m_\u001B[0m \u001B[0;34m=\u001B[0m \u001B[0mself\u001B[0m\u001B[0;34m.\u001B[0m\u001B[0m_communicate\u001B[0m\u001B[0;34m(\u001B[0m\u001B[0mrecord\u001B[0m\u001B[0;34m)\u001B[0m\u001B[0;34m\u001B[0m\u001B[0;34m\u001B[0m\u001B[0m\n\u001B[0m\u001B[1;32m    837\u001B[0m \u001B[0;34m\u001B[0m\u001B[0m\n\u001B[1;32m    838\u001B[0m         \u001B[0;32mif\u001B[0m \u001B[0mself\u001B[0m\u001B[0;34m.\u001B[0m\u001B[0m_router\u001B[0m\u001B[0;34m:\u001B[0m\u001B[0;34m\u001B[0m\u001B[0;34m\u001B[0m\u001B[0m\n",
      "\u001B[0;32m/usr/local/lib/python3.6/dist-packages/wandb/sdk/interface/interface.py\u001B[0m in \u001B[0;36m_communicate\u001B[0;34m(self, rec, timeout, local)\u001B[0m\n\u001B[1;32m    543\u001B[0m         \u001B[0mself\u001B[0m\u001B[0;34m,\u001B[0m \u001B[0mrec\u001B[0m\u001B[0;34m:\u001B[0m \u001B[0mpb\u001B[0m\u001B[0;34m.\u001B[0m\u001B[0mRecord\u001B[0m\u001B[0;34m,\u001B[0m \u001B[0mtimeout\u001B[0m\u001B[0;34m:\u001B[0m \u001B[0mOptional\u001B[0m\u001B[0;34m[\u001B[0m\u001B[0mint\u001B[0m\u001B[0;34m]\u001B[0m \u001B[0;34m=\u001B[0m \u001B[0;36m5\u001B[0m\u001B[0;34m,\u001B[0m \u001B[0mlocal\u001B[0m\u001B[0;34m:\u001B[0m \u001B[0mbool\u001B[0m \u001B[0;34m=\u001B[0m \u001B[0;32mNone\u001B[0m\u001B[0;34m\u001B[0m\u001B[0;34m\u001B[0m\u001B[0m\n\u001B[1;32m    544\u001B[0m     ) -> Optional[pb.Result]:\n\u001B[0;32m--> 545\u001B[0;31m         \u001B[0;32mreturn\u001B[0m \u001B[0mself\u001B[0m\u001B[0;34m.\u001B[0m\u001B[0m_communicate_async\u001B[0m\u001B[0;34m(\u001B[0m\u001B[0mrec\u001B[0m\u001B[0;34m,\u001B[0m \u001B[0mlocal\u001B[0m\u001B[0;34m=\u001B[0m\u001B[0mlocal\u001B[0m\u001B[0;34m)\u001B[0m\u001B[0;34m.\u001B[0m\u001B[0mget\u001B[0m\u001B[0;34m(\u001B[0m\u001B[0mtimeout\u001B[0m\u001B[0;34m=\u001B[0m\u001B[0mtimeout\u001B[0m\u001B[0;34m)\u001B[0m\u001B[0;34m\u001B[0m\u001B[0;34m\u001B[0m\u001B[0m\n\u001B[0m\u001B[1;32m    546\u001B[0m \u001B[0;34m\u001B[0m\u001B[0m\n\u001B[1;32m    547\u001B[0m     \u001B[0;32mdef\u001B[0m \u001B[0m_communicate_async\u001B[0m\u001B[0;34m(\u001B[0m\u001B[0mself\u001B[0m\u001B[0;34m,\u001B[0m \u001B[0mrec\u001B[0m\u001B[0;34m:\u001B[0m \u001B[0mpb\u001B[0m\u001B[0;34m.\u001B[0m\u001B[0mRecord\u001B[0m\u001B[0;34m,\u001B[0m \u001B[0mlocal\u001B[0m\u001B[0;34m:\u001B[0m \u001B[0mbool\u001B[0m \u001B[0;34m=\u001B[0m \u001B[0;32mNone\u001B[0m\u001B[0;34m)\u001B[0m \u001B[0;34m->\u001B[0m \u001B[0m_Future\u001B[0m\u001B[0;34m:\u001B[0m\u001B[0;34m\u001B[0m\u001B[0;34m\u001B[0m\u001B[0m\n",
      "\u001B[0;32m/usr/local/lib/python3.6/dist-packages/wandb/sdk/interface/interface.py\u001B[0m in \u001B[0;36m_communicate_async\u001B[0;34m(self, rec, local)\u001B[0m\n\u001B[1;32m    548\u001B[0m         \u001B[0;32massert\u001B[0m \u001B[0mself\u001B[0m\u001B[0;34m.\u001B[0m\u001B[0m_router\u001B[0m\u001B[0;34m\u001B[0m\u001B[0;34m\u001B[0m\u001B[0m\n\u001B[1;32m    549\u001B[0m         \u001B[0;32mif\u001B[0m \u001B[0mself\u001B[0m\u001B[0;34m.\u001B[0m\u001B[0m_process\u001B[0m \u001B[0;32mand\u001B[0m \u001B[0;32mnot\u001B[0m \u001B[0mself\u001B[0m\u001B[0;34m.\u001B[0m\u001B[0m_process\u001B[0m\u001B[0;34m.\u001B[0m\u001B[0mis_alive\u001B[0m\u001B[0;34m(\u001B[0m\u001B[0;34m)\u001B[0m\u001B[0;34m:\u001B[0m\u001B[0;34m\u001B[0m\u001B[0;34m\u001B[0m\u001B[0m\n\u001B[0;32m--> 550\u001B[0;31m             \u001B[0;32mraise\u001B[0m \u001B[0mException\u001B[0m\u001B[0;34m(\u001B[0m\u001B[0;34m\"The wandb backend process has shutdown\"\u001B[0m\u001B[0;34m)\u001B[0m\u001B[0;34m\u001B[0m\u001B[0;34m\u001B[0m\u001B[0m\n\u001B[0m\u001B[1;32m    551\u001B[0m         \u001B[0mfuture\u001B[0m \u001B[0;34m=\u001B[0m \u001B[0mself\u001B[0m\u001B[0;34m.\u001B[0m\u001B[0m_router\u001B[0m\u001B[0;34m.\u001B[0m\u001B[0msend_and_receive\u001B[0m\u001B[0;34m(\u001B[0m\u001B[0mrec\u001B[0m\u001B[0;34m,\u001B[0m \u001B[0mlocal\u001B[0m\u001B[0;34m=\u001B[0m\u001B[0mlocal\u001B[0m\u001B[0;34m)\u001B[0m\u001B[0;34m\u001B[0m\u001B[0;34m\u001B[0m\u001B[0m\n\u001B[1;32m    552\u001B[0m         \u001B[0;32mreturn\u001B[0m \u001B[0mfuture\u001B[0m\u001B[0;34m\u001B[0m\u001B[0;34m\u001B[0m\u001B[0m\n",
      "\u001B[0;31mException\u001B[0m: The wandb backend process has shutdown"
     ]
    }
   ],
   "source": [
    "# Mark the run as finished\n",
    "wandb.finish()"
   ]
  },
  {
   "cell_type": "code",
   "execution_count": 25,
   "metadata": {},
   "outputs": [],
   "source": [
    "torch.save(model.state_dict(), f'./VGG_CoverNet_e5.pth')"
   ]
  },
  {
   "cell_type": "markdown",
   "metadata": {},
   "source": [
    "### Calculate metrics on train data"
   ]
  },
  {
   "cell_type": "markdown",
   "metadata": {},
   "source": [
    "Or load trained model"
   ]
  },
  {
   "cell_type": "code",
   "execution_count": 1,
   "metadata": {},
   "outputs": [],
   "source": [
    "MODELS_FOLDER = './Models/MTP_1/'"
   ]
  },
  {
   "cell_type": "code",
   "execution_count": 2,
   "metadata": {},
   "outputs": [
    {
     "ename": "NameError",
     "evalue": "name 'model' is not defined",
     "output_type": "error",
     "traceback": [
      "\u001B[1;31m---------------------------------------------------------------------------\u001B[0m",
      "\u001B[1;31mNameError\u001B[0m                                 Traceback (most recent call last)",
      "\u001B[1;32m<ipython-input-2-72c08b6bc05d>\u001B[0m in \u001B[0;36m<module>\u001B[1;34m\u001B[0m\n\u001B[1;32m----> 1\u001B[1;33m \u001B[0mmodel\u001B[0m\u001B[1;33m.\u001B[0m\u001B[0mload_state_dict\u001B[0m\u001B[1;33m(\u001B[0m\u001B[0mtorch\u001B[0m\u001B[1;33m.\u001B[0m\u001B[0mload\u001B[0m\u001B[1;33m(\u001B[0m\u001B[1;34mf'{MODELS_FOLDER}VGG_CoverNet_e20_2.84.pth'\u001B[0m\u001B[1;33m)\u001B[0m\u001B[1;33m)\u001B[0m\u001B[1;33m\u001B[0m\u001B[0m\n\u001B[0m\u001B[0;32m      2\u001B[0m \u001B[1;33m\u001B[0m\u001B[0m\n",
      "\u001B[1;31mNameError\u001B[0m: name 'model' is not defined"
     ]
    }
   ],
   "source": [
    "model.load_state_dict(torch.load(f'{MODELS_FOLDER}VGG_CoverNet_e20_2.84.pth'))"
   ]
  },
  {
   "cell_type": "code",
   "execution_count": 106,
   "metadata": {},
   "outputs": [
    {
     "data": {
      "text/plain": [
       "MTP(\n",
       "  (backbone): RepVGGBackbone(\n",
       "    (backbone): RepVGG(\n",
       "      (stage0): RepVGGBlock(\n",
       "        (nonlinearity): ReLU()\n",
       "        (se): Identity()\n",
       "        (rbr_reparam): Conv2d(3, 48, kernel_size=(3, 3), stride=(2, 2), padding=(1, 1))\n",
       "      )\n",
       "      (stage1): Sequential(\n",
       "        (0): RepVGGBlock(\n",
       "          (nonlinearity): ReLU()\n",
       "          (se): Identity()\n",
       "          (rbr_reparam): Conv2d(48, 48, kernel_size=(3, 3), stride=(2, 2), padding=(1, 1))\n",
       "        )\n",
       "        (1): RepVGGBlock(\n",
       "          (nonlinearity): ReLU()\n",
       "          (se): Identity()\n",
       "          (rbr_reparam): Conv2d(48, 48, kernel_size=(3, 3), stride=(1, 1), padding=(1, 1))\n",
       "        )\n",
       "      )\n",
       "      (stage2): Sequential(\n",
       "        (0): RepVGGBlock(\n",
       "          (nonlinearity): ReLU()\n",
       "          (se): Identity()\n",
       "          (rbr_reparam): Conv2d(48, 96, kernel_size=(3, 3), stride=(2, 2), padding=(1, 1))\n",
       "        )\n",
       "        (1): RepVGGBlock(\n",
       "          (nonlinearity): ReLU()\n",
       "          (se): Identity()\n",
       "          (rbr_reparam): Conv2d(96, 96, kernel_size=(3, 3), stride=(1, 1), padding=(1, 1))\n",
       "        )\n",
       "        (2): RepVGGBlock(\n",
       "          (nonlinearity): ReLU()\n",
       "          (se): Identity()\n",
       "          (rbr_reparam): Conv2d(96, 96, kernel_size=(3, 3), stride=(1, 1), padding=(1, 1))\n",
       "        )\n",
       "        (3): RepVGGBlock(\n",
       "          (nonlinearity): ReLU()\n",
       "          (se): Identity()\n",
       "          (rbr_reparam): Conv2d(96, 96, kernel_size=(3, 3), stride=(1, 1), padding=(1, 1))\n",
       "        )\n",
       "      )\n",
       "      (stage3): Sequential(\n",
       "        (0): RepVGGBlock(\n",
       "          (nonlinearity): ReLU()\n",
       "          (se): Identity()\n",
       "          (rbr_reparam): Conv2d(96, 192, kernel_size=(3, 3), stride=(2, 2), padding=(1, 1))\n",
       "        )\n",
       "        (1): RepVGGBlock(\n",
       "          (nonlinearity): ReLU()\n",
       "          (se): Identity()\n",
       "          (rbr_reparam): Conv2d(192, 192, kernel_size=(3, 3), stride=(1, 1), padding=(1, 1))\n",
       "        )\n",
       "        (2): RepVGGBlock(\n",
       "          (nonlinearity): ReLU()\n",
       "          (se): Identity()\n",
       "          (rbr_reparam): Conv2d(192, 192, kernel_size=(3, 3), stride=(1, 1), padding=(1, 1))\n",
       "        )\n",
       "        (3): RepVGGBlock(\n",
       "          (nonlinearity): ReLU()\n",
       "          (se): Identity()\n",
       "          (rbr_reparam): Conv2d(192, 192, kernel_size=(3, 3), stride=(1, 1), padding=(1, 1))\n",
       "        )\n",
       "        (4): RepVGGBlock(\n",
       "          (nonlinearity): ReLU()\n",
       "          (se): Identity()\n",
       "          (rbr_reparam): Conv2d(192, 192, kernel_size=(3, 3), stride=(1, 1), padding=(1, 1))\n",
       "        )\n",
       "        (5): RepVGGBlock(\n",
       "          (nonlinearity): ReLU()\n",
       "          (se): Identity()\n",
       "          (rbr_reparam): Conv2d(192, 192, kernel_size=(3, 3), stride=(1, 1), padding=(1, 1))\n",
       "        )\n",
       "        (6): RepVGGBlock(\n",
       "          (nonlinearity): ReLU()\n",
       "          (se): Identity()\n",
       "          (rbr_reparam): Conv2d(192, 192, kernel_size=(3, 3), stride=(1, 1), padding=(1, 1))\n",
       "        )\n",
       "        (7): RepVGGBlock(\n",
       "          (nonlinearity): ReLU()\n",
       "          (se): Identity()\n",
       "          (rbr_reparam): Conv2d(192, 192, kernel_size=(3, 3), stride=(1, 1), padding=(1, 1))\n",
       "        )\n",
       "        (8): RepVGGBlock(\n",
       "          (nonlinearity): ReLU()\n",
       "          (se): Identity()\n",
       "          (rbr_reparam): Conv2d(192, 192, kernel_size=(3, 3), stride=(1, 1), padding=(1, 1))\n",
       "        )\n",
       "        (9): RepVGGBlock(\n",
       "          (nonlinearity): ReLU()\n",
       "          (se): Identity()\n",
       "          (rbr_reparam): Conv2d(192, 192, kernel_size=(3, 3), stride=(1, 1), padding=(1, 1))\n",
       "        )\n",
       "        (10): RepVGGBlock(\n",
       "          (nonlinearity): ReLU()\n",
       "          (se): Identity()\n",
       "          (rbr_reparam): Conv2d(192, 192, kernel_size=(3, 3), stride=(1, 1), padding=(1, 1))\n",
       "        )\n",
       "        (11): RepVGGBlock(\n",
       "          (nonlinearity): ReLU()\n",
       "          (se): Identity()\n",
       "          (rbr_reparam): Conv2d(192, 192, kernel_size=(3, 3), stride=(1, 1), padding=(1, 1))\n",
       "        )\n",
       "        (12): RepVGGBlock(\n",
       "          (nonlinearity): ReLU()\n",
       "          (se): Identity()\n",
       "          (rbr_reparam): Conv2d(192, 192, kernel_size=(3, 3), stride=(1, 1), padding=(1, 1))\n",
       "        )\n",
       "        (13): RepVGGBlock(\n",
       "          (nonlinearity): ReLU()\n",
       "          (se): Identity()\n",
       "          (rbr_reparam): Conv2d(192, 192, kernel_size=(3, 3), stride=(1, 1), padding=(1, 1))\n",
       "        )\n",
       "      )\n",
       "      (stage4): Sequential(\n",
       "        (0): RepVGGBlock(\n",
       "          (nonlinearity): ReLU()\n",
       "          (se): Identity()\n",
       "          (rbr_reparam): Conv2d(192, 1280, kernel_size=(3, 3), stride=(2, 2), padding=(1, 1))\n",
       "        )\n",
       "      )\n",
       "      (gap): AdaptiveAvgPool2d(output_size=1)\n",
       "      (linear): Linear(in_features=1280, out_features=1000, bias=True)\n",
       "    )\n",
       "    (linear): Linear(in_features=1280, out_features=2048, bias=True)\n",
       "  )\n",
       "  (fc1): Linear(in_features=1003, out_features=4096, bias=True)\n",
       "  (fc2): Linear(in_features=4096, out_features=375, bias=True)\n",
       ")"
      ]
     },
     "execution_count": 106,
     "metadata": {},
     "output_type": "execute_result"
    }
   ],
   "source": [
    "for module in model.modules():\n",
    "    if hasattr(module, 'switch_to_deploy'):\n",
    "        module.switch_to_deploy()\n",
    "\n",
    "model.eval()"
   ]
  },
  {
   "cell_type": "markdown",
   "metadata": {},
   "source": [
    "Load test samples from build-in dataset"
   ]
  },
  {
   "cell_type": "code",
   "execution_count": 107,
   "metadata": {},
   "outputs": [],
   "source": [
    "# from nuscenes import NuScenes\n",
    "# from nuscenes.prediction import PredictHelper\n",
    "# from nuscenes.eval.prediction.splits import get_prediction_challenge_split\n",
    "\n",
    "# # This is the path where you stored your copy of the nuScenes dataset.\n",
    "# DATAROOT = 'Dataset/'\n",
    "\n",
    "# history_length = 2\n",
    "# prediction_length = 6\n",
    "\n",
    "# # Use v1.0-trainval or v1.0-mini\n",
    "# nusc = NuScenes('v1.0-trainval', dataroot=DATAROOT, verbose=False)\n",
    "# helper = PredictHelper(nusc)"
   ]
  },
  {
   "cell_type": "code",
   "execution_count": 108,
   "metadata": {},
   "outputs": [],
   "source": [
    "# test = get_prediction_challenge_split(\"val\", dataroot=DATAROOT)\n",
    "# test = test[:5000]"
   ]
  },
  {
   "cell_type": "markdown",
   "metadata": {},
   "source": [
    "Load test samples from custom dataset"
   ]
  },
  {
   "cell_type": "code",
   "execution_count": 109,
   "metadata": {},
   "outputs": [],
   "source": [
    "TEST_SAMPLES_PATH = './CustomDataSplit/test_samples.json'"
   ]
  },
  {
   "cell_type": "code",
   "execution_count": 110,
   "metadata": {},
   "outputs": [
    {
     "data": {
      "text/plain": [
       "6200"
      ]
     },
     "execution_count": 110,
     "metadata": {},
     "output_type": "execute_result"
    }
   ],
   "source": [
    "test_samples = json_loader(VALIDATION_SAMPLES_PATH)    \n",
    "len(test_samples)"
   ]
  },
  {
   "cell_type": "code",
   "execution_count": 111,
   "metadata": {},
   "outputs": [],
   "source": [
    "import numpy as np\n",
    "\n",
    "test_features = np.load(f'{NPY_DATASET_PATH}multiagent_test_features_6k.npy')\n",
    "test_states = np.load(f'{NPY_DATASET_PATH}multiagent_test_states_6k.npy')\n",
    "test_labels = np.load(f'{NPY_DATASET_PATH}multiagent_test_labels_6k.npy')"
   ]
  },
  {
   "cell_type": "code",
   "execution_count": 112,
   "metadata": {},
   "outputs": [],
   "source": [
    "test_samples = test_samples[5000:6000]\n",
    "test_features = test_features[5000:6000]\n",
    "test_states = test_states[5000:6000]\n",
    "test_labels = test_labels[5000:6000]"
   ]
  },
  {
   "cell_type": "code",
   "execution_count": 113,
   "metadata": {},
   "outputs": [
    {
     "data": {
      "text/plain": [
       "(1000, 1000, 1000, 1000)"
      ]
     },
     "execution_count": 113,
     "metadata": {},
     "output_type": "execute_result"
    }
   ],
   "source": [
    "len(test_samples), len(test_features), len(test_states), len(test_labels)"
   ]
  },
  {
   "cell_type": "code",
   "execution_count": 114,
   "metadata": {},
   "outputs": [
    {
     "name": "stderr",
     "output_type": "stream",
     "text": [
      "100%|██████████| 1000/1000 [00:19<00:00, 52.34it/s]\n"
     ]
    },
    {
     "data": {
      "text/plain": [
       "defaultdict(dict,\n",
       "            {'MinFDEK': {'RowMean': [1.8524342746426852]},\n",
       "             'MinADEK': {'RowMean': [0.5400769085133835, 0.4511825815781957]},\n",
       "             'MissRateTopK_2': {'RowMean': [0.114, 0.085]}})"
      ]
     },
     "execution_count": 114,
     "metadata": {},
     "output_type": "execute_result"
    }
   ],
   "source": [
    "metricsRes = GetMetrics(model, test_samples, test_features, test_states, test_labels)\n",
    "metricsRes"
   ]
  },
  {
   "cell_type": "markdown",
   "metadata": {},
   "source": [
    "Draw some predictions"
   ]
  },
  {
   "cell_type": "code",
   "execution_count": 66,
   "metadata": {},
   "outputs": [],
   "source": [
    "indx = 69\n",
    "\n",
    "feature = test_features[indx]\n",
    "state = test_states[indx]\n",
    "gt = test_labels[indx]\n",
    "\n",
    "img = torch.Tensor(feature.reshape((500, 500, 3))).permute(2, 0, 1).unsqueeze(0)\n",
    "img_tensor = img.to(device)\n",
    "\n",
    "state = torch.Tensor(np.array([state])).to(device)\n",
    "state = state.to(device)\n",
    "\n",
    "gt = gt.reshape((12, 2))\n",
    "\n",
    "predict = model(img_tensor, state)\n",
    "predict = predict[0]\n",
    "\n",
    "trajectories_set = predict[:len(predict) - config.num_modes]\n",
    "trajectories_set = trajectories_set.reshape(config.num_modes, 12, 2)\n",
    "\n",
    "mode_probabilities = predict[-config.num_modes:]\n",
    "\n",
    "sorted_logits_indexes = mode_probabilities.argsort(descending=True)\n",
    "sorted_trajectories = trajectories_set[sorted_logits_indexes]\n",
    "\n",
    "mode_probabilities = mode_probabilities.cpu().detach().numpy()\n",
    "sorted_trajectories = sorted_trajectories.cpu().detach().numpy()"
   ]
  },
  {
   "cell_type": "code",
   "execution_count": 68,
   "metadata": {},
   "outputs": [
    {
     "data": {
      "image/png": "[encoded data removed]",
      "text/plain": [
       "<Figure size 432x288 with 1 Axes>"
      ]
     },
     "metadata": {},
     "output_type": "display_data"
    }
   ],
   "source": [
    "import matplotlib.pyplot as plt\n",
    "\n",
    "img = feature.reshape((500, 500, 3))\n",
    "\n",
    "plt.imshow(img)\n",
    "plt.show()"
   ]
  },
  {
   "cell_type": "code",
   "execution_count": 65,
   "metadata": {},
   "outputs": [
    {
     "name": "stdout",
     "output_type": "stream",
     "text": [
      "[Top 1] prob: 0.11947298794984818\n"
     ]
    },
    {
     "data": {
      "image/png": "[encoded data removed]",
      "text/plain": [
       "<Figure size 432x432 with 1 Axes>"
      ]
     },
     "metadata": {},
     "output_type": "display_data"
    },
    {
     "name": "stdout",
     "output_type": "stream",
     "text": [
      "[Top 2] prob: 0.06767964363098145\n"
     ]
    },
    {
     "data": {
      "image/png": "[encoded data removed]",
      "text/plain": [
       "<Figure size 432x432 with 1 Axes>"
      ]
     },
     "metadata": {},
     "output_type": "display_data"
    },
    {
     "name": "stdout",
     "output_type": "stream",
     "text": [
      "[Top 3] prob: 0.12491147220134735\n"
     ]
    },
    {
     "data": {
      "image/png": "[encoded data removed]",
      "text/plain": [
       "<Figure size 432x432 with 1 Axes>"
      ]
     },
     "metadata": {},
     "output_type": "display_data"
    }
   ],
   "source": [
    "import matplotlib.pyplot as plt\n",
    "\n",
    "def PlotPathWithPrediction(future, predict=[]):\n",
    "    plt.figure(figsize=(6, 6))\n",
    "\n",
    "    plt.scatter(future[:, 1], -future[:, 0], c='orange', s=10)\n",
    "    \n",
    "    if len(predict) > 0:\n",
    "        plt.scatter(predict[:, 1], -predict[:, 0], c='g', s=10)\n",
    "\n",
    "    # Keep aspect ratio of axis\n",
    "    plt.axis('equal')\n",
    "    plt.show()\n",
    "\n",
    "    \n",
    "# Plot top N trajectories\n",
    "for i in range(3):\n",
    "    print(f\"[Top {i + 1}] prob: {mode_probabilities[i]}\")\n",
    "    PlotPathWithPrediction(gt, sorted_trajectories[i])"
   ]
  },
  {
   "cell_type": "code",
   "execution_count": null,
   "metadata": {},
   "outputs": [],
   "source": []
  }
 ],
 "metadata": {
  "kernelspec": {
   "display_name": "Python 3",
   "language": "python",
   "name": "python3"
  },
  "language_info": {
   "codemirror_mode": {
    "name": "ipython",
    "version": 3
   },
   "file_extension": ".py",
   "mimetype": "text/x-python",
   "name": "python",
   "nbconvert_exporter": "python",
   "pygments_lexer": "ipython3",
   "version": "3.6.9"
  }
 },
 "nbformat": 4,
 "nbformat_minor": 1
}