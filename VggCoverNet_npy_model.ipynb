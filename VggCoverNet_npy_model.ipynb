{
 "cells": [
  {
   "cell_type": "markdown",
   "metadata": {},
   "source": [
    "Pytorch install"
   ]
  },
  {
   "cell_type": "code",
   "execution_count": 1,
   "metadata": {},
   "outputs": [
    {
     "name": "stdout",
     "output_type": "stream",
     "text": [
      "Looking in links: https://download.pytorch.org/whl/torch_stable.html\n",
      "Collecting torch==1.9.0+cu111\n",
      "  Downloading https://download.pytorch.org/whl/cu111/torch-1.9.0%2Bcu111-cp36-cp36m-linux_x86_64.whl (2041.3 MB)\n",
      "\u001B[K     |███████████████████             | 1208.0 MB 51.6 MB/s eta 0:00:17    |██████████████                  | 889.0 MB 65.6 MB/s eta 0:00:18     |██████████████▋                 | 929.4 MB 65.6 MB/s eta 0:00:17"
     ]
    },
    {
     "name": "stderr",
     "output_type": "stream",
     "text": [
      "IOPub data rate exceeded.\n",
      "The notebook server will temporarily stop sending output\n",
      "to the client in order to avoid crashing it.\n",
      "To change this limit, set the config variable\n",
      "`--NotebookApp.iopub_data_rate_limit`.\n",
      "\n",
      "Current values:\n",
      "NotebookApp.iopub_data_rate_limit=1000000.0 (bytes/sec)\n",
      "NotebookApp.rate_limit_window=3.0 (secs)\n",
      "\n"
     ]
    },
    {
     "name": "stdout",
     "output_type": "stream",
     "text": [
      "\u001B[K     |████████████████████▊           | 1324.6 MB 91.9 MB/s eta 0:00:08\u001B[K     |███████████████████████▋        | 1505.7 MB 4.8 MB/s eta 0:01:539"
     ]
    },
    {
     "name": "stderr",
     "output_type": "stream",
     "text": [
      "IOPub data rate exceeded.\n",
      "The notebook server will temporarily stop sending output\n",
      "to the client in order to avoid crashing it.\n",
      "To change this limit, set the config variable\n",
      "`--NotebookApp.iopub_data_rate_limit`.\n",
      "\n",
      "Current values:\n",
      "NotebookApp.iopub_data_rate_limit=1000000.0 (bytes/sec)\n",
      "NotebookApp.rate_limit_window=3.0 (secs)\n",
      "\n"
     ]
    },
    {
     "name": "stdout",
     "output_type": "stream",
     "text": [
      "\u001B[K     |████████████████████████████▏   | 1793.3 MB 38.1 MB/s eta 0:00:07"
     ]
    },
    {
     "name": "stderr",
     "output_type": "stream",
     "text": [
      "IOPub data rate exceeded.\n",
      "The notebook server will temporarily stop sending output\n",
      "to the client in order to avoid crashing it.\n",
      "To change this limit, set the config variable\n",
      "`--NotebookApp.iopub_data_rate_limit`.\n",
      "\n",
      "Current values:\n",
      "NotebookApp.iopub_data_rate_limit=1000000.0 (bytes/sec)\n",
      "NotebookApp.rate_limit_window=3.0 (secs)\n",
      "\n"
     ]
    },
    {
     "name": "stdout",
     "output_type": "stream",
     "text": [
      "\u001B[K     |████████████████████████████████| 2041.3 MB 51.1 MB/s eta 0:00:01\u001B[K     |████████████████████████████████| 2041.3 MB 26 kB/s \n",
      "\u001B[?25hCollecting torchvision==0.10.0+cu111\n",
      "  Downloading https://download.pytorch.org/whl/cu111/torchvision-0.10.0%2Bcu111-cp36-cp36m-linux_x86_64.whl (23.2 MB)\n",
      "\u001B[K     |████████████████████████████████| 23.2 MB 44.7 MB/s eta 0:00:01\n",
      "\u001B[?25hCollecting torchaudio===0.9.0\n",
      "  Downloading torchaudio-0.9.0-cp36-cp36m-manylinux1_x86_64.whl (1.9 MB)\n",
      "\u001B[K     |████████████████████████████████| 1.9 MB 12.3 MB/s eta 0:00:01\n",
      "\u001B[?25hRequirement already satisfied: dataclasses; python_version < \"3.7\" in /usr/local/lib/python3.6/dist-packages (from torch==1.9.0+cu111) (0.8)\n",
      "Requirement already satisfied: typing-extensions in /usr/local/lib/python3.6/dist-packages (from torch==1.9.0+cu111) (3.7.4.3)\n",
      "Requirement already satisfied: numpy in /usr/local/lib/python3.6/dist-packages (from torchvision==0.10.0+cu111) (1.19.5)\n",
      "Collecting pillow>=5.3.0\n",
      "  Downloading Pillow-8.2.0-cp36-cp36m-manylinux1_x86_64.whl (3.0 MB)\n",
      "\u001B[K     |████████████████████████████████| 3.0 MB 25.4 MB/s eta 0:00:01\n",
      "\u001B[?25hInstalling collected packages: torch, pillow, torchvision, torchaudio\n",
      "Successfully installed pillow-8.2.0 torch-1.9.0+cu111 torchaudio-0.9.0 torchvision-0.10.0+cu111\n",
      "\u001B[33mWARNING: You are using pip version 20.2.4; however, version 21.1.3 is available.\n",
      "You should consider upgrading via the '/usr/bin/python3 -m pip install --upgrade pip' command.\u001B[0m\n"
     ]
    }
   ],
   "source": [
    "!pip3 install torch==1.9.0+cu111 torchvision==0.10.0+cu111 torchaudio===0.9.0 -f https://download.pytorch.org/whl/torch_stable.html"
   ]
  },
  {
   "cell_type": "code",
   "execution_count": 2,
   "metadata": {},
   "outputs": [
    {
     "name": "stdout",
     "output_type": "stream",
     "text": [
      "Collecting nuscenes-devkit\n",
      "  Downloading nuscenes_devkit-1.1.5-py3-none-any.whl (283 kB)\n",
      "\u001B[K     |████████████████████████████████| 283 kB 14.9 MB/s eta 0:00:01\n",
      "\u001B[?25hCollecting descartes\n",
      "  Downloading descartes-1.1.0-py3-none-any.whl (5.8 kB)\n",
      "Collecting matplotlib\n",
      "  Downloading matplotlib-3.3.4-cp36-cp36m-manylinux1_x86_64.whl (11.5 MB)\n",
      "\u001B[K     |████████████████████████████████| 11.5 MB 19.8 MB/s eta 0:00:01\n",
      "\u001B[?25hCollecting scipy\n",
      "  Downloading scipy-1.5.4-cp36-cp36m-manylinux1_x86_64.whl (25.9 MB)\n",
      "\u001B[K     |████████████████████████████████| 25.9 MB 35.8 MB/s eta 0:00:01\n",
      "\u001B[?25hCollecting tqdm\n",
      "  Downloading tqdm-4.61.1-py2.py3-none-any.whl (75 kB)\n",
      "\u001B[K     |████████████████████████████████| 75 kB 12.6 MB/s  eta 0:00:01\n",
      "\u001B[?25hCollecting pycocotools>=2.0.1\n",
      "  Downloading pycocotools-2.0.2.tar.gz (23 kB)\n",
      "Requirement already satisfied: jupyter in /usr/local/lib/python3.6/dist-packages (from nuscenes-devkit) (1.0.0)\n",
      "Requirement already satisfied: cachetools in /usr/local/lib/python3.6/dist-packages (from nuscenes-devkit) (4.2.2)\n",
      "Collecting scikit-learn\n",
      "  Downloading scikit_learn-0.24.2-cp36-cp36m-manylinux2010_x86_64.whl (22.2 MB)\n",
      "\u001B[K     |████████████████████████████████| 22.2 MB 37.6 MB/s eta 0:00:01\n",
      "\u001B[?25hRequirement already satisfied: numpy in /usr/local/lib/python3.6/dist-packages (from nuscenes-devkit) (1.19.5)\n",
      "Collecting pyquaternion>=0.9.5\n",
      "  Downloading pyquaternion-0.9.9-py3-none-any.whl (14 kB)\n",
      "Collecting opencv-python\n",
      "  Downloading opencv_python-4.5.2.54-cp36-cp36m-manylinux2014_x86_64.whl (51.0 MB)\n",
      "\u001B[K     |████████████████████████████████| 51.0 MB 1.1 MB/s eta 0:00:01\n",
      "\u001B[?25hCollecting Shapely\n",
      "  Downloading Shapely-1.7.1-cp36-cp36m-manylinux1_x86_64.whl (1.0 MB)\n",
      "\u001B[K     |████████████████████████████████| 1.0 MB 109.4 MB/s eta 0:00:01\n",
      "\u001B[?25hCollecting fire\n",
      "  Downloading fire-0.4.0.tar.gz (87 kB)\n",
      "\u001B[K     |████████████████████████████████| 87 kB 1.1 MB/s  eta 0:00:01\n",
      "\u001B[?25hRequirement already satisfied: Pillow>6.2.1 in /usr/local/lib/python3.6/dist-packages (from nuscenes-devkit) (8.2.0)\n",
      "Collecting cycler>=0.10\n",
      "  Downloading cycler-0.10.0-py2.py3-none-any.whl (6.5 kB)\n",
      "Collecting kiwisolver>=1.0.1\n",
      "  Downloading kiwisolver-1.3.1-cp36-cp36m-manylinux1_x86_64.whl (1.1 MB)\n",
      "\u001B[K     |████████████████████████████████| 1.1 MB 33.5 MB/s eta 0:00:01\n",
      "\u001B[?25hRequirement already satisfied: python-dateutil>=2.1 in /usr/local/lib/python3.6/dist-packages (from matplotlib->nuscenes-devkit) (2.8.1)\n",
      "Requirement already satisfied: pyparsing!=2.0.4,!=2.1.2,!=2.1.6,>=2.0.3 in /usr/local/lib/python3.6/dist-packages (from matplotlib->nuscenes-devkit) (2.4.7)\n",
      "Requirement already satisfied: setuptools>=18.0 in /usr/local/lib/python3.6/dist-packages (from pycocotools>=2.0.1->nuscenes-devkit) (56.2.0)\n",
      "Collecting cython>=0.27.3\n",
      "  Using cached Cython-0.29.23-cp36-cp36m-manylinux1_x86_64.whl (2.0 MB)\n",
      "Requirement already satisfied: qtconsole in /usr/local/lib/python3.6/dist-packages (from jupyter->nuscenes-devkit) (5.1.0)\n",
      "Requirement already satisfied: notebook in /usr/local/lib/python3.6/dist-packages (from jupyter->nuscenes-devkit) (6.4.0)\n",
      "Requirement already satisfied: jupyter-console in /usr/local/lib/python3.6/dist-packages (from jupyter->nuscenes-devkit) (6.4.0)\n",
      "Requirement already satisfied: nbconvert in /usr/local/lib/python3.6/dist-packages (from jupyter->nuscenes-devkit) (6.0.7)\n",
      "Requirement already satisfied: ipywidgets in /usr/local/lib/python3.6/dist-packages (from jupyter->nuscenes-devkit) (7.6.3)\n",
      "Requirement already satisfied: ipykernel in /usr/local/lib/python3.6/dist-packages (from jupyter->nuscenes-devkit) (5.5.5)\n",
      "Collecting joblib>=0.11\n",
      "  Downloading joblib-1.0.1-py3-none-any.whl (303 kB)\n",
      "\u001B[K     |████████████████████████████████| 303 kB 126.1 MB/s eta 0:00:01\n",
      "\u001B[?25hCollecting threadpoolctl>=2.0.0\n",
      "  Downloading threadpoolctl-2.1.0-py3-none-any.whl (12 kB)\n",
      "Requirement already satisfied: six in /usr/local/lib/python3.6/dist-packages (from fire->nuscenes-devkit) (1.15.0)\n",
      "Requirement already satisfied: termcolor in /usr/local/lib/python3.6/dist-packages (from fire->nuscenes-devkit) (1.1.0)\n",
      "Requirement already satisfied: pygments in /usr/local/lib/python3.6/dist-packages (from qtconsole->jupyter->nuscenes-devkit) (2.9.0)\n",
      "Requirement already satisfied: pyzmq>=17.1 in /usr/local/lib/python3.6/dist-packages (from qtconsole->jupyter->nuscenes-devkit) (22.0.3)\n",
      "Requirement already satisfied: jupyter-client>=4.1 in /usr/local/lib/python3.6/dist-packages (from qtconsole->jupyter->nuscenes-devkit) (6.1.12)\n",
      "Requirement already satisfied: qtpy in /usr/local/lib/python3.6/dist-packages (from qtconsole->jupyter->nuscenes-devkit) (1.9.0)\n",
      "Requirement already satisfied: traitlets in /usr/local/lib/python3.6/dist-packages (from qtconsole->jupyter->nuscenes-devkit) (4.3.3)\n",
      "Requirement already satisfied: jupyter-core in /usr/local/lib/python3.6/dist-packages (from qtconsole->jupyter->nuscenes-devkit) (4.7.1)\n",
      "Requirement already satisfied: ipython-genutils in /usr/local/lib/python3.6/dist-packages (from qtconsole->jupyter->nuscenes-devkit) (0.2.0)\n",
      "Requirement already satisfied: Send2Trash>=1.5.0 in /usr/local/lib/python3.6/dist-packages (from notebook->jupyter->nuscenes-devkit) (1.5.0)\n",
      "Requirement already satisfied: terminado>=0.8.3 in /usr/local/lib/python3.6/dist-packages (from notebook->jupyter->nuscenes-devkit) (0.9.5)\n",
      "Requirement already satisfied: tornado>=6.1 in /usr/local/lib/python3.6/dist-packages (from notebook->jupyter->nuscenes-devkit) (6.1)\n",
      "Requirement already satisfied: argon2-cffi in /usr/local/lib/python3.6/dist-packages (from notebook->jupyter->nuscenes-devkit) (20.1.0)\n",
      "Requirement already satisfied: jinja2 in /usr/local/lib/python3.6/dist-packages (from notebook->jupyter->nuscenes-devkit) (3.0.0)\n",
      "Requirement already satisfied: nbformat in /usr/local/lib/python3.6/dist-packages (from notebook->jupyter->nuscenes-devkit) (5.1.3)\n",
      "Requirement already satisfied: prometheus-client in /usr/local/lib/python3.6/dist-packages (from notebook->jupyter->nuscenes-devkit) (0.10.1)\n",
      "Requirement already satisfied: ipython in /usr/local/lib/python3.6/dist-packages (from jupyter-console->jupyter->nuscenes-devkit) (7.16.1)\n",
      "Requirement already satisfied: prompt-toolkit!=3.0.0,!=3.0.1,<3.1.0,>=2.0.0 in /usr/local/lib/python3.6/dist-packages (from jupyter-console->jupyter->nuscenes-devkit) (3.0.18)\n",
      "Requirement already satisfied: entrypoints>=0.2.2 in /usr/local/lib/python3.6/dist-packages (from nbconvert->jupyter->nuscenes-devkit) (0.3)\n",
      "Requirement already satisfied: nbclient<0.6.0,>=0.5.0 in /usr/local/lib/python3.6/dist-packages (from nbconvert->jupyter->nuscenes-devkit) (0.5.3)\n",
      "Requirement already satisfied: jupyterlab-pygments in /usr/local/lib/python3.6/dist-packages (from nbconvert->jupyter->nuscenes-devkit) (0.1.2)\n",
      "Requirement already satisfied: bleach in /usr/local/lib/python3.6/dist-packages (from nbconvert->jupyter->nuscenes-devkit) (3.3.0)\n",
      "Requirement already satisfied: pandocfilters>=1.4.1 in /usr/local/lib/python3.6/dist-packages (from nbconvert->jupyter->nuscenes-devkit) (1.4.3)\n",
      "Requirement already satisfied: testpath in /usr/local/lib/python3.6/dist-packages (from nbconvert->jupyter->nuscenes-devkit) (0.5.0)\n",
      "Requirement already satisfied: mistune<2,>=0.8.1 in /usr/local/lib/python3.6/dist-packages (from nbconvert->jupyter->nuscenes-devkit) (0.8.4)\n",
      "Requirement already satisfied: defusedxml in /usr/local/lib/python3.6/dist-packages (from nbconvert->jupyter->nuscenes-devkit) (0.7.1)\n",
      "Requirement already satisfied: widgetsnbextension~=3.5.0 in /usr/local/lib/python3.6/dist-packages (from ipywidgets->jupyter->nuscenes-devkit) (3.5.1)\n",
      "Requirement already satisfied: jupyterlab-widgets>=1.0.0; python_version >= \"3.6\" in /usr/local/lib/python3.6/dist-packages (from ipywidgets->jupyter->nuscenes-devkit) (1.0.0)\n",
      "Requirement already satisfied: decorator in /usr/local/lib/python3.6/dist-packages (from traitlets->qtconsole->jupyter->nuscenes-devkit) (5.0.9)\n",
      "Requirement already satisfied: ptyprocess; os_name != \"nt\" in /usr/local/lib/python3.6/dist-packages (from terminado>=0.8.3->notebook->jupyter->nuscenes-devkit) (0.7.0)\n",
      "Requirement already satisfied: cffi>=1.0.0 in /usr/local/lib/python3.6/dist-packages (from argon2-cffi->notebook->jupyter->nuscenes-devkit) (1.14.5)\n",
      "Requirement already satisfied: MarkupSafe>=2.0.0rc2 in /usr/local/lib/python3.6/dist-packages (from jinja2->notebook->jupyter->nuscenes-devkit) (2.0.0)\n",
      "Requirement already satisfied: jsonschema!=2.5.0,>=2.4 in /usr/local/lib/python3.6/dist-packages (from nbformat->notebook->jupyter->nuscenes-devkit) (3.2.0)\n",
      "Requirement already satisfied: pickleshare in /usr/local/lib/python3.6/dist-packages (from ipython->jupyter-console->jupyter->nuscenes-devkit) (0.7.5)\n",
      "Requirement already satisfied: backcall in /usr/local/lib/python3.6/dist-packages (from ipython->jupyter-console->jupyter->nuscenes-devkit) (0.2.0)\n",
      "Requirement already satisfied: jedi>=0.10 in /usr/local/lib/python3.6/dist-packages (from ipython->jupyter-console->jupyter->nuscenes-devkit) (0.18.0)\n",
      "Requirement already satisfied: pexpect; sys_platform != \"win32\" in /usr/local/lib/python3.6/dist-packages (from ipython->jupyter-console->jupyter->nuscenes-devkit) (4.8.0)\n",
      "Requirement already satisfied: wcwidth in /usr/local/lib/python3.6/dist-packages (from prompt-toolkit!=3.0.0,!=3.0.1,<3.1.0,>=2.0.0->jupyter-console->jupyter->nuscenes-devkit) (0.2.5)\n",
      "Requirement already satisfied: async-generator in /usr/local/lib/python3.6/dist-packages (from nbclient<0.6.0,>=0.5.0->nbconvert->jupyter->nuscenes-devkit) (1.10)\n",
      "Requirement already satisfied: nest-asyncio in /usr/local/lib/python3.6/dist-packages (from nbclient<0.6.0,>=0.5.0->nbconvert->jupyter->nuscenes-devkit) (1.5.1)\n",
      "Requirement already satisfied: packaging in /usr/local/lib/python3.6/dist-packages (from bleach->nbconvert->jupyter->nuscenes-devkit) (20.9)\n",
      "Requirement already satisfied: webencodings in /usr/local/lib/python3.6/dist-packages (from bleach->nbconvert->jupyter->nuscenes-devkit) (0.5.1)\n",
      "Requirement already satisfied: pycparser in /usr/local/lib/python3.6/dist-packages (from cffi>=1.0.0->argon2-cffi->notebook->jupyter->nuscenes-devkit) (2.20)\n",
      "Requirement already satisfied: importlib-metadata; python_version < \"3.8\" in /usr/local/lib/python3.6/dist-packages (from jsonschema!=2.5.0,>=2.4->nbformat->notebook->jupyter->nuscenes-devkit) (4.0.1)\n",
      "Requirement already satisfied: attrs>=17.4.0 in /usr/local/lib/python3.6/dist-packages (from jsonschema!=2.5.0,>=2.4->nbformat->notebook->jupyter->nuscenes-devkit) (21.2.0)\n",
      "Requirement already satisfied: pyrsistent>=0.14.0 in /usr/local/lib/python3.6/dist-packages (from jsonschema!=2.5.0,>=2.4->nbformat->notebook->jupyter->nuscenes-devkit) (0.17.3)\n",
      "Requirement already satisfied: parso<0.9.0,>=0.8.0 in /usr/local/lib/python3.6/dist-packages (from jedi>=0.10->ipython->jupyter-console->jupyter->nuscenes-devkit) (0.8.2)\n",
      "Requirement already satisfied: zipp>=0.5 in /usr/local/lib/python3.6/dist-packages (from importlib-metadata; python_version < \"3.8\"->jsonschema!=2.5.0,>=2.4->nbformat->notebook->jupyter->nuscenes-devkit) (3.4.1)\n",
      "Requirement already satisfied: typing-extensions>=3.6.4; python_version < \"3.8\" in /usr/local/lib/python3.6/dist-packages (from importlib-metadata; python_version < \"3.8\"->jsonschema!=2.5.0,>=2.4->nbformat->notebook->jupyter->nuscenes-devkit) (3.7.4.3)\n",
      "Building wheels for collected packages: pycocotools, fire\n",
      "  Building wheel for pycocotools (setup.py) ... \u001B[?25ldone\n",
      "\u001B[?25h  Created wheel for pycocotools: filename=pycocotools-2.0.2-cp36-cp36m-linux_x86_64.whl size=265631 sha256=df380e681ace0e21151cdd0e8193928b6ff9d381333e146f4a68c819590f7ecd\n",
      "  Stored in directory: /root/.cache/pip/wheels/d8/c2/ba/8f5306f921c2e79ad7b09effdfed6bd966cfcf8c6fe55422d6\n",
      "  Building wheel for fire (setup.py) ... \u001B[?25ldone\n",
      "\u001B[?25h  Created wheel for fire: filename=fire-0.4.0-py2.py3-none-any.whl size=115928 sha256=6fb953c626533fa38a863076c1b7fea99ea6f556953de24855e562e76bc103f9\n",
      "  Stored in directory: /root/.cache/pip/wheels/a6/12/74/ce0728e3990845862240349a12d7179a262e388ec73938024b\n",
      "Successfully built pycocotools fire\n",
      "Installing collected packages: cycler, kiwisolver, matplotlib, descartes, scipy, tqdm, cython, pycocotools, joblib, threadpoolctl, scikit-learn, pyquaternion, opencv-python, Shapely, fire, nuscenes-devkit\n",
      "Successfully installed Shapely-1.7.1 cycler-0.10.0 cython-0.29.23 descartes-1.1.0 fire-0.4.0 joblib-1.0.1 kiwisolver-1.3.1 matplotlib-3.3.4 nuscenes-devkit-1.1.5 opencv-python-4.5.2.54 pycocotools-2.0.2 pyquaternion-0.9.9 scikit-learn-0.24.2 scipy-1.5.4 threadpoolctl-2.1.0 tqdm-4.61.1\n",
      "\u001B[33mWARNING: You are using pip version 20.2.4; however, version 21.1.3 is available.\n",
      "You should consider upgrading via the '/usr/bin/python3 -m pip install --upgrade pip' command.\u001B[0m\n"
     ]
    }
   ],
   "source": [
    "!pip install nuscenes-devkit"
   ]
  },
  {
   "cell_type": "code",
   "execution_count": 1,
   "metadata": {},
   "outputs": [
    {
     "name": "stdout",
     "output_type": "stream",
     "text": [
      "True\n",
      "Running on  cuda:0\n",
      "Device count: 1\n"
     ]
    }
   ],
   "source": [
    "import torch\n",
    "\n",
    "print(torch.cuda.is_available())\n",
    "\n",
    "device = torch.device('cuda:0' if torch.cuda.is_available() else 'cpu')\n",
    "print('Running on ', device)\n",
    "print(f\"Device count: {torch.cuda.device_count()}\")"
   ]
  },
  {
   "cell_type": "code",
   "execution_count": 8,
   "metadata": {},
   "outputs": [
    {
     "name": "stdout",
     "output_type": "stream",
     "text": [
      "Hit:1 http://archive.ubuntu.com/ubuntu bionic InRelease\n",
      "Hit:2 http://security.ubuntu.com/ubuntu bionic-security InRelease              \n",
      "Hit:3 http://archive.ubuntu.com/ubuntu bionic-updates InRelease                \n",
      "Ign:4 https://developer.download.nvidia.com/compute/cuda/repos/ubuntu1804/x86_64  InRelease\n",
      "Hit:5 http://archive.ubuntu.com/ubuntu bionic-backports InRelease       \n",
      "Ign:6 https://developer.download.nvidia.com/compute/machine-learning/repos/ubuntu1804/x86_64  InRelease\n",
      "Hit:7 https://developer.download.nvidia.com/compute/cuda/repos/ubuntu1804/x86_64  Release\n",
      "Hit:8 https://developer.download.nvidia.com/compute/machine-learning/repos/ubuntu1804/x86_64  Release\n",
      "Reading package lists... Done\n",
      "Reading package lists... Done\n",
      "Building dependency tree       \n",
      "Reading state information... Done\n",
      "libgl1-mesa-glx is already the newest version (20.0.8-0ubuntu1~18.04.1).\n",
      "0 upgraded, 0 newly installed, 0 to remove and 21 not upgraded.\n"
     ]
    }
   ],
   "source": [
    "# Fix error : libGL.so.1: cannot open shared object file: No such file or directory\n",
    "!apt-get update\n",
    "!apt install -y libgl1-mesa-glx"
   ]
  },
  {
   "cell_type": "code",
   "execution_count": 2,
   "metadata": {},
   "outputs": [
    {
     "ename": "NameError",
     "evalue": "name 'CURRENT_PATH' is not defined",
     "output_type": "error",
     "traceback": [
      "\u001B[1;31m---------------------------------------------------------------------------\u001B[0m",
      "\u001B[1;31mNameError\u001B[0m                                 Traceback (most recent call last)",
      "\u001B[1;32m<ipython-input-2-3aaa6e69da7d>\u001B[0m in \u001B[0;36m<module>\u001B[1;34m\u001B[0m\n\u001B[0;32m     10\u001B[0m \u001B[1;31m#unzipFile(f'./prediction_trajectory_sets.zip', CURRENT_PATH)\u001B[0m\u001B[1;33m\u001B[0m\u001B[1;33m\u001B[0m\u001B[0m\n\u001B[0;32m     11\u001B[0m \u001B[1;31m#unzipFile(f'./repVgg.zip', CURRENT_PATH)\u001B[0m\u001B[1;33m\u001B[0m\u001B[1;33m\u001B[0m\u001B[0m\n\u001B[1;32m---> 12\u001B[1;33m \u001B[0munzipFile\u001B[0m\u001B[1;33m(\u001B[0m\u001B[1;34mf'./data_features_5k.zip'\u001B[0m\u001B[1;33m,\u001B[0m \u001B[0mCURRENT_PATH\u001B[0m\u001B[1;33m)\u001B[0m\u001B[1;33m\u001B[0m\u001B[0m\n\u001B[0m\u001B[0;32m     13\u001B[0m \u001B[1;33m\u001B[0m\u001B[0m\n",
      "\u001B[1;31mNameError\u001B[0m: name 'CURRENT_PATH' is not defined"
     ]
    }
   ],
   "source": [
    "import os\n",
    "import zipfile\n",
    "import subprocess\n",
    "\n",
    "def unzipFile(pathToZip, pathToOut):\n",
    "    unzip = ['unzip', '-o', pathToZip, '-d', pathToOut]\n",
    "    p = subprocess.call(unzip)\n",
    "\n",
    "#unzipFile(f'{CURRENT_PATH}{'data_features_5k.zip'}', CURRENT_PATH)\n",
    "#unzipFile(f'./prediction_trajectory_sets.zip', CURRENT_PATH)\n",
    "#unzipFile(f'./repVgg.zip', CURRENT_PATH)\n",
    "unzipFile(f'./data_features_5k.zip', CURRENT_PATH)"
   ]
  },
  {
   "cell_type": "code",
   "execution_count": 2,
   "metadata": {},
   "outputs": [],
   "source": [
    "CURRENT_PATH = './NpyDataset/'\n",
    "# CURRENT_PATH = './'"
   ]
  },
  {
   "cell_type": "code",
   "execution_count": 3,
   "metadata": {},
   "outputs": [],
   "source": [
    "import numpy as np\n",
    "\n",
    "# Npy dataset\n",
    "\n",
    "train_features = np.load(f'{CURRENT_PATH}train_features_5k.npy')\n",
    "train_states = np.load(f'{CURRENT_PATH}data_states_5k.npy')\n",
    "train_labels = np.load(f'{CURRENT_PATH}data_labels_5k.npy')\n",
    "\n",
    "validation_features = np.load(f'{CURRENT_PATH}data_validation_features_5k.npy')\n",
    "validation_states = np.load(f'{CURRENT_PATH}data_validation_states_5k.npy')\n",
    "validation_labels = np.load(f'{CURRENT_PATH}data_validation_labels_5k.npy')"
   ]
  },
  {
   "cell_type": "code",
   "execution_count": 4,
   "metadata": {
    "pycharm": {
     "name": "#%%\n"
    }
   },
   "outputs": [],
   "source": [
    "import pickle\n",
    "\n",
    "PATH_TO_EPSILON_8_SET = f\"./Dataset/prediction_trajectory_sets/epsilon_2.pkl\"\n",
    "# PATH_TO_EPSILON_8_SET = f\"./prediction_trajectory_sets/epsilon_8.pkl\"\n",
    "\n",
    "trajectories_set_8 = pickle.load(open(PATH_TO_EPSILON_8_SET, 'rb'))\n",
    "trajectories_set_8 = torch.Tensor(trajectories_set_8)"
   ]
  },
  {
   "cell_type": "markdown",
   "metadata": {
    "pycharm": {
     "name": "#%% md\n"
    }
   },
   "source": [
    "Dataset"
   ]
  },
  {
   "cell_type": "code",
   "execution_count": 5,
   "metadata": {
    "pycharm": {
     "name": "#%%\n"
    }
   },
   "outputs": [],
   "source": [
    "from torch.utils.data import DataLoader, Dataset\n",
    "\n",
    "import numpy as np\n",
    "from typing import List\n",
    "\n",
    "class NuscenesDataset(Dataset):\n",
    "    def __init__(self, features: List[str], states: List[str], labels: List[str]):\n",
    "        self.features = features\n",
    "        self.states = states\n",
    "        self.labels = labels\n",
    "\n",
    "    def __len__(self):\n",
    "        return len(self.features)\n",
    "    \n",
    "    def __getitem__(self, index: int):\n",
    "\n",
    "        image = self.features[index].reshape((500, 500, 3))\n",
    "        image = torch.Tensor(image).permute(2, 0, 1)\n",
    "        \n",
    "        agent_state_vector = torch.Tensor(self.states[index])\n",
    "        ground_truth = self.labels[index].reshape((12, 2))\n",
    "\n",
    "        # Convert to [batch_size, 1, 12, 2]\n",
    "        # Because loss function need that format\n",
    "        ground_truth = np.expand_dims(ground_truth, 0)\n",
    "\n",
    "        return image, agent_state_vector, ground_truth"
   ]
  },
  {
   "cell_type": "code",
   "execution_count": 198,
   "metadata": {
    "pycharm": {
     "name": "#%%\n"
    }
   },
   "outputs": [
    {
     "ename": "NameError",
     "evalue": "name 'train_features' is not defined",
     "output_type": "error",
     "traceback": [
      "\u001B[1;31m---------------------------------------------------------------------------\u001B[0m",
      "\u001B[1;31mNameError\u001B[0m                                 Traceback (most recent call last)",
      "\u001B[1;32m<ipython-input-198-d98d90e435fe>\u001B[0m in \u001B[0;36m<module>\u001B[1;34m\u001B[0m\n\u001B[0;32m      1\u001B[0m \u001B[0mbatch_size\u001B[0m \u001B[1;33m=\u001B[0m \u001B[1;36m32\u001B[0m\u001B[1;33m\u001B[0m\u001B[0m\n\u001B[0;32m      2\u001B[0m \u001B[1;33m\u001B[0m\u001B[0m\n\u001B[1;32m----> 3\u001B[1;33m \u001B[0mtrain_ds\u001B[0m \u001B[1;33m=\u001B[0m \u001B[0mNuscenesDataset\u001B[0m\u001B[1;33m(\u001B[0m\u001B[0mtrain_features\u001B[0m\u001B[1;33m,\u001B[0m \u001B[0mtrain_states\u001B[0m\u001B[1;33m,\u001B[0m \u001B[0mtrain_labels\u001B[0m\u001B[1;33m)\u001B[0m\u001B[1;33m\u001B[0m\u001B[0m\n\u001B[0m\u001B[0;32m      4\u001B[0m \u001B[0mtrain_dl\u001B[0m \u001B[1;33m=\u001B[0m \u001B[0mDataLoader\u001B[0m\u001B[1;33m(\u001B[0m\u001B[0mtrain_ds\u001B[0m\u001B[1;33m,\u001B[0m \u001B[0mbatch_size\u001B[0m\u001B[1;33m=\u001B[0m\u001B[0mbatch_size\u001B[0m\u001B[1;33m,\u001B[0m \u001B[0mshuffle\u001B[0m\u001B[1;33m=\u001B[0m\u001B[1;32mTrue\u001B[0m\u001B[1;33m)\u001B[0m\u001B[1;33m\u001B[0m\u001B[0m\n\u001B[0;32m      5\u001B[0m \u001B[1;33m\u001B[0m\u001B[0m\n",
      "\u001B[1;31mNameError\u001B[0m: name 'train_features' is not defined"
     ]
    }
   ],
   "source": [
    "batch_size = 32\n",
    "\n",
    "train_ds = NuscenesDataset(train_features, train_states, train_labels)\n",
    "train_dl = DataLoader(train_ds, batch_size=batch_size, shuffle=True)\n",
    "\n",
    "train_val_ds = NuscenesDataset(validation_features, validation_states, validation_labels)\n",
    "train_val_dl = DataLoader(train_ds, batch_size=batch_size * 2)"
   ]
  },
  {
   "cell_type": "code",
   "execution_count": 7,
   "metadata": {},
   "outputs": [
    {
     "ename": "NameError",
     "evalue": "name 'train_dl' is not defined",
     "output_type": "error",
     "traceback": [
      "\u001B[1;31m---------------------------------------------------------------------------\u001B[0m",
      "\u001B[1;31mNameError\u001B[0m                                 Traceback (most recent call last)",
      "\u001B[1;32m<ipython-input-7-9db209c04de0>\u001B[0m in \u001B[0;36m<module>\u001B[1;34m\u001B[0m\n\u001B[1;32m----> 1\u001B[1;33m \u001B[0mimage\u001B[0m\u001B[1;33m,\u001B[0m \u001B[0mstate\u001B[0m\u001B[1;33m,\u001B[0m \u001B[0mground_truth\u001B[0m \u001B[1;33m=\u001B[0m \u001B[0mnext\u001B[0m\u001B[1;33m(\u001B[0m\u001B[0miter\u001B[0m\u001B[1;33m(\u001B[0m\u001B[0mtrain_dl\u001B[0m\u001B[1;33m)\u001B[0m\u001B[1;33m)\u001B[0m\u001B[1;33m\u001B[0m\u001B[0m\n\u001B[0m\u001B[0;32m      2\u001B[0m \u001B[0mprint\u001B[0m\u001B[1;33m(\u001B[0m\u001B[0mimage\u001B[0m\u001B[1;33m.\u001B[0m\u001B[0msize\u001B[0m\u001B[1;33m(\u001B[0m\u001B[1;33m)\u001B[0m\u001B[1;33m)\u001B[0m\u001B[1;33m\u001B[0m\u001B[0m\n\u001B[0;32m      3\u001B[0m \u001B[0mprint\u001B[0m\u001B[1;33m(\u001B[0m\u001B[0mstate\u001B[0m\u001B[1;33m.\u001B[0m\u001B[0msize\u001B[0m\u001B[1;33m(\u001B[0m\u001B[1;33m)\u001B[0m\u001B[1;33m)\u001B[0m\u001B[1;33m\u001B[0m\u001B[0m\n\u001B[0;32m      4\u001B[0m \u001B[0mprint\u001B[0m\u001B[1;33m(\u001B[0m\u001B[0mground_truth\u001B[0m\u001B[1;33m.\u001B[0m\u001B[0msize\u001B[0m\u001B[1;33m(\u001B[0m\u001B[1;33m)\u001B[0m\u001B[1;33m)\u001B[0m\u001B[1;33m\u001B[0m\u001B[0m\n\u001B[0;32m      5\u001B[0m \u001B[1;33m\u001B[0m\u001B[0m\n",
      "\u001B[1;31mNameError\u001B[0m: name 'train_dl' is not defined"
     ]
    }
   ],
   "source": [
    "image, state, ground_truth = next(iter(train_dl))\n",
    "print(image.size())\n",
    "print(state.size())\n",
    "print(ground_truth.size())\n",
    "\n",
    "print(\"Preprocessing states:\")\n",
    "print(state)"
   ]
  },
  {
   "cell_type": "code",
   "execution_count": 85,
   "metadata": {
    "pycharm": {
     "name": "#%%\n"
    }
   },
   "outputs": [
    {
     "name": "stdout",
     "output_type": "stream",
     "text": [
      "RepVGG Block, identity =  None\n",
      "RepVGG Block, identity =  None\n",
      "RepVGG Block, identity =  BatchNorm2d(48, eps=1e-05, momentum=0.1, affine=True, track_running_stats=True)\n",
      "RepVGG Block, identity =  None\n",
      "RepVGG Block, identity =  BatchNorm2d(96, eps=1e-05, momentum=0.1, affine=True, track_running_stats=True)\n",
      "RepVGG Block, identity =  BatchNorm2d(96, eps=1e-05, momentum=0.1, affine=True, track_running_stats=True)\n",
      "RepVGG Block, identity =  BatchNorm2d(96, eps=1e-05, momentum=0.1, affine=True, track_running_stats=True)\n",
      "RepVGG Block, identity =  None\n",
      "RepVGG Block, identity =  BatchNorm2d(192, eps=1e-05, momentum=0.1, affine=True, track_running_stats=True)\n",
      "RepVGG Block, identity =  BatchNorm2d(192, eps=1e-05, momentum=0.1, affine=True, track_running_stats=True)\n",
      "RepVGG Block, identity =  BatchNorm2d(192, eps=1e-05, momentum=0.1, affine=True, track_running_stats=True)\n",
      "RepVGG Block, identity =  BatchNorm2d(192, eps=1e-05, momentum=0.1, affine=True, track_running_stats=True)\n",
      "RepVGG Block, identity =  BatchNorm2d(192, eps=1e-05, momentum=0.1, affine=True, track_running_stats=True)\n",
      "RepVGG Block, identity =  BatchNorm2d(192, eps=1e-05, momentum=0.1, affine=True, track_running_stats=True)\n",
      "RepVGG Block, identity =  BatchNorm2d(192, eps=1e-05, momentum=0.1, affine=True, track_running_stats=True)\n",
      "RepVGG Block, identity =  BatchNorm2d(192, eps=1e-05, momentum=0.1, affine=True, track_running_stats=True)\n",
      "RepVGG Block, identity =  BatchNorm2d(192, eps=1e-05, momentum=0.1, affine=True, track_running_stats=True)\n",
      "RepVGG Block, identity =  BatchNorm2d(192, eps=1e-05, momentum=0.1, affine=True, track_running_stats=True)\n",
      "RepVGG Block, identity =  BatchNorm2d(192, eps=1e-05, momentum=0.1, affine=True, track_running_stats=True)\n",
      "RepVGG Block, identity =  BatchNorm2d(192, eps=1e-05, momentum=0.1, affine=True, track_running_stats=True)\n",
      "RepVGG Block, identity =  BatchNorm2d(192, eps=1e-05, momentum=0.1, affine=True, track_running_stats=True)\n",
      "RepVGG Block, identity =  None\n"
     ]
    }
   ],
   "source": [
    "# Build-in backbone ResNet\n",
    "#from nuscenes.prediction.models.backbone import ResNetBackbone\n",
    "\n",
    "# Torchvision ResNet\n",
    "#import torchvision.models as models\n",
    "\n",
    "# RepVGG\n",
    "from repVgg.repVggBackbone import RepVGGBackbone\n",
    "\n",
    "# Torchvision backbone\n",
    "# backbone = models.resnext50_32x4d(pretrained=True)\n",
    "\n",
    "# Build-in backbone\n",
    "#backbone = ResNetBackbone('resnet50')\n",
    "\n",
    "# RepVGG\n",
    "\n",
    "backbone = RepVGGBackbone()"
   ]
  },
  {
   "cell_type": "code",
   "execution_count": 86,
   "metadata": {
    "pycharm": {
     "name": "#%%\n"
    }
   },
   "outputs": [
    {
     "name": "stdout",
     "output_type": "stream",
     "text": [
      "RepVGGBackbone(\n",
      "  (backbone): RepVGG(\n",
      "    (stage0): RepVGGBlock(\n",
      "      (nonlinearity): ReLU()\n",
      "      (se): Identity()\n",
      "      (rbr_dense): Sequential(\n",
      "        (conv): Conv2d(3, 48, kernel_size=(3, 3), stride=(2, 2), padding=(1, 1), bias=False)\n",
      "        (bn): BatchNorm2d(48, eps=1e-05, momentum=0.1, affine=True, track_running_stats=True)\n",
      "      )\n",
      "      (rbr_1x1): Sequential(\n",
      "        (conv): Conv2d(3, 48, kernel_size=(1, 1), stride=(2, 2), bias=False)\n",
      "        (bn): BatchNorm2d(48, eps=1e-05, momentum=0.1, affine=True, track_running_stats=True)\n",
      "      )\n",
      "    )\n",
      "    (stage1): Sequential(\n",
      "      (0): RepVGGBlock(\n",
      "        (nonlinearity): ReLU()\n",
      "        (se): Identity()\n",
      "        (rbr_dense): Sequential(\n",
      "          (conv): Conv2d(48, 48, kernel_size=(3, 3), stride=(2, 2), padding=(1, 1), bias=False)\n",
      "          (bn): BatchNorm2d(48, eps=1e-05, momentum=0.1, affine=True, track_running_stats=True)\n",
      "        )\n",
      "        (rbr_1x1): Sequential(\n",
      "          (conv): Conv2d(48, 48, kernel_size=(1, 1), stride=(2, 2), bias=False)\n",
      "          (bn): BatchNorm2d(48, eps=1e-05, momentum=0.1, affine=True, track_running_stats=True)\n",
      "        )\n",
      "      )\n",
      "      (1): RepVGGBlock(\n",
      "        (nonlinearity): ReLU()\n",
      "        (se): Identity()\n",
      "        (rbr_identity): BatchNorm2d(48, eps=1e-05, momentum=0.1, affine=True, track_running_stats=True)\n",
      "        (rbr_dense): Sequential(\n",
      "          (conv): Conv2d(48, 48, kernel_size=(3, 3), stride=(1, 1), padding=(1, 1), bias=False)\n",
      "          (bn): BatchNorm2d(48, eps=1e-05, momentum=0.1, affine=True, track_running_stats=True)\n",
      "        )\n",
      "        (rbr_1x1): Sequential(\n",
      "          (conv): Conv2d(48, 48, kernel_size=(1, 1), stride=(1, 1), bias=False)\n",
      "          (bn): BatchNorm2d(48, eps=1e-05, momentum=0.1, affine=True, track_running_stats=True)\n",
      "        )\n",
      "      )\n",
      "    )\n",
      "    (stage2): Sequential(\n",
      "      (0): RepVGGBlock(\n",
      "        (nonlinearity): ReLU()\n",
      "        (se): Identity()\n",
      "        (rbr_dense): Sequential(\n",
      "          (conv): Conv2d(48, 96, kernel_size=(3, 3), stride=(2, 2), padding=(1, 1), bias=False)\n",
      "          (bn): BatchNorm2d(96, eps=1e-05, momentum=0.1, affine=True, track_running_stats=True)\n",
      "        )\n",
      "        (rbr_1x1): Sequential(\n",
      "          (conv): Conv2d(48, 96, kernel_size=(1, 1), stride=(2, 2), bias=False)\n",
      "          (bn): BatchNorm2d(96, eps=1e-05, momentum=0.1, affine=True, track_running_stats=True)\n",
      "        )\n",
      "      )\n",
      "      (1): RepVGGBlock(\n",
      "        (nonlinearity): ReLU()\n",
      "        (se): Identity()\n",
      "        (rbr_identity): BatchNorm2d(96, eps=1e-05, momentum=0.1, affine=True, track_running_stats=True)\n",
      "        (rbr_dense): Sequential(\n",
      "          (conv): Conv2d(96, 96, kernel_size=(3, 3), stride=(1, 1), padding=(1, 1), bias=False)\n",
      "          (bn): BatchNorm2d(96, eps=1e-05, momentum=0.1, affine=True, track_running_stats=True)\n",
      "        )\n",
      "        (rbr_1x1): Sequential(\n",
      "          (conv): Conv2d(96, 96, kernel_size=(1, 1), stride=(1, 1), bias=False)\n",
      "          (bn): BatchNorm2d(96, eps=1e-05, momentum=0.1, affine=True, track_running_stats=True)\n",
      "        )\n",
      "      )\n",
      "      (2): RepVGGBlock(\n",
      "        (nonlinearity): ReLU()\n",
      "        (se): Identity()\n",
      "        (rbr_identity): BatchNorm2d(96, eps=1e-05, momentum=0.1, affine=True, track_running_stats=True)\n",
      "        (rbr_dense): Sequential(\n",
      "          (conv): Conv2d(96, 96, kernel_size=(3, 3), stride=(1, 1), padding=(1, 1), bias=False)\n",
      "          (bn): BatchNorm2d(96, eps=1e-05, momentum=0.1, affine=True, track_running_stats=True)\n",
      "        )\n",
      "        (rbr_1x1): Sequential(\n",
      "          (conv): Conv2d(96, 96, kernel_size=(1, 1), stride=(1, 1), bias=False)\n",
      "          (bn): BatchNorm2d(96, eps=1e-05, momentum=0.1, affine=True, track_running_stats=True)\n",
      "        )\n",
      "      )\n",
      "      (3): RepVGGBlock(\n",
      "        (nonlinearity): ReLU()\n",
      "        (se): Identity()\n",
      "        (rbr_identity): BatchNorm2d(96, eps=1e-05, momentum=0.1, affine=True, track_running_stats=True)\n",
      "        (rbr_dense): Sequential(\n",
      "          (conv): Conv2d(96, 96, kernel_size=(3, 3), stride=(1, 1), padding=(1, 1), bias=False)\n",
      "          (bn): BatchNorm2d(96, eps=1e-05, momentum=0.1, affine=True, track_running_stats=True)\n",
      "        )\n",
      "        (rbr_1x1): Sequential(\n",
      "          (conv): Conv2d(96, 96, kernel_size=(1, 1), stride=(1, 1), bias=False)\n",
      "          (bn): BatchNorm2d(96, eps=1e-05, momentum=0.1, affine=True, track_running_stats=True)\n",
      "        )\n",
      "      )\n",
      "    )\n",
      "    (stage3): Sequential(\n",
      "      (0): RepVGGBlock(\n",
      "        (nonlinearity): ReLU()\n",
      "        (se): Identity()\n",
      "        (rbr_dense): Sequential(\n",
      "          (conv): Conv2d(96, 192, kernel_size=(3, 3), stride=(2, 2), padding=(1, 1), bias=False)\n",
      "          (bn): BatchNorm2d(192, eps=1e-05, momentum=0.1, affine=True, track_running_stats=True)\n",
      "        )\n",
      "        (rbr_1x1): Sequential(\n",
      "          (conv): Conv2d(96, 192, kernel_size=(1, 1), stride=(2, 2), bias=False)\n",
      "          (bn): BatchNorm2d(192, eps=1e-05, momentum=0.1, affine=True, track_running_stats=True)\n",
      "        )\n",
      "      )\n",
      "      (1): RepVGGBlock(\n",
      "        (nonlinearity): ReLU()\n",
      "        (se): Identity()\n",
      "        (rbr_identity): BatchNorm2d(192, eps=1e-05, momentum=0.1, affine=True, track_running_stats=True)\n",
      "        (rbr_dense): Sequential(\n",
      "          (conv): Conv2d(192, 192, kernel_size=(3, 3), stride=(1, 1), padding=(1, 1), bias=False)\n",
      "          (bn): BatchNorm2d(192, eps=1e-05, momentum=0.1, affine=True, track_running_stats=True)\n",
      "        )\n",
      "        (rbr_1x1): Sequential(\n",
      "          (conv): Conv2d(192, 192, kernel_size=(1, 1), stride=(1, 1), bias=False)\n",
      "          (bn): BatchNorm2d(192, eps=1e-05, momentum=0.1, affine=True, track_running_stats=True)\n",
      "        )\n",
      "      )\n",
      "      (2): RepVGGBlock(\n",
      "        (nonlinearity): ReLU()\n",
      "        (se): Identity()\n",
      "        (rbr_identity): BatchNorm2d(192, eps=1e-05, momentum=0.1, affine=True, track_running_stats=True)\n",
      "        (rbr_dense): Sequential(\n",
      "          (conv): Conv2d(192, 192, kernel_size=(3, 3), stride=(1, 1), padding=(1, 1), bias=False)\n",
      "          (bn): BatchNorm2d(192, eps=1e-05, momentum=0.1, affine=True, track_running_stats=True)\n",
      "        )\n",
      "        (rbr_1x1): Sequential(\n",
      "          (conv): Conv2d(192, 192, kernel_size=(1, 1), stride=(1, 1), bias=False)\n",
      "          (bn): BatchNorm2d(192, eps=1e-05, momentum=0.1, affine=True, track_running_stats=True)\n",
      "        )\n",
      "      )\n",
      "      (3): RepVGGBlock(\n",
      "        (nonlinearity): ReLU()\n",
      "        (se): Identity()\n",
      "        (rbr_identity): BatchNorm2d(192, eps=1e-05, momentum=0.1, affine=True, track_running_stats=True)\n",
      "        (rbr_dense): Sequential(\n",
      "          (conv): Conv2d(192, 192, kernel_size=(3, 3), stride=(1, 1), padding=(1, 1), bias=False)\n",
      "          (bn): BatchNorm2d(192, eps=1e-05, momentum=0.1, affine=True, track_running_stats=True)\n",
      "        )\n",
      "        (rbr_1x1): Sequential(\n",
      "          (conv): Conv2d(192, 192, kernel_size=(1, 1), stride=(1, 1), bias=False)\n",
      "          (bn): BatchNorm2d(192, eps=1e-05, momentum=0.1, affine=True, track_running_stats=True)\n",
      "        )\n",
      "      )\n",
      "      (4): RepVGGBlock(\n",
      "        (nonlinearity): ReLU()\n",
      "        (se): Identity()\n",
      "        (rbr_identity): BatchNorm2d(192, eps=1e-05, momentum=0.1, affine=True, track_running_stats=True)\n",
      "        (rbr_dense): Sequential(\n",
      "          (conv): Conv2d(192, 192, kernel_size=(3, 3), stride=(1, 1), padding=(1, 1), bias=False)\n",
      "          (bn): BatchNorm2d(192, eps=1e-05, momentum=0.1, affine=True, track_running_stats=True)\n",
      "        )\n",
      "        (rbr_1x1): Sequential(\n",
      "          (conv): Conv2d(192, 192, kernel_size=(1, 1), stride=(1, 1), bias=False)\n",
      "          (bn): BatchNorm2d(192, eps=1e-05, momentum=0.1, affine=True, track_running_stats=True)\n",
      "        )\n",
      "      )\n",
      "      (5): RepVGGBlock(\n",
      "        (nonlinearity): ReLU()\n",
      "        (se): Identity()\n",
      "        (rbr_identity): BatchNorm2d(192, eps=1e-05, momentum=0.1, affine=True, track_running_stats=True)\n",
      "        (rbr_dense): Sequential(\n",
      "          (conv): Conv2d(192, 192, kernel_size=(3, 3), stride=(1, 1), padding=(1, 1), bias=False)\n",
      "          (bn): BatchNorm2d(192, eps=1e-05, momentum=0.1, affine=True, track_running_stats=True)\n",
      "        )\n",
      "        (rbr_1x1): Sequential(\n",
      "          (conv): Conv2d(192, 192, kernel_size=(1, 1), stride=(1, 1), bias=False)\n",
      "          (bn): BatchNorm2d(192, eps=1e-05, momentum=0.1, affine=True, track_running_stats=True)\n",
      "        )\n",
      "      )\n",
      "      (6): RepVGGBlock(\n",
      "        (nonlinearity): ReLU()\n",
      "        (se): Identity()\n",
      "        (rbr_identity): BatchNorm2d(192, eps=1e-05, momentum=0.1, affine=True, track_running_stats=True)\n",
      "        (rbr_dense): Sequential(\n",
      "          (conv): Conv2d(192, 192, kernel_size=(3, 3), stride=(1, 1), padding=(1, 1), bias=False)\n",
      "          (bn): BatchNorm2d(192, eps=1e-05, momentum=0.1, affine=True, track_running_stats=True)\n",
      "        )\n",
      "        (rbr_1x1): Sequential(\n",
      "          (conv): Conv2d(192, 192, kernel_size=(1, 1), stride=(1, 1), bias=False)\n",
      "          (bn): BatchNorm2d(192, eps=1e-05, momentum=0.1, affine=True, track_running_stats=True)\n",
      "        )\n",
      "      )\n",
      "      (7): RepVGGBlock(\n",
      "        (nonlinearity): ReLU()\n",
      "        (se): Identity()\n",
      "        (rbr_identity): BatchNorm2d(192, eps=1e-05, momentum=0.1, affine=True, track_running_stats=True)\n",
      "        (rbr_dense): Sequential(\n",
      "          (conv): Conv2d(192, 192, kernel_size=(3, 3), stride=(1, 1), padding=(1, 1), bias=False)\n",
      "          (bn): BatchNorm2d(192, eps=1e-05, momentum=0.1, affine=True, track_running_stats=True)\n",
      "        )\n",
      "        (rbr_1x1): Sequential(\n",
      "          (conv): Conv2d(192, 192, kernel_size=(1, 1), stride=(1, 1), bias=False)\n",
      "          (bn): BatchNorm2d(192, eps=1e-05, momentum=0.1, affine=True, track_running_stats=True)\n",
      "        )\n",
      "      )\n",
      "      (8): RepVGGBlock(\n",
      "        (nonlinearity): ReLU()\n",
      "        (se): Identity()\n",
      "        (rbr_identity): BatchNorm2d(192, eps=1e-05, momentum=0.1, affine=True, track_running_stats=True)\n",
      "        (rbr_dense): Sequential(\n",
      "          (conv): Conv2d(192, 192, kernel_size=(3, 3), stride=(1, 1), padding=(1, 1), bias=False)\n",
      "          (bn): BatchNorm2d(192, eps=1e-05, momentum=0.1, affine=True, track_running_stats=True)\n",
      "        )\n",
      "        (rbr_1x1): Sequential(\n",
      "          (conv): Conv2d(192, 192, kernel_size=(1, 1), stride=(1, 1), bias=False)\n",
      "          (bn): BatchNorm2d(192, eps=1e-05, momentum=0.1, affine=True, track_running_stats=True)\n",
      "        )\n",
      "      )\n",
      "      (9): RepVGGBlock(\n",
      "        (nonlinearity): ReLU()\n",
      "        (se): Identity()\n",
      "        (rbr_identity): BatchNorm2d(192, eps=1e-05, momentum=0.1, affine=True, track_running_stats=True)\n",
      "        (rbr_dense): Sequential(\n",
      "          (conv): Conv2d(192, 192, kernel_size=(3, 3), stride=(1, 1), padding=(1, 1), bias=False)\n",
      "          (bn): BatchNorm2d(192, eps=1e-05, momentum=0.1, affine=True, track_running_stats=True)\n",
      "        )\n",
      "        (rbr_1x1): Sequential(\n",
      "          (conv): Conv2d(192, 192, kernel_size=(1, 1), stride=(1, 1), bias=False)\n",
      "          (bn): BatchNorm2d(192, eps=1e-05, momentum=0.1, affine=True, track_running_stats=True)\n",
      "        )\n",
      "      )\n",
      "      (10): RepVGGBlock(\n",
      "        (nonlinearity): ReLU()\n",
      "        (se): Identity()\n",
      "        (rbr_identity): BatchNorm2d(192, eps=1e-05, momentum=0.1, affine=True, track_running_stats=True)\n",
      "        (rbr_dense): Sequential(\n",
      "          (conv): Conv2d(192, 192, kernel_size=(3, 3), stride=(1, 1), padding=(1, 1), bias=False)\n",
      "          (bn): BatchNorm2d(192, eps=1e-05, momentum=0.1, affine=True, track_running_stats=True)\n",
      "        )\n",
      "        (rbr_1x1): Sequential(\n",
      "          (conv): Conv2d(192, 192, kernel_size=(1, 1), stride=(1, 1), bias=False)\n",
      "          (bn): BatchNorm2d(192, eps=1e-05, momentum=0.1, affine=True, track_running_stats=True)\n",
      "        )\n",
      "      )\n",
      "      (11): RepVGGBlock(\n",
      "        (nonlinearity): ReLU()\n",
      "        (se): Identity()\n",
      "        (rbr_identity): BatchNorm2d(192, eps=1e-05, momentum=0.1, affine=True, track_running_stats=True)\n",
      "        (rbr_dense): Sequential(\n",
      "          (conv): Conv2d(192, 192, kernel_size=(3, 3), stride=(1, 1), padding=(1, 1), bias=False)\n",
      "          (bn): BatchNorm2d(192, eps=1e-05, momentum=0.1, affine=True, track_running_stats=True)\n",
      "        )\n",
      "        (rbr_1x1): Sequential(\n",
      "          (conv): Conv2d(192, 192, kernel_size=(1, 1), stride=(1, 1), bias=False)\n",
      "          (bn): BatchNorm2d(192, eps=1e-05, momentum=0.1, affine=True, track_running_stats=True)\n",
      "        )\n",
      "      )\n",
      "      (12): RepVGGBlock(\n",
      "        (nonlinearity): ReLU()\n",
      "        (se): Identity()\n",
      "        (rbr_identity): BatchNorm2d(192, eps=1e-05, momentum=0.1, affine=True, track_running_stats=True)\n",
      "        (rbr_dense): Sequential(\n",
      "          (conv): Conv2d(192, 192, kernel_size=(3, 3), stride=(1, 1), padding=(1, 1), bias=False)\n",
      "          (bn): BatchNorm2d(192, eps=1e-05, momentum=0.1, affine=True, track_running_stats=True)\n",
      "        )\n",
      "        (rbr_1x1): Sequential(\n",
      "          (conv): Conv2d(192, 192, kernel_size=(1, 1), stride=(1, 1), bias=False)\n",
      "          (bn): BatchNorm2d(192, eps=1e-05, momentum=0.1, affine=True, track_running_stats=True)\n",
      "        )\n",
      "      )\n",
      "      (13): RepVGGBlock(\n",
      "        (nonlinearity): ReLU()\n",
      "        (se): Identity()\n",
      "        (rbr_identity): BatchNorm2d(192, eps=1e-05, momentum=0.1, affine=True, track_running_stats=True)\n",
      "        (rbr_dense): Sequential(\n",
      "          (conv): Conv2d(192, 192, kernel_size=(3, 3), stride=(1, 1), padding=(1, 1), bias=False)\n",
      "          (bn): BatchNorm2d(192, eps=1e-05, momentum=0.1, affine=True, track_running_stats=True)\n",
      "        )\n",
      "        (rbr_1x1): Sequential(\n",
      "          (conv): Conv2d(192, 192, kernel_size=(1, 1), stride=(1, 1), bias=False)\n",
      "          (bn): BatchNorm2d(192, eps=1e-05, momentum=0.1, affine=True, track_running_stats=True)\n",
      "        )\n",
      "      )\n",
      "    )\n",
      "    (stage4): Sequential(\n",
      "      (0): RepVGGBlock(\n",
      "        (nonlinearity): ReLU()\n",
      "        (se): Identity()\n",
      "        (rbr_dense): Sequential(\n",
      "          (conv): Conv2d(192, 1280, kernel_size=(3, 3), stride=(2, 2), padding=(1, 1), bias=False)\n",
      "          (bn): BatchNorm2d(1280, eps=1e-05, momentum=0.1, affine=True, track_running_stats=True)\n",
      "        )\n",
      "        (rbr_1x1): Sequential(\n",
      "          (conv): Conv2d(192, 1280, kernel_size=(1, 1), stride=(2, 2), bias=False)\n",
      "          (bn): BatchNorm2d(1280, eps=1e-05, momentum=0.1, affine=True, track_running_stats=True)\n",
      "        )\n",
      "      )\n",
      "    )\n",
      "    (gap): AdaptiveAvgPool2d(output_size=1)\n",
      "    (linear): Linear(in_features=1280, out_features=1000, bias=True)\n",
      "  )\n",
      "  (linear): Linear(in_features=1280, out_features=2048, bias=True)\n",
      ")\n"
     ]
    }
   ],
   "source": [
    "# Reshape last layer as 2048 (not 1000)\n",
    "import torch.nn as nn\n",
    "\n",
    "backbone.linear = nn.Linear(in_features=1280, out_features=2048, bias=True)\n",
    "print(backbone)"
   ]
  },
  {
   "cell_type": "code",
   "execution_count": 87,
   "metadata": {},
   "outputs": [],
   "source": [
    "# # Set backbone to non-trainable\n",
    "# def set_parameter_requires_grad(model):\n",
    "#     for param in model.parameters():\n",
    "#         param.requires_grad = False\n",
    "        \n",
    "# set_parameter_requires_grad(backbone)"
   ]
  },
  {
   "cell_type": "code",
   "execution_count": 88,
   "metadata": {},
   "outputs": [],
   "source": [
    "from torch.optim import SGD\n",
    "from nuscenes.prediction.models.covernet import CoverNet, ConstantLatticeLoss\n",
    "\n",
    "# Trajectory set 8\n",
    "# NUM_MODES = 64\n",
    "\n",
    "# Trajectory set 2\n",
    "NUM_MODES = 2206\n",
    "\n",
    "model = CoverNet(backbone, num_modes=NUM_MODES)\n",
    "model = model.to(device)\n",
    "\n",
    "loss_function = ConstantLatticeLoss(trajectories_set_8)"
   ]
  },
  {
   "cell_type": "code",
   "execution_count": 89,
   "metadata": {},
   "outputs": [
    {
     "name": "stdout",
     "output_type": "stream",
     "text": [
      "\t backbone.backbone.stage0.rbr_dense.conv.weight\n",
      "\t backbone.backbone.stage0.rbr_dense.bn.weight\n",
      "\t backbone.backbone.stage0.rbr_dense.bn.bias\n",
      "\t backbone.backbone.stage0.rbr_1x1.conv.weight\n",
      "\t backbone.backbone.stage0.rbr_1x1.bn.weight\n",
      "\t backbone.backbone.stage0.rbr_1x1.bn.bias\n",
      "\t backbone.backbone.stage1.0.rbr_dense.conv.weight\n",
      "\t backbone.backbone.stage1.0.rbr_dense.bn.weight\n",
      "\t backbone.backbone.stage1.0.rbr_dense.bn.bias\n",
      "\t backbone.backbone.stage1.0.rbr_1x1.conv.weight\n",
      "\t backbone.backbone.stage1.0.rbr_1x1.bn.weight\n",
      "\t backbone.backbone.stage1.0.rbr_1x1.bn.bias\n",
      "\t backbone.backbone.stage1.1.rbr_identity.weight\n",
      "\t backbone.backbone.stage1.1.rbr_identity.bias\n",
      "\t backbone.backbone.stage1.1.rbr_dense.conv.weight\n",
      "\t backbone.backbone.stage1.1.rbr_dense.bn.weight\n",
      "\t backbone.backbone.stage1.1.rbr_dense.bn.bias\n",
      "\t backbone.backbone.stage1.1.rbr_1x1.conv.weight\n",
      "\t backbone.backbone.stage1.1.rbr_1x1.bn.weight\n",
      "\t backbone.backbone.stage1.1.rbr_1x1.bn.bias\n",
      "\t backbone.backbone.stage2.0.rbr_dense.conv.weight\n",
      "\t backbone.backbone.stage2.0.rbr_dense.bn.weight\n",
      "\t backbone.backbone.stage2.0.rbr_dense.bn.bias\n",
      "\t backbone.backbone.stage2.0.rbr_1x1.conv.weight\n",
      "\t backbone.backbone.stage2.0.rbr_1x1.bn.weight\n",
      "\t backbone.backbone.stage2.0.rbr_1x1.bn.bias\n",
      "\t backbone.backbone.stage2.1.rbr_identity.weight\n",
      "\t backbone.backbone.stage2.1.rbr_identity.bias\n",
      "\t backbone.backbone.stage2.1.rbr_dense.conv.weight\n",
      "\t backbone.backbone.stage2.1.rbr_dense.bn.weight\n",
      "\t backbone.backbone.stage2.1.rbr_dense.bn.bias\n",
      "\t backbone.backbone.stage2.1.rbr_1x1.conv.weight\n",
      "\t backbone.backbone.stage2.1.rbr_1x1.bn.weight\n",
      "\t backbone.backbone.stage2.1.rbr_1x1.bn.bias\n",
      "\t backbone.backbone.stage2.2.rbr_identity.weight\n",
      "\t backbone.backbone.stage2.2.rbr_identity.bias\n",
      "\t backbone.backbone.stage2.2.rbr_dense.conv.weight\n",
      "\t backbone.backbone.stage2.2.rbr_dense.bn.weight\n",
      "\t backbone.backbone.stage2.2.rbr_dense.bn.bias\n",
      "\t backbone.backbone.stage2.2.rbr_1x1.conv.weight\n",
      "\t backbone.backbone.stage2.2.rbr_1x1.bn.weight\n",
      "\t backbone.backbone.stage2.2.rbr_1x1.bn.bias\n",
      "\t backbone.backbone.stage2.3.rbr_identity.weight\n",
      "\t backbone.backbone.stage2.3.rbr_identity.bias\n",
      "\t backbone.backbone.stage2.3.rbr_dense.conv.weight\n",
      "\t backbone.backbone.stage2.3.rbr_dense.bn.weight\n",
      "\t backbone.backbone.stage2.3.rbr_dense.bn.bias\n",
      "\t backbone.backbone.stage2.3.rbr_1x1.conv.weight\n",
      "\t backbone.backbone.stage2.3.rbr_1x1.bn.weight\n",
      "\t backbone.backbone.stage2.3.rbr_1x1.bn.bias\n",
      "\t backbone.backbone.stage3.0.rbr_dense.conv.weight\n",
      "\t backbone.backbone.stage3.0.rbr_dense.bn.weight\n",
      "\t backbone.backbone.stage3.0.rbr_dense.bn.bias\n",
      "\t backbone.backbone.stage3.0.rbr_1x1.conv.weight\n",
      "\t backbone.backbone.stage3.0.rbr_1x1.bn.weight\n",
      "\t backbone.backbone.stage3.0.rbr_1x1.bn.bias\n",
      "\t backbone.backbone.stage3.1.rbr_identity.weight\n",
      "\t backbone.backbone.stage3.1.rbr_identity.bias\n",
      "\t backbone.backbone.stage3.1.rbr_dense.conv.weight\n",
      "\t backbone.backbone.stage3.1.rbr_dense.bn.weight\n",
      "\t backbone.backbone.stage3.1.rbr_dense.bn.bias\n",
      "\t backbone.backbone.stage3.1.rbr_1x1.conv.weight\n",
      "\t backbone.backbone.stage3.1.rbr_1x1.bn.weight\n",
      "\t backbone.backbone.stage3.1.rbr_1x1.bn.bias\n",
      "\t backbone.backbone.stage3.2.rbr_identity.weight\n",
      "\t backbone.backbone.stage3.2.rbr_identity.bias\n",
      "\t backbone.backbone.stage3.2.rbr_dense.conv.weight\n",
      "\t backbone.backbone.stage3.2.rbr_dense.bn.weight\n",
      "\t backbone.backbone.stage3.2.rbr_dense.bn.bias\n",
      "\t backbone.backbone.stage3.2.rbr_1x1.conv.weight\n",
      "\t backbone.backbone.stage3.2.rbr_1x1.bn.weight\n",
      "\t backbone.backbone.stage3.2.rbr_1x1.bn.bias\n",
      "\t backbone.backbone.stage3.3.rbr_identity.weight\n",
      "\t backbone.backbone.stage3.3.rbr_identity.bias\n",
      "\t backbone.backbone.stage3.3.rbr_dense.conv.weight\n",
      "\t backbone.backbone.stage3.3.rbr_dense.bn.weight\n",
      "\t backbone.backbone.stage3.3.rbr_dense.bn.bias\n",
      "\t backbone.backbone.stage3.3.rbr_1x1.conv.weight\n",
      "\t backbone.backbone.stage3.3.rbr_1x1.bn.weight\n",
      "\t backbone.backbone.stage3.3.rbr_1x1.bn.bias\n",
      "\t backbone.backbone.stage3.4.rbr_identity.weight\n",
      "\t backbone.backbone.stage3.4.rbr_identity.bias\n",
      "\t backbone.backbone.stage3.4.rbr_dense.conv.weight\n",
      "\t backbone.backbone.stage3.4.rbr_dense.bn.weight\n",
      "\t backbone.backbone.stage3.4.rbr_dense.bn.bias\n",
      "\t backbone.backbone.stage3.4.rbr_1x1.conv.weight\n",
      "\t backbone.backbone.stage3.4.rbr_1x1.bn.weight\n",
      "\t backbone.backbone.stage3.4.rbr_1x1.bn.bias\n",
      "\t backbone.backbone.stage3.5.rbr_identity.weight\n",
      "\t backbone.backbone.stage3.5.rbr_identity.bias\n",
      "\t backbone.backbone.stage3.5.rbr_dense.conv.weight\n",
      "\t backbone.backbone.stage3.5.rbr_dense.bn.weight\n",
      "\t backbone.backbone.stage3.5.rbr_dense.bn.bias\n",
      "\t backbone.backbone.stage3.5.rbr_1x1.conv.weight\n",
      "\t backbone.backbone.stage3.5.rbr_1x1.bn.weight\n",
      "\t backbone.backbone.stage3.5.rbr_1x1.bn.bias\n",
      "\t backbone.backbone.stage3.6.rbr_identity.weight\n",
      "\t backbone.backbone.stage3.6.rbr_identity.bias\n",
      "\t backbone.backbone.stage3.6.rbr_dense.conv.weight\n",
      "\t backbone.backbone.stage3.6.rbr_dense.bn.weight\n",
      "\t backbone.backbone.stage3.6.rbr_dense.bn.bias\n",
      "\t backbone.backbone.stage3.6.rbr_1x1.conv.weight\n",
      "\t backbone.backbone.stage3.6.rbr_1x1.bn.weight\n",
      "\t backbone.backbone.stage3.6.rbr_1x1.bn.bias\n",
      "\t backbone.backbone.stage3.7.rbr_identity.weight\n",
      "\t backbone.backbone.stage3.7.rbr_identity.bias\n",
      "\t backbone.backbone.stage3.7.rbr_dense.conv.weight\n",
      "\t backbone.backbone.stage3.7.rbr_dense.bn.weight\n",
      "\t backbone.backbone.stage3.7.rbr_dense.bn.bias\n",
      "\t backbone.backbone.stage3.7.rbr_1x1.conv.weight\n",
      "\t backbone.backbone.stage3.7.rbr_1x1.bn.weight\n",
      "\t backbone.backbone.stage3.7.rbr_1x1.bn.bias\n",
      "\t backbone.backbone.stage3.8.rbr_identity.weight\n",
      "\t backbone.backbone.stage3.8.rbr_identity.bias\n",
      "\t backbone.backbone.stage3.8.rbr_dense.conv.weight\n",
      "\t backbone.backbone.stage3.8.rbr_dense.bn.weight\n",
      "\t backbone.backbone.stage3.8.rbr_dense.bn.bias\n",
      "\t backbone.backbone.stage3.8.rbr_1x1.conv.weight\n",
      "\t backbone.backbone.stage3.8.rbr_1x1.bn.weight\n",
      "\t backbone.backbone.stage3.8.rbr_1x1.bn.bias\n",
      "\t backbone.backbone.stage3.9.rbr_identity.weight\n",
      "\t backbone.backbone.stage3.9.rbr_identity.bias\n",
      "\t backbone.backbone.stage3.9.rbr_dense.conv.weight\n",
      "\t backbone.backbone.stage3.9.rbr_dense.bn.weight\n",
      "\t backbone.backbone.stage3.9.rbr_dense.bn.bias\n",
      "\t backbone.backbone.stage3.9.rbr_1x1.conv.weight\n",
      "\t backbone.backbone.stage3.9.rbr_1x1.bn.weight\n",
      "\t backbone.backbone.stage3.9.rbr_1x1.bn.bias\n",
      "\t backbone.backbone.stage3.10.rbr_identity.weight\n",
      "\t backbone.backbone.stage3.10.rbr_identity.bias\n",
      "\t backbone.backbone.stage3.10.rbr_dense.conv.weight\n",
      "\t backbone.backbone.stage3.10.rbr_dense.bn.weight\n",
      "\t backbone.backbone.stage3.10.rbr_dense.bn.bias\n",
      "\t backbone.backbone.stage3.10.rbr_1x1.conv.weight\n",
      "\t backbone.backbone.stage3.10.rbr_1x1.bn.weight\n",
      "\t backbone.backbone.stage3.10.rbr_1x1.bn.bias\n",
      "\t backbone.backbone.stage3.11.rbr_identity.weight\n",
      "\t backbone.backbone.stage3.11.rbr_identity.bias\n",
      "\t backbone.backbone.stage3.11.rbr_dense.conv.weight\n",
      "\t backbone.backbone.stage3.11.rbr_dense.bn.weight\n",
      "\t backbone.backbone.stage3.11.rbr_dense.bn.bias\n",
      "\t backbone.backbone.stage3.11.rbr_1x1.conv.weight\n",
      "\t backbone.backbone.stage3.11.rbr_1x1.bn.weight\n",
      "\t backbone.backbone.stage3.11.rbr_1x1.bn.bias\n",
      "\t backbone.backbone.stage3.12.rbr_identity.weight\n",
      "\t backbone.backbone.stage3.12.rbr_identity.bias\n",
      "\t backbone.backbone.stage3.12.rbr_dense.conv.weight\n",
      "\t backbone.backbone.stage3.12.rbr_dense.bn.weight\n",
      "\t backbone.backbone.stage3.12.rbr_dense.bn.bias\n",
      "\t backbone.backbone.stage3.12.rbr_1x1.conv.weight\n",
      "\t backbone.backbone.stage3.12.rbr_1x1.bn.weight\n",
      "\t backbone.backbone.stage3.12.rbr_1x1.bn.bias\n",
      "\t backbone.backbone.stage3.13.rbr_identity.weight\n",
      "\t backbone.backbone.stage3.13.rbr_identity.bias\n",
      "\t backbone.backbone.stage3.13.rbr_dense.conv.weight\n",
      "\t backbone.backbone.stage3.13.rbr_dense.bn.weight\n",
      "\t backbone.backbone.stage3.13.rbr_dense.bn.bias\n",
      "\t backbone.backbone.stage3.13.rbr_1x1.conv.weight\n",
      "\t backbone.backbone.stage3.13.rbr_1x1.bn.weight\n",
      "\t backbone.backbone.stage3.13.rbr_1x1.bn.bias\n",
      "\t backbone.backbone.stage4.0.rbr_dense.conv.weight\n",
      "\t backbone.backbone.stage4.0.rbr_dense.bn.weight\n",
      "\t backbone.backbone.stage4.0.rbr_dense.bn.bias\n",
      "\t backbone.backbone.stage4.0.rbr_1x1.conv.weight\n",
      "\t backbone.backbone.stage4.0.rbr_1x1.bn.weight\n",
      "\t backbone.backbone.stage4.0.rbr_1x1.bn.bias\n",
      "\t backbone.backbone.linear.weight\n",
      "\t backbone.backbone.linear.bias\n",
      "\t backbone.linear.weight\n",
      "\t backbone.linear.bias\n",
      "\t head.0.weight\n",
      "\t head.0.bias\n",
      "\t head.1.weight\n",
      "\t head.1.bias\n"
     ]
    }
   ],
   "source": [
    "# Pass to optimizer only params with requires_grad\n",
    "params_to_update = []\n",
    "\n",
    "for name,param in model.named_parameters():\n",
    "    if param.requires_grad == True:\n",
    "        params_to_update.append(param)\n",
    "        print(\"\\t\",name)\n",
    "\n",
    "optimizer = SGD(params_to_update, lr=5e-4, momentum=0.9, weight_decay=5e-4)"
   ]
  },
  {
   "cell_type": "code",
   "execution_count": 90,
   "metadata": {
    "pycharm": {
     "name": "#%%\n"
    }
   },
   "outputs": [],
   "source": [
    "from tqdm import tqdm\n",
    "import copy\n",
    "import time\n",
    "\n",
    "def loss_batch(model, loss_func, img, state_vec, ground_truth, opt=None):\n",
    "    img = img.to(device)\n",
    "    state_vec = state_vec.to(device)\n",
    "    ground_truth = ground_truth.to(device)\n",
    "    \n",
    "    predicted_logits = model(img, state_vec)\n",
    "    loss = loss_func(predicted_logits, ground_truth)\n",
    "\n",
    "    # For validation optimizer is None, thus we dont perform backprop\n",
    "    if opt is not None:\n",
    "        loss.backward()\n",
    "        opt.step()\n",
    "        opt.zero_grad()\n",
    "\n",
    "    # Return losses and amount of items\n",
    "    #print(f\"{loss.item()}; {len(img)}\")\n",
    "    return loss.item(), len(img)\n",
    "\n",
    "\n",
    "def fit(epochs, model, loss_func, opt, train_dl, valid_dl):\n",
    "    best_loss = 999.0\n",
    "    best_model_wts = copy.deepcopy(model.state_dict())\n",
    "\n",
    "    for epoch in range(epochs):\n",
    "        start_epoch_time = time.time()\n",
    "        print(f'Epoch: {epoch + 1}/{epochs}')\n",
    "        print('-' * 10)\n",
    "        \n",
    "        model.train()\n",
    "\n",
    "        for img, state_vec, gt in tqdm(train_dl):\n",
    "            loss_batch(model, loss_func, img, state_vec, gt, opt)\n",
    "\n",
    "        model.eval()\n",
    "        print(\"Validation step\")\n",
    "\n",
    "        with torch.no_grad():\n",
    "            # TODO: Using tqdm\n",
    "            losses, nums = zip(\n",
    "                *[loss_batch(model, loss_func, img, state_vec, gt) for img, state_vec, gt in valid_dl]\n",
    "            )\n",
    "\n",
    "        val_loss = np.sum(np.multiply(losses, nums)) / np.sum(nums)\n",
    "        \n",
    "        # deep copy the model\n",
    "        if val_loss < best_loss:\n",
    "            best_loss = val_loss\n",
    "            best_model_wts = copy.deepcopy(model.state_dict())\n",
    "\n",
    "        print(f\"Epoch {epoch + 1}; Loss: {val_loss:0.2f}; Best: {best_loss:0.2f} Time: {(time.time() - start_epoch_time):0.2f} sec;\")\n"
   ]
  },
  {
   "cell_type": "code",
   "execution_count": 91,
   "metadata": {},
   "outputs": [],
   "source": [
    "# epochs = 10  # how many epochs to train for\n",
    "# fit(epochs, model, loss_function, optimizer, train_dl, train_val_dl)"
   ]
  },
  {
   "cell_type": "code",
   "execution_count": 92,
   "metadata": {},
   "outputs": [],
   "source": [
    "# from repVgg.repvgg import repvgg_model_convert, create_RepVGG_A0\n",
    "# backbone.backbone = repvgg_model_convert(backbone.backbone, save_path='./repVgg/Models/RepVGG-A0-deploy.pth')"
   ]
  },
  {
   "cell_type": "markdown",
   "metadata": {},
   "source": [
    "### Metrics"
   ]
  },
  {
   "cell_type": "code",
   "execution_count": 93,
   "metadata": {},
   "outputs": [
    {
     "data": {
      "text/plain": "CoverNet(\n  (backbone): RepVGGBackbone(\n    (backbone): RepVGG(\n      (stage0): RepVGGBlock(\n        (nonlinearity): ReLU()\n        (se): Identity()\n        (rbr_reparam): Conv2d(3, 48, kernel_size=(3, 3), stride=(2, 2), padding=(1, 1))\n      )\n      (stage1): Sequential(\n        (0): RepVGGBlock(\n          (nonlinearity): ReLU()\n          (se): Identity()\n          (rbr_reparam): Conv2d(48, 48, kernel_size=(3, 3), stride=(2, 2), padding=(1, 1))\n        )\n        (1): RepVGGBlock(\n          (nonlinearity): ReLU()\n          (se): Identity()\n          (rbr_reparam): Conv2d(48, 48, kernel_size=(3, 3), stride=(1, 1), padding=(1, 1))\n        )\n      )\n      (stage2): Sequential(\n        (0): RepVGGBlock(\n          (nonlinearity): ReLU()\n          (se): Identity()\n          (rbr_reparam): Conv2d(48, 96, kernel_size=(3, 3), stride=(2, 2), padding=(1, 1))\n        )\n        (1): RepVGGBlock(\n          (nonlinearity): ReLU()\n          (se): Identity()\n          (rbr_reparam): Conv2d(96, 96, kernel_size=(3, 3), stride=(1, 1), padding=(1, 1))\n        )\n        (2): RepVGGBlock(\n          (nonlinearity): ReLU()\n          (se): Identity()\n          (rbr_reparam): Conv2d(96, 96, kernel_size=(3, 3), stride=(1, 1), padding=(1, 1))\n        )\n        (3): RepVGGBlock(\n          (nonlinearity): ReLU()\n          (se): Identity()\n          (rbr_reparam): Conv2d(96, 96, kernel_size=(3, 3), stride=(1, 1), padding=(1, 1))\n        )\n      )\n      (stage3): Sequential(\n        (0): RepVGGBlock(\n          (nonlinearity): ReLU()\n          (se): Identity()\n          (rbr_reparam): Conv2d(96, 192, kernel_size=(3, 3), stride=(2, 2), padding=(1, 1))\n        )\n        (1): RepVGGBlock(\n          (nonlinearity): ReLU()\n          (se): Identity()\n          (rbr_reparam): Conv2d(192, 192, kernel_size=(3, 3), stride=(1, 1), padding=(1, 1))\n        )\n        (2): RepVGGBlock(\n          (nonlinearity): ReLU()\n          (se): Identity()\n          (rbr_reparam): Conv2d(192, 192, kernel_size=(3, 3), stride=(1, 1), padding=(1, 1))\n        )\n        (3): RepVGGBlock(\n          (nonlinearity): ReLU()\n          (se): Identity()\n          (rbr_reparam): Conv2d(192, 192, kernel_size=(3, 3), stride=(1, 1), padding=(1, 1))\n        )\n        (4): RepVGGBlock(\n          (nonlinearity): ReLU()\n          (se): Identity()\n          (rbr_reparam): Conv2d(192, 192, kernel_size=(3, 3), stride=(1, 1), padding=(1, 1))\n        )\n        (5): RepVGGBlock(\n          (nonlinearity): ReLU()\n          (se): Identity()\n          (rbr_reparam): Conv2d(192, 192, kernel_size=(3, 3), stride=(1, 1), padding=(1, 1))\n        )\n        (6): RepVGGBlock(\n          (nonlinearity): ReLU()\n          (se): Identity()\n          (rbr_reparam): Conv2d(192, 192, kernel_size=(3, 3), stride=(1, 1), padding=(1, 1))\n        )\n        (7): RepVGGBlock(\n          (nonlinearity): ReLU()\n          (se): Identity()\n          (rbr_reparam): Conv2d(192, 192, kernel_size=(3, 3), stride=(1, 1), padding=(1, 1))\n        )\n        (8): RepVGGBlock(\n          (nonlinearity): ReLU()\n          (se): Identity()\n          (rbr_reparam): Conv2d(192, 192, kernel_size=(3, 3), stride=(1, 1), padding=(1, 1))\n        )\n        (9): RepVGGBlock(\n          (nonlinearity): ReLU()\n          (se): Identity()\n          (rbr_reparam): Conv2d(192, 192, kernel_size=(3, 3), stride=(1, 1), padding=(1, 1))\n        )\n        (10): RepVGGBlock(\n          (nonlinearity): ReLU()\n          (se): Identity()\n          (rbr_reparam): Conv2d(192, 192, kernel_size=(3, 3), stride=(1, 1), padding=(1, 1))\n        )\n        (11): RepVGGBlock(\n          (nonlinearity): ReLU()\n          (se): Identity()\n          (rbr_reparam): Conv2d(192, 192, kernel_size=(3, 3), stride=(1, 1), padding=(1, 1))\n        )\n        (12): RepVGGBlock(\n          (nonlinearity): ReLU()\n          (se): Identity()\n          (rbr_reparam): Conv2d(192, 192, kernel_size=(3, 3), stride=(1, 1), padding=(1, 1))\n        )\n        (13): RepVGGBlock(\n          (nonlinearity): ReLU()\n          (se): Identity()\n          (rbr_reparam): Conv2d(192, 192, kernel_size=(3, 3), stride=(1, 1), padding=(1, 1))\n        )\n      )\n      (stage4): Sequential(\n        (0): RepVGGBlock(\n          (nonlinearity): ReLU()\n          (se): Identity()\n          (rbr_reparam): Conv2d(192, 1280, kernel_size=(3, 3), stride=(2, 2), padding=(1, 1))\n        )\n      )\n      (gap): AdaptiveAvgPool2d(output_size=1)\n      (linear): Linear(in_features=1280, out_features=1000, bias=True)\n    )\n    (linear): Linear(in_features=1280, out_features=2048, bias=True)\n  )\n  (head): ModuleList(\n    (0): Linear(in_features=1003, out_features=4096, bias=True)\n    (1): Linear(in_features=4096, out_features=2206, bias=True)\n  )\n)"
     },
     "execution_count": 93,
     "metadata": {},
     "output_type": "execute_result"
    }
   ],
   "source": [
    "model.load_state_dict(torch.load('./Models/expirement_1/VGG_CoverNet_e40_0.01.pth'))\n",
    "\n",
    "for module in model.modules():\n",
    "    if hasattr(module, 'switch_to_deploy'):\n",
    "        module.switch_to_deploy()\n",
    "\n",
    "model.eval()"
   ]
  },
  {
   "cell_type": "code",
   "execution_count": 94,
   "metadata": {},
   "outputs": [],
   "source": [
    "# from nuscenes import NuScenes\n",
    "# from nuscenes.prediction import PredictHelper\n",
    "# from nuscenes.eval.prediction.splits import get_prediction_challenge_split\n",
    "#\n",
    "# import matplotlib.pyplot as plt\n",
    "#\n",
    "# # This is the path where you stored your copy of the nuScenes dataset.\n",
    "# DATAROOT = 'Dataset/'\n",
    "#\n",
    "# history_length = 2\n",
    "# prediction_length = 6\n",
    "#\n",
    "# # Use v1.0-trainval or v1.0-mini\n",
    "# nusc = NuScenes('v1.0-trainval', dataroot=DATAROOT, verbose=False)\n",
    "# helper = PredictHelper(nusc)"
   ]
  },
  {
   "cell_type": "code",
   "execution_count": 95,
   "metadata": {},
   "outputs": [],
   "source": [
    "# test = get_prediction_challenge_split(\"val\", dataroot=DATAROOT)\n",
    "# test = test[:5000]"
   ]
  },
  {
   "cell_type": "code",
   "execution_count": 96,
   "metadata": {},
   "outputs": [],
   "source": [
    "import json\n",
    "\n",
    "with open(\"./CustomDataSplit/test.json\", \"r\") as read_file:\n",
    "    test = json.load(read_file)"
   ]
  },
  {
   "cell_type": "code",
   "execution_count": 97,
   "metadata": {},
   "outputs": [],
   "source": [
    "import numpy as np\n",
    "\n",
    "test_features = np.load(f'{CURRENT_PATH}multiagent_test_features_2k.npy')\n",
    "test_states = np.load(f'{CURRENT_PATH}multiagent_test_states_2k.npy')\n",
    "test_labels = np.load(f'{CURRENT_PATH}multiagent_test_labels_2k.npy')"
   ]
  },
  {
   "cell_type": "code",
   "execution_count": 104,
   "metadata": {
    "pycharm": {
     "name": "#%%\n"
    }
   },
   "outputs": [],
   "source": [
    "# Sort only Vehicles/Peds/Bikes\n",
    "\n",
    "test_features = test_features[1200:1800] #[:1200] #[1200:1800]\n",
    "test_states = test_states[1200:1800] #[:1200] #[1200:1800]\n",
    "test_labels = test_labels[1200:1800] #[:1200] #[1200:1800]"
   ]
  },
  {
   "cell_type": "markdown",
   "metadata": {},
   "source": [
    "#### Prediction check by eyes"
   ]
  },
  {
   "cell_type": "code",
   "execution_count": 105,
   "metadata": {},
   "outputs": [],
   "source": [
    "import matplotlib.pyplot as plt\n",
    "\n",
    "def PlotPathWithPrediction(future, predict, amount = 999):\n",
    "  plt.figure(figsize=(6, 6))\n",
    "\n",
    "  plt.scatter(future[:, 1], -future[:, 0], c='orange', s=10)\n",
    "\n",
    "  if (len(predict) > 0):\n",
    "    plt.scatter(predict[:, 1], -predict[:, 0], c='g', s=10)\n",
    "\n",
    "  # Keep aspect ratio of axis\n",
    "  plt.axis('equal')\n",
    "  plt.show()"
   ]
  },
  {
   "cell_type": "code",
   "execution_count": 115,
   "metadata": {},
   "outputs": [
    {
     "data": {
      "text/plain": "<matplotlib.image.AxesImage at 0x1585b50ce48>"
     },
     "execution_count": 115,
     "metadata": {},
     "output_type": "execute_result"
    },
    {
     "data": {
      "text/plain": "<Figure size 432x288 with 1 Axes>",
      "image/png": "[encoded data removed]"
     },
     "metadata": {},
     "output_type": "display_data"
    }
   ],
   "source": [
    "idx = 50\n",
    "img = test_features[idx].reshape((500, 500, 3))\n",
    "plt.imshow(img)"
   ]
  },
  {
   "cell_type": "code",
   "execution_count": 120,
   "metadata": {},
   "outputs": [
    {
     "name": "stdout",
     "output_type": "stream",
     "text": [
      "Best 1; Probability: 19.89653205871582\n",
      "[[1.62471306]]\n",
      "[[0.81942989 0.81942989]]\n",
      "[[False False]]\n",
      "Best 2; Probability: 18.867046356201172\n",
      "[[1.62471306]]\n",
      "[[0.81942989 0.81942989]]\n",
      "[[False False]]\n",
      "Best 3; Probability: 13.382495880126953\n",
      "[[1.62471306]]\n",
      "[[0.81942989 0.81942989]]\n",
      "[[False False]]\n"
     ]
    },
    {
     "data": {
      "text/plain": "<Figure size 432x432 with 1 Axes>",
      "image/png": "[encoded data removed]"
     },
     "metadata": {},
     "output_type": "display_data"
    },
    {
     "data": {
      "text/plain": "<Figure size 432x432 with 1 Axes>",
      "image/png": "[encoded data removed]"
     },
     "metadata": {},
     "output_type": "display_data"
    },
    {
     "data": {
      "text/plain": "<Figure size 432x432 with 1 Axes>",
      "image/png": "[encoded data removed]"
     },
     "metadata": {},
     "output_type": "display_data"
    }
   ],
   "source": [
    "import nuscenes.eval.prediction.metrics as metrics\n",
    "\n",
    "img = torch.Tensor(test_features[idx].reshape((500, 500, 3))).permute(2, 0, 1).unsqueeze(0)\n",
    "img = img.to(device)\n",
    "\n",
    "state = torch.Tensor(np.array([test_states[idx]])).to(device)\n",
    "state = state.to(device)\n",
    "\n",
    "logits = model(img, state)\n",
    "\n",
    "gt = test_labels[idx].reshape((12, 2))\n",
    "\n",
    "sorted_logits_indexes = logits.argsort(descending=True)\n",
    "sorted_trajectories = trajectories_set_8[sorted_logits_indexes][0]\n",
    "\n",
    "num_predictions = len(test_labels)\n",
    "trajectories_set_8_np = trajectories_set_8.numpy()\n",
    "metric_functions = [metrics.MinFDEK([1], aggregators=[metrics.RowMean()]),\n",
    "                    metrics.MinADEK([5, 10], aggregators=[metrics.RowMean()]),\n",
    "                    metrics.MissRateTopK([5, 10], tolerance=2, aggregators=[metrics.RowMean()])]\n",
    "metrics_container = {metric.name: np.zeros((num_predictions, metric.shape)) for metric in metric_functions}\n",
    "\n",
    "for i in range(3):\n",
    "    mode_probabilities = np.array([logits.cpu().detach().numpy()[0]])[0]\n",
    "\n",
    "    # Create prediction object\n",
    "    instance_tkn, sample_tkn = test[idx].split(\"_\")\n",
    "    prediction = metrics.Prediction(instance_tkn, sample_tkn, trajectories_set_8_np, mode_probabilities)\n",
    "\n",
    "    # Get ground_truth\n",
    "    gt = test_labels[idx].reshape((12, 2))\n",
    "\n",
    "    print(f\"Best {i + 1}; Probability: {logits[0][sorted_logits_indexes[0][i]]}\")\n",
    "\n",
    "    # Calculate metrics\n",
    "    for metric in metric_functions:\n",
    "        print(metric(gt, prediction))\n",
    "\n",
    "    PlotPathWithPrediction(gt, sorted_trajectories[i])"
   ]
  },
  {
   "cell_type": "markdown",
   "metadata": {},
   "source": [
    "#### Снимаем метрики"
   ]
  },
  {
   "cell_type": "code",
   "execution_count": 108,
   "metadata": {},
   "outputs": [
    {
     "data": {
      "text/plain": "{'MinFDEK': array([[0.],\n        [0.],\n        [0.],\n        [0.],\n        [0.],\n        [0.],\n        [0.],\n        [0.],\n        [0.],\n        [0.],\n        [0.],\n        [0.],\n        [0.],\n        [0.],\n        [0.],\n        [0.],\n        [0.],\n        [0.],\n        [0.],\n        [0.],\n        [0.],\n        [0.],\n        [0.],\n        [0.],\n        [0.],\n        [0.],\n        [0.],\n        [0.],\n        [0.],\n        [0.],\n        [0.],\n        [0.],\n        [0.],\n        [0.],\n        [0.],\n        [0.],\n        [0.],\n        [0.],\n        [0.],\n        [0.],\n        [0.],\n        [0.],\n        [0.],\n        [0.],\n        [0.],\n        [0.],\n        [0.],\n        [0.],\n        [0.],\n        [0.],\n        [0.],\n        [0.],\n        [0.],\n        [0.],\n        [0.],\n        [0.],\n        [0.],\n        [0.],\n        [0.],\n        [0.],\n        [0.],\n        [0.],\n        [0.],\n        [0.],\n        [0.],\n        [0.],\n        [0.],\n        [0.],\n        [0.],\n        [0.],\n        [0.],\n        [0.],\n        [0.],\n        [0.],\n        [0.],\n        [0.],\n        [0.],\n        [0.],\n        [0.],\n        [0.],\n        [0.],\n        [0.],\n        [0.],\n        [0.],\n        [0.],\n        [0.],\n        [0.],\n        [0.],\n        [0.],\n        [0.],\n        [0.],\n        [0.],\n        [0.],\n        [0.],\n        [0.],\n        [0.],\n        [0.],\n        [0.],\n        [0.],\n        [0.],\n        [0.],\n        [0.],\n        [0.],\n        [0.],\n        [0.],\n        [0.],\n        [0.],\n        [0.],\n        [0.],\n        [0.],\n        [0.],\n        [0.],\n        [0.],\n        [0.],\n        [0.],\n        [0.],\n        [0.],\n        [0.],\n        [0.],\n        [0.],\n        [0.],\n        [0.],\n        [0.],\n        [0.],\n        [0.],\n        [0.],\n        [0.],\n        [0.],\n        [0.],\n        [0.],\n        [0.],\n        [0.],\n        [0.],\n        [0.],\n        [0.],\n        [0.],\n        [0.],\n        [0.],\n        [0.],\n        [0.],\n        [0.],\n        [0.],\n        [0.],\n        [0.],\n        [0.],\n        [0.],\n        [0.],\n        [0.],\n        [0.],\n        [0.],\n        [0.],\n        [0.],\n        [0.],\n        [0.],\n        [0.],\n        [0.],\n        [0.],\n        [0.],\n        [0.],\n        [0.],\n        [0.],\n        [0.],\n        [0.],\n        [0.],\n        [0.],\n        [0.],\n        [0.],\n        [0.],\n        [0.],\n        [0.],\n        [0.],\n        [0.],\n        [0.],\n        [0.],\n        [0.],\n        [0.],\n        [0.],\n        [0.],\n        [0.],\n        [0.],\n        [0.],\n        [0.],\n        [0.],\n        [0.],\n        [0.],\n        [0.],\n        [0.],\n        [0.],\n        [0.],\n        [0.],\n        [0.],\n        [0.],\n        [0.],\n        [0.],\n        [0.],\n        [0.],\n        [0.],\n        [0.],\n        [0.],\n        [0.],\n        [0.],\n        [0.],\n        [0.],\n        [0.],\n        [0.],\n        [0.],\n        [0.],\n        [0.],\n        [0.],\n        [0.],\n        [0.],\n        [0.],\n        [0.],\n        [0.],\n        [0.],\n        [0.],\n        [0.],\n        [0.],\n        [0.],\n        [0.],\n        [0.],\n        [0.],\n        [0.],\n        [0.],\n        [0.],\n        [0.],\n        [0.],\n        [0.],\n        [0.],\n        [0.],\n        [0.],\n        [0.],\n        [0.],\n        [0.],\n        [0.],\n        [0.],\n        [0.],\n        [0.],\n        [0.],\n        [0.],\n        [0.],\n        [0.],\n        [0.],\n        [0.],\n        [0.],\n        [0.],\n        [0.],\n        [0.],\n        [0.],\n        [0.],\n        [0.],\n        [0.],\n        [0.],\n        [0.],\n        [0.],\n        [0.],\n        [0.],\n        [0.],\n        [0.],\n        [0.],\n        [0.],\n        [0.],\n        [0.],\n        [0.],\n        [0.],\n        [0.],\n        [0.],\n        [0.],\n        [0.],\n        [0.],\n        [0.],\n        [0.],\n        [0.],\n        [0.],\n        [0.],\n        [0.],\n        [0.],\n        [0.],\n        [0.],\n        [0.],\n        [0.],\n        [0.],\n        [0.],\n        [0.],\n        [0.],\n        [0.],\n        [0.],\n        [0.],\n        [0.],\n        [0.],\n        [0.],\n        [0.],\n        [0.],\n        [0.],\n        [0.],\n        [0.],\n        [0.],\n        [0.],\n        [0.],\n        [0.],\n        [0.],\n        [0.],\n        [0.],\n        [0.],\n        [0.],\n        [0.],\n        [0.],\n        [0.],\n        [0.],\n        [0.],\n        [0.],\n        [0.],\n        [0.],\n        [0.],\n        [0.],\n        [0.],\n        [0.],\n        [0.],\n        [0.],\n        [0.],\n        [0.],\n        [0.],\n        [0.],\n        [0.],\n        [0.],\n        [0.],\n        [0.],\n        [0.],\n        [0.],\n        [0.],\n        [0.],\n        [0.],\n        [0.],\n        [0.],\n        [0.],\n        [0.],\n        [0.],\n        [0.],\n        [0.],\n        [0.],\n        [0.],\n        [0.],\n        [0.],\n        [0.],\n        [0.],\n        [0.],\n        [0.],\n        [0.],\n        [0.],\n        [0.],\n        [0.],\n        [0.],\n        [0.],\n        [0.],\n        [0.],\n        [0.],\n        [0.],\n        [0.],\n        [0.],\n        [0.],\n        [0.],\n        [0.],\n        [0.],\n        [0.],\n        [0.],\n        [0.],\n        [0.],\n        [0.],\n        [0.],\n        [0.],\n        [0.],\n        [0.],\n        [0.],\n        [0.],\n        [0.],\n        [0.],\n        [0.],\n        [0.],\n        [0.],\n        [0.],\n        [0.],\n        [0.],\n        [0.],\n        [0.],\n        [0.],\n        [0.],\n        [0.],\n        [0.],\n        [0.],\n        [0.],\n        [0.],\n        [0.],\n        [0.],\n        [0.],\n        [0.],\n        [0.],\n        [0.],\n        [0.],\n        [0.],\n        [0.],\n        [0.],\n        [0.],\n        [0.],\n        [0.],\n        [0.],\n        [0.],\n        [0.],\n        [0.],\n        [0.],\n        [0.],\n        [0.],\n        [0.],\n        [0.],\n        [0.],\n        [0.],\n        [0.],\n        [0.],\n        [0.],\n        [0.],\n        [0.],\n        [0.],\n        [0.],\n        [0.],\n        [0.],\n        [0.],\n        [0.],\n        [0.],\n        [0.],\n        [0.],\n        [0.],\n        [0.],\n        [0.],\n        [0.],\n        [0.],\n        [0.],\n        [0.],\n        [0.],\n        [0.],\n        [0.],\n        [0.],\n        [0.],\n        [0.],\n        [0.],\n        [0.],\n        [0.],\n        [0.],\n        [0.],\n        [0.],\n        [0.],\n        [0.],\n        [0.],\n        [0.],\n        [0.],\n        [0.],\n        [0.],\n        [0.],\n        [0.],\n        [0.],\n        [0.],\n        [0.],\n        [0.],\n        [0.],\n        [0.],\n        [0.],\n        [0.],\n        [0.],\n        [0.],\n        [0.],\n        [0.],\n        [0.],\n        [0.],\n        [0.],\n        [0.],\n        [0.],\n        [0.],\n        [0.],\n        [0.],\n        [0.],\n        [0.],\n        [0.],\n        [0.],\n        [0.],\n        [0.],\n        [0.],\n        [0.],\n        [0.],\n        [0.],\n        [0.],\n        [0.],\n        [0.],\n        [0.],\n        [0.],\n        [0.],\n        [0.],\n        [0.],\n        [0.],\n        [0.],\n        [0.],\n        [0.],\n        [0.],\n        [0.],\n        [0.],\n        [0.],\n        [0.],\n        [0.],\n        [0.],\n        [0.],\n        [0.],\n        [0.],\n        [0.],\n        [0.],\n        [0.],\n        [0.],\n        [0.],\n        [0.],\n        [0.],\n        [0.],\n        [0.],\n        [0.],\n        [0.],\n        [0.],\n        [0.],\n        [0.],\n        [0.],\n        [0.],\n        [0.],\n        [0.],\n        [0.],\n        [0.],\n        [0.],\n        [0.],\n        [0.],\n        [0.],\n        [0.],\n        [0.],\n        [0.],\n        [0.],\n        [0.],\n        [0.],\n        [0.],\n        [0.],\n        [0.],\n        [0.],\n        [0.],\n        [0.],\n        [0.],\n        [0.],\n        [0.],\n        [0.],\n        [0.],\n        [0.],\n        [0.],\n        [0.],\n        [0.],\n        [0.],\n        [0.],\n        [0.],\n        [0.],\n        [0.],\n        [0.],\n        [0.],\n        [0.],\n        [0.],\n        [0.],\n        [0.],\n        [0.],\n        [0.],\n        [0.],\n        [0.],\n        [0.],\n        [0.],\n        [0.],\n        [0.],\n        [0.],\n        [0.],\n        [0.],\n        [0.],\n        [0.],\n        [0.],\n        [0.],\n        [0.],\n        [0.],\n        [0.],\n        [0.],\n        [0.],\n        [0.],\n        [0.],\n        [0.],\n        [0.],\n        [0.],\n        [0.],\n        [0.],\n        [0.],\n        [0.],\n        [0.],\n        [0.],\n        [0.],\n        [0.],\n        [0.],\n        [0.]]),\n 'MinADEK': array([[0., 0.],\n        [0., 0.],\n        [0., 0.],\n        ...,\n        [0., 0.],\n        [0., 0.],\n        [0., 0.]]),\n 'MissRateTopK_2': array([[0., 0.],\n        [0., 0.],\n        [0., 0.],\n        ...,\n        [0., 0.],\n        [0., 0.],\n        [0., 0.]])}"
     },
     "execution_count": 108,
     "metadata": {},
     "output_type": "execute_result"
    }
   ],
   "source": [
    "metric_functions = [metrics.MinFDEK([1], aggregators=[metrics.RowMean()]),\n",
    "                    metrics.MinADEK([5, 10], aggregators=[metrics.RowMean()]),\n",
    "                    metrics.MissRateTopK([5, 10], tolerance=2, aggregators=[metrics.RowMean()])]\n",
    "\n",
    "num_predictions = len(test_labels) # Amount of prediction rows\n",
    "\n",
    "metrics_container = {metric.name: np.zeros((num_predictions, metric.shape)) for metric in metric_functions}\n",
    "metrics_container"
   ]
  },
  {
   "cell_type": "code",
   "execution_count": 109,
   "metadata": {},
   "outputs": [
    {
     "name": "stderr",
     "output_type": "stream",
     "text": [
      "100%|██████████| 600/600 [00:12<00:00, 46.65it/s]\n"
     ]
    }
   ],
   "source": [
    "from tqdm import tqdm\n",
    "\n",
    "for idx, x in enumerate(tqdm(test_labels)):\n",
    "#for idx in range(len(test_labels)):\n",
    "    # Make prediction\n",
    "    img = torch.Tensor(test_features[idx].reshape((500, 500, 3))).permute(2, 0, 1).unsqueeze(0)\n",
    "    img = img.to(device)\n",
    "\n",
    "    state = torch.Tensor(np.array([test_states[idx]])).to(device)\n",
    "    state = state.to(device)\n",
    "\n",
    "    logits = model(img, state)\n",
    "    mode_probabilities = np.array([logits.cpu().detach().numpy()[0]])[0]\n",
    "\n",
    "    # Create prediction object\n",
    "    instance_tkn, sample_tkn = test[idx].split(\"_\")\n",
    "    prediction = metrics.Prediction(instance_tkn, sample_tkn, trajectories_set_8_np, mode_probabilities)\n",
    "\n",
    "    # Get ground_truth\n",
    "    gt = test_labels[idx].reshape((12, 2))\n",
    "\n",
    "    # Calculate metrics\n",
    "    for metric in metric_functions:\n",
    "        metrics_container[metric.name][idx] = metric(gt, prediction)"
   ]
  },
  {
   "cell_type": "code",
   "execution_count": 110,
   "metadata": {
    "pycharm": {
     "name": "#%%\n"
    }
   },
   "outputs": [
    {
     "data": {
      "text/plain": "defaultdict(dict,\n            {'MinFDEK': {'RowMean': [3.2244556508848055]},\n             'MinADEK': {'RowMean': [0.9261579791780319, 0.8378922917694712]},\n             'MissRateTopK_2': {'RowMean': [0.23666666666666666,\n               0.16833333333333333]}})"
     },
     "execution_count": 110,
     "metadata": {},
     "output_type": "execute_result"
    }
   ],
   "source": [
    "from collections import defaultdict\n",
    "from typing import List, Dict, Any\n",
    "\n",
    "aggregations: Dict[str, Dict[str, List[float]]] = defaultdict(dict)\n",
    "\n",
    "for metric in metric_functions:\n",
    "    for agg in metric.aggregators:\n",
    "        aggregations[metric.name][agg.name] = agg(metrics_container[metric.name])\n",
    "\n",
    "aggregations"
   ]
  },
  {
   "cell_type": "code",
   "execution_count": 37,
   "metadata": {
    "pycharm": {
     "name": "#%%\n"
    }
   },
   "outputs": [],
   "source": [
    "torch.save(model.state_dict(), '/root/model.pth')\n"
   ]
  }
 ],
 "metadata": {
  "kernelspec": {
   "display_name": "Python 3",
   "language": "python",
   "name": "python3"
  },
  "language_info": {
   "codemirror_mode": {
    "name": "ipython",
    "version": 3
   },
   "file_extension": ".py",
   "mimetype": "text/x-python",
   "name": "python",
   "nbconvert_exporter": "python",
   "pygments_lexer": "ipython3",
   "version": "3.7.10"
  }
 },
 "nbformat": 4,
 "nbformat_minor": 1
}