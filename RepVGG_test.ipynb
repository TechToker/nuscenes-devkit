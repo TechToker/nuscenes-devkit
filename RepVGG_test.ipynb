{
 "cells": [
  {
   "cell_type": "code",
   "execution_count": 1,
   "metadata": {
    "collapsed": true
   },
   "outputs": [
    {
     "name": "stdout",
     "output_type": "stream",
     "text": [
      "True\n",
      "Running on  cuda:0\n",
      "Device count: 1\n"
     ]
    }
   ],
   "source": [
    "import torch\n",
    "\n",
    "print(torch.cuda.is_available())\n",
    "\n",
    "device = torch.device('cuda:0' if torch.cuda.is_available() else 'cpu')\n",
    "print('Running on ', device)\n",
    "print(f\"Device count: {torch.cuda.device_count()}\")\n"
   ]
  },
  {
   "cell_type": "code",
   "execution_count": 2,
   "outputs": [],
   "source": [
    "CURRENT_PATH = './NpyDataset/'\n",
    "#CURRENT_PATH = './'"
   ],
   "metadata": {
    "collapsed": false,
    "pycharm": {
     "name": "#%%\n"
    }
   }
  },
  {
   "cell_type": "code",
   "execution_count": 3,
   "outputs": [],
   "source": [
    "import numpy as np\n",
    "\n",
    "# Npy dataset\n",
    "\n",
    "# train_features = np.load(f'{CURRENT_PATH}data_features_20k.npy')\n",
    "# train_states = np.load(f'{CURRENT_PATH}data_states_20k.npy')\n",
    "# train_labels = np.load(f'{CURRENT_PATH}data_labels_20k.npy')\n",
    "\n",
    "validation_features = np.load(f'{CURRENT_PATH}data_validation_features_5k.npy')\n",
    "validation_states = np.load(f'{CURRENT_PATH}data_validation_states_5k.npy')\n",
    "validation_labels = np.load(f'{CURRENT_PATH}data_validation_labels_5k.npy')\n"
   ],
   "metadata": {
    "collapsed": false,
    "pycharm": {
     "name": "#%%\n"
    }
   }
  },
  {
   "cell_type": "code",
   "execution_count": 4,
   "outputs": [],
   "source": [
    "# train_features = train_features[:20]\n",
    "# train_states = train_states[:20]\n",
    "# train_labels = train_labels[:20]\n",
    "\n",
    "validation_features = validation_features[:20]\n",
    "validation_states = validation_states[:20]\n",
    "validation_labels = validation_labels[:20]"
   ],
   "metadata": {
    "collapsed": false,
    "pycharm": {
     "name": "#%%\n"
    }
   }
  },
  {
   "cell_type": "code",
   "execution_count": 5,
   "outputs": [
    {
     "data": {
      "text/plain": "<Figure size 432x288 with 1 Axes>",
      "image/png": "[encoded data removed]"
     },
     "metadata": {
      "needs_background": "light"
     },
     "output_type": "display_data"
    },
    {
     "name": "stdout",
     "output_type": "stream",
     "text": [
      "torch.Size([1, 3, 500, 500])\n",
      "torch.Size([1, 3])\n"
     ]
    },
    {
     "data": {
      "text/plain": "tensor([[ 4.8677, -1.0000, -0.1046]])"
     },
     "execution_count": 5,
     "metadata": {},
     "output_type": "execute_result"
    }
   ],
   "source": [
    "import torch\n",
    "import matplotlib.pyplot as plt\n",
    "\n",
    "test_sample_img = validation_features[0].reshape((500, 500, 3))\n",
    "\n",
    "plt.imshow(test_sample_img)\n",
    "plt.show()\n",
    "\n",
    "image_tensor = torch.Tensor(test_sample_img).permute(2, 0, 1).unsqueeze(0)\n",
    "print(image_tensor.size())\n",
    "\n",
    "test_sample_state = torch.Tensor(np.array([validation_states[0]]))\n",
    "print(test_sample_state.size())\n",
    "test_sample_state"
   ],
   "metadata": {
    "collapsed": false,
    "pycharm": {
     "name": "#%%\n"
    }
   }
  },
  {
   "cell_type": "code",
   "execution_count": 6,
   "outputs": [
    {
     "name": "stderr",
     "output_type": "stream",
     "text": [
      "c:\\users\\impor\\appdata\\local\\programs\\python\\python37\\lib\\site-packages\\torch\\nn\\functional.py:718: UserWarning: Named tensors and all their associated APIs are an experimental feature and subject to change. Please do not use them for anything important until they are released as stable. (Triggered internally at  ..\\c10/core/TensorImpl.h:1156.)\n",
      "  return torch.max_pool2d(input, kernel_size, stride, padding, dilation, ceil_mode)\n"
     ]
    },
    {
     "name": "stdout",
     "output_type": "stream",
     "text": [
      "torch.Size([1, 2048])\n"
     ]
    },
    {
     "data": {
      "text/plain": "tensor([[1.0366, 0.9643, 1.0634,  ..., 1.0658, 0.9021, 0.9606]],\n       grad_fn=<ViewBackward>)"
     },
     "execution_count": 6,
     "metadata": {},
     "output_type": "execute_result"
    }
   ],
   "source": [
    "from nuscenes.prediction.models.backbone import ResNetBackbone\n",
    "from nuscenes.prediction.models.covernet import CoverNet\n",
    "\n",
    "backbone = ResNetBackbone('resnet50')\n",
    "features = backbone(image_tensor)\n",
    "\n",
    "print(features.size())\n",
    "features"
   ],
   "metadata": {
    "collapsed": false,
    "pycharm": {
     "name": "#%%\n"
    }
   }
  },
  {
   "cell_type": "code",
   "execution_count": 7,
   "outputs": [
    {
     "name": "stdout",
     "output_type": "stream",
     "text": [
      "RepVGG Block, identity =  None\n",
      "RepVGG Block, identity =  None\n",
      "RepVGG Block, identity =  BatchNorm2d(48, eps=1e-05, momentum=0.1, affine=True, track_running_stats=True)\n",
      "RepVGG Block, identity =  None\n",
      "RepVGG Block, identity =  BatchNorm2d(96, eps=1e-05, momentum=0.1, affine=True, track_running_stats=True)\n",
      "RepVGG Block, identity =  BatchNorm2d(96, eps=1e-05, momentum=0.1, affine=True, track_running_stats=True)\n",
      "RepVGG Block, identity =  BatchNorm2d(96, eps=1e-05, momentum=0.1, affine=True, track_running_stats=True)\n",
      "RepVGG Block, identity =  None\n",
      "RepVGG Block, identity =  BatchNorm2d(192, eps=1e-05, momentum=0.1, affine=True, track_running_stats=True)\n",
      "RepVGG Block, identity =  BatchNorm2d(192, eps=1e-05, momentum=0.1, affine=True, track_running_stats=True)\n",
      "RepVGG Block, identity =  BatchNorm2d(192, eps=1e-05, momentum=0.1, affine=True, track_running_stats=True)\n",
      "RepVGG Block, identity =  BatchNorm2d(192, eps=1e-05, momentum=0.1, affine=True, track_running_stats=True)\n",
      "RepVGG Block, identity =  BatchNorm2d(192, eps=1e-05, momentum=0.1, affine=True, track_running_stats=True)\n",
      "RepVGG Block, identity =  BatchNorm2d(192, eps=1e-05, momentum=0.1, affine=True, track_running_stats=True)\n",
      "RepVGG Block, identity =  BatchNorm2d(192, eps=1e-05, momentum=0.1, affine=True, track_running_stats=True)\n",
      "RepVGG Block, identity =  BatchNorm2d(192, eps=1e-05, momentum=0.1, affine=True, track_running_stats=True)\n",
      "RepVGG Block, identity =  BatchNorm2d(192, eps=1e-05, momentum=0.1, affine=True, track_running_stats=True)\n",
      "RepVGG Block, identity =  BatchNorm2d(192, eps=1e-05, momentum=0.1, affine=True, track_running_stats=True)\n",
      "RepVGG Block, identity =  BatchNorm2d(192, eps=1e-05, momentum=0.1, affine=True, track_running_stats=True)\n",
      "RepVGG Block, identity =  BatchNorm2d(192, eps=1e-05, momentum=0.1, affine=True, track_running_stats=True)\n",
      "RepVGG Block, identity =  BatchNorm2d(192, eps=1e-05, momentum=0.1, affine=True, track_running_stats=True)\n",
      "RepVGG Block, identity =  None\n",
      "torch.Size([1, 1000])\n"
     ]
    }
   ],
   "source": [
    "from repVgg.repVggBackbone import RepVGGBackbone\n",
    "\n",
    "backbone = RepVGGBackbone()\n",
    "features = backbone(image_tensor)\n",
    "\n",
    "print(features.size())\n"
   ],
   "metadata": {
    "collapsed": false,
    "pycharm": {
     "name": "#%%\n"
    }
   }
  },
  {
   "cell_type": "code",
   "execution_count": 22,
   "outputs": [
    {
     "name": "stdout",
     "output_type": "stream",
     "text": [
      "RepVGG Block, identity =  None\n",
      "RepVGG Block, identity =  None\n",
      "RepVGG Block, identity =  BatchNorm2d(48, eps=1e-05, momentum=0.1, affine=True, track_running_stats=True)\n",
      "RepVGG Block, identity =  None\n",
      "RepVGG Block, identity =  BatchNorm2d(96, eps=1e-05, momentum=0.1, affine=True, track_running_stats=True)\n",
      "RepVGG Block, identity =  BatchNorm2d(96, eps=1e-05, momentum=0.1, affine=True, track_running_stats=True)\n",
      "RepVGG Block, identity =  BatchNorm2d(96, eps=1e-05, momentum=0.1, affine=True, track_running_stats=True)\n",
      "RepVGG Block, identity =  None\n",
      "RepVGG Block, identity =  BatchNorm2d(192, eps=1e-05, momentum=0.1, affine=True, track_running_stats=True)\n",
      "RepVGG Block, identity =  BatchNorm2d(192, eps=1e-05, momentum=0.1, affine=True, track_running_stats=True)\n",
      "RepVGG Block, identity =  BatchNorm2d(192, eps=1e-05, momentum=0.1, affine=True, track_running_stats=True)\n",
      "RepVGG Block, identity =  BatchNorm2d(192, eps=1e-05, momentum=0.1, affine=True, track_running_stats=True)\n",
      "RepVGG Block, identity =  BatchNorm2d(192, eps=1e-05, momentum=0.1, affine=True, track_running_stats=True)\n",
      "RepVGG Block, identity =  BatchNorm2d(192, eps=1e-05, momentum=0.1, affine=True, track_running_stats=True)\n",
      "RepVGG Block, identity =  BatchNorm2d(192, eps=1e-05, momentum=0.1, affine=True, track_running_stats=True)\n",
      "RepVGG Block, identity =  BatchNorm2d(192, eps=1e-05, momentum=0.1, affine=True, track_running_stats=True)\n",
      "RepVGG Block, identity =  BatchNorm2d(192, eps=1e-05, momentum=0.1, affine=True, track_running_stats=True)\n",
      "RepVGG Block, identity =  BatchNorm2d(192, eps=1e-05, momentum=0.1, affine=True, track_running_stats=True)\n",
      "RepVGG Block, identity =  BatchNorm2d(192, eps=1e-05, momentum=0.1, affine=True, track_running_stats=True)\n",
      "RepVGG Block, identity =  BatchNorm2d(192, eps=1e-05, momentum=0.1, affine=True, track_running_stats=True)\n",
      "RepVGG Block, identity =  BatchNorm2d(192, eps=1e-05, momentum=0.1, affine=True, track_running_stats=True)\n",
      "RepVGG Block, identity =  None\n",
      "torch.Size([1, 64])\n"
     ]
    },
    {
     "data": {
      "text/plain": "tensor([[-0.2760, -0.3318,  0.0609, -0.0699,  0.1331, -0.3119,  0.2672,  0.2654,\n          0.1054, -0.3191,  0.0168,  0.0147, -0.0273,  0.0948, -0.2672, -0.3708,\n          0.0714, -0.3218,  0.1739,  0.1471, -0.0823, -0.3071, -0.3266,  0.3682,\n          0.2907, -0.0334,  0.3839,  0.2687, -0.0939, -0.7183,  0.4857,  0.2265,\n         -0.2180, -0.4462,  0.1661, -0.1124, -0.6442, -0.5729,  0.0482, -0.2080,\n          0.3548, -0.2675,  0.3740, -0.2654,  0.7847, -0.5392, -0.4203,  0.9794,\n         -0.3459,  0.0495, -0.4879,  0.6638,  0.2723, -0.1171, -0.2782,  0.2830,\n          0.3662, -0.1209, -0.2993, -0.0966, -0.3721, -0.0319,  0.4816,  0.1496]],\n       grad_fn=<AddmmBackward>)"
     },
     "execution_count": 22,
     "metadata": {},
     "output_type": "execute_result"
    }
   ],
   "source": [
    "#backbone = ResNetBackbone('resnet50')\n",
    "backbone = RepVGGBackbone()\n",
    "\n",
    "covernet = CoverNet(backbone, num_modes=64)\n",
    "\n",
    "logits = covernet(image_tensor, test_sample_state)\n",
    "print(logits.size())\n",
    "logits"
   ],
   "metadata": {
    "collapsed": false,
    "pycharm": {
     "name": "#%%\n"
    }
   }
  },
  {
   "cell_type": "code",
   "execution_count": 29,
   "outputs": [],
   "source": [
    "from repVgg.repvgg import repvgg_model_convert, create_RepVGG_A0\n",
    "\n",
    "backbone.backbone = repvgg_model_convert(backbone.backbone, save_path='./repVgg/Models/RepVGG-A0-deploy.pth')\n",
    "\n"
   ],
   "metadata": {
    "collapsed": false,
    "pycharm": {
     "name": "#%%\n"
    }
   }
  },
  {
   "cell_type": "code",
   "execution_count": 30,
   "outputs": [
    {
     "name": "stdout",
     "output_type": "stream",
     "text": [
      "torch.Size([1, 64])\n"
     ]
    },
    {
     "data": {
      "text/plain": "tensor([[-2.8368,  0.9006, -0.9400,  0.3095,  0.8534, -1.9345, -0.8011, -0.3374,\n         -1.7694,  1.2053,  1.4467, -1.5600,  0.1576,  2.2087, -0.1856, -0.9019,\n         -1.1798,  0.6648,  0.3165, -0.0758,  0.7973,  0.1107, -2.7276, -0.1094,\n         -1.4129, -0.6053, -1.4773, -0.8769,  2.4721, -0.3531,  0.5796,  1.1273,\n          0.2932, -2.7906,  0.2063,  0.8060, -1.8127, -2.7833,  1.2944,  0.7867,\n          1.7574,  2.1751,  3.1955, -0.4672, -1.1461, -0.3399, -1.0547,  2.8909,\n         -1.1937, -0.5403, -2.3773, -1.2948, -1.2660,  0.3079,  1.2908,  1.3079,\n          2.4049,  2.0344, -3.0793,  2.6596,  1.3353,  1.8976,  1.2171, -1.2244]],\n       grad_fn=<AddmmBackward>)"
     },
     "execution_count": 30,
     "metadata": {},
     "output_type": "execute_result"
    }
   ],
   "source": [
    "logits = covernet(image_tensor, test_sample_state)\n",
    "print(logits.size())\n",
    "logits\n"
   ],
   "metadata": {
    "collapsed": false,
    "pycharm": {
     "name": "#%%\n"
    }
   }
  },
  {
   "cell_type": "code",
   "execution_count": null,
   "outputs": [],
   "source": [],
   "metadata": {
    "collapsed": false,
    "pycharm": {
     "name": "#%%\n"
    }
   }
  }
 ],
 "metadata": {
  "kernelspec": {
   "display_name": "Python 3",
   "language": "python",
   "name": "python3"
  },
  "language_info": {
   "codemirror_mode": {
    "name": "ipython",
    "version": 2
   },
   "file_extension": ".py",
   "mimetype": "text/x-python",
   "name": "python",
   "nbconvert_exporter": "python",
   "pygments_lexer": "ipython2",
   "version": "2.7.6"
  }
 },
 "nbformat": 4,
 "nbformat_minor": 0
}