{
 "cells": [
  {
   "cell_type": "code",
   "execution_count": 7,
   "metadata": {},
   "outputs": [],
   "source": [
    "import numpy as np\n",
    "import torch\n",
    "\n",
    "NPY_DATA_PATH = './NpyDataset/'\n",
    "\n",
    "#first_part = torch.load(f'{NPY_DATA_PATH}data_validation_features_2000.pt')\n",
    "#first_part = first_part.cpu().numpy()\n",
    "\n",
    "part0 = np.load(f'{NPY_DATA_PATH}Peds/multiagent_peds_0.npy')\n",
    "part1 = np.load(f'{NPY_DATA_PATH}Peds/multiagent_peds_1.npy')\n",
    "part2 = np.load(f'{NPY_DATA_PATH}Peds/multiagent_peds_2.npy')\n",
    "part3 = np.load(f'{NPY_DATA_PATH}Peds/multiagent_peds_3.npy')\n",
    "part4 = np.load(f'{NPY_DATA_PATH}Peds/multiagent_peds_4.npy')\n",
    "\n",
    "part5 = np.load(f'{NPY_DATA_PATH}Peds/multiagent_peds_5.npy')\n",
    "part6 = np.load(f'{NPY_DATA_PATH}Peds/multiagent_peds_6.npy')\n",
    "part7 = np.load(f'{NPY_DATA_PATH}Peds/multiagent_peds_7.npy')\n",
    "part8 = np.load(f'{NPY_DATA_PATH}Peds/multiagent_peds_8.npy')\n",
    "part9 = np.load(f'{NPY_DATA_PATH}Peds/multiagent_peds_9.npy')\n",
    "\n",
    "part10 = np.load(f'{NPY_DATA_PATH}Peds/multiagent_peds_10.npy')\n",
    "part11 = np.load(f'{NPY_DATA_PATH}Peds/multiagent_peds_11.npy')\n",
    "part12 = np.load(f'{NPY_DATA_PATH}Peds/multiagent_peds_12.npy')\n",
    "part13 = np.load(f'{NPY_DATA_PATH}Peds/multiagent_peds_13.npy')\n",
    "part14 = np.load(f'{NPY_DATA_PATH}Peds/multiagent_peds_14.npy')\n",
    "\n",
    "part15 = np.load(f'{NPY_DATA_PATH}Peds/multiagent_peds_15.npy')\n",
    "part16 = np.load(f'{NPY_DATA_PATH}Peds/multiagent_peds_16.npy')\n",
    "part17 = np.load(f'{NPY_DATA_PATH}Peds/multiagent_peds_17.npy')\n",
    "part18 = np.load(f'{NPY_DATA_PATH}Peds/multiagent_peds_18.npy')\n",
    "part19 = np.load(f'{NPY_DATA_PATH}Peds/multiagent_peds_19.npy')\n",
    "\n",
    "part20 = np.load(f'{NPY_DATA_PATH}Peds/multiagent_peds_20.npy')\n",
    "part21 = np.load(f'{NPY_DATA_PATH}Peds/multiagent_peds_21.npy')\n",
    "part22 = np.load(f'{NPY_DATA_PATH}Peds/multiagent_peds_22.npy')\n"
   ]
  },
  {
   "cell_type": "code",
   "execution_count": null,
   "metadata": {},
   "outputs": [],
   "source": [
    "#part0 = part0[:1200]"
   ]
  },
  {
   "cell_type": "code",
   "execution_count": 8,
   "metadata": {
    "pycharm": {
     "name": "#%%\n"
    }
   },
   "outputs": [
    {
     "name": "stdout",
     "output_type": "stream",
     "text": [
      "<class 'numpy.ndarray'>\n",
      "<class 'numpy.ndarray'>\n",
      "256\n",
      "256\n"
     ]
    }
   ],
   "source": [
    "print(type(part1))\n",
    "print(type(part2))\n",
    "\n",
    "print(len(part1))\n",
    "print(len(part2))"
   ]
  },
  {
   "cell_type": "code",
   "execution_count": 9,
   "metadata": {
    "pycharm": {
     "name": "#%%\n"
    }
   },
   "outputs": [],
   "source": [
    "result = np.concatenate((part0, part1, part2, part3, part4, part5, part6, part7, part8, part9, part10, part11, part12, part13, part14, part15, part16, part17, part18, part19, part20, part21, part22), axis=0)"
   ]
  },
  {
   "cell_type": "code",
   "execution_count": 10,
   "metadata": {
    "pycharm": {
     "name": "#%%\n"
    }
   },
   "outputs": [
    {
     "name": "stdout",
     "output_type": "stream",
     "text": [
      "<class 'numpy.ndarray'>\n",
      "5686\n"
     ]
    }
   ],
   "source": [
    "print(type(result))\n",
    "print(len(result))\n"
   ]
  },
  {
   "cell_type": "code",
   "execution_count": 11,
   "metadata": {
    "pycharm": {
     "name": "#%%\n"
    }
   },
   "outputs": [],
   "source": [
    "np.save(f\"{NPY_DATA_PATH}{'Peds/multiagent_peds.npy'}\", result)"
   ]
  },
  {
   "cell_type": "markdown",
   "metadata": {},
   "source": [
    "Создание train/val/test сплита"
   ]
  },
  {
   "cell_type": "code",
   "execution_count": 1,
   "metadata": {},
   "outputs": [],
   "source": [
    "import numpy as np\n",
    "import torch\n",
    "\n",
    "NPY_DATA_PATH = './NpyDataset/'"
   ]
  },
  {
   "cell_type": "code",
   "execution_count": 2,
   "metadata": {},
   "outputs": [],
   "source": [
    "cars = np.load(f'{NPY_DATA_PATH}/Big/data_features_20k.npy')\n",
    "peds = np.load(f'{NPY_DATA_PATH}Peds/multiagent_peds.npy')\n",
    "motobikes = np.load(f'{NPY_DATA_PATH}Moto/multiagent_moto.npy')"
   ]
  },
  {
   "cell_type": "code",
   "execution_count": 3,
   "metadata": {},
   "outputs": [
    {
     "data": {
      "text/plain": [
       "(20000, 5686, 1060)"
      ]
     },
     "execution_count": 3,
     "metadata": {},
     "output_type": "execute_result"
    }
   ],
   "source": [
    "len(cars), len(peds), len(motobikes)"
   ]
  },
  {
   "cell_type": "code",
   "execution_count": 4,
   "metadata": {},
   "outputs": [],
   "source": [
    "peds = peds[:5600]"
   ]
  },
  {
   "cell_type": "code",
   "execution_count": 5,
   "metadata": {},
   "outputs": [],
   "source": [
    "motobikes = motobikes[:1050]"
   ]
  },
  {
   "cell_type": "code",
   "execution_count": 6,
   "metadata": {},
   "outputs": [
    {
     "data": {
      "text/plain": [
       "(20000, 5600, 1050)"
      ]
     },
     "execution_count": 6,
     "metadata": {},
     "output_type": "execute_result"
    }
   ],
   "source": [
    "len(cars), len(peds), len(motobikes)"
   ]
  },
  {
   "cell_type": "code",
   "execution_count": 7,
   "metadata": {},
   "outputs": [
    {
     "ename": "MemoryError",
     "evalue": "Unable to allocate 18.6 GiB for an array with shape (26650, 750000) and data type uint8",
     "output_type": "error",
     "traceback": [
      "\u001b[1;31m---------------------------------------------------------------------------\u001b[0m",
      "\u001b[1;31mMemoryError\u001b[0m                               Traceback (most recent call last)",
      "\u001b[1;32m<ipython-input-7-10bd6b50dc2e>\u001b[0m in \u001b[0;36m<module>\u001b[1;34m\u001b[0m\n\u001b[1;32m----> 1\u001b[1;33m \u001b[0mresult\u001b[0m \u001b[1;33m=\u001b[0m \u001b[0mnp\u001b[0m\u001b[1;33m.\u001b[0m\u001b[0mconcatenate\u001b[0m\u001b[1;33m(\u001b[0m\u001b[1;33m(\u001b[0m\u001b[0mcars\u001b[0m\u001b[1;33m,\u001b[0m \u001b[0mpeds\u001b[0m\u001b[1;33m,\u001b[0m \u001b[0mmotobikes\u001b[0m\u001b[1;33m)\u001b[0m\u001b[1;33m,\u001b[0m \u001b[0maxis\u001b[0m\u001b[1;33m=\u001b[0m\u001b[1;36m0\u001b[0m\u001b[1;33m)\u001b[0m\u001b[1;33m\u001b[0m\u001b[1;33m\u001b[0m\u001b[0m\n\u001b[0m",
      "\u001b[1;32m<__array_function__ internals>\u001b[0m in \u001b[0;36mconcatenate\u001b[1;34m(*args, **kwargs)\u001b[0m\n",
      "\u001b[1;31mMemoryError\u001b[0m: Unable to allocate 18.6 GiB for an array with shape (26650, 750000) and data type uint8"
     ]
    }
   ],
   "source": [
    "result = np.concatenate((cars, peds, motobikes), axis=0)"
   ]
  },
  {
   "cell_type": "markdown",
   "metadata": {
    "pycharm": {
     "name": "#%%\n"
    }
   },
   "source": [
    "Cut dataset"
   ]
  },
  {
   "cell_type": "code",
   "execution_count": 10,
   "metadata": {},
   "outputs": [],
   "source": [
    "first_part = np.load(f'{NPY_DATA_PATH}data_validation_features_5k.npy')"
   ]
  },
  {
   "cell_type": "code",
   "execution_count": 11,
   "metadata": {},
   "outputs": [
    {
     "data": {
      "text/plain": [
       "'./NpyDataset/Light/'"
      ]
     },
     "execution_count": 11,
     "metadata": {},
     "output_type": "execute_result"
    }
   ],
   "source": [
    "path = f\"{NPY_DATA_PATH}{'Light/'}\"\n",
    "path"
   ]
  },
  {
   "cell_type": "code",
   "execution_count": 12,
   "metadata": {},
   "outputs": [],
   "source": [
    "first_part = first_part[:1000]\n",
    "np.save(f\"{path}{'data_validation_features_5k.npy'}\", first_part)"
   ]
  },
  {
   "cell_type": "code",
   "execution_count": null,
   "metadata": {},
   "outputs": [],
   "source": []
  }
 ],
 "metadata": {
  "kernelspec": {
   "display_name": "Python 3",
   "language": "python",
   "name": "python3"
  },
  "language_info": {
   "codemirror_mode": {
    "name": "ipython",
    "version": 3
   },
   "file_extension": ".py",
   "mimetype": "text/x-python",
   "name": "python",
   "nbconvert_exporter": "python",
   "pygments_lexer": "ipython3",
   "version": "3.7.10"
  }
 },
 "nbformat": 4,
 "nbformat_minor": 1
}
