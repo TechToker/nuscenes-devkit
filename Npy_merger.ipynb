{
 "cells": [
  {
   "cell_type": "code",
   "execution_count": 25,
   "metadata": {},
   "outputs": [],
   "source": [
    "import numpy as np\n",
    "import torch\n",
    "\n",
    "NPY_DATA_PATH = './NpyDataset/'\n",
    "\n",
    "#first_part = torch.load(f'{NPY_DATA_PATH}data_validation_features_2000.pt')\n",
    "#first_part = first_part.cpu().numpy()\n",
    "\n",
    "part0 = np.load(f'{NPY_DATA_PATH}test_features_5k.npy')\n",
    "\n",
    "part1 = np.load(f'{NPY_DATA_PATH}test_features-last-800_bs256_0.npy')\n",
    "part2 = np.load(f'{NPY_DATA_PATH}test_features-last-800_bs256_0.npy')\n",
    "part3 = np.load(f'{NPY_DATA_PATH}test_features-last-800_bs256_0.npy')\n",
    "part4 = np.load(f'{NPY_DATA_PATH}validation_features-last-800_bs256_3.npy')\n",
    "# part5 = np.load(f'{NPY_DATA_PATH}features_3k-5k_bs256_4.npy')\n",
    "# part6 = np.load(f'{NPY_DATA_PATH}features_3k-5k_bs256_5.npy')\n",
    "# part7 = np.load(f'{NPY_DATA_PATH}features_3k-5k_bs256_6.npy')\n",
    "# part8 = np.load(f'{NPY_DATA_PATH}features_3k-5k_bs256_7.npy')"
   ]
  },
  {
   "cell_type": "code",
   "execution_count": 26,
   "metadata": {},
   "outputs": [],
   "source": [
    "part0 = part0[:1200]"
   ]
  },
  {
   "cell_type": "code",
   "execution_count": 27,
   "metadata": {
    "pycharm": {
     "name": "#%%\n"
    }
   },
   "outputs": [
    {
     "name": "stdout",
     "output_type": "stream",
     "text": [
      "<class 'numpy.ndarray'>\n",
      "<class 'numpy.ndarray'>\n",
      "256\n",
      "256\n"
     ]
    }
   ],
   "source": [
    "print(type(part1))\n",
    "print(type(part2))\n",
    "\n",
    "print(len(part1))\n",
    "print(len(part2))"
   ]
  },
  {
   "cell_type": "code",
   "execution_count": 28,
   "metadata": {
    "pycharm": {
     "name": "#%%\n"
    }
   },
   "outputs": [],
   "source": [
    "result = np.concatenate((part0, part1, part2, part3, part4), axis=0)"
   ]
  },
  {
   "cell_type": "code",
   "execution_count": 29,
   "metadata": {
    "pycharm": {
     "name": "#%%\n"
    }
   },
   "outputs": [
    {
     "name": "stdout",
     "output_type": "stream",
     "text": [
      "<class 'numpy.ndarray'>\n",
      "2000\n"
     ]
    }
   ],
   "source": [
    "print(type(result))\n",
    "print(len(result))\n"
   ]
  },
  {
   "cell_type": "code",
   "execution_count": 30,
   "metadata": {
    "pycharm": {
     "name": "#%%\n"
    }
   },
   "outputs": [],
   "source": [
    "np.save(f\"{NPY_DATA_PATH}{'multiagent_test_features_2k.npy'}\", result)"
   ]
  },
  {
   "cell_type": "markdown",
   "metadata": {
    "pycharm": {
     "name": "#%%\n"
    }
   },
   "source": [
    "Cut dataset"
   ]
  },
  {
   "cell_type": "code",
   "execution_count": 10,
   "metadata": {},
   "outputs": [],
   "source": [
    "first_part = np.load(f'{NPY_DATA_PATH}data_validation_features_5k.npy')"
   ]
  },
  {
   "cell_type": "code",
   "execution_count": 11,
   "metadata": {},
   "outputs": [
    {
     "data": {
      "text/plain": [
       "'./NpyDataset/Light/'"
      ]
     },
     "execution_count": 11,
     "metadata": {},
     "output_type": "execute_result"
    }
   ],
   "source": [
    "path = f\"{NPY_DATA_PATH}{'Light/'}\"\n",
    "path"
   ]
  },
  {
   "cell_type": "code",
   "execution_count": 12,
   "metadata": {},
   "outputs": [],
   "source": [
    "first_part = first_part[:1000]\n",
    "np.save(f\"{path}{'data_validation_features_5k.npy'}\", first_part)"
   ]
  },
  {
   "cell_type": "code",
   "execution_count": null,
   "metadata": {},
   "outputs": [],
   "source": []
  }
 ],
 "metadata": {
  "kernelspec": {
   "display_name": "Python 3",
   "language": "python",
   "name": "python3"
  },
  "language_info": {
   "codemirror_mode": {
    "name": "ipython",
    "version": 3
   },
   "file_extension": ".py",
   "mimetype": "text/x-python",
   "name": "python",
   "nbconvert_exporter": "python",
   "pygments_lexer": "ipython3",
   "version": "3.7.10"
  }
 },
 "nbformat": 4,
 "nbformat_minor": 1
}
